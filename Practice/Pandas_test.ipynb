{
 "cells": [
  {
   "cell_type": "code",
   "execution_count": 1,
   "id": "048a2000",
   "metadata": {},
   "outputs": [],
   "source": [
    "# !pip install pandas"
   ]
  },
  {
   "cell_type": "code",
   "execution_count": 5,
   "id": "7950df58",
   "metadata": {},
   "outputs": [],
   "source": [
    "import numpy as np\n",
    "import pandas as pd"
   ]
  },
  {
   "cell_type": "markdown",
   "id": "386b4875",
   "metadata": {},
   "source": [
    "### 1. 비만도 측정"
   ]
  },
  {
   "cell_type": "code",
   "execution_count": 3,
   "id": "381d0557",
   "metadata": {},
   "outputs": [
    {
     "name": "stdout",
     "output_type": "stream",
     "text": [
      "19\n",
      "180\n",
      "저체중\n"
     ]
    }
   ],
   "source": [
    "w = input()\n",
    "t = input()\n",
    "weight = float(w)\n",
    "tall = float(t)\n",
    "result = weight/(tall*tall)\n",
    "if result < 18.5:\n",
    "    print('저체중')\n",
    "elif 18.5 <= result < 25.0:\n",
    "    print('정상')\n",
    "elif 25.0 <= result < 30.0:\n",
    "    print('과체중')\n",
    "elif 30.0 <= result:\n",
    "    print('비만')"
   ]
  },
  {
   "cell_type": "markdown",
   "id": "7ea54747",
   "metadata": {},
   "source": [
    "### 2. 10의 자리수"
   ]
  },
  {
   "cell_type": "code",
   "execution_count": 4,
   "id": "c05b981f",
   "metadata": {},
   "outputs": [
    {
     "name": "stdout",
     "output_type": "stream",
     "text": [
      "1\n",
      "1\n"
     ]
    }
   ],
   "source": [
    "n = int(input())\n",
    "result = n%10\n",
    "print(result)"
   ]
  },
  {
   "cell_type": "markdown",
   "id": "824f384c",
   "metadata": {},
   "source": [
    "### 3. 약수만 뽑아"
   ]
  },
  {
   "cell_type": "code",
   "execution_count": 5,
   "id": "91d5906f",
   "metadata": {},
   "outputs": [
    {
     "name": "stdout",
     "output_type": "stream",
     "text": [
      "12\n",
      "1\n",
      "2\n",
      "3\n",
      "4\n",
      "6\n",
      "12\n"
     ]
    }
   ],
   "source": [
    "n = int(input())\n",
    "result = []\n",
    "for i in range(1, n+1):\n",
    "    if n%i == 0:\n",
    "        result.append(i)\n",
    "for i in result:\n",
    "    print(i)"
   ]
  },
  {
   "cell_type": "markdown",
   "id": "2f1db325",
   "metadata": {},
   "source": [
    "### Numpy\n",
    "+ np.array\n",
    "+ .reshape\n",
    "+ list, array"
   ]
  },
  {
   "cell_type": "markdown",
   "id": "b2f12bd5",
   "metadata": {},
   "source": [
    "### 4. 재배열"
   ]
  },
  {
   "cell_type": "code",
   "execution_count": 6,
   "id": "af022c9b",
   "metadata": {},
   "outputs": [
    {
     "name": "stdout",
     "output_type": "stream",
     "text": [
      "1,2,3,4,5,6,7,8,9,10,11,12,13,14,15,16,17,18,19,20\n",
      "[[ 1  2  3  4  5]\n",
      " [ 6  7  8  9 10]\n",
      " [11 12 13 14 15]\n",
      " [16 17 18 19 20]]\n"
     ]
    }
   ],
   "source": [
    "import numpy as np\n",
    "\n",
    "s = input().split(',')\n",
    "# print(s)\n",
    "array=[]\n",
    "for i in s:\n",
    "    array.append(int(i))\n",
    "# print(array)\n",
    "result = np.array(array).reshape(4,5)\n",
    "print(result)"
   ]
  },
  {
   "cell_type": "markdown",
   "id": "64160d5e",
   "metadata": {},
   "source": [
    "### Pandas\n",
    "+ .loc\n",
    "+ .iloc"
   ]
  },
  {
   "cell_type": "markdown",
   "id": "020e4800",
   "metadata": {},
   "source": [
    "### 5. 특정 행 뽑기"
   ]
  },
  {
   "cell_type": "code",
   "execution_count": 8,
   "id": "6000509b",
   "metadata": {},
   "outputs": [
    {
     "name": "stdout",
     "output_type": "stream",
     "text": [
      "gdp               1.409250e+09\n",
      "population        1.415000e+05\n",
      "gdp_per_capita    9.959364e+03\n",
      "Name: china, dtype: float64\n",
      "              gdp  population  gdp_per_capita\n",
      "japan   516700000       12718    40627.457147\n",
      "korea   169320000        5180    32687.258687\n",
      "usa    2041280000       32676    62470.314604\n"
     ]
    }
   ],
   "source": [
    "import pandas as pd\n",
    "\n",
    "df = pd.read_csv(\"country.csv\", index_col=0)\n",
    "\n",
    "print(df.loc['china'])\n",
    "print(df.iloc[1:4, :])"
   ]
  },
  {
   "cell_type": "markdown",
   "id": "d41c23c3",
   "metadata": {},
   "source": [
    "### Pandas\n",
    "+ df[df[\"구분\"]==\"Child\"]\n",
    "+ .groupby(['성별'])['나이'].mean()\n",
    "+ .transform(mean)\n",
    "+ .transpose(), .T\n",
    "+ df if문"
   ]
  },
  {
   "cell_type": "markdown",
   "id": "2c8a4d4f",
   "metadata": {},
   "source": [
    "### 6. 특정 행 평균"
   ]
  },
  {
   "cell_type": "code",
   "execution_count": 9,
   "id": "247db7f3",
   "metadata": {},
   "outputs": [
    {
     "name": "stdout",
     "output_type": "stream",
     "text": [
      "성별    Female      Male\n",
      "나이  9.207547  8.047619\n"
     ]
    }
   ],
   "source": [
    "import pandas as pd\n",
    "\n",
    "df = pd.read_csv(\"table.csv\")\n",
    "\n",
    "sort = df[df[\"구분\"]==\"Child\"]\n",
    "result = sort.groupby(['성별'])['나이'].mean()\n",
    "result = pd.DataFrame(result)\n",
    "result = result.transpose()\n",
    "print(result)\n",
    "# result = df.groupby('성별')['나이'].agg(**{'나이':'mean'})\n",
    "# result = result.transpose()\n",
    "# print(result)"
   ]
  },
  {
   "cell_type": "markdown",
   "id": "a0071f09",
   "metadata": {},
   "source": [
    "### Pandas\n",
    "+ ordering = df[['Name', 'Attend']]\n",
    "+ df.rename(columns={'Name':'Attend', 'Attend':'Name'})\n",
    "+ .sort_index(ascending=False)\n",
    "+ set_index, axis, inplace\n",
    "+ header"
   ]
  },
  {
   "cell_type": "markdown",
   "id": "3d0ea72c",
   "metadata": {},
   "source": [
    "### 7. 특정 행 묶어서 정렬"
   ]
  },
  {
   "cell_type": "code",
   "execution_count": 60,
   "id": "739e25e0",
   "metadata": {
    "scrolled": false
   },
   "outputs": [
    {
     "data": {
      "text/plain": [
       "Attend\n",
       "D    0.166667\n",
       "C    0.166667\n",
       "B    0.250000\n",
       "A    0.333333\n",
       "Name: Name, dtype: float64"
      ]
     },
     "execution_count": 60,
     "metadata": {},
     "output_type": "execute_result"
    }
   ],
   "source": [
    "import pandas as pd\n",
    "\n",
    "df = pd.read_csv(\"drink.csv\")\n",
    "# print(df)\n",
    "order = df[['Name', 'Attend']]\n",
    "# print(order)\n",
    "rename = df.rename(columns={'Name':'Attend', 'Attend':'Name'})\n",
    "# print(rename)\n",
    "cal = rename.groupby('Attend')['Name'].sum()\n",
    "# sort = sort.rename(columns={'Name', 'Attend'})\n",
    "# print(cal)\n",
    "sort = cal.sort_index(ascending=False)\n",
    "# print(sort)\n",
    "s = sort.sum()\n",
    "result = sort/s\n",
    "# result.drop(result.index[0])\n",
    "# print(result)\n",
    "# res = df.groupby('Name')['Attend'].agg(**{'Count':'sum'})\n",
    "# s = res.sum()\n",
    "# result = res/s\n",
    "# print(result)"
   ]
  },
  {
   "cell_type": "markdown",
   "id": "64467d18",
   "metadata": {},
   "source": [
    "### Pandas\n",
    "+ del, .drop, .pop\n",
    "+ merge, join, concat\n",
    "+ head(), tail(), info(), dtype, describe()"
   ]
  },
  {
   "cell_type": "markdown",
   "id": "be52faa0",
   "metadata": {},
   "source": [
    "### 8. 특정 칼럼 계산"
   ]
  },
  {
   "cell_type": "code",
   "execution_count": 11,
   "id": "69f2a437",
   "metadata": {},
   "outputs": [
    {
     "name": "stdout",
     "output_type": "stream",
     "text": [
      "36.93623849670827\n"
     ]
    }
   ],
   "source": [
    "import pandas as pd\n",
    "import numpy as np\n",
    "\n",
    "df = pd.read_csv(\"drink2.csv\")\n",
    "\n",
    "value = df.loc[:,'caffeine_content']\n",
    "mean = value.mean()\n",
    "res = []\n",
    "for i in value:\n",
    "    res.append((i-mean)*(i-mean))\n",
    "result = sum(res)\n",
    "result = result/(len(value)-1)\n",
    "result = np.sqrt(result)\n",
    "print(result)"
   ]
  },
  {
   "cell_type": "markdown",
   "id": "0068e811",
   "metadata": {},
   "source": [
    "### Pandas\n",
    "+ assign()\n",
    "+ lamda\n",
    "+ map\n",
    "+ apply()\n",
    "+ filter()"
   ]
  },
  {
   "cell_type": "code",
   "execution_count": null,
   "id": "2646ded9",
   "metadata": {},
   "outputs": [],
   "source": []
  }
 ],
 "metadata": {
  "kernelspec": {
   "display_name": "Python 3 (ipykernel)",
   "language": "python",
   "name": "python3"
  },
  "language_info": {
   "codemirror_mode": {
    "name": "ipython",
    "version": 3
   },
   "file_extension": ".py",
   "mimetype": "text/x-python",
   "name": "python",
   "nbconvert_exporter": "python",
   "pygments_lexer": "ipython3",
   "version": "3.10.9"
  }
 },
 "nbformat": 4,
 "nbformat_minor": 5
}
