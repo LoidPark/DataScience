{
 "cells": [
  {
   "cell_type": "code",
   "execution_count": 1,
   "id": "87418db6",
   "metadata": {},
   "outputs": [],
   "source": [
    "import pandas as pd\n",
    "import numpy as np\n",
    "import seaborn as sns\n",
    "import matplotlib.pyplot as plt"
   ]
  },
  {
   "cell_type": "code",
   "execution_count": 2,
   "id": "6b202fb0",
   "metadata": {},
   "outputs": [],
   "source": [
    "import copy"
   ]
  },
  {
   "cell_type": "markdown",
   "id": "18d279e2",
   "metadata": {},
   "source": [
    "## 1. 문제\n",
    "- i번째 row에 대해 가장 높은 값을 갖는 칼럼명을 max_i라 하자.\n",
    "- 이 때 가장 많이 max_i로 나타나는 칼럼명을 출력하라."
   ]
  },
  {
   "cell_type": "code",
   "execution_count": 40,
   "id": "da120f86",
   "metadata": {},
   "outputs": [],
   "source": [
    "df = pd.DataFrame(np.random.randint(1, 100, 40).reshape(10, -1), columns=list('ABCD'))"
   ]
  },
  {
   "cell_type": "code",
   "execution_count": 41,
   "id": "18203e63",
   "metadata": {},
   "outputs": [
    {
     "data": {
      "text/html": [
       "<div>\n",
       "<style scoped>\n",
       "    .dataframe tbody tr th:only-of-type {\n",
       "        vertical-align: middle;\n",
       "    }\n",
       "\n",
       "    .dataframe tbody tr th {\n",
       "        vertical-align: top;\n",
       "    }\n",
       "\n",
       "    .dataframe thead th {\n",
       "        text-align: right;\n",
       "    }\n",
       "</style>\n",
       "<table border=\"1\" class=\"dataframe\">\n",
       "  <thead>\n",
       "    <tr style=\"text-align: right;\">\n",
       "      <th></th>\n",
       "      <th>A</th>\n",
       "      <th>B</th>\n",
       "      <th>C</th>\n",
       "      <th>D</th>\n",
       "    </tr>\n",
       "  </thead>\n",
       "  <tbody>\n",
       "    <tr>\n",
       "      <th>0</th>\n",
       "      <td>75</td>\n",
       "      <td>3</td>\n",
       "      <td>52</td>\n",
       "      <td>86</td>\n",
       "    </tr>\n",
       "    <tr>\n",
       "      <th>1</th>\n",
       "      <td>33</td>\n",
       "      <td>97</td>\n",
       "      <td>71</td>\n",
       "      <td>64</td>\n",
       "    </tr>\n",
       "    <tr>\n",
       "      <th>2</th>\n",
       "      <td>72</td>\n",
       "      <td>54</td>\n",
       "      <td>47</td>\n",
       "      <td>9</td>\n",
       "    </tr>\n",
       "    <tr>\n",
       "      <th>3</th>\n",
       "      <td>50</td>\n",
       "      <td>87</td>\n",
       "      <td>80</td>\n",
       "      <td>20</td>\n",
       "    </tr>\n",
       "    <tr>\n",
       "      <th>4</th>\n",
       "      <td>27</td>\n",
       "      <td>81</td>\n",
       "      <td>4</td>\n",
       "      <td>64</td>\n",
       "    </tr>\n",
       "    <tr>\n",
       "      <th>5</th>\n",
       "      <td>55</td>\n",
       "      <td>79</td>\n",
       "      <td>14</td>\n",
       "      <td>38</td>\n",
       "    </tr>\n",
       "    <tr>\n",
       "      <th>6</th>\n",
       "      <td>80</td>\n",
       "      <td>81</td>\n",
       "      <td>86</td>\n",
       "      <td>81</td>\n",
       "    </tr>\n",
       "    <tr>\n",
       "      <th>7</th>\n",
       "      <td>72</td>\n",
       "      <td>64</td>\n",
       "      <td>65</td>\n",
       "      <td>50</td>\n",
       "    </tr>\n",
       "    <tr>\n",
       "      <th>8</th>\n",
       "      <td>84</td>\n",
       "      <td>26</td>\n",
       "      <td>78</td>\n",
       "      <td>72</td>\n",
       "    </tr>\n",
       "    <tr>\n",
       "      <th>9</th>\n",
       "      <td>33</td>\n",
       "      <td>40</td>\n",
       "      <td>43</td>\n",
       "      <td>65</td>\n",
       "    </tr>\n",
       "  </tbody>\n",
       "</table>\n",
       "</div>"
      ],
      "text/plain": [
       "    A   B   C   D\n",
       "0  75   3  52  86\n",
       "1  33  97  71  64\n",
       "2  72  54  47   9\n",
       "3  50  87  80  20\n",
       "4  27  81   4  64\n",
       "5  55  79  14  38\n",
       "6  80  81  86  81\n",
       "7  72  64  65  50\n",
       "8  84  26  78  72\n",
       "9  33  40  43  65"
      ]
     },
     "execution_count": 41,
     "metadata": {},
     "output_type": "execute_result"
    }
   ],
   "source": [
    "df"
   ]
  },
  {
   "cell_type": "markdown",
   "id": "94a2f653",
   "metadata": {},
   "source": [
    "### 베이직하게 문제풀기"
   ]
  },
  {
   "cell_type": "code",
   "execution_count": 42,
   "id": "73d44d81",
   "metadata": {},
   "outputs": [
    {
     "name": "stdout",
     "output_type": "stream",
     "text": [
      "B\n"
     ]
    }
   ],
   "source": [
    "A=0\n",
    "B=0\n",
    "C=0\n",
    "D=0\n",
    "for i in range(10):\n",
    "    temp = df.loc[i,:]\n",
    "    result = temp[temp==temp.max()].index[0]\n",
    "    if result=='A':\n",
    "        A+=1\n",
    "    elif result=='B':\n",
    "        B+=1\n",
    "    elif result=='C':\n",
    "        C+=1\n",
    "    elif result=='D':\n",
    "        D+=1\n",
    "if A==max(A,B,C,D):\n",
    "    print('A')\n",
    "elif B==max(A,B,C,D):\n",
    "    print('B')\n",
    "elif C==max(A,B,C,D):\n",
    "    print('C')\n",
    "elif D==max(A,B,C,D):\n",
    "    print('D')"
   ]
  },
  {
   "cell_type": "markdown",
   "id": "a3243423",
   "metadata": {},
   "source": [
    "### 판다스 활용 문제풀기"
   ]
  },
  {
   "cell_type": "code",
   "execution_count": 44,
   "id": "0d24a4b1",
   "metadata": {
    "collapsed": true
   },
   "outputs": [
    {
     "name": "stdout",
     "output_type": "stream",
     "text": [
      "0    75\n",
      "1    33\n",
      "2    72\n",
      "3    50\n",
      "4    27\n",
      "5    55\n",
      "6    80\n",
      "7    72\n",
      "8    84\n",
      "9    33\n",
      "Name: A, dtype: int32\n",
      "0     3\n",
      "1    97\n",
      "2    54\n",
      "3    87\n",
      "4    81\n",
      "5    79\n",
      "6    81\n",
      "7    64\n",
      "8    26\n",
      "9    40\n",
      "Name: B, dtype: int32\n",
      "0    52\n",
      "1    71\n",
      "2    47\n",
      "3    80\n",
      "4     4\n",
      "5    14\n",
      "6    86\n",
      "7    65\n",
      "8    78\n",
      "9    43\n",
      "Name: C, dtype: int32\n",
      "0    86\n",
      "1    64\n",
      "2     9\n",
      "3    20\n",
      "4    64\n",
      "5    38\n",
      "6    81\n",
      "7    50\n",
      "8    72\n",
      "9    65\n",
      "Name: D, dtype: int32\n"
     ]
    },
    {
     "data": {
      "text/plain": [
       "A    None\n",
       "B    None\n",
       "C    None\n",
       "D    None\n",
       "dtype: object"
      ]
     },
     "execution_count": 44,
     "metadata": {},
     "output_type": "execute_result"
    }
   ],
   "source": [
    "df.apply(lambda x: print(x))  # apply로 각각 행 별로, 열 별로 연산이 가능"
   ]
  },
  {
   "cell_type": "code",
   "execution_count": 46,
   "id": "b23188e8",
   "metadata": {
    "collapsed": true
   },
   "outputs": [
    {
     "name": "stdout",
     "output_type": "stream",
     "text": [
      "A    75\n",
      "B     3\n",
      "C    52\n",
      "D    86\n",
      "Name: 0, dtype: int32\n",
      "A    33\n",
      "B    97\n",
      "C    71\n",
      "D    64\n",
      "Name: 1, dtype: int32\n",
      "A    72\n",
      "B    54\n",
      "C    47\n",
      "D     9\n",
      "Name: 2, dtype: int32\n",
      "A    50\n",
      "B    87\n",
      "C    80\n",
      "D    20\n",
      "Name: 3, dtype: int32\n",
      "A    27\n",
      "B    81\n",
      "C     4\n",
      "D    64\n",
      "Name: 4, dtype: int32\n",
      "A    55\n",
      "B    79\n",
      "C    14\n",
      "D    38\n",
      "Name: 5, dtype: int32\n",
      "A    80\n",
      "B    81\n",
      "C    86\n",
      "D    81\n",
      "Name: 6, dtype: int32\n",
      "A    72\n",
      "B    64\n",
      "C    65\n",
      "D    50\n",
      "Name: 7, dtype: int32\n",
      "A    84\n",
      "B    26\n",
      "C    78\n",
      "D    72\n",
      "Name: 8, dtype: int32\n",
      "A    33\n",
      "B    40\n",
      "C    43\n",
      "D    65\n",
      "Name: 9, dtype: int32\n"
     ]
    },
    {
     "data": {
      "text/plain": [
       "0    None\n",
       "1    None\n",
       "2    None\n",
       "3    None\n",
       "4    None\n",
       "5    None\n",
       "6    None\n",
       "7    None\n",
       "8    None\n",
       "9    None\n",
       "dtype: object"
      ]
     },
     "execution_count": 46,
     "metadata": {},
     "output_type": "execute_result"
    }
   ],
   "source": [
    "df.apply(lambda x: print(x), axis=1)  # axis=1 이면 행 방향으로 series가 담긴다"
   ]
  },
  {
   "cell_type": "code",
   "execution_count": 48,
   "id": "fbfca320",
   "metadata": {},
   "outputs": [
    {
     "data": {
      "text/plain": [
       "1"
      ]
     },
     "execution_count": 48,
     "metadata": {},
     "output_type": "execute_result"
    }
   ],
   "source": [
    "arr = np.array([0,3,1,2])\n",
    "np.argmax(arr)  # 가장 큰 값의 인덱스가 출력된다"
   ]
  },
  {
   "cell_type": "code",
   "execution_count": 51,
   "id": "bd80e90a",
   "metadata": {},
   "outputs": [],
   "source": [
    "def getMAXi(x):  # 행 series가 왔을때\n",
    "    i = np.argmax(x)\n",
    "    return x.index[i]  # x.index 'ABCD ' 중 i번째 인덱스를 뽑게 된다"
   ]
  },
  {
   "cell_type": "code",
   "execution_count": 53,
   "id": "ac2e1610",
   "metadata": {},
   "outputs": [
    {
     "data": {
      "text/plain": [
       "0    D\n",
       "1    B\n",
       "2    A\n",
       "3    B\n",
       "4    B\n",
       "5    B\n",
       "6    C\n",
       "7    A\n",
       "8    A\n",
       "9    D\n",
       "dtype: object"
      ]
     },
     "execution_count": 53,
     "metadata": {},
     "output_type": "execute_result"
    }
   ],
   "source": [
    "df.apply(getMAXi, axis=1)"
   ]
  },
  {
   "cell_type": "code",
   "execution_count": 55,
   "id": "2fe20a0b",
   "metadata": {},
   "outputs": [
    {
     "data": {
      "text/plain": [
       "B    4\n",
       "A    3\n",
       "D    2\n",
       "C    1\n",
       "dtype: int64"
      ]
     },
     "execution_count": 55,
     "metadata": {},
     "output_type": "execute_result"
    }
   ],
   "source": [
    "df.apply(getMAXi, axis=1).value_counts()  # default 내림차순"
   ]
  },
  {
   "cell_type": "code",
   "execution_count": 57,
   "id": "264163f8",
   "metadata": {},
   "outputs": [
    {
     "data": {
      "text/plain": [
       "4"
      ]
     },
     "execution_count": 57,
     "metadata": {},
     "output_type": "execute_result"
    }
   ],
   "source": [
    "df.apply(getMAXi, axis=1).value_counts()[0]"
   ]
  },
  {
   "cell_type": "code",
   "execution_count": 58,
   "id": "f9de0280",
   "metadata": {},
   "outputs": [
    {
     "data": {
      "text/plain": [
       "'B'"
      ]
     },
     "execution_count": 58,
     "metadata": {},
     "output_type": "execute_result"
    }
   ],
   "source": [
    "df.apply(getMAXi, axis=1).value_counts().index[0]"
   ]
  },
  {
   "cell_type": "markdown",
   "id": "be39129d",
   "metadata": {},
   "source": [
    "## 2. 문제\n",
    "- 각 row에 대해 가장 Euclidean 거리가 가까운 index를 갖는 칼럼을 생성하라."
   ]
  },
  {
   "cell_type": "code",
   "execution_count": 82,
   "id": "e3c826f1",
   "metadata": {},
   "outputs": [
    {
     "data": {
      "text/html": [
       "<div>\n",
       "<style scoped>\n",
       "    .dataframe tbody tr th:only-of-type {\n",
       "        vertical-align: middle;\n",
       "    }\n",
       "\n",
       "    .dataframe tbody tr th {\n",
       "        vertical-align: top;\n",
       "    }\n",
       "\n",
       "    .dataframe thead th {\n",
       "        text-align: right;\n",
       "    }\n",
       "</style>\n",
       "<table border=\"1\" class=\"dataframe\">\n",
       "  <thead>\n",
       "    <tr style=\"text-align: right;\">\n",
       "      <th></th>\n",
       "      <th>x</th>\n",
       "      <th>y</th>\n",
       "      <th>z</th>\n",
       "      <th>w</th>\n",
       "    </tr>\n",
       "  </thead>\n",
       "  <tbody>\n",
       "    <tr>\n",
       "      <th>a</th>\n",
       "      <td>90</td>\n",
       "      <td>28</td>\n",
       "      <td>56</td>\n",
       "      <td>20</td>\n",
       "    </tr>\n",
       "    <tr>\n",
       "      <th>b</th>\n",
       "      <td>38</td>\n",
       "      <td>98</td>\n",
       "      <td>9</td>\n",
       "      <td>72</td>\n",
       "    </tr>\n",
       "    <tr>\n",
       "      <th>c</th>\n",
       "      <td>11</td>\n",
       "      <td>7</td>\n",
       "      <td>34</td>\n",
       "      <td>32</td>\n",
       "    </tr>\n",
       "    <tr>\n",
       "      <th>d</th>\n",
       "      <td>67</td>\n",
       "      <td>54</td>\n",
       "      <td>75</td>\n",
       "      <td>83</td>\n",
       "    </tr>\n",
       "    <tr>\n",
       "      <th>e</th>\n",
       "      <td>72</td>\n",
       "      <td>90</td>\n",
       "      <td>18</td>\n",
       "      <td>35</td>\n",
       "    </tr>\n",
       "    <tr>\n",
       "      <th>f</th>\n",
       "      <td>76</td>\n",
       "      <td>89</td>\n",
       "      <td>21</td>\n",
       "      <td>39</td>\n",
       "    </tr>\n",
       "    <tr>\n",
       "      <th>g</th>\n",
       "      <td>29</td>\n",
       "      <td>52</td>\n",
       "      <td>72</td>\n",
       "      <td>7</td>\n",
       "    </tr>\n",
       "    <tr>\n",
       "      <th>h</th>\n",
       "      <td>10</td>\n",
       "      <td>79</td>\n",
       "      <td>1</td>\n",
       "      <td>65</td>\n",
       "    </tr>\n",
       "    <tr>\n",
       "      <th>i</th>\n",
       "      <td>64</td>\n",
       "      <td>19</td>\n",
       "      <td>64</td>\n",
       "      <td>65</td>\n",
       "    </tr>\n",
       "    <tr>\n",
       "      <th>j</th>\n",
       "      <td>3</td>\n",
       "      <td>86</td>\n",
       "      <td>67</td>\n",
       "      <td>38</td>\n",
       "    </tr>\n",
       "  </tbody>\n",
       "</table>\n",
       "</div>"
      ],
      "text/plain": [
       "    x   y   z   w\n",
       "a  90  28  56  20\n",
       "b  38  98   9  72\n",
       "c  11   7  34  32\n",
       "d  67  54  75  83\n",
       "e  72  90  18  35\n",
       "f  76  89  21  39\n",
       "g  29  52  72   7\n",
       "h  10  79   1  65\n",
       "i  64  19  64  65\n",
       "j   3  86  67  38"
      ]
     },
     "execution_count": 82,
     "metadata": {},
     "output_type": "execute_result"
    }
   ],
   "source": [
    "df = pd.DataFrame(np.random.randint(1, 100, 40).reshape(10, -1), columns=list('xyzw'), index=list('abcdefghij'))\n",
    "df  # 4차원 벡터"
   ]
  },
  {
   "cell_type": "code",
   "execution_count": 83,
   "id": "f2bd18c5",
   "metadata": {},
   "outputs": [
    {
     "data": {
      "text/plain": [
       "array([1, 2, 3])"
      ]
     },
     "execution_count": 83,
     "metadata": {},
     "output_type": "execute_result"
    }
   ],
   "source": [
    "# norm 계산\n",
    "arr = np.array([1,2,3])\n",
    "arr"
   ]
  },
  {
   "cell_type": "code",
   "execution_count": 62,
   "id": "60e98088",
   "metadata": {},
   "outputs": [
    {
     "data": {
      "text/plain": [
       "3.7416573867739413"
      ]
     },
     "execution_count": 62,
     "metadata": {},
     "output_type": "execute_result"
    }
   ],
   "source": [
    "np.linalg.norm(arr)  # norm 끼리의 차이는 거리가 될 것"
   ]
  },
  {
   "cell_type": "code",
   "execution_count": 66,
   "id": "03c8f08f",
   "metadata": {},
   "outputs": [
    {
     "name": "stdout",
     "output_type": "stream",
     "text": [
      "a\n",
      "x     4\n",
      "y    28\n",
      "z     6\n",
      "w    66\n",
      "Name: a, dtype: int32\n"
     ]
    }
   ],
   "source": [
    "# list 각각 i, row를 하나씩 뽑아내준다\n",
    "for i, row in df.iterrows():\n",
    "    print(i)\n",
    "    print(row)\n",
    "    break"
   ]
  },
  {
   "cell_type": "code",
   "execution_count": 67,
   "id": "ca973ded",
   "metadata": {},
   "outputs": [],
   "source": [
    "result = []\n",
    "for i, row in df.iterrows():\n",
    "    result.append(np.linalg.norm(row))"
   ]
  },
  {
   "cell_type": "code",
   "execution_count": 72,
   "id": "e9c80ec6",
   "metadata": {},
   "outputs": [
    {
     "data": {
      "text/plain": [
       "a     72.055534\n",
       "b    140.452839\n",
       "c    153.941547\n",
       "d    107.335921\n",
       "e    143.418967\n",
       "f     98.893883\n",
       "g    145.044821\n",
       "h     94.841974\n",
       "i    146.263461\n",
       "j     67.201190\n",
       "Name: norm, dtype: float64"
      ]
     },
     "execution_count": 72,
     "metadata": {},
     "output_type": "execute_result"
    }
   ],
   "source": [
    "df['norm'] = result\n",
    "df.norm"
   ]
  },
  {
   "cell_type": "code",
   "execution_count": 75,
   "id": "8191406f",
   "metadata": {},
   "outputs": [
    {
     "data": {
      "text/plain": [
       "72.05553413860729"
      ]
     },
     "execution_count": 75,
     "metadata": {},
     "output_type": "execute_result"
    }
   ],
   "source": [
    "result=[]\n",
    "for i in range(len(df.norm)):\n",
    "    for j in range(len(df.norm)):\n",
    "        temp = abs(df.norm[i]-df.norm[j])\n",
    "        min(temp)"
   ]
  },
  {
   "cell_type": "markdown",
   "id": "7772c5e2",
   "metadata": {},
   "source": [
    "### 판다스 활용 문제풀기"
   ]
  },
  {
   "cell_type": "code",
   "execution_count": 84,
   "id": "662d9d8a",
   "metadata": {},
   "outputs": [],
   "source": [
    "nearest_rows = []\n",
    "\n",
    "for i, row in df.iterrows():\n",
    "    break"
   ]
  },
  {
   "cell_type": "code",
   "execution_count": 85,
   "id": "24915592",
   "metadata": {},
   "outputs": [
    {
     "data": {
      "text/plain": [
       "'a'"
      ]
     },
     "execution_count": 85,
     "metadata": {},
     "output_type": "execute_result"
    }
   ],
   "source": [
    "i"
   ]
  },
  {
   "cell_type": "code",
   "execution_count": 86,
   "id": "773e47f7",
   "metadata": {},
   "outputs": [
    {
     "data": {
      "text/plain": [
       "x    90\n",
       "y    28\n",
       "z    56\n",
       "w    20\n",
       "Name: a, dtype: int32"
      ]
     },
     "execution_count": 86,
     "metadata": {},
     "output_type": "execute_result"
    }
   ],
   "source": [
    "row"
   ]
  },
  {
   "cell_type": "code",
   "execution_count": 87,
   "id": "7fdb7c6a",
   "metadata": {},
   "outputs": [],
   "source": [
    "# 일단 break 걸고 얻어진걸 보면서 코드를 짠다"
   ]
  },
  {
   "cell_type": "code",
   "execution_count": 89,
   "id": "dd4965ee",
   "metadata": {},
   "outputs": [
    {
     "data": {
      "text/html": [
       "<div>\n",
       "<style scoped>\n",
       "    .dataframe tbody tr th:only-of-type {\n",
       "        vertical-align: middle;\n",
       "    }\n",
       "\n",
       "    .dataframe tbody tr th {\n",
       "        vertical-align: top;\n",
       "    }\n",
       "\n",
       "    .dataframe thead th {\n",
       "        text-align: right;\n",
       "    }\n",
       "</style>\n",
       "<table border=\"1\" class=\"dataframe\">\n",
       "  <thead>\n",
       "    <tr style=\"text-align: right;\">\n",
       "      <th></th>\n",
       "      <th>x</th>\n",
       "      <th>y</th>\n",
       "      <th>z</th>\n",
       "      <th>w</th>\n",
       "    </tr>\n",
       "  </thead>\n",
       "  <tbody>\n",
       "    <tr>\n",
       "      <th>b</th>\n",
       "      <td>38</td>\n",
       "      <td>98</td>\n",
       "      <td>9</td>\n",
       "      <td>72</td>\n",
       "    </tr>\n",
       "    <tr>\n",
       "      <th>c</th>\n",
       "      <td>11</td>\n",
       "      <td>7</td>\n",
       "      <td>34</td>\n",
       "      <td>32</td>\n",
       "    </tr>\n",
       "    <tr>\n",
       "      <th>d</th>\n",
       "      <td>67</td>\n",
       "      <td>54</td>\n",
       "      <td>75</td>\n",
       "      <td>83</td>\n",
       "    </tr>\n",
       "    <tr>\n",
       "      <th>e</th>\n",
       "      <td>72</td>\n",
       "      <td>90</td>\n",
       "      <td>18</td>\n",
       "      <td>35</td>\n",
       "    </tr>\n",
       "    <tr>\n",
       "      <th>f</th>\n",
       "      <td>76</td>\n",
       "      <td>89</td>\n",
       "      <td>21</td>\n",
       "      <td>39</td>\n",
       "    </tr>\n",
       "    <tr>\n",
       "      <th>g</th>\n",
       "      <td>29</td>\n",
       "      <td>52</td>\n",
       "      <td>72</td>\n",
       "      <td>7</td>\n",
       "    </tr>\n",
       "    <tr>\n",
       "      <th>h</th>\n",
       "      <td>10</td>\n",
       "      <td>79</td>\n",
       "      <td>1</td>\n",
       "      <td>65</td>\n",
       "    </tr>\n",
       "    <tr>\n",
       "      <th>i</th>\n",
       "      <td>64</td>\n",
       "      <td>19</td>\n",
       "      <td>64</td>\n",
       "      <td>65</td>\n",
       "    </tr>\n",
       "    <tr>\n",
       "      <th>j</th>\n",
       "      <td>3</td>\n",
       "      <td>86</td>\n",
       "      <td>67</td>\n",
       "      <td>38</td>\n",
       "    </tr>\n",
       "  </tbody>\n",
       "</table>\n",
       "</div>"
      ],
      "text/plain": [
       "    x   y   z   w\n",
       "b  38  98   9  72\n",
       "c  11   7  34  32\n",
       "d  67  54  75  83\n",
       "e  72  90  18  35\n",
       "f  76  89  21  39\n",
       "g  29  52  72   7\n",
       "h  10  79   1  65\n",
       "i  64  19  64  65\n",
       "j   3  86  67  38"
      ]
     },
     "execution_count": 89,
     "metadata": {},
     "output_type": "execute_result"
    }
   ],
   "source": [
    "rest = df.drop(i)\n",
    "rest  # 나머지 녀석들만 남긴다"
   ]
  },
  {
   "cell_type": "code",
   "execution_count": 90,
   "id": "cfc5a8c4",
   "metadata": {},
   "outputs": [
    {
     "data": {
      "text/plain": [
       "array([90, 28, 56, 20])"
      ]
     },
     "execution_count": 90,
     "metadata": {},
     "output_type": "execute_result"
    }
   ],
   "source": [
    "row.values  # array 형태로 바뀐다"
   ]
  },
  {
   "cell_type": "code",
   "execution_count": 91,
   "id": "360e27a0",
   "metadata": {},
   "outputs": [
    {
     "data": {
      "text/plain": [
       "b    111.879399\n",
       "c     85.498538\n",
       "d     74.397581\n",
       "e     76.400262\n",
       "f     74.182208\n",
       "g     68.716810\n",
       "h    118.536914\n",
       "i     53.347915\n",
       "j    106.667708\n",
       "dtype: float64"
      ]
     },
     "execution_count": 91,
     "metadata": {},
     "output_type": "execute_result"
    }
   ],
   "source": [
    "rest.apply((lambda r: np.linalg.norm(row.values - r.values)), axis=1)  # 빼고 norm 해야 거리가 나온다"
   ]
  },
  {
   "cell_type": "code",
   "execution_count": 92,
   "id": "699928b5",
   "metadata": {},
   "outputs": [
    {
     "data": {
      "text/plain": [
       "b   -16.277301\n",
       "c    62.968255\n",
       "d   -29.689634\n",
       "e   -10.345751\n",
       "f   -13.690872\n",
       "g    17.754072\n",
       "h     8.649139\n",
       "i    -1.594762\n",
       "j    -4.045206\n",
       "dtype: float64"
      ]
     },
     "execution_count": 92,
     "metadata": {},
     "output_type": "execute_result"
    }
   ],
   "source": [
    "rest.apply((lambda r: np.linalg.norm(row.values) - np.linalg.norm(r.values)), axis=1)  # norm 끼리 빼면 다른 값이 나온다"
   ]
  },
  {
   "cell_type": "code",
   "execution_count": 93,
   "id": "2430f416",
   "metadata": {},
   "outputs": [],
   "source": [
    "nearest_rows = []\n",
    "\n",
    "for i, row in df.iterrows():\n",
    "    rest = df.drop(i)\n",
    "    nidx = rest.apply((lambda r: np.linalg.norm(row.values - r.values)), axis=1).sort_values().index[0]\n",
    "    nearest_rows.append(nidx)"
   ]
  },
  {
   "cell_type": "code",
   "execution_count": 94,
   "id": "97967a27",
   "metadata": {},
   "outputs": [
    {
     "data": {
      "text/plain": [
       "['i', 'h', 'g', 'i', 'f', 'e', 'j', 'b', 'd', 'g']"
      ]
     },
     "execution_count": 94,
     "metadata": {},
     "output_type": "execute_result"
    }
   ],
   "source": [
    "nearest_rows"
   ]
  },
  {
   "cell_type": "code",
   "execution_count": 95,
   "id": "29c99401",
   "metadata": {},
   "outputs": [],
   "source": [
    "df['nearest_row'] = nearest_rows"
   ]
  },
  {
   "cell_type": "code",
   "execution_count": 96,
   "id": "314f1967",
   "metadata": {},
   "outputs": [
    {
     "data": {
      "text/html": [
       "<div>\n",
       "<style scoped>\n",
       "    .dataframe tbody tr th:only-of-type {\n",
       "        vertical-align: middle;\n",
       "    }\n",
       "\n",
       "    .dataframe tbody tr th {\n",
       "        vertical-align: top;\n",
       "    }\n",
       "\n",
       "    .dataframe thead th {\n",
       "        text-align: right;\n",
       "    }\n",
       "</style>\n",
       "<table border=\"1\" class=\"dataframe\">\n",
       "  <thead>\n",
       "    <tr style=\"text-align: right;\">\n",
       "      <th></th>\n",
       "      <th>x</th>\n",
       "      <th>y</th>\n",
       "      <th>z</th>\n",
       "      <th>w</th>\n",
       "      <th>nearest_row</th>\n",
       "    </tr>\n",
       "  </thead>\n",
       "  <tbody>\n",
       "    <tr>\n",
       "      <th>a</th>\n",
       "      <td>90</td>\n",
       "      <td>28</td>\n",
       "      <td>56</td>\n",
       "      <td>20</td>\n",
       "      <td>i</td>\n",
       "    </tr>\n",
       "    <tr>\n",
       "      <th>b</th>\n",
       "      <td>38</td>\n",
       "      <td>98</td>\n",
       "      <td>9</td>\n",
       "      <td>72</td>\n",
       "      <td>h</td>\n",
       "    </tr>\n",
       "    <tr>\n",
       "      <th>c</th>\n",
       "      <td>11</td>\n",
       "      <td>7</td>\n",
       "      <td>34</td>\n",
       "      <td>32</td>\n",
       "      <td>g</td>\n",
       "    </tr>\n",
       "    <tr>\n",
       "      <th>d</th>\n",
       "      <td>67</td>\n",
       "      <td>54</td>\n",
       "      <td>75</td>\n",
       "      <td>83</td>\n",
       "      <td>i</td>\n",
       "    </tr>\n",
       "    <tr>\n",
       "      <th>e</th>\n",
       "      <td>72</td>\n",
       "      <td>90</td>\n",
       "      <td>18</td>\n",
       "      <td>35</td>\n",
       "      <td>f</td>\n",
       "    </tr>\n",
       "    <tr>\n",
       "      <th>f</th>\n",
       "      <td>76</td>\n",
       "      <td>89</td>\n",
       "      <td>21</td>\n",
       "      <td>39</td>\n",
       "      <td>e</td>\n",
       "    </tr>\n",
       "    <tr>\n",
       "      <th>g</th>\n",
       "      <td>29</td>\n",
       "      <td>52</td>\n",
       "      <td>72</td>\n",
       "      <td>7</td>\n",
       "      <td>j</td>\n",
       "    </tr>\n",
       "    <tr>\n",
       "      <th>h</th>\n",
       "      <td>10</td>\n",
       "      <td>79</td>\n",
       "      <td>1</td>\n",
       "      <td>65</td>\n",
       "      <td>b</td>\n",
       "    </tr>\n",
       "    <tr>\n",
       "      <th>i</th>\n",
       "      <td>64</td>\n",
       "      <td>19</td>\n",
       "      <td>64</td>\n",
       "      <td>65</td>\n",
       "      <td>d</td>\n",
       "    </tr>\n",
       "    <tr>\n",
       "      <th>j</th>\n",
       "      <td>3</td>\n",
       "      <td>86</td>\n",
       "      <td>67</td>\n",
       "      <td>38</td>\n",
       "      <td>g</td>\n",
       "    </tr>\n",
       "  </tbody>\n",
       "</table>\n",
       "</div>"
      ],
      "text/plain": [
       "    x   y   z   w nearest_row\n",
       "a  90  28  56  20           i\n",
       "b  38  98   9  72           h\n",
       "c  11   7  34  32           g\n",
       "d  67  54  75  83           i\n",
       "e  72  90  18  35           f\n",
       "f  76  89  21  39           e\n",
       "g  29  52  72   7           j\n",
       "h  10  79   1  65           b\n",
       "i  64  19  64  65           d\n",
       "j   3  86  67  38           g"
      ]
     },
     "execution_count": 96,
     "metadata": {},
     "output_type": "execute_result"
    }
   ],
   "source": [
    "df"
   ]
  },
  {
   "cell_type": "code",
   "execution_count": 104,
   "id": "83399834",
   "metadata": {},
   "outputs": [
    {
     "data": {
      "text/plain": [
       "111.87939935484101"
      ]
     },
     "execution_count": 104,
     "metadata": {},
     "output_type": "execute_result"
    }
   ],
   "source": [
    "np.sqrt((90-38)**2 + (28-98)**2 + (56-9)**2 +(20-72)**2)"
   ]
  },
  {
   "cell_type": "code",
   "execution_count": null,
   "id": "fd99f814",
   "metadata": {},
   "outputs": [],
   "source": []
  }
 ],
 "metadata": {
  "kernelspec": {
   "display_name": "Python 3 (ipykernel)",
   "language": "python",
   "name": "python3"
  },
  "language_info": {
   "codemirror_mode": {
    "name": "ipython",
    "version": 3
   },
   "file_extension": ".py",
   "mimetype": "text/x-python",
   "name": "python",
   "nbconvert_exporter": "python",
   "pygments_lexer": "ipython3",
   "version": "3.10.9"
  }
 },
 "nbformat": 4,
 "nbformat_minor": 5
}
