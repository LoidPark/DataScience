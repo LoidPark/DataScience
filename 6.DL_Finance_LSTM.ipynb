{
 "cells": [
  {
   "cell_type": "markdown",
   "metadata": {},
   "source": [
    "# 시계열 데이터에 RNN 모델 적용하기\n",
    "---"
   ]
  },
  {
   "cell_type": "markdown",
   "metadata": {},
   "source": [
    "## 1.주식 데이터를 이용한 가격 예측\n",
    "\n",
    "---\n",
    "\n",
    "### 1.1 라이브러리 설치 및 로드\n",
    "\n",
    "\n",
    "**FinanceDataReader 상세 설명**\n",
    "\n",
    "FinanceDataReader는 한국 주식 가격, 미국주식 가격, 지수, 환율, 암호화폐 가격, 종목 리스팅 등 금융 데이터 수집 라이브러리입니다.\n",
    "\n",
    "기존에 사용되던 pandas-datareader 는 잘 구성된 시계열 데이터 수집 라이브러리로 사용이 간편하고 다양한 시계열 데이터를 수집할 수 있다는 장점이 있습니다. 하지만, 거래소별(KRX, NASDAQ, NYSE 등) 전체 종목 코드(ticker symbol)를 가져오는 기능이 없으며, 야후 파이낸스가 더 이상지원되지 않고(deprecated), 구글 파이낸스는 UNSTABLE_WARNING + RemoteDataError 가 있습니다.\n",
    "\n",
    "FinanceDataReader는 pandas-datareader 를 대체하기 보다 보완하기 위한 목적으로 만들어졌으며 주요한 기능은 다음과 같습니다.\n",
    "\n",
    "- 거래소별 전체 종목코드: KRX (KOSPI, KODAQ, KONEX), NASDAQ, NYSE, AMEX, S&P 500 가격 데이터\n",
    "- 해외주식 가격 데이터: AAPL(애플), AMZN(아마존), GOOG(구글) 등\n",
    "- 국내주식 가격 데이터: 005920(삼성전자), 091990(셀트리온헬스케어) 등\n",
    "- 각종 지수: KS11(코스피지수), KQ11(코스닥지수), DJI(다우지수), IXIC(나스닥 지수), US500(S&P 5000)\n",
    "- 환율 데이터: USD/KRX (원달러 환율), USD/EUR(달러당 유로화 환율), CNY/KRW: 위엔화 원화 환율\n",
    "- 암호화폐 가격: BTC/USD (비트코인 달러 가격, Bitfinex), BTC/KRW (비트코인 원화 가격, 빗썸)\n",
    "\n",
    "라이브러리를 설치합니다."
   ]
  },
  {
   "cell_type": "code",
   "execution_count": 2,
   "metadata": {},
   "outputs": [],
   "source": [
    "# !pip install -U finance-datareader"
   ]
  },
  {
   "cell_type": "code",
   "execution_count": 5,
   "metadata": {},
   "outputs": [],
   "source": [
    "# !pip install tensorflow"
   ]
  },
  {
   "cell_type": "markdown",
   "metadata": {},
   "source": [
    "라이브러리를 로드합니다.\n",
    "\n",
    "- **tensorflow**: 딥러닝 학습을 위한 Tensor을 다루기 위한 라이브러리\n",
    "- **tensorflow.kears**: 사용자 친화적인 keras의 API를 사용하여 tensorflow를 다루기 위한 라이브러리"
   ]
  },
  {
   "cell_type": "code",
   "execution_count": 6,
   "metadata": {},
   "outputs": [],
   "source": [
    "import FinanceDataReader as fdr\n",
    "from sklearn.preprocessing import MinMaxScaler\n",
    "\n",
    "import pandas as pd\n",
    "from sklearn.model_selection import train_test_split\n",
    "import numpy as np\n",
    "import matplotlib.pyplot as plt \n",
    "\n",
    "import tensorflow as tf\n",
    "from tensorflow.keras import Sequential, layers, callbacks, backend"
   ]
  },
  {
   "cell_type": "markdown",
   "metadata": {},
   "source": [
    "### 1.2 데이터 로드 및 시각화\n",
    "\n",
    "삼성전자 주식 데이터를 가져와 `df`에 저장합니다."
   ]
  },
  {
   "cell_type": "code",
   "execution_count": 7,
   "metadata": {},
   "outputs": [
    {
     "data": {
      "text/html": [
       "<div>\n",
       "<style scoped>\n",
       "    .dataframe tbody tr th:only-of-type {\n",
       "        vertical-align: middle;\n",
       "    }\n",
       "\n",
       "    .dataframe tbody tr th {\n",
       "        vertical-align: top;\n",
       "    }\n",
       "\n",
       "    .dataframe thead th {\n",
       "        text-align: right;\n",
       "    }\n",
       "</style>\n",
       "<table border=\"1\" class=\"dataframe\">\n",
       "  <thead>\n",
       "    <tr style=\"text-align: right;\">\n",
       "      <th></th>\n",
       "      <th>Date</th>\n",
       "      <th>Open</th>\n",
       "      <th>High</th>\n",
       "      <th>Low</th>\n",
       "      <th>Close</th>\n",
       "      <th>Volume</th>\n",
       "      <th>Change</th>\n",
       "    </tr>\n",
       "  </thead>\n",
       "  <tbody>\n",
       "    <tr>\n",
       "      <th>0</th>\n",
       "      <td>1999-04-02</td>\n",
       "      <td>1878</td>\n",
       "      <td>1937</td>\n",
       "      <td>1864</td>\n",
       "      <td>1878</td>\n",
       "      <td>272639</td>\n",
       "      <td>NaN</td>\n",
       "    </tr>\n",
       "    <tr>\n",
       "      <th>1</th>\n",
       "      <td>1999-04-06</td>\n",
       "      <td>1878</td>\n",
       "      <td>1927</td>\n",
       "      <td>1855</td>\n",
       "      <td>1859</td>\n",
       "      <td>508559</td>\n",
       "      <td>-0.010117</td>\n",
       "    </tr>\n",
       "    <tr>\n",
       "      <th>2</th>\n",
       "      <td>1999-04-07</td>\n",
       "      <td>1858</td>\n",
       "      <td>1954</td>\n",
       "      <td>1843</td>\n",
       "      <td>1918</td>\n",
       "      <td>1160590</td>\n",
       "      <td>0.031737</td>\n",
       "    </tr>\n",
       "    <tr>\n",
       "      <th>3</th>\n",
       "      <td>1999-04-08</td>\n",
       "      <td>1907</td>\n",
       "      <td>1935</td>\n",
       "      <td>1878</td>\n",
       "      <td>1902</td>\n",
       "      <td>462018</td>\n",
       "      <td>-0.008342</td>\n",
       "    </tr>\n",
       "    <tr>\n",
       "      <th>4</th>\n",
       "      <td>1999-04-09</td>\n",
       "      <td>1933</td>\n",
       "      <td>1937</td>\n",
       "      <td>1866</td>\n",
       "      <td>1933</td>\n",
       "      <td>531670</td>\n",
       "      <td>0.016299</td>\n",
       "    </tr>\n",
       "    <tr>\n",
       "      <th>...</th>\n",
       "      <td>...</td>\n",
       "      <td>...</td>\n",
       "      <td>...</td>\n",
       "      <td>...</td>\n",
       "      <td>...</td>\n",
       "      <td>...</td>\n",
       "      <td>...</td>\n",
       "    </tr>\n",
       "    <tr>\n",
       "      <th>5995</th>\n",
       "      <td>2023-07-10</td>\n",
       "      <td>70000</td>\n",
       "      <td>70400</td>\n",
       "      <td>69200</td>\n",
       "      <td>69500</td>\n",
       "      <td>11713926</td>\n",
       "      <td>-0.005722</td>\n",
       "    </tr>\n",
       "    <tr>\n",
       "      <th>5996</th>\n",
       "      <td>2023-07-11</td>\n",
       "      <td>70200</td>\n",
       "      <td>71500</td>\n",
       "      <td>70100</td>\n",
       "      <td>71500</td>\n",
       "      <td>12177392</td>\n",
       "      <td>0.028777</td>\n",
       "    </tr>\n",
       "    <tr>\n",
       "      <th>5997</th>\n",
       "      <td>2023-07-12</td>\n",
       "      <td>71200</td>\n",
       "      <td>72000</td>\n",
       "      <td>71100</td>\n",
       "      <td>71900</td>\n",
       "      <td>10375581</td>\n",
       "      <td>0.005594</td>\n",
       "    </tr>\n",
       "    <tr>\n",
       "      <th>5998</th>\n",
       "      <td>2023-07-13</td>\n",
       "      <td>72400</td>\n",
       "      <td>72600</td>\n",
       "      <td>71900</td>\n",
       "      <td>71900</td>\n",
       "      <td>14417279</td>\n",
       "      <td>0.000000</td>\n",
       "    </tr>\n",
       "    <tr>\n",
       "      <th>5999</th>\n",
       "      <td>2023-07-14</td>\n",
       "      <td>72500</td>\n",
       "      <td>73200</td>\n",
       "      <td>72400</td>\n",
       "      <td>73100</td>\n",
       "      <td>9665054</td>\n",
       "      <td>0.016690</td>\n",
       "    </tr>\n",
       "  </tbody>\n",
       "</table>\n",
       "<p>6000 rows × 7 columns</p>\n",
       "</div>"
      ],
      "text/plain": [
       "           Date   Open   High    Low  Close    Volume    Change\n",
       "0    1999-04-02   1878   1937   1864   1878    272639       NaN\n",
       "1    1999-04-06   1878   1927   1855   1859    508559 -0.010117\n",
       "2    1999-04-07   1858   1954   1843   1918   1160590  0.031737\n",
       "3    1999-04-08   1907   1935   1878   1902    462018 -0.008342\n",
       "4    1999-04-09   1933   1937   1866   1933    531670  0.016299\n",
       "...         ...    ...    ...    ...    ...       ...       ...\n",
       "5995 2023-07-10  70000  70400  69200  69500  11713926 -0.005722\n",
       "5996 2023-07-11  70200  71500  70100  71500  12177392  0.028777\n",
       "5997 2023-07-12  71200  72000  71100  71900  10375581  0.005594\n",
       "5998 2023-07-13  72400  72600  71900  71900  14417279  0.000000\n",
       "5999 2023-07-14  72500  73200  72400  73100   9665054  0.016690\n",
       "\n",
       "[6000 rows x 7 columns]"
      ]
     },
     "execution_count": 7,
     "metadata": {},
     "output_type": "execute_result"
    }
   ],
   "source": [
    "df = fdr.DataReader(\"005930\", start = '1999').reset_index()  # \"005930\" 삼성전자의 코드\n",
    "df"
   ]
  },
  {
   "cell_type": "markdown",
   "metadata": {},
   "source": [
    "`df`의 통계치를 확인합니다."
   ]
  },
  {
   "cell_type": "code",
   "execution_count": 8,
   "metadata": {},
   "outputs": [
    {
     "data": {
      "text/html": [
       "<div>\n",
       "<style scoped>\n",
       "    .dataframe tbody tr th:only-of-type {\n",
       "        vertical-align: middle;\n",
       "    }\n",
       "\n",
       "    .dataframe tbody tr th {\n",
       "        vertical-align: top;\n",
       "    }\n",
       "\n",
       "    .dataframe thead th {\n",
       "        text-align: right;\n",
       "    }\n",
       "</style>\n",
       "<table border=\"1\" class=\"dataframe\">\n",
       "  <thead>\n",
       "    <tr style=\"text-align: right;\">\n",
       "      <th></th>\n",
       "      <th>Open</th>\n",
       "      <th>High</th>\n",
       "      <th>Low</th>\n",
       "      <th>Close</th>\n",
       "      <th>Volume</th>\n",
       "      <th>Change</th>\n",
       "    </tr>\n",
       "  </thead>\n",
       "  <tbody>\n",
       "    <tr>\n",
       "      <th>count</th>\n",
       "      <td>6000.000000</td>\n",
       "      <td>6000.000000</td>\n",
       "      <td>6000.00000</td>\n",
       "      <td>6000.000000</td>\n",
       "      <td>6.000000e+03</td>\n",
       "      <td>5999.000000</td>\n",
       "    </tr>\n",
       "    <tr>\n",
       "      <th>mean</th>\n",
       "      <td>26251.032167</td>\n",
       "      <td>26513.935000</td>\n",
       "      <td>25979.74100</td>\n",
       "      <td>26270.109167</td>\n",
       "      <td>3.727821e+06</td>\n",
       "      <td>0.000873</td>\n",
       "    </tr>\n",
       "    <tr>\n",
       "      <th>std</th>\n",
       "      <td>21310.455060</td>\n",
       "      <td>21478.569143</td>\n",
       "      <td>21127.80428</td>\n",
       "      <td>21293.178900</td>\n",
       "      <td>7.237231e+06</td>\n",
       "      <td>0.022953</td>\n",
       "    </tr>\n",
       "    <tr>\n",
       "      <th>min</th>\n",
       "      <td>0.000000</td>\n",
       "      <td>0.000000</td>\n",
       "      <td>0.00000</td>\n",
       "      <td>1626.000000</td>\n",
       "      <td>0.000000e+00</td>\n",
       "      <td>-0.137566</td>\n",
       "    </tr>\n",
       "    <tr>\n",
       "      <th>25%</th>\n",
       "      <td>10060.000000</td>\n",
       "      <td>10175.000000</td>\n",
       "      <td>9947.50000</td>\n",
       "      <td>10060.000000</td>\n",
       "      <td>2.942315e+05</td>\n",
       "      <td>-0.011230</td>\n",
       "    </tr>\n",
       "    <tr>\n",
       "      <th>50%</th>\n",
       "      <td>17720.000000</td>\n",
       "      <td>17940.000000</td>\n",
       "      <td>17550.00000</td>\n",
       "      <td>17770.000000</td>\n",
       "      <td>5.007945e+05</td>\n",
       "      <td>0.000000</td>\n",
       "    </tr>\n",
       "    <tr>\n",
       "      <th>75%</th>\n",
       "      <td>41805.000000</td>\n",
       "      <td>42195.000000</td>\n",
       "      <td>41557.50000</td>\n",
       "      <td>42000.000000</td>\n",
       "      <td>1.174315e+06</td>\n",
       "      <td>0.012106</td>\n",
       "    </tr>\n",
       "    <tr>\n",
       "      <th>max</th>\n",
       "      <td>90300.000000</td>\n",
       "      <td>96800.000000</td>\n",
       "      <td>89500.00000</td>\n",
       "      <td>91000.000000</td>\n",
       "      <td>9.030618e+07</td>\n",
       "      <td>0.150000</td>\n",
       "    </tr>\n",
       "  </tbody>\n",
       "</table>\n",
       "</div>"
      ],
      "text/plain": [
       "               Open          High          Low         Close        Volume  \\\n",
       "count   6000.000000   6000.000000   6000.00000   6000.000000  6.000000e+03   \n",
       "mean   26251.032167  26513.935000  25979.74100  26270.109167  3.727821e+06   \n",
       "std    21310.455060  21478.569143  21127.80428  21293.178900  7.237231e+06   \n",
       "min        0.000000      0.000000      0.00000   1626.000000  0.000000e+00   \n",
       "25%    10060.000000  10175.000000   9947.50000  10060.000000  2.942315e+05   \n",
       "50%    17720.000000  17940.000000  17550.00000  17770.000000  5.007945e+05   \n",
       "75%    41805.000000  42195.000000  41557.50000  42000.000000  1.174315e+06   \n",
       "max    90300.000000  96800.000000  89500.00000  91000.000000  9.030618e+07   \n",
       "\n",
       "            Change  \n",
       "count  5999.000000  \n",
       "mean      0.000873  \n",
       "std       0.022953  \n",
       "min      -0.137566  \n",
       "25%      -0.011230  \n",
       "50%       0.000000  \n",
       "75%       0.012106  \n",
       "max       0.150000  "
      ]
     },
     "execution_count": 8,
     "metadata": {},
     "output_type": "execute_result"
    }
   ],
   "source": [
    "df.describe()"
   ]
  },
  {
   "cell_type": "markdown",
   "metadata": {},
   "source": [
    "`df`의 종가를 시각화 합니다."
   ]
  },
  {
   "cell_type": "code",
   "execution_count": 10,
   "metadata": {},
   "outputs": [
    {
     "data": {
      "text/plain": [
       "<Axes: >"
      ]
     },
     "execution_count": 10,
     "metadata": {},
     "output_type": "execute_result"
    },
    {
     "data": {
      "image/png": "[encoded data removed]",
      "text/plain": [
       "<Figure size 1000x500 with 1 Axes>"
      ]
     },
     "metadata": {},
     "output_type": "display_data"
    }
   ],
   "source": [
    "plt.figure(figsize=(10,5))\n",
    "df.Close.plot()"
   ]
  },
  {
   "cell_type": "markdown",
   "metadata": {},
   "source": [
    "`df`의 변화율을 시각화 합니다."
   ]
  },
  {
   "cell_type": "code",
   "execution_count": 11,
   "metadata": {},
   "outputs": [
    {
     "data": {
      "text/plain": [
       "<Axes: >"
      ]
     },
     "execution_count": 11,
     "metadata": {},
     "output_type": "execute_result"
    },
    {
     "data": {
      "image/png": "[encoded data removed]",
      "text/plain": [
       "<Figure size 640x480 with 1 Axes>"
      ]
     },
     "metadata": {},
     "output_type": "display_data"
    }
   ],
   "source": [
    "df.Change.plot()"
   ]
  },
  {
   "cell_type": "markdown",
   "metadata": {},
   "source": [
    "### 1.3 데이터 전처리 및 분할\n",
    "\n",
    "`df`의 `Open`, `High`, `Low`, `Close`, `Volume` 컬럼에 MinMaxScaler()를 적용합니다."
   ]
  },
  {
   "cell_type": "code",
   "execution_count": 12,
   "metadata": {},
   "outputs": [
    {
     "data": {
      "text/plain": [
       "Index(['Open', 'High', 'Low', 'Close', 'Volume'], dtype='object')"
      ]
     },
     "execution_count": 12,
     "metadata": {},
     "output_type": "execute_result"
    }
   ],
   "source": [
    "scaler = MinMaxScaler()\n",
    "scale_cols = df.columns[1:-1]\n",
    "scale_cols"
   ]
  },
  {
   "cell_type": "code",
   "execution_count": 13,
   "metadata": {},
   "outputs": [],
   "source": [
    "df_scaled = scaler.fit_transform(df[scale_cols])\n",
    "df[scale_cols] = pd.DataFrame(df_scaled)"
   ]
  },
  {
   "cell_type": "code",
   "execution_count": 14,
   "metadata": {},
   "outputs": [
    {
     "data": {
      "text/html": [
       "<div>\n",
       "<style scoped>\n",
       "    .dataframe tbody tr th:only-of-type {\n",
       "        vertical-align: middle;\n",
       "    }\n",
       "\n",
       "    .dataframe tbody tr th {\n",
       "        vertical-align: top;\n",
       "    }\n",
       "\n",
       "    .dataframe thead th {\n",
       "        text-align: right;\n",
       "    }\n",
       "</style>\n",
       "<table border=\"1\" class=\"dataframe\">\n",
       "  <thead>\n",
       "    <tr style=\"text-align: right;\">\n",
       "      <th></th>\n",
       "      <th>Date</th>\n",
       "      <th>Open</th>\n",
       "      <th>High</th>\n",
       "      <th>Low</th>\n",
       "      <th>Close</th>\n",
       "      <th>Volume</th>\n",
       "      <th>Change</th>\n",
       "    </tr>\n",
       "  </thead>\n",
       "  <tbody>\n",
       "    <tr>\n",
       "      <th>0</th>\n",
       "      <td>1999-04-02</td>\n",
       "      <td>0.020797</td>\n",
       "      <td>0.020010</td>\n",
       "      <td>0.020827</td>\n",
       "      <td>0.002820</td>\n",
       "      <td>0.003019</td>\n",
       "      <td>NaN</td>\n",
       "    </tr>\n",
       "    <tr>\n",
       "      <th>1</th>\n",
       "      <td>1999-04-06</td>\n",
       "      <td>0.020797</td>\n",
       "      <td>0.019907</td>\n",
       "      <td>0.020726</td>\n",
       "      <td>0.002607</td>\n",
       "      <td>0.005631</td>\n",
       "      <td>-0.010117</td>\n",
       "    </tr>\n",
       "    <tr>\n",
       "      <th>2</th>\n",
       "      <td>1999-04-07</td>\n",
       "      <td>0.020576</td>\n",
       "      <td>0.020186</td>\n",
       "      <td>0.020592</td>\n",
       "      <td>0.003267</td>\n",
       "      <td>0.012852</td>\n",
       "      <td>0.031737</td>\n",
       "    </tr>\n",
       "    <tr>\n",
       "      <th>3</th>\n",
       "      <td>1999-04-08</td>\n",
       "      <td>0.021118</td>\n",
       "      <td>0.019990</td>\n",
       "      <td>0.020983</td>\n",
       "      <td>0.003088</td>\n",
       "      <td>0.005116</td>\n",
       "      <td>-0.008342</td>\n",
       "    </tr>\n",
       "    <tr>\n",
       "      <th>4</th>\n",
       "      <td>1999-04-09</td>\n",
       "      <td>0.021406</td>\n",
       "      <td>0.020010</td>\n",
       "      <td>0.020849</td>\n",
       "      <td>0.003435</td>\n",
       "      <td>0.005887</td>\n",
       "      <td>0.016299</td>\n",
       "    </tr>\n",
       "    <tr>\n",
       "      <th>...</th>\n",
       "      <td>...</td>\n",
       "      <td>...</td>\n",
       "      <td>...</td>\n",
       "      <td>...</td>\n",
       "      <td>...</td>\n",
       "      <td>...</td>\n",
       "      <td>...</td>\n",
       "    </tr>\n",
       "    <tr>\n",
       "      <th>5995</th>\n",
       "      <td>2023-07-10</td>\n",
       "      <td>0.775194</td>\n",
       "      <td>0.727273</td>\n",
       "      <td>0.773184</td>\n",
       "      <td>0.759438</td>\n",
       "      <td>0.129713</td>\n",
       "      <td>-0.005722</td>\n",
       "    </tr>\n",
       "    <tr>\n",
       "      <th>5996</th>\n",
       "      <td>2023-07-11</td>\n",
       "      <td>0.777409</td>\n",
       "      <td>0.738636</td>\n",
       "      <td>0.783240</td>\n",
       "      <td>0.781816</td>\n",
       "      <td>0.134846</td>\n",
       "      <td>0.028777</td>\n",
       "    </tr>\n",
       "    <tr>\n",
       "      <th>5997</th>\n",
       "      <td>2023-07-12</td>\n",
       "      <td>0.788483</td>\n",
       "      <td>0.743802</td>\n",
       "      <td>0.794413</td>\n",
       "      <td>0.786291</td>\n",
       "      <td>0.114893</td>\n",
       "      <td>0.005594</td>\n",
       "    </tr>\n",
       "    <tr>\n",
       "      <th>5998</th>\n",
       "      <td>2023-07-13</td>\n",
       "      <td>0.801772</td>\n",
       "      <td>0.750000</td>\n",
       "      <td>0.803352</td>\n",
       "      <td>0.786291</td>\n",
       "      <td>0.159649</td>\n",
       "      <td>0.000000</td>\n",
       "    </tr>\n",
       "    <tr>\n",
       "      <th>5999</th>\n",
       "      <td>2023-07-14</td>\n",
       "      <td>0.802879</td>\n",
       "      <td>0.756198</td>\n",
       "      <td>0.808939</td>\n",
       "      <td>0.799718</td>\n",
       "      <td>0.107025</td>\n",
       "      <td>0.016690</td>\n",
       "    </tr>\n",
       "  </tbody>\n",
       "</table>\n",
       "<p>6000 rows × 7 columns</p>\n",
       "</div>"
      ],
      "text/plain": [
       "           Date      Open      High       Low     Close    Volume    Change\n",
       "0    1999-04-02  0.020797  0.020010  0.020827  0.002820  0.003019       NaN\n",
       "1    1999-04-06  0.020797  0.019907  0.020726  0.002607  0.005631 -0.010117\n",
       "2    1999-04-07  0.020576  0.020186  0.020592  0.003267  0.012852  0.031737\n",
       "3    1999-04-08  0.021118  0.019990  0.020983  0.003088  0.005116 -0.008342\n",
       "4    1999-04-09  0.021406  0.020010  0.020849  0.003435  0.005887  0.016299\n",
       "...         ...       ...       ...       ...       ...       ...       ...\n",
       "5995 2023-07-10  0.775194  0.727273  0.773184  0.759438  0.129713 -0.005722\n",
       "5996 2023-07-11  0.777409  0.738636  0.783240  0.781816  0.134846  0.028777\n",
       "5997 2023-07-12  0.788483  0.743802  0.794413  0.786291  0.114893  0.005594\n",
       "5998 2023-07-13  0.801772  0.750000  0.803352  0.786291  0.159649  0.000000\n",
       "5999 2023-07-14  0.802879  0.756198  0.808939  0.799718  0.107025  0.016690\n",
       "\n",
       "[6000 rows x 7 columns]"
      ]
     },
     "execution_count": 14,
     "metadata": {},
     "output_type": "execute_result"
    }
   ],
   "source": [
    "df"
   ]
  },
  {
   "cell_type": "markdown",
   "metadata": {},
   "source": [
    "실제 예측에 사용할 데이터를 분할하여 `test_df`에 저장합니다."
   ]
  },
  {
   "cell_type": "code",
   "execution_count": 15,
   "metadata": {},
   "outputs": [
    {
     "data": {
      "text/html": [
       "<div>\n",
       "<style scoped>\n",
       "    .dataframe tbody tr th:only-of-type {\n",
       "        vertical-align: middle;\n",
       "    }\n",
       "\n",
       "    .dataframe tbody tr th {\n",
       "        vertical-align: top;\n",
       "    }\n",
       "\n",
       "    .dataframe thead th {\n",
       "        text-align: right;\n",
       "    }\n",
       "</style>\n",
       "<table border=\"1\" class=\"dataframe\">\n",
       "  <thead>\n",
       "    <tr style=\"text-align: right;\">\n",
       "      <th></th>\n",
       "      <th>Date</th>\n",
       "      <th>Open</th>\n",
       "      <th>High</th>\n",
       "      <th>Low</th>\n",
       "      <th>Close</th>\n",
       "      <th>Volume</th>\n",
       "      <th>Change</th>\n",
       "    </tr>\n",
       "  </thead>\n",
       "  <tbody>\n",
       "    <tr>\n",
       "      <th>5980</th>\n",
       "      <td>2023-06-19</td>\n",
       "      <td>0.789590</td>\n",
       "      <td>0.740702</td>\n",
       "      <td>0.792179</td>\n",
       "      <td>0.778459</td>\n",
       "      <td>0.122925</td>\n",
       "      <td>-0.008357</td>\n",
       "    </tr>\n",
       "    <tr>\n",
       "      <th>5981</th>\n",
       "      <td>2023-06-20</td>\n",
       "      <td>0.782946</td>\n",
       "      <td>0.737603</td>\n",
       "      <td>0.786592</td>\n",
       "      <td>0.780697</td>\n",
       "      <td>0.127986</td>\n",
       "      <td>0.002809</td>\n",
       "    </tr>\n",
       "    <tr>\n",
       "      <th>5982</th>\n",
       "      <td>2023-06-21</td>\n",
       "      <td>0.782946</td>\n",
       "      <td>0.735537</td>\n",
       "      <td>0.786592</td>\n",
       "      <td>0.770627</td>\n",
       "      <td>0.117673</td>\n",
       "      <td>-0.012605</td>\n",
       "    </tr>\n",
       "    <tr>\n",
       "      <th>5983</th>\n",
       "      <td>2023-06-22</td>\n",
       "      <td>0.777409</td>\n",
       "      <td>0.738636</td>\n",
       "      <td>0.783240</td>\n",
       "      <td>0.779578</td>\n",
       "      <td>0.126359</td>\n",
       "      <td>0.011348</td>\n",
       "    </tr>\n",
       "    <tr>\n",
       "      <th>5984</th>\n",
       "      <td>2023-06-23</td>\n",
       "      <td>0.797342</td>\n",
       "      <td>0.745868</td>\n",
       "      <td>0.800000</td>\n",
       "      <td>0.782935</td>\n",
       "      <td>0.136530</td>\n",
       "      <td>0.004208</td>\n",
       "    </tr>\n",
       "    <tr>\n",
       "      <th>5985</th>\n",
       "      <td>2023-06-26</td>\n",
       "      <td>0.794020</td>\n",
       "      <td>0.748967</td>\n",
       "      <td>0.798883</td>\n",
       "      <td>0.791886</td>\n",
       "      <td>0.116735</td>\n",
       "      <td>0.011173</td>\n",
       "    </tr>\n",
       "    <tr>\n",
       "      <th>5986</th>\n",
       "      <td>2023-06-27</td>\n",
       "      <td>0.802879</td>\n",
       "      <td>0.750000</td>\n",
       "      <td>0.804469</td>\n",
       "      <td>0.794124</td>\n",
       "      <td>0.104566</td>\n",
       "      <td>0.002762</td>\n",
       "    </tr>\n",
       "    <tr>\n",
       "      <th>5987</th>\n",
       "      <td>2023-06-28</td>\n",
       "      <td>0.803987</td>\n",
       "      <td>0.751033</td>\n",
       "      <td>0.804469</td>\n",
       "      <td>0.795242</td>\n",
       "      <td>0.097259</td>\n",
       "      <td>0.001377</td>\n",
       "    </tr>\n",
       "    <tr>\n",
       "      <th>5988</th>\n",
       "      <td>2023-06-29</td>\n",
       "      <td>0.809524</td>\n",
       "      <td>0.758264</td>\n",
       "      <td>0.808939</td>\n",
       "      <td>0.791886</td>\n",
       "      <td>0.135428</td>\n",
       "      <td>-0.004127</td>\n",
       "    </tr>\n",
       "    <tr>\n",
       "      <th>5989</th>\n",
       "      <td>2023-06-30</td>\n",
       "      <td>0.802879</td>\n",
       "      <td>0.751033</td>\n",
       "      <td>0.801117</td>\n",
       "      <td>0.789648</td>\n",
       "      <td>0.129501</td>\n",
       "      <td>-0.002762</td>\n",
       "    </tr>\n",
       "    <tr>\n",
       "      <th>5990</th>\n",
       "      <td>2023-07-03</td>\n",
       "      <td>0.805094</td>\n",
       "      <td>0.756198</td>\n",
       "      <td>0.811173</td>\n",
       "      <td>0.798599</td>\n",
       "      <td>0.118731</td>\n",
       "      <td>0.011080</td>\n",
       "    </tr>\n",
       "    <tr>\n",
       "      <th>5991</th>\n",
       "      <td>2023-07-04</td>\n",
       "      <td>0.812846</td>\n",
       "      <td>0.760331</td>\n",
       "      <td>0.814525</td>\n",
       "      <td>0.798599</td>\n",
       "      <td>0.113108</td>\n",
       "      <td>0.000000</td>\n",
       "    </tr>\n",
       "    <tr>\n",
       "      <th>5992</th>\n",
       "      <td>2023-07-05</td>\n",
       "      <td>0.808416</td>\n",
       "      <td>0.757231</td>\n",
       "      <td>0.803352</td>\n",
       "      <td>0.787410</td>\n",
       "      <td>0.136321</td>\n",
       "      <td>-0.013699</td>\n",
       "    </tr>\n",
       "    <tr>\n",
       "      <th>5993</th>\n",
       "      <td>2023-07-06</td>\n",
       "      <td>0.796235</td>\n",
       "      <td>0.747934</td>\n",
       "      <td>0.798883</td>\n",
       "      <td>0.782935</td>\n",
       "      <td>0.163640</td>\n",
       "      <td>-0.005556</td>\n",
       "    </tr>\n",
       "    <tr>\n",
       "      <th>5994</th>\n",
       "      <td>2023-07-07</td>\n",
       "      <td>0.787375</td>\n",
       "      <td>0.737603</td>\n",
       "      <td>0.779888</td>\n",
       "      <td>0.763913</td>\n",
       "      <td>0.191669</td>\n",
       "      <td>-0.023743</td>\n",
       "    </tr>\n",
       "    <tr>\n",
       "      <th>5995</th>\n",
       "      <td>2023-07-10</td>\n",
       "      <td>0.775194</td>\n",
       "      <td>0.727273</td>\n",
       "      <td>0.773184</td>\n",
       "      <td>0.759438</td>\n",
       "      <td>0.129713</td>\n",
       "      <td>-0.005722</td>\n",
       "    </tr>\n",
       "    <tr>\n",
       "      <th>5996</th>\n",
       "      <td>2023-07-11</td>\n",
       "      <td>0.777409</td>\n",
       "      <td>0.738636</td>\n",
       "      <td>0.783240</td>\n",
       "      <td>0.781816</td>\n",
       "      <td>0.134846</td>\n",
       "      <td>0.028777</td>\n",
       "    </tr>\n",
       "    <tr>\n",
       "      <th>5997</th>\n",
       "      <td>2023-07-12</td>\n",
       "      <td>0.788483</td>\n",
       "      <td>0.743802</td>\n",
       "      <td>0.794413</td>\n",
       "      <td>0.786291</td>\n",
       "      <td>0.114893</td>\n",
       "      <td>0.005594</td>\n",
       "    </tr>\n",
       "    <tr>\n",
       "      <th>5998</th>\n",
       "      <td>2023-07-13</td>\n",
       "      <td>0.801772</td>\n",
       "      <td>0.750000</td>\n",
       "      <td>0.803352</td>\n",
       "      <td>0.786291</td>\n",
       "      <td>0.159649</td>\n",
       "      <td>0.000000</td>\n",
       "    </tr>\n",
       "    <tr>\n",
       "      <th>5999</th>\n",
       "      <td>2023-07-14</td>\n",
       "      <td>0.802879</td>\n",
       "      <td>0.756198</td>\n",
       "      <td>0.808939</td>\n",
       "      <td>0.799718</td>\n",
       "      <td>0.107025</td>\n",
       "      <td>0.016690</td>\n",
       "    </tr>\n",
       "  </tbody>\n",
       "</table>\n",
       "</div>"
      ],
      "text/plain": [
       "           Date      Open      High       Low     Close    Volume    Change\n",
       "5980 2023-06-19  0.789590  0.740702  0.792179  0.778459  0.122925 -0.008357\n",
       "5981 2023-06-20  0.782946  0.737603  0.786592  0.780697  0.127986  0.002809\n",
       "5982 2023-06-21  0.782946  0.735537  0.786592  0.770627  0.117673 -0.012605\n",
       "5983 2023-06-22  0.777409  0.738636  0.783240  0.779578  0.126359  0.011348\n",
       "5984 2023-06-23  0.797342  0.745868  0.800000  0.782935  0.136530  0.004208\n",
       "5985 2023-06-26  0.794020  0.748967  0.798883  0.791886  0.116735  0.011173\n",
       "5986 2023-06-27  0.802879  0.750000  0.804469  0.794124  0.104566  0.002762\n",
       "5987 2023-06-28  0.803987  0.751033  0.804469  0.795242  0.097259  0.001377\n",
       "5988 2023-06-29  0.809524  0.758264  0.808939  0.791886  0.135428 -0.004127\n",
       "5989 2023-06-30  0.802879  0.751033  0.801117  0.789648  0.129501 -0.002762\n",
       "5990 2023-07-03  0.805094  0.756198  0.811173  0.798599  0.118731  0.011080\n",
       "5991 2023-07-04  0.812846  0.760331  0.814525  0.798599  0.113108  0.000000\n",
       "5992 2023-07-05  0.808416  0.757231  0.803352  0.787410  0.136321 -0.013699\n",
       "5993 2023-07-06  0.796235  0.747934  0.798883  0.782935  0.163640 -0.005556\n",
       "5994 2023-07-07  0.787375  0.737603  0.779888  0.763913  0.191669 -0.023743\n",
       "5995 2023-07-10  0.775194  0.727273  0.773184  0.759438  0.129713 -0.005722\n",
       "5996 2023-07-11  0.777409  0.738636  0.783240  0.781816  0.134846  0.028777\n",
       "5997 2023-07-12  0.788483  0.743802  0.794413  0.786291  0.114893  0.005594\n",
       "5998 2023-07-13  0.801772  0.750000  0.803352  0.786291  0.159649  0.000000\n",
       "5999 2023-07-14  0.802879  0.756198  0.808939  0.799718  0.107025  0.016690"
      ]
     },
     "execution_count": 15,
     "metadata": {},
     "output_type": "execute_result"
    }
   ],
   "source": [
    "window_size = 20\n",
    "test_df = df.tail(window_size)\n",
    "test_df"
   ]
  },
  {
   "cell_type": "markdown",
   "metadata": {},
   "source": [
    "실제 예측에 사용할 데이터를 제외 한 데이터를 `df`에 저장합니다.\n"
   ]
  },
  {
   "cell_type": "code",
   "execution_count": 16,
   "metadata": {},
   "outputs": [
    {
     "data": {
      "text/html": [
       "<div>\n",
       "<style scoped>\n",
       "    .dataframe tbody tr th:only-of-type {\n",
       "        vertical-align: middle;\n",
       "    }\n",
       "\n",
       "    .dataframe tbody tr th {\n",
       "        vertical-align: top;\n",
       "    }\n",
       "\n",
       "    .dataframe thead th {\n",
       "        text-align: right;\n",
       "    }\n",
       "</style>\n",
       "<table border=\"1\" class=\"dataframe\">\n",
       "  <thead>\n",
       "    <tr style=\"text-align: right;\">\n",
       "      <th></th>\n",
       "      <th>Date</th>\n",
       "      <th>Open</th>\n",
       "      <th>High</th>\n",
       "      <th>Low</th>\n",
       "      <th>Close</th>\n",
       "      <th>Volume</th>\n",
       "      <th>Change</th>\n",
       "    </tr>\n",
       "  </thead>\n",
       "  <tbody>\n",
       "    <tr>\n",
       "      <th>0</th>\n",
       "      <td>1999-04-02</td>\n",
       "      <td>0.020797</td>\n",
       "      <td>0.020010</td>\n",
       "      <td>0.020827</td>\n",
       "      <td>0.002820</td>\n",
       "      <td>0.003019</td>\n",
       "      <td>NaN</td>\n",
       "    </tr>\n",
       "    <tr>\n",
       "      <th>1</th>\n",
       "      <td>1999-04-06</td>\n",
       "      <td>0.020797</td>\n",
       "      <td>0.019907</td>\n",
       "      <td>0.020726</td>\n",
       "      <td>0.002607</td>\n",
       "      <td>0.005631</td>\n",
       "      <td>-0.010117</td>\n",
       "    </tr>\n",
       "    <tr>\n",
       "      <th>2</th>\n",
       "      <td>1999-04-07</td>\n",
       "      <td>0.020576</td>\n",
       "      <td>0.020186</td>\n",
       "      <td>0.020592</td>\n",
       "      <td>0.003267</td>\n",
       "      <td>0.012852</td>\n",
       "      <td>0.031737</td>\n",
       "    </tr>\n",
       "    <tr>\n",
       "      <th>3</th>\n",
       "      <td>1999-04-08</td>\n",
       "      <td>0.021118</td>\n",
       "      <td>0.019990</td>\n",
       "      <td>0.020983</td>\n",
       "      <td>0.003088</td>\n",
       "      <td>0.005116</td>\n",
       "      <td>-0.008342</td>\n",
       "    </tr>\n",
       "    <tr>\n",
       "      <th>4</th>\n",
       "      <td>1999-04-09</td>\n",
       "      <td>0.021406</td>\n",
       "      <td>0.020010</td>\n",
       "      <td>0.020849</td>\n",
       "      <td>0.003435</td>\n",
       "      <td>0.005887</td>\n",
       "      <td>0.016299</td>\n",
       "    </tr>\n",
       "    <tr>\n",
       "      <th>...</th>\n",
       "      <td>...</td>\n",
       "      <td>...</td>\n",
       "      <td>...</td>\n",
       "      <td>...</td>\n",
       "      <td>...</td>\n",
       "      <td>...</td>\n",
       "      <td>...</td>\n",
       "    </tr>\n",
       "    <tr>\n",
       "      <th>5975</th>\n",
       "      <td>2023-06-12</td>\n",
       "      <td>0.798450</td>\n",
       "      <td>0.747934</td>\n",
       "      <td>0.791061</td>\n",
       "      <td>0.776221</td>\n",
       "      <td>0.133593</td>\n",
       "      <td>-0.013889</td>\n",
       "    </tr>\n",
       "    <tr>\n",
       "      <th>5976</th>\n",
       "      <td>2023-06-13</td>\n",
       "      <td>0.794020</td>\n",
       "      <td>0.745868</td>\n",
       "      <td>0.800000</td>\n",
       "      <td>0.787410</td>\n",
       "      <td>0.146472</td>\n",
       "      <td>0.014085</td>\n",
       "    </tr>\n",
       "    <tr>\n",
       "      <th>5977</th>\n",
       "      <td>2023-06-14</td>\n",
       "      <td>0.798450</td>\n",
       "      <td>0.745868</td>\n",
       "      <td>0.794413</td>\n",
       "      <td>0.786291</td>\n",
       "      <td>0.138873</td>\n",
       "      <td>-0.001389</td>\n",
       "    </tr>\n",
       "    <tr>\n",
       "      <th>5978</th>\n",
       "      <td>2023-06-15</td>\n",
       "      <td>0.798450</td>\n",
       "      <td>0.746901</td>\n",
       "      <td>0.796648</td>\n",
       "      <td>0.781816</td>\n",
       "      <td>0.150765</td>\n",
       "      <td>-0.005563</td>\n",
       "    </tr>\n",
       "    <tr>\n",
       "      <th>5979</th>\n",
       "      <td>2023-06-16</td>\n",
       "      <td>0.795127</td>\n",
       "      <td>0.742769</td>\n",
       "      <td>0.792179</td>\n",
       "      <td>0.785172</td>\n",
       "      <td>0.170240</td>\n",
       "      <td>0.004196</td>\n",
       "    </tr>\n",
       "  </tbody>\n",
       "</table>\n",
       "<p>5980 rows × 7 columns</p>\n",
       "</div>"
      ],
      "text/plain": [
       "           Date      Open      High       Low     Close    Volume    Change\n",
       "0    1999-04-02  0.020797  0.020010  0.020827  0.002820  0.003019       NaN\n",
       "1    1999-04-06  0.020797  0.019907  0.020726  0.002607  0.005631 -0.010117\n",
       "2    1999-04-07  0.020576  0.020186  0.020592  0.003267  0.012852  0.031737\n",
       "3    1999-04-08  0.021118  0.019990  0.020983  0.003088  0.005116 -0.008342\n",
       "4    1999-04-09  0.021406  0.020010  0.020849  0.003435  0.005887  0.016299\n",
       "...         ...       ...       ...       ...       ...       ...       ...\n",
       "5975 2023-06-12  0.798450  0.747934  0.791061  0.776221  0.133593 -0.013889\n",
       "5976 2023-06-13  0.794020  0.745868  0.800000  0.787410  0.146472  0.014085\n",
       "5977 2023-06-14  0.798450  0.745868  0.794413  0.786291  0.138873 -0.001389\n",
       "5978 2023-06-15  0.798450  0.746901  0.796648  0.781816  0.150765 -0.005563\n",
       "5979 2023-06-16  0.795127  0.742769  0.792179  0.785172  0.170240  0.004196\n",
       "\n",
       "[5980 rows x 7 columns]"
      ]
     },
     "execution_count": 16,
     "metadata": {},
     "output_type": "execute_result"
    }
   ],
   "source": [
    "df = df.iloc[:-window_size]\n",
    "df"
   ]
  },
  {
   "cell_type": "markdown",
   "metadata": {},
   "source": [
    "`df`를 RNN 계열 모델이 학습할 수 있는 데이터 형태로 변환하여 `X`, `y`에 저장합니다."
   ]
  },
  {
   "cell_type": "code",
   "execution_count": 17,
   "metadata": {},
   "outputs": [],
   "source": [
    "def sliding_window(data, label, window_size=20):\n",
    "    feature_list = []\n",
    "    label_list = []\n",
    "    for i in range(len(data) - window_size):\n",
    "        feature_list.append(np.array(data.iloc[i:i+window_size]))\n",
    "        label_list.append(np.array(label.iloc[i+window_size]))\n",
    "    return np.array(feature_list), np.array(label_list)"
   ]
  },
  {
   "cell_type": "code",
   "execution_count": 18,
   "metadata": {},
   "outputs": [],
   "source": [
    "train_cols = [\"Open\", \"Change\", \"High\", \"Low\", \"Volume\"]  # 5개\n",
    "test_cols = [\"Close\"]\n",
    "\n",
    "X, y = sliding_window(df[train_cols], df[test_cols], window_size)\n"
   ]
  },
  {
   "cell_type": "markdown",
   "metadata": {},
   "source": [
    "`X`의 shape를 확인합니다."
   ]
  },
  {
   "cell_type": "code",
   "execution_count": 19,
   "metadata": {},
   "outputs": [
    {
     "data": {
      "text/plain": [
       "(5960, 20, 5)"
      ]
     },
     "execution_count": 19,
     "metadata": {},
     "output_type": "execute_result"
    }
   ],
   "source": [
    "X.shape  # 5개 범주를 행 20개씩 묶고 한 칸씩 미루면서 5960개의 데이터를 만들었다"
   ]
  },
  {
   "cell_type": "markdown",
   "metadata": {},
   "source": [
    "`X`의 가장 마지막에 담긴 값을 확인합니다."
   ]
  },
  {
   "cell_type": "code",
   "execution_count": 20,
   "metadata": {},
   "outputs": [
    {
     "data": {
      "text/html": [
       "<div>\n",
       "<style scoped>\n",
       "    .dataframe tbody tr th:only-of-type {\n",
       "        vertical-align: middle;\n",
       "    }\n",
       "\n",
       "    .dataframe tbody tr th {\n",
       "        vertical-align: top;\n",
       "    }\n",
       "\n",
       "    .dataframe thead th {\n",
       "        text-align: right;\n",
       "    }\n",
       "</style>\n",
       "<table border=\"1\" class=\"dataframe\">\n",
       "  <thead>\n",
       "    <tr style=\"text-align: right;\">\n",
       "      <th></th>\n",
       "      <th>Open</th>\n",
       "      <th>Change</th>\n",
       "      <th>High</th>\n",
       "      <th>Low</th>\n",
       "      <th>Volume</th>\n",
       "    </tr>\n",
       "  </thead>\n",
       "  <tbody>\n",
       "    <tr>\n",
       "      <th>0</th>\n",
       "      <td>0.729790</td>\n",
       "      <td>-0.006116</td>\n",
       "      <td>0.680785</td>\n",
       "      <td>0.724022</td>\n",
       "      <td>0.118990</td>\n",
       "    </tr>\n",
       "    <tr>\n",
       "      <th>1</th>\n",
       "      <td>0.730897</td>\n",
       "      <td>0.018462</td>\n",
       "      <td>0.683884</td>\n",
       "      <td>0.734078</td>\n",
       "      <td>0.159809</td>\n",
       "    </tr>\n",
       "    <tr>\n",
       "      <th>2</th>\n",
       "      <td>0.750831</td>\n",
       "      <td>0.033233</td>\n",
       "      <td>0.706612</td>\n",
       "      <td>0.754190</td>\n",
       "      <td>0.225337</td>\n",
       "    </tr>\n",
       "    <tr>\n",
       "      <th>3</th>\n",
       "      <td>0.757475</td>\n",
       "      <td>0.001462</td>\n",
       "      <td>0.712810</td>\n",
       "      <td>0.759777</td>\n",
       "      <td>0.160236</td>\n",
       "    </tr>\n",
       "    <tr>\n",
       "      <th>4</th>\n",
       "      <td>0.758583</td>\n",
       "      <td>-0.001460</td>\n",
       "      <td>0.709711</td>\n",
       "      <td>0.760894</td>\n",
       "      <td>0.094807</td>\n",
       "    </tr>\n",
       "    <tr>\n",
       "      <th>5</th>\n",
       "      <td>0.754153</td>\n",
       "      <td>0.001462</td>\n",
       "      <td>0.709711</td>\n",
       "      <td>0.759777</td>\n",
       "      <td>0.090724</td>\n",
       "    </tr>\n",
       "    <tr>\n",
       "      <th>6</th>\n",
       "      <td>0.774086</td>\n",
       "      <td>0.004380</td>\n",
       "      <td>0.723140</td>\n",
       "      <td>0.767598</td>\n",
       "      <td>0.157588</td>\n",
       "    </tr>\n",
       "    <tr>\n",
       "      <th>7</th>\n",
       "      <td>0.772979</td>\n",
       "      <td>0.021802</td>\n",
       "      <td>0.727273</td>\n",
       "      <td>0.776536</td>\n",
       "      <td>0.216480</td>\n",
       "    </tr>\n",
       "    <tr>\n",
       "      <th>8</th>\n",
       "      <td>0.789590</td>\n",
       "      <td>0.028450</td>\n",
       "      <td>0.746901</td>\n",
       "      <td>0.795531</td>\n",
       "      <td>0.304264</td>\n",
       "    </tr>\n",
       "    <tr>\n",
       "      <th>9</th>\n",
       "      <td>0.801772</td>\n",
       "      <td>-0.012448</td>\n",
       "      <td>0.748967</td>\n",
       "      <td>0.793296</td>\n",
       "      <td>0.284212</td>\n",
       "    </tr>\n",
       "    <tr>\n",
       "      <th>10</th>\n",
       "      <td>0.785161</td>\n",
       "      <td>-0.007003</td>\n",
       "      <td>0.739669</td>\n",
       "      <td>0.788827</td>\n",
       "      <td>0.162440</td>\n",
       "    </tr>\n",
       "    <tr>\n",
       "      <th>11</th>\n",
       "      <td>0.794020</td>\n",
       "      <td>0.018336</td>\n",
       "      <td>0.745868</td>\n",
       "      <td>0.800000</td>\n",
       "      <td>0.134673</td>\n",
       "    </tr>\n",
       "    <tr>\n",
       "      <th>12</th>\n",
       "      <td>0.805094</td>\n",
       "      <td>-0.006925</td>\n",
       "      <td>0.751033</td>\n",
       "      <td>0.797765</td>\n",
       "      <td>0.140487</td>\n",
       "    </tr>\n",
       "    <tr>\n",
       "      <th>13</th>\n",
       "      <td>0.789590</td>\n",
       "      <td>-0.009763</td>\n",
       "      <td>0.739669</td>\n",
       "      <td>0.791061</td>\n",
       "      <td>0.163849</td>\n",
       "    </tr>\n",
       "    <tr>\n",
       "      <th>14</th>\n",
       "      <td>0.779623</td>\n",
       "      <td>-0.001408</td>\n",
       "      <td>0.732438</td>\n",
       "      <td>0.782123</td>\n",
       "      <td>0.212229</td>\n",
       "    </tr>\n",
       "    <tr>\n",
       "      <th>15</th>\n",
       "      <td>0.787375</td>\n",
       "      <td>0.015515</td>\n",
       "      <td>0.746901</td>\n",
       "      <td>0.791061</td>\n",
       "      <td>0.166658</td>\n",
       "    </tr>\n",
       "    <tr>\n",
       "      <th>16</th>\n",
       "      <td>0.798450</td>\n",
       "      <td>-0.013889</td>\n",
       "      <td>0.747934</td>\n",
       "      <td>0.791061</td>\n",
       "      <td>0.133593</td>\n",
       "    </tr>\n",
       "    <tr>\n",
       "      <th>17</th>\n",
       "      <td>0.794020</td>\n",
       "      <td>0.014085</td>\n",
       "      <td>0.745868</td>\n",
       "      <td>0.800000</td>\n",
       "      <td>0.146472</td>\n",
       "    </tr>\n",
       "    <tr>\n",
       "      <th>18</th>\n",
       "      <td>0.798450</td>\n",
       "      <td>-0.001389</td>\n",
       "      <td>0.745868</td>\n",
       "      <td>0.794413</td>\n",
       "      <td>0.138873</td>\n",
       "    </tr>\n",
       "    <tr>\n",
       "      <th>19</th>\n",
       "      <td>0.798450</td>\n",
       "      <td>-0.005563</td>\n",
       "      <td>0.746901</td>\n",
       "      <td>0.796648</td>\n",
       "      <td>0.150765</td>\n",
       "    </tr>\n",
       "  </tbody>\n",
       "</table>\n",
       "</div>"
      ],
      "text/plain": [
       "        Open    Change      High       Low    Volume\n",
       "0   0.729790 -0.006116  0.680785  0.724022  0.118990\n",
       "1   0.730897  0.018462  0.683884  0.734078  0.159809\n",
       "2   0.750831  0.033233  0.706612  0.754190  0.225337\n",
       "3   0.757475  0.001462  0.712810  0.759777  0.160236\n",
       "4   0.758583 -0.001460  0.709711  0.760894  0.094807\n",
       "5   0.754153  0.001462  0.709711  0.759777  0.090724\n",
       "6   0.774086  0.004380  0.723140  0.767598  0.157588\n",
       "7   0.772979  0.021802  0.727273  0.776536  0.216480\n",
       "8   0.789590  0.028450  0.746901  0.795531  0.304264\n",
       "9   0.801772 -0.012448  0.748967  0.793296  0.284212\n",
       "10  0.785161 -0.007003  0.739669  0.788827  0.162440\n",
       "11  0.794020  0.018336  0.745868  0.800000  0.134673\n",
       "12  0.805094 -0.006925  0.751033  0.797765  0.140487\n",
       "13  0.789590 -0.009763  0.739669  0.791061  0.163849\n",
       "14  0.779623 -0.001408  0.732438  0.782123  0.212229\n",
       "15  0.787375  0.015515  0.746901  0.791061  0.166658\n",
       "16  0.798450 -0.013889  0.747934  0.791061  0.133593\n",
       "17  0.794020  0.014085  0.745868  0.800000  0.146472\n",
       "18  0.798450 -0.001389  0.745868  0.794413  0.138873\n",
       "19  0.798450 -0.005563  0.746901  0.796648  0.150765"
      ]
     },
     "execution_count": 20,
     "metadata": {},
     "output_type": "execute_result"
    }
   ],
   "source": [
    "pd.DataFrame(X[-1], columns=train_cols)  # 맨 마지막 5*20개, 그리고 찐 막 한 개는 target data로 쓸 거임"
   ]
  },
  {
   "cell_type": "markdown",
   "metadata": {},
   "source": [
    "데이터 길이 중 90%에 해당하는 수를 `train_szie`에 저장합니다."
   ]
  },
  {
   "cell_type": "code",
   "execution_count": 21,
   "metadata": {},
   "outputs": [],
   "source": [
    "# train으로 사용 할 size를 지정합니다.\n",
    "train_size = int(len(X)*0.9)  # 5960개 중 90%는 훈련데이터"
   ]
  },
  {
   "cell_type": "code",
   "execution_count": 22,
   "metadata": {},
   "outputs": [
    {
     "data": {
      "text/plain": [
       "5364"
      ]
     },
     "execution_count": 22,
     "metadata": {},
     "output_type": "execute_result"
    }
   ],
   "source": [
    "train_size"
   ]
  },
  {
   "cell_type": "markdown",
   "metadata": {},
   "source": [
    "`X`의 length 만큼의 np.arange를 `idx`에 저장 후 shuffle 합니다."
   ]
  },
  {
   "cell_type": "code",
   "execution_count": 23,
   "metadata": {},
   "outputs": [],
   "source": [
    "# ts_data의 lenth 만큼의 np.arange를 idx에 저장합니다.\n",
    "idx = np.arange(len(X))"
   ]
  },
  {
   "cell_type": "code",
   "execution_count": 24,
   "metadata": {},
   "outputs": [
    {
     "data": {
      "text/plain": [
       "array([   0,    1,    2, ..., 5957, 5958, 5959])"
      ]
     },
     "execution_count": 24,
     "metadata": {},
     "output_type": "execute_result"
    }
   ],
   "source": [
    "idx"
   ]
  },
  {
   "cell_type": "markdown",
   "metadata": {},
   "source": [
    "`idx`와 `train_size`를 이용하여 train, test로 쓰일 `idx`를 나누어 각각 `train_idx`, `test_idx`에 저장합니다."
   ]
  },
  {
   "cell_type": "code",
   "execution_count": 25,
   "metadata": {},
   "outputs": [],
   "source": [
    "train_idx = idx[:train_size]\n",
    "test_idx = idx[train_size:]"
   ]
  },
  {
   "cell_type": "markdown",
   "metadata": {},
   "source": [
    "`X`, `y`, `train_idx`, `test_idx`를 이용하여 `X_train`, `X_test`, `y_train`, `Y_test`를 만듭니다."
   ]
  },
  {
   "cell_type": "code",
   "execution_count": 26,
   "metadata": {},
   "outputs": [],
   "source": [
    "X_train = X[train_idx]\n",
    "X_test = X[test_idx]\n",
    "y_train = y[train_idx]\n",
    "y_test = y[test_idx]"
   ]
  },
  {
   "cell_type": "code",
   "execution_count": 27,
   "metadata": {},
   "outputs": [
    {
     "name": "stdout",
     "output_type": "stream",
     "text": [
      "(5364, 20, 5)\n",
      "(5364, 1)\n",
      "(596, 20, 5)\n",
      "(596, 1)\n"
     ]
    }
   ],
   "source": [
    "print(X_train.shape)\n",
    "print(y_train.shape)\n",
    "print(X_test.shape)\n",
    "print(y_test.shape)"
   ]
  },
  {
   "cell_type": "markdown",
   "metadata": {},
   "source": [
    "### 1.4 모델 구현\n",
    "\n",
    "시계열 데이터를 학습 할 `model`을 구현합니다."
   ]
  },
  {
   "cell_type": "code",
   "execution_count": 35,
   "metadata": {},
   "outputs": [],
   "source": [
    "# Sequential을 이용하여 RNN 기반 모델을 구현합니다.\n",
    "model = Sequential([\n",
    "    layers.Bidirectional(layers.LSTM(64)),  # 64개짜리 뭐가? hidden state가?\n",
    "    layers.Dense(1)  # 출력값을 숫자 하나값으로 나오도록 → 그 다음날의 종가가 되도록\n",
    "])\n"
   ]
  },
  {
   "cell_type": "markdown",
   "metadata": {},
   "source": [
    "`model`을 컴파일합니다."
   ]
  },
  {
   "cell_type": "code",
   "execution_count": 36,
   "metadata": {},
   "outputs": [],
   "source": [
    "model.compile(loss='mean_squared_error', optimizer='adam')"
   ]
  },
  {
   "cell_type": "code",
   "execution_count": 32,
   "metadata": {
    "collapsed": true
   },
   "outputs": [
    {
     "data": {
      "text/plain": [
       "array([[[ 0.02079734,         nan,  0.02001033,  0.02082682,\n",
       "          0.00301905],\n",
       "        [ 0.02079734, -0.01011715,  0.01990702,  0.02072626,\n",
       "          0.0056315 ],\n",
       "        [ 0.02057586,  0.03173749,  0.02018595,  0.02059218,\n",
       "          0.01285172],\n",
       "        ...,\n",
       "        [ 0.02122924,  0.        ,  0.02018595,  0.02132961,\n",
       "          0.00673675],\n",
       "        [ 0.02122924, -0.05454545,  0.01980372,  0.02032402,\n",
       "          0.0081894 ],\n",
       "        [ 0.02012182, -0.01758242,  0.01877066,  0.01963128,\n",
       "          0.01249871]],\n",
       "\n",
       "       [[ 0.02079734, -0.01011715,  0.01990702,  0.02072626,\n",
       "          0.0056315 ],\n",
       "        [ 0.02057586,  0.03173749,  0.02018595,  0.02059218,\n",
       "          0.01285172],\n",
       "        [ 0.02111849, -0.00834202,  0.01998967,  0.02098324,\n",
       "          0.00511613],\n",
       "        ...,\n",
       "        [ 0.02122924, -0.05454545,  0.01980372,  0.02032402,\n",
       "          0.0081894 ],\n",
       "        [ 0.02012182, -0.01758242,  0.01877066,  0.01963128,\n",
       "          0.01249871],\n",
       "        [ 0.01991141, -0.00167785,  0.01859504,  0.01977654,\n",
       "          0.00482564]],\n",
       "\n",
       "       [[ 0.02057586,  0.03173749,  0.02018595,  0.02059218,\n",
       "          0.01285172],\n",
       "        [ 0.02111849, -0.00834202,  0.01998967,  0.02098324,\n",
       "          0.00511613],\n",
       "        [ 0.02140642,  0.01629863,  0.02001033,  0.02084916,\n",
       "          0.00588742],\n",
       "        ...,\n",
       "        [ 0.02012182, -0.01758242,  0.01877066,  0.01963128,\n",
       "          0.01249871],\n",
       "        [ 0.01991141, -0.00167785,  0.01859504,  0.01977654,\n",
       "          0.00482564],\n",
       "        [ 0.01982281, -0.01344538,  0.01889463,  0.01967598,\n",
       "          0.00614316]],\n",
       "\n",
       "       ...,\n",
       "\n",
       "       [[ 0.81506091,  0.00544959,  0.7696281 ,  0.81787709,\n",
       "          0.23819428],\n",
       "        [ 0.81727575,  0.        ,  0.76549587,  0.81899441,\n",
       "          0.2310326 ],\n",
       "        [ 0.82059801,  0.        ,  0.7696281 ,  0.82011173,\n",
       "          0.19391897],\n",
       "        ...,\n",
       "        [ 0.99667774,  0.02477477,  1.        ,  1.        ,\n",
       "          1.        ],\n",
       "        [ 1.        , -0.0043956 ,  0.94421488,  0.98100559,\n",
       "          0.5390818 ],\n",
       "        [ 0.9944629 , -0.00993377,  0.94214876,  0.99553073,\n",
       "          0.39940621]],\n",
       "\n",
       "       [[ 0.81727575,  0.        ,  0.76549587,  0.81899441,\n",
       "          0.2310326 ],\n",
       "        [ 0.82059801,  0.        ,  0.7696281 ,  0.82011173,\n",
       "          0.19391897],\n",
       "        [ 0.81284607, -0.00677507,  0.76136364,  0.81117318,\n",
       "          0.26900944],\n",
       "        ...,\n",
       "        [ 1.        , -0.0043956 ,  0.94421488,  0.98100559,\n",
       "          0.5390818 ],\n",
       "        [ 0.9944629 , -0.00993377,  0.94214876,  0.99553073,\n",
       "          0.39940621],\n",
       "        [ 0.98228128,  0.        ,  0.92975207,  0.99106145,\n",
       "          0.29227203]],\n",
       "\n",
       "       [[ 0.82059801,  0.        ,  0.7696281 ,  0.82011173,\n",
       "          0.19391897],\n",
       "        [ 0.81284607, -0.00677507,  0.76136364,  0.81117318,\n",
       "          0.26900944],\n",
       "        [ 0.81173865, -0.00409277,  0.76136364,  0.81564246,\n",
       "          0.19503681],\n",
       "        ...,\n",
       "        [ 0.9944629 , -0.00993377,  0.94214876,  0.99553073,\n",
       "          0.39940621],\n",
       "        [ 0.98228128,  0.        ,  0.92975207,  0.99106145,\n",
       "          0.29227203],\n",
       "        [ 0.9944629 , -0.01895206,  0.94834711,  0.98324022,\n",
       "          0.37020512]]])"
      ]
     },
     "execution_count": 32,
     "metadata": {},
     "output_type": "execute_result"
    }
   ],
   "source": [
    "X_train  # 맨 처음에 nan이 하나 떠서 엉망이되었다"
   ]
  },
  {
   "cell_type": "markdown",
   "metadata": {},
   "source": [
    "### 1.5 모델 학습\n",
    "\n",
    "`model`을 학습합니다."
   ]
  },
  {
   "cell_type": "code",
   "execution_count": 30,
   "metadata": {
    "collapsed": true
   },
   "outputs": [
    {
     "name": "stdout",
     "output_type": "stream",
     "text": [
      "Epoch 1/20\n",
      "336/336 [==============================] - 8s 8ms/step - loss: nan\n",
      "Epoch 2/20\n",
      "336/336 [==============================] - 3s 8ms/step - loss: nan\n",
      "Epoch 3/20\n",
      "336/336 [==============================] - 3s 8ms/step - loss: nan\n",
      "Epoch 4/20\n",
      "336/336 [==============================] - 3s 8ms/step - loss: nan\n",
      "Epoch 5/20\n",
      "336/336 [==============================] - 3s 8ms/step - loss: nan\n",
      "Epoch 6/20\n",
      "336/336 [==============================] - 3s 8ms/step - loss: nan\n",
      "Epoch 7/20\n",
      "336/336 [==============================] - 3s 8ms/step - loss: nan\n",
      "Epoch 8/20\n",
      "336/336 [==============================] - 3s 8ms/step - loss: nan\n",
      "Epoch 9/20\n",
      "336/336 [==============================] - 3s 8ms/step - loss: nan\n",
      "Epoch 10/20\n",
      "336/336 [==============================] - 3s 8ms/step - loss: nan\n",
      "Epoch 11/20\n",
      "336/336 [==============================] - 3s 8ms/step - loss: nan\n",
      "Epoch 12/20\n",
      "336/336 [==============================] - 3s 8ms/step - loss: nan\n",
      "Epoch 13/20\n",
      "336/336 [==============================] - 3s 8ms/step - loss: nan\n",
      "Epoch 14/20\n",
      "336/336 [==============================] - 3s 8ms/step - loss: nan\n",
      "Epoch 15/20\n",
      "336/336 [==============================] - 3s 8ms/step - loss: nan\n",
      "Epoch 16/20\n",
      "336/336 [==============================] - 3s 8ms/step - loss: nan\n",
      "Epoch 17/20\n",
      "336/336 [==============================] - 3s 8ms/step - loss: nan\n",
      "Epoch 18/20\n",
      "336/336 [==============================] - 3s 8ms/step - loss: nan\n",
      "Epoch 19/20\n",
      "336/336 [==============================] - 3s 8ms/step - loss: nan\n",
      "Epoch 20/20\n",
      "336/336 [==============================] - 3s 8ms/step - loss: nan\n"
     ]
    }
   ],
   "source": [
    "hist = model.fit(X_train, y_train, \n",
    "                    epochs=20, \n",
    "                    batch_size=16)"
   ]
  },
  {
   "cell_type": "markdown",
   "metadata": {},
   "source": [
    "## 1.6 모델 테스트\n",
    "\n",
    "`y_test`의 값과 모델이 예측한 값을 시각화합니다."
   ]
  },
  {
   "cell_type": "code",
   "execution_count": 31,
   "metadata": {},
   "outputs": [
    {
     "name": "stdout",
     "output_type": "stream",
     "text": [
      "19/19 [==============================] - 1s 5ms/step\n"
     ]
    },
    {
     "data": {
      "image/png": "[encoded data removed]",
      "text/plain": [
       "<Figure size 2400x600 with 1 Axes>"
      ]
     },
     "metadata": {},
     "output_type": "display_data"
    }
   ],
   "source": [
    "plt.figure(figsize=(24, 6))\n",
    "plt.plot(y_test, label='actual')\n",
    "plt.plot(model.predict(X_test), label='prediction')\n",
    "plt.legend()\n",
    "plt.show()  # 학습이 잘 안되었다. 맨 처음에 nan이 있어서. nan 빼주고 학습하자"
   ]
  },
  {
   "cell_type": "code",
   "execution_count": 37,
   "metadata": {
    "collapsed": true
   },
   "outputs": [
    {
     "name": "stdout",
     "output_type": "stream",
     "text": [
      "Epoch 1/20\n",
      "336/336 [==============================] - 9s 10ms/step - loss: 0.0012\n",
      "Epoch 2/20\n",
      "336/336 [==============================] - 3s 10ms/step - loss: 1.6604e-04\n",
      "Epoch 3/20\n",
      "336/336 [==============================] - 4s 10ms/step - loss: 1.3187e-04\n",
      "Epoch 4/20\n",
      "336/336 [==============================] - 3s 10ms/step - loss: 1.2851e-04\n",
      "Epoch 5/20\n",
      "336/336 [==============================] - 3s 10ms/step - loss: 1.2929e-04\n",
      "Epoch 6/20\n",
      "336/336 [==============================] - 3s 10ms/step - loss: 1.1080e-04\n",
      "Epoch 7/20\n",
      "336/336 [==============================] - 3s 10ms/step - loss: 1.2753e-04\n",
      "Epoch 8/20\n",
      "336/336 [==============================] - 3s 10ms/step - loss: 1.1876e-04\n",
      "Epoch 9/20\n",
      "336/336 [==============================] - 3s 10ms/step - loss: 9.8854e-05\n",
      "Epoch 10/20\n",
      "336/336 [==============================] - 3s 10ms/step - loss: 1.0706e-04\n",
      "Epoch 11/20\n",
      "336/336 [==============================] - 3s 10ms/step - loss: 9.6037e-05\n",
      "Epoch 12/20\n",
      "336/336 [==============================] - 3s 10ms/step - loss: 8.7883e-05\n",
      "Epoch 13/20\n",
      "336/336 [==============================] - 3s 10ms/step - loss: 9.0522e-05\n",
      "Epoch 14/20\n",
      "336/336 [==============================] - 3s 10ms/step - loss: 8.0901e-05\n",
      "Epoch 15/20\n",
      "336/336 [==============================] - 3s 10ms/step - loss: 8.3441e-05\n",
      "Epoch 16/20\n",
      "336/336 [==============================] - 3s 9ms/step - loss: 7.8846e-05\n",
      "Epoch 17/20\n",
      "336/336 [==============================] - 3s 10ms/step - loss: 7.5222e-05\n",
      "Epoch 18/20\n",
      "336/336 [==============================] - 3s 10ms/step - loss: 6.9277e-05\n",
      "Epoch 19/20\n",
      "336/336 [==============================] - 3s 10ms/step - loss: 7.4365e-05\n",
      "Epoch 20/20\n",
      "336/336 [==============================] - 3s 10ms/step - loss: 6.5514e-05\n"
     ]
    }
   ],
   "source": [
    "hist = model.fit(X_train[1:], y_train[1:],   # 다시 할 땐 리스타트하고 처음부터 다시 학습해야한다\n",
    "                    epochs=20, \n",
    "                    batch_size=16)"
   ]
  },
  {
   "cell_type": "code",
   "execution_count": 38,
   "metadata": {},
   "outputs": [
    {
     "name": "stdout",
     "output_type": "stream",
     "text": [
      "19/19 [==============================] - 1s 7ms/step\n"
     ]
    },
    {
     "data": {
      "image/png": "[encoded data removed]",
      "text/plain": [
       "<Figure size 2400x600 with 1 Axes>"
      ]
     },
     "metadata": {},
     "output_type": "display_data"
    }
   ],
   "source": [
    "plt.figure(figsize=(24, 6))\n",
    "plt.plot(y_test, label='actual')\n",
    "plt.plot(model.predict(X_test), label='prediction')\n",
    "plt.legend()\n",
    "plt.show()  # 이번에는 제대로 예측한걸 볼 수 있다!"
   ]
  },
  {
   "cell_type": "markdown",
   "metadata": {},
   "source": [
    "최근 20일간의 데이터를 이용하여 현재일 대비 다음날의 종가 변화율을 예측합니다.\n",
    "\n"
   ]
  },
  {
   "cell_type": "code",
   "execution_count": 39,
   "metadata": {},
   "outputs": [
    {
     "name": "stdout",
     "output_type": "stream",
     "text": [
      "1/1 [==============================] - 0s 24ms/step\n",
      "다음 종가는 0.9759% 상승\n"
     ]
    }
   ],
   "source": [
    "pred_value = model.predict(test_df[train_cols].values.reshape(1, window_size, len(train_cols)))\n",
    "\n",
    "change_value = (test_df.Close.iloc[-1] / pred_value)[0][0]\n",
    "if change_value > 0:\n",
    "    print(f\"다음 종가는 {abs(change_value):.4f}% 상승\")\n",
    "elif change_value < 0:\n",
    "    print(f\"다음 종가는 {abs(change_value):.4f}% 하락\")\n",
    "else:\n",
    "    print(\"다음 종가는 변화 없음\")\n"
   ]
  },
  {
   "cell_type": "code",
   "execution_count": 40,
   "metadata": {},
   "outputs": [],
   "source": [
    "# 한 단계씩 늦게 따라가고 있다 → 못맞췄네? 다시 올리고, 다시 내리고 조금 후행해서 따라간다. 결국 예측이 어렵다"
   ]
  },
  {
   "cell_type": "markdown",
   "metadata": {},
   "source": [
    "그래프를 보면 예측 성능이 매우 좋아 보입니다. 과연 우리는 AI를 배우면 주식부자가 될 수 있을까요."
   ]
  }
 ],
 "metadata": {
  "kernelspec": {
   "display_name": "Python 3 (ipykernel)",
   "language": "python",
   "name": "python3"
  },
  "language_info": {
   "codemirror_mode": {
    "name": "ipython",
    "version": 3
   },
   "file_extension": ".py",
   "mimetype": "text/x-python",
   "name": "python",
   "nbconvert_exporter": "python",
   "pygments_lexer": "ipython3",
   "version": "3.10.9"
  },
  "vscode": {
   "interpreter": {
    "hash": "c7ab67452d3c1b2dc190a816bdba861acacc71cf52dc7ca6f86780cf3dd96d7d"
   }
  }
 },
 "nbformat": 4,
 "nbformat_minor": 2
}
