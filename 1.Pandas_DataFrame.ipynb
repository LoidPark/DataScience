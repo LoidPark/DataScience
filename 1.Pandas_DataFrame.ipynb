{
 "cells": [
  {
   "cell_type": "markdown",
   "metadata": {},
   "source": [
    "# Pandas\n",
    "---\n",
    "## [목차]\n",
    "### 1. DataFrame\n",
    "- 1.1 Create : list, dictionary, index\n",
    "- 1.2 Insert : row, column\n",
    "### 2. Search\n",
    "- 2.1 loc / iloc\n",
    "- 2.2 series / dataframe : [], [[]] (type)\n",
    "- 2.3 copy / deepcopy\n",
    "- 2.4 index로 찾을거냐 / boolean으로 찾을거냐\n",
    "### 3. Function\n",
    "- 3.1 apply\n",
    "- 3.2 lambda\n",
    "- 3.3 format\n",
    "- 3.4 append\n",
    "- 3.5 reset_index : drop, inplace\n",
    "- 3.6 sort_values : ascending\n",
    "- 3.7 rank, value_counts, count\n",
    "### 4. Modify\n",
    "- 4.1 concat : axis, join_outer/inner\n",
    "- 4.2 merge (sql_join) : how-outer/inner\n",
    "- 4.3 groupby : size, sort_values\n",
    "- 4.4 agg : min, max, mean, sum, median\n",
    "- 4.5 select : head(), tail(), slicing\n",
    "- 4.6 describe(), info(), dtypes\n",
    "- 4.7 unique\n",
    "- 4.8 rename\n",
    "### 5. 기타\n",
    "- 5.1 전치 .T, .transpose()\n",
    "- 5.2 .isin() : boolean으로 만들고\n",
    "- 5.3 .any(axis=1) : 해당 축 뽑고\n",
    "- 5.4 .str.contains('a') : 문자열에 a 있어?\n",
    "- 5.5 pd.date_range\n",
    "- 5.6 np.random.randint()"
   ]
  },
  {
   "cell_type": "markdown",
   "metadata": {},
   "source": [
    "---\n",
    "### 라이브러리 불러오기\n",
    " - **pandas**: 데이터프레임을 다루기 위한 라이브러리\n",
    " - **matplotlib.pyplot**: 데이터시각화를 위한 라이브러리\n",
    " - **seaborn**: 데이터시각화를 위한 라이브러리\n",
    " - **numpy**: 고성능 수치연산을 위한 라이브러리"
   ]
  },
  {
   "cell_type": "code",
   "execution_count": 1,
   "metadata": {},
   "outputs": [],
   "source": [
    "import pandas as pd\n",
    "import matplotlib.pyplot as plt \n",
    "import seaborn as sns\n",
    "import numpy as np"
   ]
  },
  {
   "cell_type": "markdown",
   "metadata": {
    "id": "baeF2MaAmqX4"
   },
   "source": [
    "## 1. Pandas 복습\n",
    "---\n"
   ]
  },
  {
   "cell_type": "markdown",
   "metadata": {
    "id": "1nxwlHOmmqX4"
   },
   "source": [
    "### 1.1 create\n",
    "\n",
    "데이터 프레임에 컬럼 이름을 설정하여 새로 생성합니다."
   ]
  },
  {
   "cell_type": "code",
   "execution_count": 223,
   "metadata": {
    "colab": {
     "base_uri": "https://localhost:8080/",
     "height": 49
    },
    "executionInfo": {
     "elapsed": 474,
     "status": "ok",
     "timestamp": 1661226111000,
     "user": {
      "displayName": "김도현",
      "userId": "01074377609887751305"
     },
     "user_tz": -540
    },
    "id": "0oHoHe3nmqX4",
    "outputId": "77ff9a12-57fd-46bd-a2ec-d16b35959308"
   },
   "outputs": [
    {
     "data": {
      "text/html": [
       "<div>\n",
       "<style scoped>\n",
       "    .dataframe tbody tr th:only-of-type {\n",
       "        vertical-align: middle;\n",
       "    }\n",
       "\n",
       "    .dataframe tbody tr th {\n",
       "        vertical-align: top;\n",
       "    }\n",
       "\n",
       "    .dataframe thead th {\n",
       "        text-align: right;\n",
       "    }\n",
       "</style>\n",
       "<table border=\"1\" class=\"dataframe\">\n",
       "  <thead>\n",
       "    <tr style=\"text-align: right;\">\n",
       "      <th></th>\n",
       "      <th>Email</th>\n",
       "      <th>Name</th>\n",
       "    </tr>\n",
       "  </thead>\n",
       "  <tbody>\n",
       "  </tbody>\n",
       "</table>\n",
       "</div>"
      ],
      "text/plain": [
       "Empty DataFrame\n",
       "Columns: [Email, Name]\n",
       "Index: []"
      ]
     },
     "execution_count": 223,
     "metadata": {},
     "output_type": "execute_result"
    }
   ],
   "source": [
    "df = pd.DataFrame(columns=[\"Email\", \"Name\"])\n",
    "df"
   ]
  },
  {
   "cell_type": "code",
   "execution_count": 471,
   "metadata": {
    "collapsed": true
   },
   "outputs": [
    {
     "ename": "ValueError",
     "evalue": "Length of values (2) does not match length of index (6710700)",
     "output_type": "error",
     "traceback": [
      "\u001b[1;31m---------------------------------------------------------------------------\u001b[0m",
      "\u001b[1;31mValueError\u001b[0m                                Traceback (most recent call last)",
      "Cell \u001b[1;32mIn[471], line 1\u001b[0m\n\u001b[1;32m----> 1\u001b[0m df[\u001b[38;5;124m'\u001b[39m\u001b[38;5;124mName\u001b[39m\u001b[38;5;124m'\u001b[39m] \u001b[38;5;241m=\u001b[39m [\u001b[38;5;124m\"\u001b[39m\u001b[38;5;124mdoori\u001b[39m\u001b[38;5;124m\"\u001b[39m, \u001b[38;5;124m\"\u001b[39m\u001b[38;5;124mminsu\u001b[39m\u001b[38;5;124m\"\u001b[39m]\n",
      "File \u001b[1;32m~\\anaconda3\\lib\\site-packages\\pandas\\core\\frame.py:3980\u001b[0m, in \u001b[0;36mDataFrame.__setitem__\u001b[1;34m(self, key, value)\u001b[0m\n\u001b[0;32m   3977\u001b[0m     \u001b[38;5;28mself\u001b[39m\u001b[38;5;241m.\u001b[39m_setitem_array([key], value)\n\u001b[0;32m   3978\u001b[0m \u001b[38;5;28;01melse\u001b[39;00m:\n\u001b[0;32m   3979\u001b[0m     \u001b[38;5;66;03m# set column\u001b[39;00m\n\u001b[1;32m-> 3980\u001b[0m     \u001b[38;5;28;43mself\u001b[39;49m\u001b[38;5;241;43m.\u001b[39;49m\u001b[43m_set_item\u001b[49m\u001b[43m(\u001b[49m\u001b[43mkey\u001b[49m\u001b[43m,\u001b[49m\u001b[43m \u001b[49m\u001b[43mvalue\u001b[49m\u001b[43m)\u001b[49m\n",
      "File \u001b[1;32m~\\anaconda3\\lib\\site-packages\\pandas\\core\\frame.py:4174\u001b[0m, in \u001b[0;36mDataFrame._set_item\u001b[1;34m(self, key, value)\u001b[0m\n\u001b[0;32m   4164\u001b[0m \u001b[38;5;28;01mdef\u001b[39;00m \u001b[38;5;21m_set_item\u001b[39m(\u001b[38;5;28mself\u001b[39m, key, value) \u001b[38;5;241m-\u001b[39m\u001b[38;5;241m>\u001b[39m \u001b[38;5;28;01mNone\u001b[39;00m:\n\u001b[0;32m   4165\u001b[0m     \u001b[38;5;124;03m\"\"\"\u001b[39;00m\n\u001b[0;32m   4166\u001b[0m \u001b[38;5;124;03m    Add series to DataFrame in specified column.\u001b[39;00m\n\u001b[0;32m   4167\u001b[0m \n\u001b[1;32m   (...)\u001b[0m\n\u001b[0;32m   4172\u001b[0m \u001b[38;5;124;03m    ensure homogeneity.\u001b[39;00m\n\u001b[0;32m   4173\u001b[0m \u001b[38;5;124;03m    \"\"\"\u001b[39;00m\n\u001b[1;32m-> 4174\u001b[0m     value \u001b[38;5;241m=\u001b[39m \u001b[38;5;28;43mself\u001b[39;49m\u001b[38;5;241;43m.\u001b[39;49m\u001b[43m_sanitize_column\u001b[49m\u001b[43m(\u001b[49m\u001b[43mvalue\u001b[49m\u001b[43m)\u001b[49m\n\u001b[0;32m   4176\u001b[0m     \u001b[38;5;28;01mif\u001b[39;00m (\n\u001b[0;32m   4177\u001b[0m         key \u001b[38;5;129;01min\u001b[39;00m \u001b[38;5;28mself\u001b[39m\u001b[38;5;241m.\u001b[39mcolumns\n\u001b[0;32m   4178\u001b[0m         \u001b[38;5;129;01mand\u001b[39;00m value\u001b[38;5;241m.\u001b[39mndim \u001b[38;5;241m==\u001b[39m \u001b[38;5;241m1\u001b[39m\n\u001b[0;32m   4179\u001b[0m         \u001b[38;5;129;01mand\u001b[39;00m \u001b[38;5;129;01mnot\u001b[39;00m is_extension_array_dtype(value)\n\u001b[0;32m   4180\u001b[0m     ):\n\u001b[0;32m   4181\u001b[0m         \u001b[38;5;66;03m# broadcast across multiple columns if necessary\u001b[39;00m\n\u001b[0;32m   4182\u001b[0m         \u001b[38;5;28;01mif\u001b[39;00m \u001b[38;5;129;01mnot\u001b[39;00m \u001b[38;5;28mself\u001b[39m\u001b[38;5;241m.\u001b[39mcolumns\u001b[38;5;241m.\u001b[39mis_unique \u001b[38;5;129;01mor\u001b[39;00m \u001b[38;5;28misinstance\u001b[39m(\u001b[38;5;28mself\u001b[39m\u001b[38;5;241m.\u001b[39mcolumns, MultiIndex):\n",
      "File \u001b[1;32m~\\anaconda3\\lib\\site-packages\\pandas\\core\\frame.py:4915\u001b[0m, in \u001b[0;36mDataFrame._sanitize_column\u001b[1;34m(self, value)\u001b[0m\n\u001b[0;32m   4912\u001b[0m     \u001b[38;5;28;01mreturn\u001b[39;00m _reindex_for_setitem(Series(value), \u001b[38;5;28mself\u001b[39m\u001b[38;5;241m.\u001b[39mindex)\n\u001b[0;32m   4914\u001b[0m \u001b[38;5;28;01mif\u001b[39;00m is_list_like(value):\n\u001b[1;32m-> 4915\u001b[0m     \u001b[43mcom\u001b[49m\u001b[38;5;241;43m.\u001b[39;49m\u001b[43mrequire_length_match\u001b[49m\u001b[43m(\u001b[49m\u001b[43mvalue\u001b[49m\u001b[43m,\u001b[49m\u001b[43m \u001b[49m\u001b[38;5;28;43mself\u001b[39;49m\u001b[38;5;241;43m.\u001b[39;49m\u001b[43mindex\u001b[49m\u001b[43m)\u001b[49m\n\u001b[0;32m   4916\u001b[0m \u001b[38;5;28;01mreturn\u001b[39;00m sanitize_array(value, \u001b[38;5;28mself\u001b[39m\u001b[38;5;241m.\u001b[39mindex, copy\u001b[38;5;241m=\u001b[39m\u001b[38;5;28;01mTrue\u001b[39;00m, allow_2d\u001b[38;5;241m=\u001b[39m\u001b[38;5;28;01mTrue\u001b[39;00m)\n",
      "File \u001b[1;32m~\\anaconda3\\lib\\site-packages\\pandas\\core\\common.py:571\u001b[0m, in \u001b[0;36mrequire_length_match\u001b[1;34m(data, index)\u001b[0m\n\u001b[0;32m    567\u001b[0m \u001b[38;5;124;03m\"\"\"\u001b[39;00m\n\u001b[0;32m    568\u001b[0m \u001b[38;5;124;03mCheck the length of data matches the length of the index.\u001b[39;00m\n\u001b[0;32m    569\u001b[0m \u001b[38;5;124;03m\"\"\"\u001b[39;00m\n\u001b[0;32m    570\u001b[0m \u001b[38;5;28;01mif\u001b[39;00m \u001b[38;5;28mlen\u001b[39m(data) \u001b[38;5;241m!=\u001b[39m \u001b[38;5;28mlen\u001b[39m(index):\n\u001b[1;32m--> 571\u001b[0m     \u001b[38;5;28;01mraise\u001b[39;00m \u001b[38;5;167;01mValueError\u001b[39;00m(\n\u001b[0;32m    572\u001b[0m         \u001b[38;5;124m\"\u001b[39m\u001b[38;5;124mLength of values \u001b[39m\u001b[38;5;124m\"\u001b[39m\n\u001b[0;32m    573\u001b[0m         \u001b[38;5;124mf\u001b[39m\u001b[38;5;124m\"\u001b[39m\u001b[38;5;124m(\u001b[39m\u001b[38;5;132;01m{\u001b[39;00m\u001b[38;5;28mlen\u001b[39m(data)\u001b[38;5;132;01m}\u001b[39;00m\u001b[38;5;124m) \u001b[39m\u001b[38;5;124m\"\u001b[39m\n\u001b[0;32m    574\u001b[0m         \u001b[38;5;124m\"\u001b[39m\u001b[38;5;124mdoes not match length of index \u001b[39m\u001b[38;5;124m\"\u001b[39m\n\u001b[0;32m    575\u001b[0m         \u001b[38;5;124mf\u001b[39m\u001b[38;5;124m\"\u001b[39m\u001b[38;5;124m(\u001b[39m\u001b[38;5;132;01m{\u001b[39;00m\u001b[38;5;28mlen\u001b[39m(index)\u001b[38;5;132;01m}\u001b[39;00m\u001b[38;5;124m)\u001b[39m\u001b[38;5;124m\"\u001b[39m\n\u001b[0;32m    576\u001b[0m     )\n",
      "\u001b[1;31mValueError\u001b[0m: Length of values (2) does not match length of index (6710700)"
     ]
    }
   ],
   "source": [
    "df['Name'] = [\"doori\", \"minsu\"]"
   ]
  },
  {
   "cell_type": "code",
   "execution_count": 472,
   "metadata": {
    "collapsed": true
   },
   "outputs": [
    {
     "data": {
      "text/html": [
       "<div>\n",
       "<style scoped>\n",
       "    .dataframe tbody tr th:only-of-type {\n",
       "        vertical-align: middle;\n",
       "    }\n",
       "\n",
       "    .dataframe tbody tr th {\n",
       "        vertical-align: top;\n",
       "    }\n",
       "\n",
       "    .dataframe thead th {\n",
       "        text-align: right;\n",
       "    }\n",
       "</style>\n",
       "<table border=\"1\" class=\"dataframe\">\n",
       "  <thead>\n",
       "    <tr style=\"text-align: right;\">\n",
       "      <th></th>\n",
       "      <th>bearing_1_id</th>\n",
       "      <th>bearing_2_id</th>\n",
       "      <th>timestamp</th>\n",
       "      <th>a1_x</th>\n",
       "      <th>a1_y</th>\n",
       "      <th>a1_z</th>\n",
       "      <th>a2_x</th>\n",
       "      <th>a2_y</th>\n",
       "      <th>a2_z</th>\n",
       "      <th>rpm</th>\n",
       "      <th>hz</th>\n",
       "      <th>w</th>\n",
       "      <th>status</th>\n",
       "    </tr>\n",
       "  </thead>\n",
       "  <tbody>\n",
       "    <tr>\n",
       "      <th>0</th>\n",
       "      <td>0</td>\n",
       "      <td>1</td>\n",
       "      <td>0.000000</td>\n",
       "      <td>0.113269</td>\n",
       "      <td>0.149706</td>\n",
       "      <td>-0.110275</td>\n",
       "      <td>-0.186030</td>\n",
       "      <td>0.194450</td>\n",
       "      <td>0.454299</td>\n",
       "      <td>0.000000</td>\n",
       "      <td>0.000000</td>\n",
       "      <td>0.000006</td>\n",
       "      <td>0</td>\n",
       "    </tr>\n",
       "    <tr>\n",
       "      <th>1</th>\n",
       "      <td>0</td>\n",
       "      <td>1</td>\n",
       "      <td>0.000333</td>\n",
       "      <td>-0.367713</td>\n",
       "      <td>-0.228832</td>\n",
       "      <td>0.177821</td>\n",
       "      <td>0.285992</td>\n",
       "      <td>0.002226</td>\n",
       "      <td>-0.043930</td>\n",
       "      <td>0.000000</td>\n",
       "      <td>0.000000</td>\n",
       "      <td>0.000243</td>\n",
       "      <td>0</td>\n",
       "    </tr>\n",
       "    <tr>\n",
       "      <th>2</th>\n",
       "      <td>0</td>\n",
       "      <td>1</td>\n",
       "      <td>0.000667</td>\n",
       "      <td>0.113269</td>\n",
       "      <td>0.149706</td>\n",
       "      <td>-0.398371</td>\n",
       "      <td>-0.091625</td>\n",
       "      <td>0.002226</td>\n",
       "      <td>0.454299</td>\n",
       "      <td>0.000000</td>\n",
       "      <td>0.000000</td>\n",
       "      <td>0.000369</td>\n",
       "      <td>0</td>\n",
       "    </tr>\n",
       "    <tr>\n",
       "      <th>3</th>\n",
       "      <td>0</td>\n",
       "      <td>1</td>\n",
       "      <td>0.001000</td>\n",
       "      <td>-0.175320</td>\n",
       "      <td>-0.228832</td>\n",
       "      <td>-0.110275</td>\n",
       "      <td>0.285992</td>\n",
       "      <td>0.002226</td>\n",
       "      <td>0.255007</td>\n",
       "      <td>0.000000</td>\n",
       "      <td>0.000000</td>\n",
       "      <td>0.000520</td>\n",
       "      <td>0</td>\n",
       "    </tr>\n",
       "    <tr>\n",
       "      <th>4</th>\n",
       "      <td>0</td>\n",
       "      <td>1</td>\n",
       "      <td>0.001333</td>\n",
       "      <td>-0.079124</td>\n",
       "      <td>0.055072</td>\n",
       "      <td>-0.110275</td>\n",
       "      <td>0.191588</td>\n",
       "      <td>0.002226</td>\n",
       "      <td>0.255007</td>\n",
       "      <td>0.000000</td>\n",
       "      <td>0.000000</td>\n",
       "      <td>0.000175</td>\n",
       "      <td>0</td>\n",
       "    </tr>\n",
       "    <tr>\n",
       "      <th>...</th>\n",
       "      <td>...</td>\n",
       "      <td>...</td>\n",
       "      <td>...</td>\n",
       "      <td>...</td>\n",
       "      <td>...</td>\n",
       "      <td>...</td>\n",
       "      <td>...</td>\n",
       "      <td>...</td>\n",
       "      <td>...</td>\n",
       "      <td>...</td>\n",
       "      <td>...</td>\n",
       "      <td>...</td>\n",
       "      <td>...</td>\n",
       "    </tr>\n",
       "    <tr>\n",
       "      <th>6710695</th>\n",
       "      <td>0</td>\n",
       "      <td>72</td>\n",
       "      <td>32.098333</td>\n",
       "      <td>-0.367713</td>\n",
       "      <td>0.149706</td>\n",
       "      <td>0.465916</td>\n",
       "      <td>-0.469243</td>\n",
       "      <td>0.194450</td>\n",
       "      <td>0.553945</td>\n",
       "      <td>178.748759</td>\n",
       "      <td>2.979146</td>\n",
       "      <td>0.019412</td>\n",
       "      <td>1</td>\n",
       "    </tr>\n",
       "    <tr>\n",
       "      <th>6710696</th>\n",
       "      <td>0</td>\n",
       "      <td>72</td>\n",
       "      <td>32.098667</td>\n",
       "      <td>-0.463909</td>\n",
       "      <td>0.338975</td>\n",
       "      <td>0.561948</td>\n",
       "      <td>-0.469243</td>\n",
       "      <td>0.194450</td>\n",
       "      <td>0.354653</td>\n",
       "      <td>178.748759</td>\n",
       "      <td>2.979146</td>\n",
       "      <td>0.032027</td>\n",
       "      <td>1</td>\n",
       "    </tr>\n",
       "    <tr>\n",
       "      <th>6710697</th>\n",
       "      <td>0</td>\n",
       "      <td>72</td>\n",
       "      <td>32.099000</td>\n",
       "      <td>0.017072</td>\n",
       "      <td>0.433610</td>\n",
       "      <td>0.369884</td>\n",
       "      <td>-0.563647</td>\n",
       "      <td>-0.093886</td>\n",
       "      <td>0.155361</td>\n",
       "      <td>178.748759</td>\n",
       "      <td>2.979146</td>\n",
       "      <td>0.012211</td>\n",
       "      <td>1</td>\n",
       "    </tr>\n",
       "    <tr>\n",
       "      <th>6710698</th>\n",
       "      <td>0</td>\n",
       "      <td>72</td>\n",
       "      <td>32.099333</td>\n",
       "      <td>0.209465</td>\n",
       "      <td>0.244341</td>\n",
       "      <td>0.273852</td>\n",
       "      <td>-0.374838</td>\n",
       "      <td>0.194450</td>\n",
       "      <td>0.155361</td>\n",
       "      <td>178.748759</td>\n",
       "      <td>2.979146</td>\n",
       "      <td>0.000764</td>\n",
       "      <td>1</td>\n",
       "    </tr>\n",
       "    <tr>\n",
       "      <th>6710699</th>\n",
       "      <td>0</td>\n",
       "      <td>72</td>\n",
       "      <td>32.099667</td>\n",
       "      <td>0.498054</td>\n",
       "      <td>0.244341</td>\n",
       "      <td>0.177821</td>\n",
       "      <td>-0.186030</td>\n",
       "      <td>0.290562</td>\n",
       "      <td>-0.243222</td>\n",
       "      <td>178.748759</td>\n",
       "      <td>2.979146</td>\n",
       "      <td>0.002794</td>\n",
       "      <td>1</td>\n",
       "    </tr>\n",
       "  </tbody>\n",
       "</table>\n",
       "<p>6710700 rows × 13 columns</p>\n",
       "</div>"
      ],
      "text/plain": [
       "         bearing_1_id  bearing_2_id  timestamp      a1_x      a1_y      a1_z  \\\n",
       "0                   0             1   0.000000  0.113269  0.149706 -0.110275   \n",
       "1                   0             1   0.000333 -0.367713 -0.228832  0.177821   \n",
       "2                   0             1   0.000667  0.113269  0.149706 -0.398371   \n",
       "3                   0             1   0.001000 -0.175320 -0.228832 -0.110275   \n",
       "4                   0             1   0.001333 -0.079124  0.055072 -0.110275   \n",
       "...               ...           ...        ...       ...       ...       ...   \n",
       "6710695             0            72  32.098333 -0.367713  0.149706  0.465916   \n",
       "6710696             0            72  32.098667 -0.463909  0.338975  0.561948   \n",
       "6710697             0            72  32.099000  0.017072  0.433610  0.369884   \n",
       "6710698             0            72  32.099333  0.209465  0.244341  0.273852   \n",
       "6710699             0            72  32.099667  0.498054  0.244341  0.177821   \n",
       "\n",
       "             a2_x      a2_y      a2_z         rpm        hz         w  status  \n",
       "0       -0.186030  0.194450  0.454299    0.000000  0.000000  0.000006       0  \n",
       "1        0.285992  0.002226 -0.043930    0.000000  0.000000  0.000243       0  \n",
       "2       -0.091625  0.002226  0.454299    0.000000  0.000000  0.000369       0  \n",
       "3        0.285992  0.002226  0.255007    0.000000  0.000000  0.000520       0  \n",
       "4        0.191588  0.002226  0.255007    0.000000  0.000000  0.000175       0  \n",
       "...           ...       ...       ...         ...       ...       ...     ...  \n",
       "6710695 -0.469243  0.194450  0.553945  178.748759  2.979146  0.019412       1  \n",
       "6710696 -0.469243  0.194450  0.354653  178.748759  2.979146  0.032027       1  \n",
       "6710697 -0.563647 -0.093886  0.155361  178.748759  2.979146  0.012211       1  \n",
       "6710698 -0.374838  0.194450  0.155361  178.748759  2.979146  0.000764       1  \n",
       "6710699 -0.186030  0.290562 -0.243222  178.748759  2.979146  0.002794       1  \n",
       "\n",
       "[6710700 rows x 13 columns]"
      ]
     },
     "execution_count": 472,
     "metadata": {},
     "output_type": "execute_result"
    }
   ],
   "source": [
    "df"
   ]
  },
  {
   "cell_type": "code",
   "execution_count": 227,
   "metadata": {
    "colab": {
     "base_uri": "https://localhost:8080/"
    },
    "executionInfo": {
     "elapsed": 8,
     "status": "ok",
     "timestamp": 1661226111001,
     "user": {
      "displayName": "김도현",
      "userId": "01074377609887751305"
     },
     "user_tz": -540
    },
    "id": "-obSJTH11ytx",
    "outputId": "a779dbf9-10f1-48e5-bb69-edd22f7e1928"
   },
   "outputs": [
    {
     "name": "stdout",
     "output_type": "stream",
     "text": [
      "          Email   Name\n",
      "0  dr@gmail.com  doori\n",
      "1  ms@gmail.com  minsu\n",
      "<class 'pandas.core.series.Series'>\n"
     ]
    }
   ],
   "source": [
    "df = pd.DataFrame(columns=[\"Email\", \"Name\"])\n",
    "df[\"Name\"] = [\"doori\", \"minsu\"]\n",
    "df[\"Email\"] = [\"dr@gmail.com\", \"ms@gmail.com\"]\n",
    "print(df)\n",
    "print(type(df[\"Name\"]))"
   ]
  },
  {
   "cell_type": "markdown",
   "metadata": {
    "id": "f0GOenZImqX4"
   },
   "source": [
    "컬럼에 데이터를 삽입합니다."
   ]
  },
  {
   "cell_type": "code",
   "execution_count": 228,
   "metadata": {
    "colab": {
     "base_uri": "https://localhost:8080/",
     "height": 112
    },
    "executionInfo": {
     "elapsed": 3,
     "status": "ok",
     "timestamp": 1661226111524,
     "user": {
      "displayName": "김도현",
      "userId": "01074377609887751305"
     },
     "user_tz": -540
    },
    "id": "HGzpuqp3mqX4",
    "outputId": "13f547d9-e164-4962-b809-66432ff8055a"
   },
   "outputs": [
    {
     "data": {
      "text/html": [
       "<div>\n",
       "<style scoped>\n",
       "    .dataframe tbody tr th:only-of-type {\n",
       "        vertical-align: middle;\n",
       "    }\n",
       "\n",
       "    .dataframe tbody tr th {\n",
       "        vertical-align: top;\n",
       "    }\n",
       "\n",
       "    .dataframe thead th {\n",
       "        text-align: right;\n",
       "    }\n",
       "</style>\n",
       "<table border=\"1\" class=\"dataframe\">\n",
       "  <thead>\n",
       "    <tr style=\"text-align: right;\">\n",
       "      <th></th>\n",
       "      <th>Email</th>\n",
       "      <th>Name</th>\n",
       "    </tr>\n",
       "  </thead>\n",
       "  <tbody>\n",
       "    <tr>\n",
       "      <th>0</th>\n",
       "      <td>fcamp@gmail.com</td>\n",
       "      <td>fcamp</td>\n",
       "    </tr>\n",
       "    <tr>\n",
       "      <th>1</th>\n",
       "      <td>dss@gmail.com</td>\n",
       "      <td>dss</td>\n",
       "    </tr>\n",
       "  </tbody>\n",
       "</table>\n",
       "</div>"
      ],
      "text/plain": [
       "             Email   Name\n",
       "0  fcamp@gmail.com  fcamp\n",
       "1    dss@gmail.com    dss"
      ]
     },
     "execution_count": 228,
     "metadata": {},
     "output_type": "execute_result"
    }
   ],
   "source": [
    "df[\"Name\"] = [\"fcamp\", \"dss\"]\n",
    "df[\"Email\"] = [\"fcamp@gmail.com\", \"dss@gmail.com\"]\n",
    "df"
   ]
  },
  {
   "cell_type": "markdown",
   "metadata": {
    "id": "V99c65JvmqX5"
   },
   "source": [
    "컬럼데이터를 확인하면 Series 데이터임을 확인할 수 있습니다."
   ]
  },
  {
   "cell_type": "code",
   "execution_count": 229,
   "metadata": {
    "colab": {
     "base_uri": "https://localhost:8080/"
    },
    "executionInfo": {
     "elapsed": 6,
     "status": "ok",
     "timestamp": 1661226112023,
     "user": {
      "displayName": "김도현",
      "userId": "01074377609887751305"
     },
     "user_tz": -540
    },
    "id": "ibFfdjGkmqX5",
    "outputId": "f7e33ddb-97fe-477a-97c5-64aa85a543ed"
   },
   "outputs": [
    {
     "data": {
      "text/plain": [
       "pandas.core.series.Series"
      ]
     },
     "execution_count": 229,
     "metadata": {},
     "output_type": "execute_result"
    }
   ],
   "source": [
    "type(df[\"Name\"])"
   ]
  },
  {
   "cell_type": "code",
   "execution_count": 230,
   "metadata": {
    "colab": {
     "base_uri": "https://localhost:8080/"
    },
    "executionInfo": {
     "elapsed": 5,
     "status": "ok",
     "timestamp": 1661226112023,
     "user": {
      "displayName": "김도현",
      "userId": "01074377609887751305"
     },
     "user_tz": -540
    },
    "id": "tMAoG5ZemqX5",
    "outputId": "f2f543ee-4f06-44d6-e8f2-5e5c266cec61"
   },
   "outputs": [
    {
     "data": {
      "text/plain": [
       "0    fcamp@gmail.com\n",
       "1      dss@gmail.com\n",
       "Name: Email, dtype: object"
      ]
     },
     "execution_count": 230,
     "metadata": {},
     "output_type": "execute_result"
    }
   ],
   "source": [
    "df[\"Email\"]"
   ]
  },
  {
   "cell_type": "markdown",
   "metadata": {
    "id": "mWWKeUJ9mqX5"
   },
   "source": [
    "#### 2.1.2 딕셔너리 데이터 타입을 Dataframe으로 만드는 방법"
   ]
  },
  {
   "cell_type": "code",
   "execution_count": 231,
   "metadata": {
    "colab": {
     "base_uri": "https://localhost:8080/"
    },
    "executionInfo": {
     "elapsed": 3,
     "status": "ok",
     "timestamp": 1661226112479,
     "user": {
      "displayName": "김도현",
      "userId": "01074377609887751305"
     },
     "user_tz": -540
    },
    "id": "fPnOJOLqmqX5",
    "outputId": "8653bef1-e578-406b-95eb-16d7041a6beb"
   },
   "outputs": [
    {
     "data": {
      "text/html": [
       "<div>\n",
       "<style scoped>\n",
       "    .dataframe tbody tr th:only-of-type {\n",
       "        vertical-align: middle;\n",
       "    }\n",
       "\n",
       "    .dataframe tbody tr th {\n",
       "        vertical-align: top;\n",
       "    }\n",
       "\n",
       "    .dataframe thead th {\n",
       "        text-align: right;\n",
       "    }\n",
       "</style>\n",
       "<table border=\"1\" class=\"dataframe\">\n",
       "  <thead>\n",
       "    <tr style=\"text-align: right;\">\n",
       "      <th></th>\n",
       "      <th>Name</th>\n",
       "      <th>Email</th>\n",
       "      <th>id</th>\n",
       "    </tr>\n",
       "  </thead>\n",
       "  <tbody>\n",
       "    <tr>\n",
       "      <th>0</th>\n",
       "      <td>doori</td>\n",
       "      <td>dr@gmail.com</td>\n",
       "      <td>1</td>\n",
       "    </tr>\n",
       "    <tr>\n",
       "      <th>1</th>\n",
       "      <td>minsu</td>\n",
       "      <td>ms@gmail.com</td>\n",
       "      <td>2</td>\n",
       "    </tr>\n",
       "  </tbody>\n",
       "</table>\n",
       "</div>"
      ],
      "text/plain": [
       "    Name         Email  id\n",
       "0  doori  dr@gmail.com   1\n",
       "1  minsu  ms@gmail.com   2"
      ]
     },
     "execution_count": 231,
     "metadata": {},
     "output_type": "execute_result"
    }
   ],
   "source": [
    "name = [\"doori\", \"minsu\"]\n",
    "email = [\"dr@gmail.com\", \"ms@gmail.com\"]\n",
    "ids = [1, 2]\n",
    "dic = {\"Name\":name, \"Email\":email, \"id\": ids}\n",
    "df = pd.DataFrame(dic)\n",
    "df"
   ]
  },
  {
   "cell_type": "code",
   "execution_count": 232,
   "metadata": {
    "colab": {
     "base_uri": "https://localhost:8080/",
     "height": 112
    },
    "executionInfo": {
     "elapsed": 2,
     "status": "ok",
     "timestamp": 1661226112479,
     "user": {
      "displayName": "김도현",
      "userId": "01074377609887751305"
     },
     "user_tz": -540
    },
    "id": "8LTUfYzF_Z71",
    "outputId": "cb7d35f2-5649-458f-ebfc-aa8c75f14896"
   },
   "outputs": [
    {
     "data": {
      "text/html": [
       "<div>\n",
       "<style scoped>\n",
       "    .dataframe tbody tr th:only-of-type {\n",
       "        vertical-align: middle;\n",
       "    }\n",
       "\n",
       "    .dataframe tbody tr th {\n",
       "        vertical-align: top;\n",
       "    }\n",
       "\n",
       "    .dataframe thead th {\n",
       "        text-align: right;\n",
       "    }\n",
       "</style>\n",
       "<table border=\"1\" class=\"dataframe\">\n",
       "  <thead>\n",
       "    <tr style=\"text-align: right;\">\n",
       "      <th></th>\n",
       "      <th>Name</th>\n",
       "      <th>Email</th>\n",
       "      <th>id</th>\n",
       "    </tr>\n",
       "  </thead>\n",
       "  <tbody>\n",
       "    <tr>\n",
       "      <th>0</th>\n",
       "      <td>doori</td>\n",
       "      <td>dr@gmail.com</td>\n",
       "      <td>1</td>\n",
       "    </tr>\n",
       "    <tr>\n",
       "      <th>1</th>\n",
       "      <td>minsu</td>\n",
       "      <td>ms@gmail.com</td>\n",
       "      <td>2</td>\n",
       "    </tr>\n",
       "    <tr>\n",
       "      <th>2</th>\n",
       "      <td>data</td>\n",
       "      <td>data@gmail.com</td>\n",
       "      <td>3</td>\n",
       "    </tr>\n",
       "  </tbody>\n",
       "</table>\n",
       "</div>"
      ],
      "text/plain": [
       "    Name           Email  id\n",
       "0  doori    dr@gmail.com   1\n",
       "1  minsu    ms@gmail.com   2\n",
       "2   data  data@gmail.com   3"
      ]
     },
     "execution_count": 232,
     "metadata": {},
     "output_type": "execute_result"
    }
   ],
   "source": [
    "df.loc[2] = {\"Email\":\"data@gmail.com\", \"Name\":\"data\", \"id\":3}\n",
    "df"
   ]
  },
  {
   "cell_type": "code",
   "execution_count": 233,
   "metadata": {},
   "outputs": [
    {
     "data": {
      "text/plain": [
       "Name            minsu\n",
       "Email    ms@gmail.com\n",
       "id                  2\n",
       "Name: 1, dtype: object"
      ]
     },
     "execution_count": 233,
     "metadata": {},
     "output_type": "execute_result"
    }
   ],
   "source": [
    "df.loc[1]"
   ]
  },
  {
   "cell_type": "code",
   "execution_count": 234,
   "metadata": {},
   "outputs": [
    {
     "data": {
      "text/plain": [
       "Name            doori\n",
       "Email    dr@gmail.com\n",
       "id                  1\n",
       "Name: 0, dtype: object"
      ]
     },
     "execution_count": 234,
     "metadata": {},
     "output_type": "execute_result"
    }
   ],
   "source": [
    "df.loc[0]"
   ]
  },
  {
   "cell_type": "markdown",
   "metadata": {
    "id": "nksyAr5OmqX5"
   },
   "source": [
    "#### 2.1.3 인덱스를 수정하는 방법"
   ]
  },
  {
   "cell_type": "code",
   "execution_count": 235,
   "metadata": {
    "colab": {
     "base_uri": "https://localhost:8080/"
    },
    "executionInfo": {
     "elapsed": 2,
     "status": "ok",
     "timestamp": 1661226113378,
     "user": {
      "displayName": "김도현",
      "userId": "01074377609887751305"
     },
     "user_tz": -540
    },
    "id": "Yy-TzknimqX5",
    "outputId": "c3e32c3b-212f-44ef-8539-b8bf4d0c17c4"
   },
   "outputs": [
    {
     "name": "stdout",
     "output_type": "stream",
     "text": [
      "      Name         Email  id\n",
      "one  doori  dr@gmail.com   1\n",
      "two  minsu  ms@gmail.com   2\n"
     ]
    }
   ],
   "source": [
    "index_list = [\"one\", \"two\"]\n",
    "df = pd.DataFrame(dic, index=index_list)\n",
    "print(df)"
   ]
  },
  {
   "cell_type": "markdown",
   "metadata": {
    "id": "iyZ2kEUkmqX5"
   },
   "source": [
    "인덱스, 컬럼, 값을 리스트로 가져올수 있습니다."
   ]
  },
  {
   "cell_type": "code",
   "execution_count": 236,
   "metadata": {
    "colab": {
     "base_uri": "https://localhost:8080/"
    },
    "executionInfo": {
     "elapsed": 1,
     "status": "ok",
     "timestamp": 1661226113808,
     "user": {
      "displayName": "김도현",
      "userId": "01074377609887751305"
     },
     "user_tz": -540
    },
    "id": "UZNmOSvFmqX5",
    "outputId": "c5f4565f-9c2a-4ea7-a040-f19e4c69617c"
   },
   "outputs": [
    {
     "name": "stdout",
     "output_type": "stream",
     "text": [
      "Index(['one', 'two'], dtype='object')\n",
      "Index(['Name', 'Email', 'id'], dtype='object')\n",
      "[['doori' 'dr@gmail.com' 1]\n",
      " ['minsu' 'ms@gmail.com' 2]]\n"
     ]
    }
   ],
   "source": [
    "print(df.index)\n",
    "print(df.columns)\n",
    "print(df.values)"
   ]
  },
  {
   "cell_type": "code",
   "execution_count": 237,
   "metadata": {
    "colab": {
     "base_uri": "https://localhost:8080/"
    },
    "executionInfo": {
     "elapsed": 1,
     "status": "ok",
     "timestamp": 1661226114563,
     "user": {
      "displayName": "김도현",
      "userId": "01074377609887751305"
     },
     "user_tz": -540
    },
    "id": "Dhm4T3C-mqX5",
    "outputId": "e30611e9-ddd6-437a-eab9-610485901b5a"
   },
   "outputs": [
    {
     "data": {
      "text/plain": [
       "Name     object\n",
       "Email    object\n",
       "id        int64\n",
       "dtype: object"
      ]
     },
     "execution_count": 237,
     "metadata": {},
     "output_type": "execute_result"
    }
   ],
   "source": [
    "df.dtypes"
   ]
  },
  {
   "cell_type": "markdown",
   "metadata": {
    "id": "OJBiuKLzzQh2"
   },
   "source": [
    "---"
   ]
  },
  {
   "cell_type": "markdown",
   "metadata": {
    "id": "YIM0iyM2FBUC"
   },
   "source": [
    "#### 연습문제: Dataframe 만들기\n",
    "\n",
    "인덱스가 ['1번', '2번'] 이고 열 제목은 '비밀번호', 열 내용은 ['1q2w', 'qwer!!']인 단일 열로 이루어진 Dataframe을 만들어 보세요."
   ]
  },
  {
   "cell_type": "code",
   "execution_count": 469,
   "metadata": {
    "colab": {
     "base_uri": "https://localhost:8080/",
     "height": 112
    },
    "executionInfo": {
     "elapsed": 3,
     "status": "ok",
     "timestamp": 1661226193139,
     "user": {
      "displayName": "김도현",
      "userId": "01074377609887751305"
     },
     "user_tz": -540
    },
    "id": "ABJcsmeeFZTz",
    "outputId": "7ec5464b-9311-4801-8b54-fe31ae7c82e2"
   },
   "outputs": [
    {
     "data": {
      "text/html": [
       "<div>\n",
       "<style scoped>\n",
       "    .dataframe tbody tr th:only-of-type {\n",
       "        vertical-align: middle;\n",
       "    }\n",
       "\n",
       "    .dataframe tbody tr th {\n",
       "        vertical-align: top;\n",
       "    }\n",
       "\n",
       "    .dataframe thead th {\n",
       "        text-align: right;\n",
       "    }\n",
       "</style>\n",
       "<table border=\"1\" class=\"dataframe\">\n",
       "  <thead>\n",
       "    <tr style=\"text-align: right;\">\n",
       "      <th></th>\n",
       "      <th>비밀번호</th>\n",
       "    </tr>\n",
       "  </thead>\n",
       "  <tbody>\n",
       "    <tr>\n",
       "      <th>1번</th>\n",
       "      <td>1q2w</td>\n",
       "    </tr>\n",
       "    <tr>\n",
       "      <th>2번</th>\n",
       "      <td>qwer!!</td>\n",
       "    </tr>\n",
       "  </tbody>\n",
       "</table>\n",
       "</div>"
      ],
      "text/plain": [
       "      비밀번호\n",
       "1번    1q2w\n",
       "2번  qwer!!"
      ]
     },
     "execution_count": 469,
     "metadata": {},
     "output_type": "execute_result"
    }
   ],
   "source": [
    "index_list = ['1번', '2번']\n",
    "data = pd.DataFrame(['1q2w', 'qwer!!'], columns=['비밀번호'], index=index_list)\n",
    "# data[____] = ____\n",
    "data"
   ]
  },
  {
   "cell_type": "code",
   "execution_count": 470,
   "metadata": {
    "colab": {
     "base_uri": "https://localhost:8080/",
     "height": 112
    },
    "executionInfo": {
     "elapsed": 3,
     "status": "ok",
     "timestamp": 1661226193139,
     "user": {
      "displayName": "김도현",
      "userId": "01074377609887751305"
     },
     "user_tz": -540
    },
    "id": "ABJcsmeeFZTz",
    "outputId": "7ec5464b-9311-4801-8b54-fe31ae7c82e2"
   },
   "outputs": [],
   "source": [
    "# ctrl+shift+- 셀쪼개기\n",
    "# shift+m 셀합치기"
   ]
  },
  {
   "cell_type": "markdown",
   "metadata": {
    "id": "Oa3pNoLbzRqv"
   },
   "source": [
    "---"
   ]
  },
  {
   "cell_type": "markdown",
   "metadata": {
    "id": "qRzmDSrOmqX6"
   },
   "source": [
    "### 2.2 Insert\n",
    "- row\n",
    "- column"
   ]
  },
  {
   "cell_type": "markdown",
   "metadata": {
    "id": "VyfdA3wwmqX6"
   },
   "source": [
    "#### 2.2.1 row\n",
    "- `loc`를 이용하여 row를 선택하거나 수정이 가능합니다."
   ]
  },
  {
   "cell_type": "code",
   "execution_count": 240,
   "metadata": {
    "colab": {
     "base_uri": "https://localhost:8080/",
     "height": 112
    },
    "executionInfo": {
     "elapsed": 393,
     "status": "ok",
     "timestamp": 1661226205815,
     "user": {
      "displayName": "김도현",
      "userId": "01074377609887751305"
     },
     "user_tz": -540
    },
    "id": "VZ-Vjb21AK8u",
    "outputId": "3d23de76-b71b-44bc-b962-087048dfeb18"
   },
   "outputs": [
    {
     "data": {
      "text/html": [
       "<div>\n",
       "<style scoped>\n",
       "    .dataframe tbody tr th:only-of-type {\n",
       "        vertical-align: middle;\n",
       "    }\n",
       "\n",
       "    .dataframe tbody tr th {\n",
       "        vertical-align: top;\n",
       "    }\n",
       "\n",
       "    .dataframe thead th {\n",
       "        text-align: right;\n",
       "    }\n",
       "</style>\n",
       "<table border=\"1\" class=\"dataframe\">\n",
       "  <thead>\n",
       "    <tr style=\"text-align: right;\">\n",
       "      <th></th>\n",
       "      <th>Name</th>\n",
       "      <th>Email</th>\n",
       "      <th>id</th>\n",
       "    </tr>\n",
       "  </thead>\n",
       "  <tbody>\n",
       "    <tr>\n",
       "      <th>one</th>\n",
       "      <td>doori</td>\n",
       "      <td>dr@gmail.com</td>\n",
       "      <td>1</td>\n",
       "    </tr>\n",
       "    <tr>\n",
       "      <th>two</th>\n",
       "      <td>minsu</td>\n",
       "      <td>ms@gmail.com</td>\n",
       "      <td>2</td>\n",
       "    </tr>\n",
       "  </tbody>\n",
       "</table>\n",
       "</div>"
      ],
      "text/plain": [
       "      Name         Email  id\n",
       "one  doori  dr@gmail.com   1\n",
       "two  minsu  ms@gmail.com   2"
      ]
     },
     "execution_count": 240,
     "metadata": {},
     "output_type": "execute_result"
    }
   ],
   "source": [
    "df"
   ]
  },
  {
   "cell_type": "code",
   "execution_count": 241,
   "metadata": {
    "colab": {
     "base_uri": "https://localhost:8080/"
    },
    "executionInfo": {
     "elapsed": 6,
     "status": "ok",
     "timestamp": 1661226206233,
     "user": {
      "displayName": "김도현",
      "userId": "01074377609887751305"
     },
     "user_tz": -540
    },
    "id": "Rva5193rmqX6",
    "outputId": "0e311b88-34fb-420d-fe81-859ee2b2a035"
   },
   "outputs": [
    {
     "name": "stdout",
     "output_type": "stream",
     "text": [
      "Name            minsu\n",
      "Email    ms@gmail.com\n",
      "id                  2\n",
      "Name: 1, dtype: object\n",
      "\n",
      "    Name           Email  id\n",
      "0  doori    dr@gmail.com   1\n",
      "1  minsu    ms@gmail.com   2\n",
      "2   data  data@gmail.com   3\n"
     ]
    }
   ],
   "source": [
    "name = [\"doori\", \"minsu\"]\n",
    "email = [\"dr@gmail.com\", \"ms@gmail.com\"]\n",
    "ids = [1, 2]\n",
    "dic = {\"Name\":name, \"Email\":email, \"id\": ids}\n",
    "df = pd.DataFrame(dic)\n",
    "print(df.loc[1])\n",
    "print()\n",
    "df.loc[2] = {\"Email\":\"data@gmail.com\", \"Name\":\"data\", \"id\":3}\n",
    "print(df)"
   ]
  },
  {
   "cell_type": "code",
   "execution_count": 242,
   "metadata": {},
   "outputs": [],
   "source": [
    "data = pd.DataFrame(columns=['Name', 'Email', 'id'], index=['one', 'two', 'three'], data=df.values)"
   ]
  },
  {
   "cell_type": "code",
   "execution_count": 243,
   "metadata": {},
   "outputs": [
    {
     "data": {
      "text/html": [
       "<div>\n",
       "<style scoped>\n",
       "    .dataframe tbody tr th:only-of-type {\n",
       "        vertical-align: middle;\n",
       "    }\n",
       "\n",
       "    .dataframe tbody tr th {\n",
       "        vertical-align: top;\n",
       "    }\n",
       "\n",
       "    .dataframe thead th {\n",
       "        text-align: right;\n",
       "    }\n",
       "</style>\n",
       "<table border=\"1\" class=\"dataframe\">\n",
       "  <thead>\n",
       "    <tr style=\"text-align: right;\">\n",
       "      <th></th>\n",
       "      <th>Name</th>\n",
       "      <th>Email</th>\n",
       "      <th>id</th>\n",
       "    </tr>\n",
       "  </thead>\n",
       "  <tbody>\n",
       "    <tr>\n",
       "      <th>one</th>\n",
       "      <td>doori</td>\n",
       "      <td>dr@gmail.com</td>\n",
       "      <td>1</td>\n",
       "    </tr>\n",
       "    <tr>\n",
       "      <th>two</th>\n",
       "      <td>minsu</td>\n",
       "      <td>ms@gmail.com</td>\n",
       "      <td>2</td>\n",
       "    </tr>\n",
       "    <tr>\n",
       "      <th>three</th>\n",
       "      <td>data</td>\n",
       "      <td>data@gmail.com</td>\n",
       "      <td>3</td>\n",
       "    </tr>\n",
       "  </tbody>\n",
       "</table>\n",
       "</div>"
      ],
      "text/plain": [
       "        Name           Email id\n",
       "one    doori    dr@gmail.com  1\n",
       "two    minsu    ms@gmail.com  2\n",
       "three   data  data@gmail.com  3"
      ]
     },
     "execution_count": 243,
     "metadata": {},
     "output_type": "execute_result"
    }
   ],
   "source": [
    "data"
   ]
  },
  {
   "cell_type": "markdown",
   "metadata": {
    "id": "ucLjW1vpmqX6"
   },
   "source": [
    "loc를 이용하여 row를 선택"
   ]
  },
  {
   "cell_type": "code",
   "execution_count": 244,
   "metadata": {
    "colab": {
     "base_uri": "https://localhost:8080/"
    },
    "executionInfo": {
     "elapsed": 5,
     "status": "ok",
     "timestamp": 1661226206233,
     "user": {
      "displayName": "김도현",
      "userId": "01074377609887751305"
     },
     "user_tz": -540
    },
    "id": "Yd6hPu2GmqX6",
    "outputId": "673ddd0c-d280-47a0-8455-82055e9fedbd"
   },
   "outputs": [
    {
     "data": {
      "text/plain": [
       "Name            minsu\n",
       "Email    ms@gmail.com\n",
       "id                  2\n",
       "Name: 1, dtype: object"
      ]
     },
     "execution_count": 244,
     "metadata": {},
     "output_type": "execute_result"
    }
   ],
   "source": [
    "df.loc[1]"
   ]
  },
  {
   "cell_type": "markdown",
   "metadata": {
    "id": "-UUBO5wJmqX6"
   },
   "source": [
    "loc 이용해서 항상 가장 마지막에 넣는 방법"
   ]
  },
  {
   "cell_type": "code",
   "execution_count": 245,
   "metadata": {
    "colab": {
     "base_uri": "https://localhost:8080/",
     "height": 193
    },
    "executionInfo": {
     "elapsed": 2,
     "status": "ok",
     "timestamp": 1661226209954,
     "user": {
      "displayName": "김도현",
      "userId": "01074377609887751305"
     },
     "user_tz": -540
    },
    "id": "hFXCGbkumqX6",
    "outputId": "8d0b0db6-932a-4a22-89ab-1ca6a19d7182"
   },
   "outputs": [
    {
     "name": "stdout",
     "output_type": "stream",
     "text": [
      "3\n"
     ]
    },
    {
     "data": {
      "text/html": [
       "<div>\n",
       "<style scoped>\n",
       "    .dataframe tbody tr th:only-of-type {\n",
       "        vertical-align: middle;\n",
       "    }\n",
       "\n",
       "    .dataframe tbody tr th {\n",
       "        vertical-align: top;\n",
       "    }\n",
       "\n",
       "    .dataframe thead th {\n",
       "        text-align: right;\n",
       "    }\n",
       "</style>\n",
       "<table border=\"1\" class=\"dataframe\">\n",
       "  <thead>\n",
       "    <tr style=\"text-align: right;\">\n",
       "      <th></th>\n",
       "      <th>Name</th>\n",
       "      <th>Email</th>\n",
       "      <th>id</th>\n",
       "    </tr>\n",
       "  </thead>\n",
       "  <tbody>\n",
       "    <tr>\n",
       "      <th>0</th>\n",
       "      <td>doori</td>\n",
       "      <td>dr@gmail.com</td>\n",
       "      <td>1</td>\n",
       "    </tr>\n",
       "    <tr>\n",
       "      <th>1</th>\n",
       "      <td>minsu</td>\n",
       "      <td>ms@gmail.com</td>\n",
       "      <td>2</td>\n",
       "    </tr>\n",
       "    <tr>\n",
       "      <th>2</th>\n",
       "      <td>data</td>\n",
       "      <td>data@gmail.com</td>\n",
       "      <td>3</td>\n",
       "    </tr>\n",
       "    <tr>\n",
       "      <th>3</th>\n",
       "      <td>data2</td>\n",
       "      <td>data2@gmail.com</td>\n",
       "      <td>4</td>\n",
       "    </tr>\n",
       "  </tbody>\n",
       "</table>\n",
       "</div>"
      ],
      "text/plain": [
       "    Name            Email  id\n",
       "0  doori     dr@gmail.com   1\n",
       "1  minsu     ms@gmail.com   2\n",
       "2   data   data@gmail.com   3\n",
       "3  data2  data2@gmail.com   4"
      ]
     },
     "execution_count": 245,
     "metadata": {},
     "output_type": "execute_result"
    }
   ],
   "source": [
    "print(len(df))\n",
    "df.loc[len(df)] = {\"Email\":\"data2@gmail.com\", \"Name\":\"data2\", \"id\":4}\n",
    "df"
   ]
  },
  {
   "cell_type": "markdown",
   "metadata": {
    "id": "In9FaHTKmqX6"
   },
   "source": [
    "범위를 지정해서 row를 선택"
   ]
  },
  {
   "cell_type": "code",
   "execution_count": 246,
   "metadata": {
    "colab": {
     "base_uri": "https://localhost:8080/"
    },
    "executionInfo": {
     "elapsed": 2,
     "status": "ok",
     "timestamp": 1661226210463,
     "user": {
      "displayName": "김도현",
      "userId": "01074377609887751305"
     },
     "user_tz": -540
    },
    "id": "5UuyBiT4mqX6",
    "outputId": "d6f4f4a0-4bad-483f-b91d-4c36e40ee2f8"
   },
   "outputs": [
    {
     "name": "stdout",
     "output_type": "stream",
     "text": [
      "    Name            Email  id\n",
      "1  minsu     ms@gmail.com   2\n",
      "2   data   data@gmail.com   3\n",
      "3  data2  data2@gmail.com   4\n"
     ]
    }
   ],
   "source": [
    "print(df.loc[1:3])"
   ]
  },
  {
   "cell_type": "markdown",
   "metadata": {
    "id": "qdy7NCaomqX7"
   },
   "source": [
    "loc[rows, columns] 를 이용하여 row와 columns를 지정하여 데이터 출력"
   ]
  },
  {
   "cell_type": "code",
   "execution_count": 247,
   "metadata": {
    "colab": {
     "base_uri": "https://localhost:8080/"
    },
    "executionInfo": {
     "elapsed": 2,
     "status": "ok",
     "timestamp": 1661226211567,
     "user": {
      "displayName": "김도현",
      "userId": "01074377609887751305"
     },
     "user_tz": -540
    },
    "id": "EI-nXU8-mqX7",
    "outputId": "1df71845-5a5d-42b6-d53e-3bd5bb1bc1ca"
   },
   "outputs": [
    {
     "name": "stdout",
     "output_type": "stream",
     "text": [
      "             Email  id\n",
      "1     ms@gmail.com   2\n",
      "2   data@gmail.com   3\n",
      "3  data2@gmail.com   4\n"
     ]
    }
   ],
   "source": [
    "print(df.loc[1:3, [\"Email\", \"id\"]])"
   ]
  },
  {
   "cell_type": "markdown",
   "metadata": {
    "id": "R2vIUd7XmqX7"
   },
   "source": [
    "특정 row를 지정해서 가져올수 있습니다."
   ]
  },
  {
   "cell_type": "code",
   "execution_count": 248,
   "metadata": {
    "colab": {
     "base_uri": "https://localhost:8080/"
    },
    "executionInfo": {
     "elapsed": 1,
     "status": "ok",
     "timestamp": 1661226212132,
     "user": {
      "displayName": "김도현",
      "userId": "01074377609887751305"
     },
     "user_tz": -540
    },
    "id": "AZidKkcwmqX7",
    "outputId": "7c9c8436-bbc8-4508-ba0f-7d736ef77c58"
   },
   "outputs": [
    {
     "name": "stdout",
     "output_type": "stream",
     "text": [
      "             Email   Name\n",
      "1     ms@gmail.com  minsu\n",
      "3  data2@gmail.com  data2\n"
     ]
    }
   ],
   "source": [
    "print(df.loc[[1,3], [\"Email\",\"Name\"]])"
   ]
  },
  {
   "cell_type": "code",
   "execution_count": 249,
   "metadata": {
    "colab": {
     "base_uri": "https://localhost:8080/",
     "height": 175
    },
    "executionInfo": {
     "elapsed": 2,
     "status": "ok",
     "timestamp": 1661226212541,
     "user": {
      "displayName": "김도현",
      "userId": "01074377609887751305"
     },
     "user_tz": -540
    },
    "id": "Tz_xn7IuWn-2",
    "outputId": "e3d87e0b-7d73-4399-ca66-2b5ee6006c06"
   },
   "outputs": [
    {
     "data": {
      "text/html": [
       "<div>\n",
       "<style scoped>\n",
       "    .dataframe tbody tr th:only-of-type {\n",
       "        vertical-align: middle;\n",
       "    }\n",
       "\n",
       "    .dataframe tbody tr th {\n",
       "        vertical-align: top;\n",
       "    }\n",
       "\n",
       "    .dataframe thead th {\n",
       "        text-align: right;\n",
       "    }\n",
       "</style>\n",
       "<table border=\"1\" class=\"dataframe\">\n",
       "  <thead>\n",
       "    <tr style=\"text-align: right;\">\n",
       "      <th></th>\n",
       "      <th>Name</th>\n",
       "      <th>Email</th>\n",
       "      <th>id</th>\n",
       "    </tr>\n",
       "  </thead>\n",
       "  <tbody>\n",
       "    <tr>\n",
       "      <th>0</th>\n",
       "      <td>doori</td>\n",
       "      <td>dr@gmail.com</td>\n",
       "      <td>1</td>\n",
       "    </tr>\n",
       "    <tr>\n",
       "      <th>1</th>\n",
       "      <td>minsu</td>\n",
       "      <td>ms@gmail.com</td>\n",
       "      <td>2</td>\n",
       "    </tr>\n",
       "    <tr>\n",
       "      <th>2</th>\n",
       "      <td>data</td>\n",
       "      <td>data@gmail.com</td>\n",
       "      <td>3</td>\n",
       "    </tr>\n",
       "    <tr>\n",
       "      <th>3</th>\n",
       "      <td>data2</td>\n",
       "      <td>data2@gmail.com</td>\n",
       "      <td>4</td>\n",
       "    </tr>\n",
       "  </tbody>\n",
       "</table>\n",
       "</div>"
      ],
      "text/plain": [
       "    Name            Email  id\n",
       "0  doori     dr@gmail.com   1\n",
       "1  minsu     ms@gmail.com   2\n",
       "2   data   data@gmail.com   3\n",
       "3  data2  data2@gmail.com   4"
      ]
     },
     "execution_count": 249,
     "metadata": {},
     "output_type": "execute_result"
    }
   ],
   "source": [
    "df"
   ]
  },
  {
   "cell_type": "markdown",
   "metadata": {
    "id": "jyixopDimqX7"
   },
   "source": [
    "#### 2.2.2 column\n",
    "- `[\"컬럼명\"]`을 이용하여 column을 추가할수 있습니다."
   ]
  },
  {
   "cell_type": "markdown",
   "metadata": {
    "id": "dXAddMbLmqX7"
   },
   "source": [
    "브로드 캐스팅으로 공백 문자가 들어갑니다."
   ]
  },
  {
   "cell_type": "code",
   "execution_count": 250,
   "metadata": {
    "colab": {
     "base_uri": "https://localhost:8080/"
    },
    "executionInfo": {
     "elapsed": 412,
     "status": "ok",
     "timestamp": 1661226215001,
     "user": {
      "displayName": "김도현",
      "userId": "01074377609887751305"
     },
     "user_tz": -540
    },
    "id": "hD8xWrrDmqX7",
    "outputId": "98a6c194-9c8e-4c62-834b-f42150aac5c8"
   },
   "outputs": [
    {
     "name": "stdout",
     "output_type": "stream",
     "text": [
      "    Name            Email  id Address\n",
      "0  doori     dr@gmail.com   1        \n",
      "1  minsu     ms@gmail.com   2        \n",
      "2   data   data@gmail.com   3        \n",
      "3  data2  data2@gmail.com   4        \n"
     ]
    }
   ],
   "source": [
    "df[\"Address\"] = \"\"\n",
    "print(df)"
   ]
  },
  {
   "cell_type": "markdown",
   "metadata": {
    "id": "dGzR6fZzmqX7"
   },
   "source": [
    "- 리스트를 대입해주면 리스트의 데이터가 들어갑니다.\n",
    "- 데이터 프레임의 row수와 리스트의 갯수가 맞지 않으면 에러가 발생합니다."
   ]
  },
  {
   "cell_type": "code",
   "execution_count": 251,
   "metadata": {},
   "outputs": [],
   "source": [
    "df = df.loc[:3]"
   ]
  },
  {
   "cell_type": "code",
   "execution_count": 252,
   "metadata": {
    "colab": {
     "base_uri": "https://localhost:8080/"
    },
    "executionInfo": {
     "elapsed": 2,
     "status": "ok",
     "timestamp": 1661226216029,
     "user": {
      "displayName": "김도현",
      "userId": "01074377609887751305"
     },
     "user_tz": -540
    },
    "id": "u9ZnqOm3mqX7",
    "outputId": "873b3c7d-bf88-4e5a-d6e2-096cf77c89a8"
   },
   "outputs": [
    {
     "name": "stdout",
     "output_type": "stream",
     "text": [
      "    Name            Email  id Address\n",
      "0  doori     dr@gmail.com   1   Seoul\n",
      "1  minsu     ms@gmail.com   2   Busan\n",
      "2   data   data@gmail.com   3    Jeju\n",
      "3  data2  data2@gmail.com   4   Deagu\n"
     ]
    }
   ],
   "source": [
    "df[\"Address\"] = [\"Seoul\", \"Busan\", \"Jeju\", \"Deagu\"]\n",
    "print(df)"
   ]
  },
  {
   "cell_type": "code",
   "execution_count": 253,
   "metadata": {},
   "outputs": [
    {
     "data": {
      "text/plain": [
       "0    Seoul\n",
       "1    Busan\n",
       "2     Jeju\n",
       "3    Deagu\n",
       "Name: Address, dtype: object"
      ]
     },
     "execution_count": 253,
     "metadata": {},
     "output_type": "execute_result"
    }
   ],
   "source": [
    "df[\"Address\"]"
   ]
  },
  {
   "cell_type": "code",
   "execution_count": 254,
   "metadata": {},
   "outputs": [
    {
     "data": {
      "text/html": [
       "<div>\n",
       "<style scoped>\n",
       "    .dataframe tbody tr th:only-of-type {\n",
       "        vertical-align: middle;\n",
       "    }\n",
       "\n",
       "    .dataframe tbody tr th {\n",
       "        vertical-align: top;\n",
       "    }\n",
       "\n",
       "    .dataframe thead th {\n",
       "        text-align: right;\n",
       "    }\n",
       "</style>\n",
       "<table border=\"1\" class=\"dataframe\">\n",
       "  <thead>\n",
       "    <tr style=\"text-align: right;\">\n",
       "      <th></th>\n",
       "      <th>Address</th>\n",
       "    </tr>\n",
       "  </thead>\n",
       "  <tbody>\n",
       "    <tr>\n",
       "      <th>0</th>\n",
       "      <td>Seoul</td>\n",
       "    </tr>\n",
       "    <tr>\n",
       "      <th>1</th>\n",
       "      <td>Busan</td>\n",
       "    </tr>\n",
       "    <tr>\n",
       "      <th>2</th>\n",
       "      <td>Jeju</td>\n",
       "    </tr>\n",
       "    <tr>\n",
       "      <th>3</th>\n",
       "      <td>Deagu</td>\n",
       "    </tr>\n",
       "  </tbody>\n",
       "</table>\n",
       "</div>"
      ],
      "text/plain": [
       "  Address\n",
       "0   Seoul\n",
       "1   Busan\n",
       "2    Jeju\n",
       "3   Deagu"
      ]
     },
     "execution_count": 254,
     "metadata": {},
     "output_type": "execute_result"
    }
   ],
   "source": [
    "df[[\"Address\"]]  # dataframe 형태"
   ]
  },
  {
   "cell_type": "code",
   "execution_count": 255,
   "metadata": {},
   "outputs": [
    {
     "data": {
      "text/plain": [
       "pandas.core.series.Series"
      ]
     },
     "execution_count": 255,
     "metadata": {},
     "output_type": "execute_result"
    }
   ],
   "source": [
    "type(df[\"Address\"])"
   ]
  },
  {
   "cell_type": "code",
   "execution_count": 256,
   "metadata": {},
   "outputs": [
    {
     "data": {
      "text/plain": [
       "pandas.core.frame.DataFrame"
      ]
     },
     "execution_count": 256,
     "metadata": {},
     "output_type": "execute_result"
    }
   ],
   "source": [
    "type(df[[\"Address\"]])"
   ]
  },
  {
   "cell_type": "code",
   "execution_count": 257,
   "metadata": {
    "colab": {
     "base_uri": "https://localhost:8080/",
     "height": 175
    },
    "executionInfo": {
     "elapsed": 3,
     "status": "ok",
     "timestamp": 1661226217566,
     "user": {
      "displayName": "김도현",
      "userId": "01074377609887751305"
     },
     "user_tz": -540
    },
    "id": "_BOXAQMlmqX7",
    "outputId": "c0fc5c61-4d08-4743-b132-b7d0d3d1bc19"
   },
   "outputs": [
    {
     "data": {
      "text/html": [
       "<div>\n",
       "<style scoped>\n",
       "    .dataframe tbody tr th:only-of-type {\n",
       "        vertical-align: middle;\n",
       "    }\n",
       "\n",
       "    .dataframe tbody tr th {\n",
       "        vertical-align: top;\n",
       "    }\n",
       "\n",
       "    .dataframe thead th {\n",
       "        text-align: right;\n",
       "    }\n",
       "</style>\n",
       "<table border=\"1\" class=\"dataframe\">\n",
       "  <thead>\n",
       "    <tr style=\"text-align: right;\">\n",
       "      <th></th>\n",
       "      <th>Address</th>\n",
       "      <th>Email</th>\n",
       "    </tr>\n",
       "  </thead>\n",
       "  <tbody>\n",
       "    <tr>\n",
       "      <th>0</th>\n",
       "      <td>Seoul</td>\n",
       "      <td>dr@gmail.com</td>\n",
       "    </tr>\n",
       "    <tr>\n",
       "      <th>1</th>\n",
       "      <td>Busan</td>\n",
       "      <td>ms@gmail.com</td>\n",
       "    </tr>\n",
       "    <tr>\n",
       "      <th>2</th>\n",
       "      <td>Jeju</td>\n",
       "      <td>data@gmail.com</td>\n",
       "    </tr>\n",
       "    <tr>\n",
       "      <th>3</th>\n",
       "      <td>Deagu</td>\n",
       "      <td>data2@gmail.com</td>\n",
       "    </tr>\n",
       "  </tbody>\n",
       "</table>\n",
       "</div>"
      ],
      "text/plain": [
       "  Address            Email\n",
       "0   Seoul     dr@gmail.com\n",
       "1   Busan     ms@gmail.com\n",
       "2    Jeju   data@gmail.com\n",
       "3   Deagu  data2@gmail.com"
      ]
     },
     "execution_count": 257,
     "metadata": {},
     "output_type": "execute_result"
    }
   ],
   "source": [
    "df[[\"Address\", \"Email\"]]"
   ]
  },
  {
   "cell_type": "code",
   "execution_count": 258,
   "metadata": {
    "colab": {
     "base_uri": "https://localhost:8080/",
     "height": 175
    },
    "executionInfo": {
     "elapsed": 3,
     "status": "ok",
     "timestamp": 1661226218029,
     "user": {
      "displayName": "김도현",
      "userId": "01074377609887751305"
     },
     "user_tz": -540
    },
    "id": "3wXpQb2dW8Q_",
    "outputId": "646f843d-c90e-4bf6-fa90-b4dd6927b0b7"
   },
   "outputs": [
    {
     "data": {
      "text/html": [
       "<div>\n",
       "<style scoped>\n",
       "    .dataframe tbody tr th:only-of-type {\n",
       "        vertical-align: middle;\n",
       "    }\n",
       "\n",
       "    .dataframe tbody tr th {\n",
       "        vertical-align: top;\n",
       "    }\n",
       "\n",
       "    .dataframe thead th {\n",
       "        text-align: right;\n",
       "    }\n",
       "</style>\n",
       "<table border=\"1\" class=\"dataframe\">\n",
       "  <thead>\n",
       "    <tr style=\"text-align: right;\">\n",
       "      <th></th>\n",
       "      <th>Name</th>\n",
       "      <th>Email</th>\n",
       "      <th>id</th>\n",
       "      <th>Address</th>\n",
       "    </tr>\n",
       "  </thead>\n",
       "  <tbody>\n",
       "    <tr>\n",
       "      <th>0</th>\n",
       "      <td>doori</td>\n",
       "      <td>dr@gmail.com</td>\n",
       "      <td>1</td>\n",
       "      <td>Seoul</td>\n",
       "    </tr>\n",
       "    <tr>\n",
       "      <th>1</th>\n",
       "      <td>minsu</td>\n",
       "      <td>ms@gmail.com</td>\n",
       "      <td>2</td>\n",
       "      <td>Busan</td>\n",
       "    </tr>\n",
       "    <tr>\n",
       "      <th>2</th>\n",
       "      <td>data</td>\n",
       "      <td>data@gmail.com</td>\n",
       "      <td>3</td>\n",
       "      <td>Jeju</td>\n",
       "    </tr>\n",
       "    <tr>\n",
       "      <th>3</th>\n",
       "      <td>data2</td>\n",
       "      <td>data2@gmail.com</td>\n",
       "      <td>4</td>\n",
       "      <td>Deagu</td>\n",
       "    </tr>\n",
       "  </tbody>\n",
       "</table>\n",
       "</div>"
      ],
      "text/plain": [
       "    Name            Email  id Address\n",
       "0  doori     dr@gmail.com   1   Seoul\n",
       "1  minsu     ms@gmail.com   2   Busan\n",
       "2   data   data@gmail.com   3    Jeju\n",
       "3  data2  data2@gmail.com   4   Deagu"
      ]
     },
     "execution_count": 258,
     "metadata": {},
     "output_type": "execute_result"
    }
   ],
   "source": [
    "df"
   ]
  },
  {
   "cell_type": "code",
   "execution_count": 259,
   "metadata": {},
   "outputs": [
    {
     "data": {
      "text/html": [
       "<div>\n",
       "<style scoped>\n",
       "    .dataframe tbody tr th:only-of-type {\n",
       "        vertical-align: middle;\n",
       "    }\n",
       "\n",
       "    .dataframe tbody tr th {\n",
       "        vertical-align: top;\n",
       "    }\n",
       "\n",
       "    .dataframe thead th {\n",
       "        text-align: right;\n",
       "    }\n",
       "</style>\n",
       "<table border=\"1\" class=\"dataframe\">\n",
       "  <thead>\n",
       "    <tr style=\"text-align: right;\">\n",
       "      <th></th>\n",
       "      <th>Name</th>\n",
       "      <th>Email</th>\n",
       "      <th>id</th>\n",
       "      <th>Address</th>\n",
       "    </tr>\n",
       "  </thead>\n",
       "  <tbody>\n",
       "    <tr>\n",
       "      <th>0</th>\n",
       "      <td>doori</td>\n",
       "      <td>dr@gmail.com</td>\n",
       "      <td>1</td>\n",
       "      <td>Seoul</td>\n",
       "    </tr>\n",
       "    <tr>\n",
       "      <th>1</th>\n",
       "      <td>minsu</td>\n",
       "      <td>ms@gmail.com</td>\n",
       "      <td>2</td>\n",
       "      <td>Busan</td>\n",
       "    </tr>\n",
       "    <tr>\n",
       "      <th>2</th>\n",
       "      <td>data</td>\n",
       "      <td>data@gmail.com</td>\n",
       "      <td>3</td>\n",
       "      <td>Jeju</td>\n",
       "    </tr>\n",
       "    <tr>\n",
       "      <th>3</th>\n",
       "      <td>data2</td>\n",
       "      <td>data2@gmail.com</td>\n",
       "      <td>4</td>\n",
       "      <td>Deagu</td>\n",
       "    </tr>\n",
       "  </tbody>\n",
       "</table>\n",
       "</div>"
      ],
      "text/plain": [
       "    Name            Email  id Address\n",
       "0  doori     dr@gmail.com   1   Seoul\n",
       "1  minsu     ms@gmail.com   2   Busan\n",
       "2   data   data@gmail.com   3    Jeju\n",
       "3  data2  data2@gmail.com   4   Deagu"
      ]
     },
     "execution_count": 259,
     "metadata": {},
     "output_type": "execute_result"
    }
   ],
   "source": [
    "df"
   ]
  },
  {
   "cell_type": "code",
   "execution_count": 260,
   "metadata": {},
   "outputs": [
    {
     "data": {
      "text/plain": [
       "4"
      ]
     },
     "execution_count": 260,
     "metadata": {},
     "output_type": "execute_result"
    }
   ],
   "source": [
    "len(df)"
   ]
  },
  {
   "cell_type": "markdown",
   "metadata": {
    "id": "owOdQNbI2-Kb"
   },
   "source": [
    "---"
   ]
  },
  {
   "cell_type": "markdown",
   "metadata": {
    "id": "iDyYAj_aGKPf"
   },
   "source": [
    "아래와 같이 정의된 df2에 Name은 sora, Email은 sora23@gmail.com, id는 5, Address는 Incheon 으로 된 행을 하나 추가해 보세요."
   ]
  },
  {
   "cell_type": "code",
   "execution_count": 261,
   "metadata": {
    "colab": {
     "base_uri": "https://localhost:8080/",
     "height": 206
    },
    "executionInfo": {
     "elapsed": 441,
     "status": "ok",
     "timestamp": 1661227132941,
     "user": {
      "displayName": "김도현",
      "userId": "01074377609887751305"
     },
     "user_tz": -540
    },
    "id": "cNC_QMWwGgkq",
    "outputId": "82ebd5e0-ed1a-4489-cf3f-2e4303a4620d"
   },
   "outputs": [],
   "source": [
    "import copy  # 얕은 복사(메모리 공유) vs 깊은 복사(완전히 새롭게 다른 곳에 저장) → deepcopy\n",
    "df2 = copy.deepcopy(df)  # 깊은 복사다!"
   ]
  },
  {
   "cell_type": "code",
   "execution_count": 262,
   "metadata": {
    "colab": {
     "base_uri": "https://localhost:8080/",
     "height": 206
    },
    "executionInfo": {
     "elapsed": 441,
     "status": "ok",
     "timestamp": 1661227132941,
     "user": {
      "displayName": "김도현",
      "userId": "01074377609887751305"
     },
     "user_tz": -540
    },
    "id": "cNC_QMWwGgkq",
    "outputId": "82ebd5e0-ed1a-4489-cf3f-2e4303a4620d"
   },
   "outputs": [
    {
     "data": {
      "text/html": [
       "<div>\n",
       "<style scoped>\n",
       "    .dataframe tbody tr th:only-of-type {\n",
       "        vertical-align: middle;\n",
       "    }\n",
       "\n",
       "    .dataframe tbody tr th {\n",
       "        vertical-align: top;\n",
       "    }\n",
       "\n",
       "    .dataframe thead th {\n",
       "        text-align: right;\n",
       "    }\n",
       "</style>\n",
       "<table border=\"1\" class=\"dataframe\">\n",
       "  <thead>\n",
       "    <tr style=\"text-align: right;\">\n",
       "      <th></th>\n",
       "      <th>Name</th>\n",
       "      <th>Email</th>\n",
       "      <th>id</th>\n",
       "      <th>Address</th>\n",
       "    </tr>\n",
       "  </thead>\n",
       "  <tbody>\n",
       "    <tr>\n",
       "      <th>0</th>\n",
       "      <td>doori</td>\n",
       "      <td>dr@gmail.com</td>\n",
       "      <td>1</td>\n",
       "      <td>Seoul</td>\n",
       "    </tr>\n",
       "    <tr>\n",
       "      <th>1</th>\n",
       "      <td>minsu</td>\n",
       "      <td>ms@gmail.com</td>\n",
       "      <td>2</td>\n",
       "      <td>Busan</td>\n",
       "    </tr>\n",
       "    <tr>\n",
       "      <th>2</th>\n",
       "      <td>data</td>\n",
       "      <td>data@gmail.com</td>\n",
       "      <td>3</td>\n",
       "      <td>Jeju</td>\n",
       "    </tr>\n",
       "    <tr>\n",
       "      <th>3</th>\n",
       "      <td>data2</td>\n",
       "      <td>data2@gmail.com</td>\n",
       "      <td>4</td>\n",
       "      <td>Deagu</td>\n",
       "    </tr>\n",
       "    <tr>\n",
       "      <th>4</th>\n",
       "      <td>sora</td>\n",
       "      <td>sora23@gmail.com</td>\n",
       "      <td>5</td>\n",
       "      <td>Incheon</td>\n",
       "    </tr>\n",
       "  </tbody>\n",
       "</table>\n",
       "</div>"
      ],
      "text/plain": [
       "    Name             Email  id  Address\n",
       "0  doori      dr@gmail.com   1    Seoul\n",
       "1  minsu      ms@gmail.com   2    Busan\n",
       "2   data    data@gmail.com   3     Jeju\n",
       "3  data2   data2@gmail.com   4    Deagu\n",
       "4   sora  sora23@gmail.com   5  Incheon"
      ]
     },
     "execution_count": 262,
     "metadata": {},
     "output_type": "execute_result"
    }
   ],
   "source": [
    "df2.loc[len(df)] = {\"Name\":\"sora\", \"Email\":\"sora23@gmail.com\", \"id\":5, \"Address\":\"Incheon\"}\n",
    "# df2.loc[len(df)] = [\"sora\", \"sora23@gmail.com\", 5, \"Incheon\"]  # 리스트로 담아도 된다\n",
    "df2"
   ]
  },
  {
   "cell_type": "markdown",
   "metadata": {
    "id": "ynVg-75q2_Rl"
   },
   "source": [
    "---"
   ]
  },
  {
   "cell_type": "markdown",
   "metadata": {
    "id": "lOSETN7AmqX7"
   },
   "source": [
    "### 2.3 apply\n",
    "- 함수를 사용해서 함수의 리턴값으로 Series를 만들어 새로운 컬럼을 생성할수 있습니다.\n",
    "- 연산 함수"
   ]
  },
  {
   "cell_type": "code",
   "execution_count": 263,
   "metadata": {
    "colab": {
     "base_uri": "https://localhost:8080/",
     "height": 175
    },
    "executionInfo": {
     "elapsed": 572,
     "status": "ok",
     "timestamp": 1661227244973,
     "user": {
      "displayName": "김도현",
      "userId": "01074377609887751305"
     },
     "user_tz": -540
    },
    "id": "bb7f7LptHUVu",
    "outputId": "679bcb9c-d8bf-42b3-f17c-ffaeead78375"
   },
   "outputs": [
    {
     "data": {
      "text/html": [
       "<div>\n",
       "<style scoped>\n",
       "    .dataframe tbody tr th:only-of-type {\n",
       "        vertical-align: middle;\n",
       "    }\n",
       "\n",
       "    .dataframe tbody tr th {\n",
       "        vertical-align: top;\n",
       "    }\n",
       "\n",
       "    .dataframe thead th {\n",
       "        text-align: right;\n",
       "    }\n",
       "</style>\n",
       "<table border=\"1\" class=\"dataframe\">\n",
       "  <thead>\n",
       "    <tr style=\"text-align: right;\">\n",
       "      <th></th>\n",
       "      <th>Name</th>\n",
       "      <th>Email</th>\n",
       "      <th>id</th>\n",
       "      <th>Address</th>\n",
       "    </tr>\n",
       "  </thead>\n",
       "  <tbody>\n",
       "    <tr>\n",
       "      <th>0</th>\n",
       "      <td>doori</td>\n",
       "      <td>dr@gmail.com</td>\n",
       "      <td>1</td>\n",
       "      <td>Seoul</td>\n",
       "    </tr>\n",
       "    <tr>\n",
       "      <th>1</th>\n",
       "      <td>minsu</td>\n",
       "      <td>ms@gmail.com</td>\n",
       "      <td>2</td>\n",
       "      <td>Busan</td>\n",
       "    </tr>\n",
       "    <tr>\n",
       "      <th>2</th>\n",
       "      <td>data</td>\n",
       "      <td>data@gmail.com</td>\n",
       "      <td>3</td>\n",
       "      <td>Jeju</td>\n",
       "    </tr>\n",
       "    <tr>\n",
       "      <th>3</th>\n",
       "      <td>data2</td>\n",
       "      <td>data2@gmail.com</td>\n",
       "      <td>4</td>\n",
       "      <td>Deagu</td>\n",
       "    </tr>\n",
       "  </tbody>\n",
       "</table>\n",
       "</div>"
      ],
      "text/plain": [
       "    Name            Email  id Address\n",
       "0  doori     dr@gmail.com   1   Seoul\n",
       "1  minsu     ms@gmail.com   2   Busan\n",
       "2   data   data@gmail.com   3    Jeju\n",
       "3  data2  data2@gmail.com   4   Deagu"
      ]
     },
     "execution_count": 263,
     "metadata": {},
     "output_type": "execute_result"
    }
   ],
   "source": [
    "df"
   ]
  },
  {
   "cell_type": "markdown",
   "metadata": {},
   "source": [
    "##### 함수"
   ]
  },
  {
   "cell_type": "code",
   "execution_count": 264,
   "metadata": {},
   "outputs": [],
   "source": [
    "def myfunc(x):\n",
    "    output = x + 5\n",
    "    return output"
   ]
  },
  {
   "cell_type": "code",
   "execution_count": 265,
   "metadata": {},
   "outputs": [
    {
     "data": {
      "text/plain": [
       "7"
      ]
     },
     "execution_count": 265,
     "metadata": {},
     "output_type": "execute_result"
    }
   ],
   "source": [
    "myfunc(2)"
   ]
  },
  {
   "cell_type": "code",
   "execution_count": 266,
   "metadata": {},
   "outputs": [
    {
     "data": {
      "text/plain": [
       "7"
      ]
     },
     "execution_count": 266,
     "metadata": {},
     "output_type": "execute_result"
    }
   ],
   "source": [
    "(lambda x: x+5)(2)"
   ]
  },
  {
   "cell_type": "code",
   "execution_count": 267,
   "metadata": {},
   "outputs": [
    {
     "data": {
      "text/plain": [
       "0    doori\n",
       "1    minsu\n",
       "2     data\n",
       "3    data2\n",
       "Name: Name, dtype: object"
      ]
     },
     "execution_count": 267,
     "metadata": {},
     "output_type": "execute_result"
    }
   ],
   "source": [
    "df['Name']  # Seires 형태이다"
   ]
  },
  {
   "cell_type": "code",
   "execution_count": 268,
   "metadata": {},
   "outputs": [
    {
     "data": {
      "text/plain": [
       "'doo'"
      ]
     },
     "execution_count": 268,
     "metadata": {},
     "output_type": "execute_result"
    }
   ],
   "source": [
    "'doori'[:3]"
   ]
  },
  {
   "cell_type": "code",
   "execution_count": 269,
   "metadata": {},
   "outputs": [
    {
     "name": "stdout",
     "output_type": "stream",
     "text": [
      "doori\n",
      "minsu\n",
      "data\n",
      "data2\n"
     ]
    },
    {
     "data": {
      "text/plain": [
       "0    None\n",
       "1    None\n",
       "2    None\n",
       "3    None\n",
       "Name: Name, dtype: object"
      ]
     },
     "execution_count": 269,
     "metadata": {},
     "output_type": "execute_result"
    }
   ],
   "source": [
    "df['Name'].apply(lambda x: print(x))  # Series 각각 값들에 대해서 각각 이 함수에 넣어 실행하라"
   ]
  },
  {
   "cell_type": "code",
   "execution_count": 270,
   "metadata": {},
   "outputs": [
    {
     "data": {
      "text/plain": [
       "0    doo\n",
       "1    min\n",
       "2    dat\n",
       "3    dat\n",
       "Name: Name, dtype: object"
      ]
     },
     "execution_count": 270,
     "metadata": {},
     "output_type": "execute_result"
    }
   ],
   "source": [
    "df['Name'].apply(lambda x: x[:3])"
   ]
  },
  {
   "cell_type": "code",
   "execution_count": 271,
   "metadata": {},
   "outputs": [
    {
     "data": {
      "text/plain": [
       "0    5\n",
       "1    5\n",
       "2    4\n",
       "3    5\n",
       "Name: Name, dtype: int64"
      ]
     },
     "execution_count": 271,
     "metadata": {},
     "output_type": "execute_result"
    }
   ],
   "source": [
    "df['Name'].apply(lambda x: len(x))"
   ]
  },
  {
   "cell_type": "code",
   "execution_count": 272,
   "metadata": {},
   "outputs": [
    {
     "data": {
      "text/plain": [
       "0    5\n",
       "1    5\n",
       "2    4\n",
       "3    5\n",
       "Name: Name, dtype: int64"
      ]
     },
     "execution_count": 272,
     "metadata": {},
     "output_type": "execute_result"
    }
   ],
   "source": [
    "df['Name'].apply(len)  # len은 이미 정의되어 있는 함수이기 때문에 lambda 안 써도 가능"
   ]
  },
  {
   "cell_type": "code",
   "execution_count": 273,
   "metadata": {},
   "outputs": [
    {
     "data": {
      "text/plain": [
       "0    doori\n",
       "1    minsu\n",
       "2     data\n",
       "3    data2\n",
       "Name: Name, dtype: object"
      ]
     },
     "execution_count": 273,
     "metadata": {},
     "output_type": "execute_result"
    }
   ],
   "source": [
    "df['Name']  # Series 값들"
   ]
  },
  {
   "cell_type": "code",
   "execution_count": 274,
   "metadata": {
    "colab": {
     "base_uri": "https://localhost:8080/",
     "height": 175
    },
    "executionInfo": {
     "elapsed": 4,
     "status": "ok",
     "timestamp": 1661227244974,
     "user": {
      "displayName": "김도현",
      "userId": "01074377609887751305"
     },
     "user_tz": -540
    },
    "id": "pR5Ymy_fmqX8",
    "outputId": "7024ca1c-ac9a-4ce4-dd57-629ae2166e89"
   },
   "outputs": [
    {
     "data": {
      "text/html": [
       "<div>\n",
       "<style scoped>\n",
       "    .dataframe tbody tr th:only-of-type {\n",
       "        vertical-align: middle;\n",
       "    }\n",
       "\n",
       "    .dataframe tbody tr th {\n",
       "        vertical-align: top;\n",
       "    }\n",
       "\n",
       "    .dataframe thead th {\n",
       "        text-align: right;\n",
       "    }\n",
       "</style>\n",
       "<table border=\"1\" class=\"dataframe\">\n",
       "  <thead>\n",
       "    <tr style=\"text-align: right;\">\n",
       "      <th></th>\n",
       "      <th>Name</th>\n",
       "      <th>Email</th>\n",
       "      <th>id</th>\n",
       "      <th>Address</th>\n",
       "      <th>Name_Count</th>\n",
       "    </tr>\n",
       "  </thead>\n",
       "  <tbody>\n",
       "    <tr>\n",
       "      <th>0</th>\n",
       "      <td>doori</td>\n",
       "      <td>dr@gmail.com</td>\n",
       "      <td>1</td>\n",
       "      <td>Seoul</td>\n",
       "      <td>doori(5)</td>\n",
       "    </tr>\n",
       "    <tr>\n",
       "      <th>1</th>\n",
       "      <td>minsu</td>\n",
       "      <td>ms@gmail.com</td>\n",
       "      <td>2</td>\n",
       "      <td>Busan</td>\n",
       "      <td>minsu(5)</td>\n",
       "    </tr>\n",
       "    <tr>\n",
       "      <th>2</th>\n",
       "      <td>data</td>\n",
       "      <td>data@gmail.com</td>\n",
       "      <td>3</td>\n",
       "      <td>Jeju</td>\n",
       "      <td>data(4)</td>\n",
       "    </tr>\n",
       "    <tr>\n",
       "      <th>3</th>\n",
       "      <td>data2</td>\n",
       "      <td>data2@gmail.com</td>\n",
       "      <td>4</td>\n",
       "      <td>Deagu</td>\n",
       "      <td>data2(5)</td>\n",
       "    </tr>\n",
       "  </tbody>\n",
       "</table>\n",
       "</div>"
      ],
      "text/plain": [
       "    Name            Email  id Address Name_Count\n",
       "0  doori     dr@gmail.com   1   Seoul   doori(5)\n",
       "1  minsu     ms@gmail.com   2   Busan   minsu(5)\n",
       "2   data   data@gmail.com   3    Jeju    data(4)\n",
       "3  data2  data2@gmail.com   4   Deagu   data2(5)"
      ]
     },
     "execution_count": 274,
     "metadata": {},
     "output_type": "execute_result"
    }
   ],
   "source": [
    "def count_char(name):\n",
    "    return \"{}({})\".format(name, len(name))  # format을 이용한 출력 방법\n",
    "\n",
    "df[\"Name_Count\"] = df[\"Name\"].apply(count_char)\n",
    "df"
   ]
  },
  {
   "cell_type": "markdown",
   "metadata": {
    "id": "OBlC_pNfmqX8"
   },
   "source": [
    "람다 함수를 사용"
   ]
  },
  {
   "cell_type": "code",
   "execution_count": 275,
   "metadata": {
    "colab": {
     "base_uri": "https://localhost:8080/",
     "height": 175
    },
    "executionInfo": {
     "elapsed": 524,
     "status": "ok",
     "timestamp": 1661227245494,
     "user": {
      "displayName": "김도현",
      "userId": "01074377609887751305"
     },
     "user_tz": -540
    },
    "id": "S8Xb6mgnmqX8",
    "outputId": "164bf6d5-e1a8-4822-f269-00c364205b0c"
   },
   "outputs": [
    {
     "data": {
      "text/html": [
       "<div>\n",
       "<style scoped>\n",
       "    .dataframe tbody tr th:only-of-type {\n",
       "        vertical-align: middle;\n",
       "    }\n",
       "\n",
       "    .dataframe tbody tr th {\n",
       "        vertical-align: top;\n",
       "    }\n",
       "\n",
       "    .dataframe thead th {\n",
       "        text-align: right;\n",
       "    }\n",
       "</style>\n",
       "<table border=\"1\" class=\"dataframe\">\n",
       "  <thead>\n",
       "    <tr style=\"text-align: right;\">\n",
       "      <th></th>\n",
       "      <th>Name</th>\n",
       "      <th>Email</th>\n",
       "      <th>id</th>\n",
       "      <th>Address</th>\n",
       "      <th>Name_Count</th>\n",
       "      <th>Address_Count</th>\n",
       "    </tr>\n",
       "  </thead>\n",
       "  <tbody>\n",
       "    <tr>\n",
       "      <th>0</th>\n",
       "      <td>doori</td>\n",
       "      <td>dr@gmail.com</td>\n",
       "      <td>1</td>\n",
       "      <td>Seoul</td>\n",
       "      <td>doori(5)</td>\n",
       "      <td>Seoul(5)</td>\n",
       "    </tr>\n",
       "    <tr>\n",
       "      <th>1</th>\n",
       "      <td>minsu</td>\n",
       "      <td>ms@gmail.com</td>\n",
       "      <td>2</td>\n",
       "      <td>Busan</td>\n",
       "      <td>minsu(5)</td>\n",
       "      <td>Busan(5)</td>\n",
       "    </tr>\n",
       "    <tr>\n",
       "      <th>2</th>\n",
       "      <td>data</td>\n",
       "      <td>data@gmail.com</td>\n",
       "      <td>3</td>\n",
       "      <td>Jeju</td>\n",
       "      <td>data(4)</td>\n",
       "      <td>Jeju(4)</td>\n",
       "    </tr>\n",
       "    <tr>\n",
       "      <th>3</th>\n",
       "      <td>data2</td>\n",
       "      <td>data2@gmail.com</td>\n",
       "      <td>4</td>\n",
       "      <td>Deagu</td>\n",
       "      <td>data2(5)</td>\n",
       "      <td>Deagu(5)</td>\n",
       "    </tr>\n",
       "  </tbody>\n",
       "</table>\n",
       "</div>"
      ],
      "text/plain": [
       "    Name            Email  id Address Name_Count Address_Count\n",
       "0  doori     dr@gmail.com   1   Seoul   doori(5)      Seoul(5)\n",
       "1  minsu     ms@gmail.com   2   Busan   minsu(5)      Busan(5)\n",
       "2   data   data@gmail.com   3    Jeju    data(4)       Jeju(4)\n",
       "3  data2  data2@gmail.com   4   Deagu   data2(5)      Deagu(5)"
      ]
     },
     "execution_count": 275,
     "metadata": {},
     "output_type": "execute_result"
    }
   ],
   "source": [
    "df[\"Address_Count\"] = df[\"Address\"].apply(lambda addr:\"{}({})\".format(addr, len(addr)))\n",
    "df"
   ]
  },
  {
   "cell_type": "markdown",
   "metadata": {
    "id": "uQeisevMmqX8"
   },
   "source": [
    "### 2.4 append\n",
    "- 데이터 프레임을 합치고 싶을때 append를 이용하여 데이터 프레임을 합칠수 있습니다."
   ]
  },
  {
   "cell_type": "code",
   "execution_count": 276,
   "metadata": {
    "colab": {
     "base_uri": "https://localhost:8080/",
     "height": 35
    },
    "executionInfo": {
     "elapsed": 3,
     "status": "ok",
     "timestamp": 1661227245495,
     "user": {
      "displayName": "김도현",
      "userId": "01074377609887751305"
     },
     "user_tz": -540
    },
    "id": "nhRVlg9YmqX8",
    "outputId": "f6501fd7-7f9e-4722-9e1e-4b15bb8b5fd1"
   },
   "outputs": [
    {
     "data": {
      "text/plain": [
       "'Andrew'"
      ]
     },
     "execution_count": 276,
     "metadata": {},
     "output_type": "execute_result"
    }
   ],
   "source": [
    "# 사람의 이름과 나이가 들어간 데이터를 만듭니다.\n",
    "import random\n",
    "\n",
    "# 랜던한 이름 출력하는 함수\n",
    "def get_name():\n",
    "    names = [\"Adam\", \"Alan\", \"Alex\", \"Alvin\", \"Andrew\", \"Anthony\", \"Arnold\", \"Jin\", \"Billy\", \"Anchal\"]\n",
    "    return random.choice(names)\n",
    "    \n",
    "get_name()"
   ]
  },
  {
   "cell_type": "code",
   "execution_count": 277,
   "metadata": {
    "colab": {
     "base_uri": "https://localhost:8080/"
    },
    "executionInfo": {
     "elapsed": 4,
     "status": "ok",
     "timestamp": 1661227246022,
     "user": {
      "displayName": "김도현",
      "userId": "01074377609887751305"
     },
     "user_tz": -540
    },
    "id": "iCFYHi-emqX8",
    "outputId": "8ae131dd-e3e0-445a-a39b-b4d805b51d73"
   },
   "outputs": [
    {
     "data": {
      "text/plain": [
       "37"
      ]
     },
     "execution_count": 277,
     "metadata": {},
     "output_type": "execute_result"
    }
   ],
   "source": [
    "# 랜덤한 나이 출력\n",
    "def get_age(start=20, end=40):\n",
    "    return np.random.randint(start, end + 1)\n",
    "\n",
    "get_age()"
   ]
  },
  {
   "cell_type": "code",
   "execution_count": 278,
   "metadata": {},
   "outputs": [
    {
     "data": {
      "text/plain": [
       "[9, 8]"
      ]
     },
     "execution_count": 278,
     "metadata": {},
     "output_type": "execute_result"
    }
   ],
   "source": [
    "mylist = []\n",
    "mylist.append(9)\n",
    "mylist.append(8)\n",
    "mylist"
   ]
  },
  {
   "cell_type": "code",
   "execution_count": 279,
   "metadata": {
    "colab": {
     "base_uri": "https://localhost:8080/"
    },
    "executionInfo": {
     "elapsed": 2,
     "status": "ok",
     "timestamp": 1661227246975,
     "user": {
      "displayName": "김도현",
      "userId": "01074377609887751305"
     },
     "user_tz": -540
    },
    "id": "TgKwdTygmqX8",
    "outputId": "100967da-9e98-407b-f24d-a6fb98e1e861"
   },
   "outputs": [
    {
     "data": {
      "text/plain": [
       "[{'Age': 29, 'Name': 'Adam'},\n",
       " {'Age': 20, 'Name': 'Jin'},\n",
       " {'Age': 22, 'Name': 'Billy'},\n",
       " {'Age': 20, 'Name': 'Alvin'},\n",
       " {'Age': 29, 'Name': 'Anthony'},\n",
       " {'Age': 32, 'Name': 'Alex'},\n",
       " {'Age': 32, 'Name': 'Andrew'},\n",
       " {'Age': 23, 'Name': 'Andrew'},\n",
       " {'Age': 28, 'Name': 'Anthony'},\n",
       " {'Age': 27, 'Name': 'Adam'}]"
      ]
     },
     "execution_count": 279,
     "metadata": {},
     "output_type": "execute_result"
    }
   ],
   "source": [
    "# 랜덤하게 나이와 이름을 출력\n",
    "def make_data(rows=10):\n",
    "    datas = []\n",
    "    for _ in range(rows):\n",
    "        data = {\"Age\":get_age(), \"Name\":get_name()}\n",
    "        datas.append(data)\n",
    "    return datas\n",
    "\n",
    "make_data()"
   ]
  },
  {
   "cell_type": "markdown",
   "metadata": {
    "id": "pHBZ0PDmmqX8"
   },
   "source": [
    "두개의 데이터 프레임을 만듦"
   ]
  },
  {
   "cell_type": "code",
   "execution_count": 326,
   "metadata": {
    "colab": {
     "base_uri": "https://localhost:8080/"
    },
    "executionInfo": {
     "elapsed": 1,
     "status": "ok",
     "timestamp": 1661227247851,
     "user": {
      "displayName": "김도현",
      "userId": "01074377609887751305"
     },
     "user_tz": -540
    },
    "id": "HVGM3tdrUUDh",
    "outputId": "6305ac07-f692-4e77-93b4-e0da8eaf0065"
   },
   "outputs": [
    {
     "name": "stdout",
     "output_type": "stream",
     "text": [
      "   Age    Name\n",
      "0   23    Adam\n",
      "1   32   Alvin\n",
      "2   33  Andrew\n",
      "   Age     Name\n",
      "0   25  Anthony\n",
      "1   34   Arnold\n",
      "2   31      Jin\n"
     ]
    }
   ],
   "source": [
    "name1 = [\"Adam\", \"Alvin\", \"Andrew\"]\n",
    "age1 = [23,32,33]\n",
    "name2 = [\"Anthony\", \"Arnold\", \"Jin\"]\n",
    "age2 = [25,34,31]\n",
    "dic1 = {\"Age\":age1, \"Name\":name1}\n",
    "dic2 = {\"Age\":age2, \"Name\":name2}\n",
    "df1 = pd.DataFrame(dic1)\n",
    "print(df1)\n",
    "df2 = pd.DataFrame(dic2)\n",
    "print(df2)"
   ]
  },
  {
   "cell_type": "code",
   "execution_count": 327,
   "metadata": {
    "colab": {
     "base_uri": "https://localhost:8080/"
    },
    "executionInfo": {
     "elapsed": 1,
     "status": "ok",
     "timestamp": 1661227247851,
     "user": {
      "displayName": "김도현",
      "userId": "01074377609887751305"
     },
     "user_tz": -540
    },
    "id": "HVGM3tdrUUDh",
    "outputId": "6305ac07-f692-4e77-93b4-e0da8eaf0065"
   },
   "outputs": [
    {
     "name": "stdout",
     "output_type": "stream",
     "text": [
      "   Age     Name\n",
      "0   23     Adam\n",
      "1   32    Alvin\n",
      "2   33   Andrew\n",
      "0   25  Anthony\n",
      "1   34   Arnold\n",
      "2   31      Jin\n"
     ]
    },
    {
     "name": "stderr",
     "output_type": "stream",
     "text": [
      "C:\\Users\\king5\\AppData\\Local\\Temp\\ipykernel_15136\\2858898568.py:1: FutureWarning: The frame.append method is deprecated and will be removed from pandas in a future version. Use pandas.concat instead.\n",
      "  df3 = df1.append(df2)\n"
     ]
    }
   ],
   "source": [
    "df3 = df1.append(df2)\n",
    "print(df3)"
   ]
  },
  {
   "cell_type": "code",
   "execution_count": 328,
   "metadata": {
    "colab": {
     "base_uri": "https://localhost:8080/",
     "height": 206
    },
    "executionInfo": {
     "elapsed": 3,
     "status": "ok",
     "timestamp": 1661227248866,
     "user": {
      "displayName": "김도현",
      "userId": "01074377609887751305"
     },
     "user_tz": -540
    },
    "id": "FoNdZs5xmqX8",
    "outputId": "83862738-b29b-49a0-d7dd-debba3f3cfd3"
   },
   "outputs": [
    {
     "data": {
      "text/html": [
       "<div>\n",
       "<style scoped>\n",
       "    .dataframe tbody tr th:only-of-type {\n",
       "        vertical-align: middle;\n",
       "    }\n",
       "\n",
       "    .dataframe tbody tr th {\n",
       "        vertical-align: top;\n",
       "    }\n",
       "\n",
       "    .dataframe thead th {\n",
       "        text-align: right;\n",
       "    }\n",
       "</style>\n",
       "<table border=\"1\" class=\"dataframe\">\n",
       "  <thead>\n",
       "    <tr style=\"text-align: right;\">\n",
       "      <th></th>\n",
       "      <th>Age</th>\n",
       "      <th>Name</th>\n",
       "    </tr>\n",
       "  </thead>\n",
       "  <tbody>\n",
       "    <tr>\n",
       "      <th>0</th>\n",
       "      <td>32</td>\n",
       "      <td>Arnold</td>\n",
       "    </tr>\n",
       "    <tr>\n",
       "      <th>1</th>\n",
       "      <td>34</td>\n",
       "      <td>Anthony</td>\n",
       "    </tr>\n",
       "    <tr>\n",
       "      <th>2</th>\n",
       "      <td>25</td>\n",
       "      <td>Andrew</td>\n",
       "    </tr>\n",
       "    <tr>\n",
       "      <th>3</th>\n",
       "      <td>33</td>\n",
       "      <td>Alvin</td>\n",
       "    </tr>\n",
       "    <tr>\n",
       "      <th>4</th>\n",
       "      <td>29</td>\n",
       "      <td>Alex</td>\n",
       "    </tr>\n",
       "  </tbody>\n",
       "</table>\n",
       "</div>"
      ],
      "text/plain": [
       "   Age     Name\n",
       "0   32   Arnold\n",
       "1   34  Anthony\n",
       "2   25   Andrew\n",
       "3   33    Alvin\n",
       "4   29     Alex"
      ]
     },
     "execution_count": 328,
     "metadata": {},
     "output_type": "execute_result"
    }
   ],
   "source": [
    "data1 = make_data(5)\n",
    "df1 = pd.DataFrame(data1)\n",
    "df1"
   ]
  },
  {
   "cell_type": "code",
   "execution_count": 329,
   "metadata": {
    "colab": {
     "base_uri": "https://localhost:8080/",
     "height": 206
    },
    "executionInfo": {
     "elapsed": 3,
     "status": "ok",
     "timestamp": 1661227249284,
     "user": {
      "displayName": "김도현",
      "userId": "01074377609887751305"
     },
     "user_tz": -540
    },
    "id": "8ndzskH3mqX8",
    "outputId": "3f5e18fb-aa1b-4245-cc51-4e4e6d22f07e"
   },
   "outputs": [
    {
     "data": {
      "text/html": [
       "<div>\n",
       "<style scoped>\n",
       "    .dataframe tbody tr th:only-of-type {\n",
       "        vertical-align: middle;\n",
       "    }\n",
       "\n",
       "    .dataframe tbody tr th {\n",
       "        vertical-align: top;\n",
       "    }\n",
       "\n",
       "    .dataframe thead th {\n",
       "        text-align: right;\n",
       "    }\n",
       "</style>\n",
       "<table border=\"1\" class=\"dataframe\">\n",
       "  <thead>\n",
       "    <tr style=\"text-align: right;\">\n",
       "      <th></th>\n",
       "      <th>Age</th>\n",
       "      <th>Name</th>\n",
       "    </tr>\n",
       "  </thead>\n",
       "  <tbody>\n",
       "    <tr>\n",
       "      <th>0</th>\n",
       "      <td>30</td>\n",
       "      <td>Adam</td>\n",
       "    </tr>\n",
       "    <tr>\n",
       "      <th>1</th>\n",
       "      <td>36</td>\n",
       "      <td>Anchal</td>\n",
       "    </tr>\n",
       "    <tr>\n",
       "      <th>2</th>\n",
       "      <td>23</td>\n",
       "      <td>Adam</td>\n",
       "    </tr>\n",
       "    <tr>\n",
       "      <th>3</th>\n",
       "      <td>34</td>\n",
       "      <td>Alan</td>\n",
       "    </tr>\n",
       "    <tr>\n",
       "      <th>4</th>\n",
       "      <td>40</td>\n",
       "      <td>Anthony</td>\n",
       "    </tr>\n",
       "  </tbody>\n",
       "</table>\n",
       "</div>"
      ],
      "text/plain": [
       "   Age     Name\n",
       "0   30     Adam\n",
       "1   36   Anchal\n",
       "2   23     Adam\n",
       "3   34     Alan\n",
       "4   40  Anthony"
      ]
     },
     "execution_count": 329,
     "metadata": {},
     "output_type": "execute_result"
    }
   ],
   "source": [
    "data2 = make_data(5)\n",
    "df2 = pd.DataFrame(data2)\n",
    "df2"
   ]
  },
  {
   "cell_type": "markdown",
   "metadata": {
    "id": "hWrlhcBzmqX9"
   },
   "source": [
    "df1과 df2를 합치고 싶을때 append를 이용할수 있습니다."
   ]
  },
  {
   "cell_type": "code",
   "execution_count": 330,
   "metadata": {
    "colab": {
     "base_uri": "https://localhost:8080/",
     "height": 363
    },
    "executionInfo": {
     "elapsed": 3,
     "status": "ok",
     "timestamp": 1661227250169,
     "user": {
      "displayName": "김도현",
      "userId": "01074377609887751305"
     },
     "user_tz": -540
    },
    "id": "gLFT1P8tmqX9",
    "outputId": "dd9a46f3-6be8-4fab-a10d-e43799a09376"
   },
   "outputs": [
    {
     "name": "stderr",
     "output_type": "stream",
     "text": [
      "C:\\Users\\king5\\AppData\\Local\\Temp\\ipykernel_15136\\3362903225.py:1: FutureWarning: The frame.append method is deprecated and will be removed from pandas in a future version. Use pandas.concat instead.\n",
      "  df3 = df1.append(df2)\n"
     ]
    },
    {
     "data": {
      "text/html": [
       "<div>\n",
       "<style scoped>\n",
       "    .dataframe tbody tr th:only-of-type {\n",
       "        vertical-align: middle;\n",
       "    }\n",
       "\n",
       "    .dataframe tbody tr th {\n",
       "        vertical-align: top;\n",
       "    }\n",
       "\n",
       "    .dataframe thead th {\n",
       "        text-align: right;\n",
       "    }\n",
       "</style>\n",
       "<table border=\"1\" class=\"dataframe\">\n",
       "  <thead>\n",
       "    <tr style=\"text-align: right;\">\n",
       "      <th></th>\n",
       "      <th>Age</th>\n",
       "      <th>Name</th>\n",
       "    </tr>\n",
       "  </thead>\n",
       "  <tbody>\n",
       "    <tr>\n",
       "      <th>0</th>\n",
       "      <td>32</td>\n",
       "      <td>Arnold</td>\n",
       "    </tr>\n",
       "    <tr>\n",
       "      <th>1</th>\n",
       "      <td>34</td>\n",
       "      <td>Anthony</td>\n",
       "    </tr>\n",
       "    <tr>\n",
       "      <th>2</th>\n",
       "      <td>25</td>\n",
       "      <td>Andrew</td>\n",
       "    </tr>\n",
       "    <tr>\n",
       "      <th>3</th>\n",
       "      <td>33</td>\n",
       "      <td>Alvin</td>\n",
       "    </tr>\n",
       "    <tr>\n",
       "      <th>4</th>\n",
       "      <td>29</td>\n",
       "      <td>Alex</td>\n",
       "    </tr>\n",
       "    <tr>\n",
       "      <th>0</th>\n",
       "      <td>30</td>\n",
       "      <td>Adam</td>\n",
       "    </tr>\n",
       "    <tr>\n",
       "      <th>1</th>\n",
       "      <td>36</td>\n",
       "      <td>Anchal</td>\n",
       "    </tr>\n",
       "    <tr>\n",
       "      <th>2</th>\n",
       "      <td>23</td>\n",
       "      <td>Adam</td>\n",
       "    </tr>\n",
       "    <tr>\n",
       "      <th>3</th>\n",
       "      <td>34</td>\n",
       "      <td>Alan</td>\n",
       "    </tr>\n",
       "    <tr>\n",
       "      <th>4</th>\n",
       "      <td>40</td>\n",
       "      <td>Anthony</td>\n",
       "    </tr>\n",
       "  </tbody>\n",
       "</table>\n",
       "</div>"
      ],
      "text/plain": [
       "   Age     Name\n",
       "0   32   Arnold\n",
       "1   34  Anthony\n",
       "2   25   Andrew\n",
       "3   33    Alvin\n",
       "4   29     Alex\n",
       "0   30     Adam\n",
       "1   36   Anchal\n",
       "2   23     Adam\n",
       "3   34     Alan\n",
       "4   40  Anthony"
      ]
     },
     "execution_count": 330,
     "metadata": {},
     "output_type": "execute_result"
    }
   ],
   "source": [
    "df3 = df1.append(df2)\n",
    "df3"
   ]
  },
  {
   "cell_type": "markdown",
   "metadata": {
    "id": "v3W9DvjdmqX9"
   },
   "source": [
    "index 리셋하기\n",
    "- drop(True) - 새롭게 생성되는 인덱스 컬럼을 삭제합니다.\n",
    "- inplace(True) - 함수를 사용하는 객체 자체 인덱스를 리셋합니다."
   ]
  },
  {
   "cell_type": "code",
   "execution_count": 331,
   "metadata": {
    "colab": {
     "base_uri": "https://localhost:8080/",
     "height": 363
    },
    "executionInfo": {
     "elapsed": 3,
     "status": "ok",
     "timestamp": 1661227251267,
     "user": {
      "displayName": "김도현",
      "userId": "01074377609887751305"
     },
     "user_tz": -540
    },
    "id": "eG7LONcVmqX9",
    "outputId": "58888b39-9f49-4479-e4b2-bbe0189c447a"
   },
   "outputs": [
    {
     "data": {
      "text/html": [
       "<div>\n",
       "<style scoped>\n",
       "    .dataframe tbody tr th:only-of-type {\n",
       "        vertical-align: middle;\n",
       "    }\n",
       "\n",
       "    .dataframe tbody tr th {\n",
       "        vertical-align: top;\n",
       "    }\n",
       "\n",
       "    .dataframe thead th {\n",
       "        text-align: right;\n",
       "    }\n",
       "</style>\n",
       "<table border=\"1\" class=\"dataframe\">\n",
       "  <thead>\n",
       "    <tr style=\"text-align: right;\">\n",
       "      <th></th>\n",
       "      <th>index</th>\n",
       "      <th>Age</th>\n",
       "      <th>Name</th>\n",
       "    </tr>\n",
       "  </thead>\n",
       "  <tbody>\n",
       "    <tr>\n",
       "      <th>0</th>\n",
       "      <td>0</td>\n",
       "      <td>32</td>\n",
       "      <td>Arnold</td>\n",
       "    </tr>\n",
       "    <tr>\n",
       "      <th>1</th>\n",
       "      <td>1</td>\n",
       "      <td>34</td>\n",
       "      <td>Anthony</td>\n",
       "    </tr>\n",
       "    <tr>\n",
       "      <th>2</th>\n",
       "      <td>2</td>\n",
       "      <td>25</td>\n",
       "      <td>Andrew</td>\n",
       "    </tr>\n",
       "    <tr>\n",
       "      <th>3</th>\n",
       "      <td>3</td>\n",
       "      <td>33</td>\n",
       "      <td>Alvin</td>\n",
       "    </tr>\n",
       "    <tr>\n",
       "      <th>4</th>\n",
       "      <td>4</td>\n",
       "      <td>29</td>\n",
       "      <td>Alex</td>\n",
       "    </tr>\n",
       "    <tr>\n",
       "      <th>5</th>\n",
       "      <td>0</td>\n",
       "      <td>30</td>\n",
       "      <td>Adam</td>\n",
       "    </tr>\n",
       "    <tr>\n",
       "      <th>6</th>\n",
       "      <td>1</td>\n",
       "      <td>36</td>\n",
       "      <td>Anchal</td>\n",
       "    </tr>\n",
       "    <tr>\n",
       "      <th>7</th>\n",
       "      <td>2</td>\n",
       "      <td>23</td>\n",
       "      <td>Adam</td>\n",
       "    </tr>\n",
       "    <tr>\n",
       "      <th>8</th>\n",
       "      <td>3</td>\n",
       "      <td>34</td>\n",
       "      <td>Alan</td>\n",
       "    </tr>\n",
       "    <tr>\n",
       "      <th>9</th>\n",
       "      <td>4</td>\n",
       "      <td>40</td>\n",
       "      <td>Anthony</td>\n",
       "    </tr>\n",
       "  </tbody>\n",
       "</table>\n",
       "</div>"
      ],
      "text/plain": [
       "   index  Age     Name\n",
       "0      0   32   Arnold\n",
       "1      1   34  Anthony\n",
       "2      2   25   Andrew\n",
       "3      3   33    Alvin\n",
       "4      4   29     Alex\n",
       "5      0   30     Adam\n",
       "6      1   36   Anchal\n",
       "7      2   23     Adam\n",
       "8      3   34     Alan\n",
       "9      4   40  Anthony"
      ]
     },
     "execution_count": 331,
     "metadata": {},
     "output_type": "execute_result"
    }
   ],
   "source": [
    "df3.reset_index()  # reset index하고 불필요한건 지움"
   ]
  },
  {
   "cell_type": "code",
   "execution_count": 332,
   "metadata": {
    "colab": {
     "base_uri": "https://localhost:8080/",
     "height": 363
    },
    "executionInfo": {
     "elapsed": 3,
     "status": "ok",
     "timestamp": 1661227251767,
     "user": {
      "displayName": "김도현",
      "userId": "01074377609887751305"
     },
     "user_tz": -540
    },
    "id": "6NApn4OGmqX9",
    "outputId": "2d5f8bac-3b9d-4802-b739-b2a2bc33925f"
   },
   "outputs": [
    {
     "data": {
      "text/html": [
       "<div>\n",
       "<style scoped>\n",
       "    .dataframe tbody tr th:only-of-type {\n",
       "        vertical-align: middle;\n",
       "    }\n",
       "\n",
       "    .dataframe tbody tr th {\n",
       "        vertical-align: top;\n",
       "    }\n",
       "\n",
       "    .dataframe thead th {\n",
       "        text-align: right;\n",
       "    }\n",
       "</style>\n",
       "<table border=\"1\" class=\"dataframe\">\n",
       "  <thead>\n",
       "    <tr style=\"text-align: right;\">\n",
       "      <th></th>\n",
       "      <th>Age</th>\n",
       "      <th>Name</th>\n",
       "    </tr>\n",
       "  </thead>\n",
       "  <tbody>\n",
       "    <tr>\n",
       "      <th>0</th>\n",
       "      <td>32</td>\n",
       "      <td>Arnold</td>\n",
       "    </tr>\n",
       "    <tr>\n",
       "      <th>1</th>\n",
       "      <td>34</td>\n",
       "      <td>Anthony</td>\n",
       "    </tr>\n",
       "    <tr>\n",
       "      <th>2</th>\n",
       "      <td>25</td>\n",
       "      <td>Andrew</td>\n",
       "    </tr>\n",
       "    <tr>\n",
       "      <th>3</th>\n",
       "      <td>33</td>\n",
       "      <td>Alvin</td>\n",
       "    </tr>\n",
       "    <tr>\n",
       "      <th>4</th>\n",
       "      <td>29</td>\n",
       "      <td>Alex</td>\n",
       "    </tr>\n",
       "    <tr>\n",
       "      <th>5</th>\n",
       "      <td>30</td>\n",
       "      <td>Adam</td>\n",
       "    </tr>\n",
       "    <tr>\n",
       "      <th>6</th>\n",
       "      <td>36</td>\n",
       "      <td>Anchal</td>\n",
       "    </tr>\n",
       "    <tr>\n",
       "      <th>7</th>\n",
       "      <td>23</td>\n",
       "      <td>Adam</td>\n",
       "    </tr>\n",
       "    <tr>\n",
       "      <th>8</th>\n",
       "      <td>34</td>\n",
       "      <td>Alan</td>\n",
       "    </tr>\n",
       "    <tr>\n",
       "      <th>9</th>\n",
       "      <td>40</td>\n",
       "      <td>Anthony</td>\n",
       "    </tr>\n",
       "  </tbody>\n",
       "</table>\n",
       "</div>"
      ],
      "text/plain": [
       "   Age     Name\n",
       "0   32   Arnold\n",
       "1   34  Anthony\n",
       "2   25   Andrew\n",
       "3   33    Alvin\n",
       "4   29     Alex\n",
       "5   30     Adam\n",
       "6   36   Anchal\n",
       "7   23     Adam\n",
       "8   34     Alan\n",
       "9   40  Anthony"
      ]
     },
     "execution_count": 332,
     "metadata": {},
     "output_type": "execute_result"
    }
   ],
   "source": [
    "df3.reset_index(drop=True)"
   ]
  },
  {
   "cell_type": "code",
   "execution_count": 333,
   "metadata": {},
   "outputs": [
    {
     "data": {
      "text/html": [
       "<div>\n",
       "<style scoped>\n",
       "    .dataframe tbody tr th:only-of-type {\n",
       "        vertical-align: middle;\n",
       "    }\n",
       "\n",
       "    .dataframe tbody tr th {\n",
       "        vertical-align: top;\n",
       "    }\n",
       "\n",
       "    .dataframe thead th {\n",
       "        text-align: right;\n",
       "    }\n",
       "</style>\n",
       "<table border=\"1\" class=\"dataframe\">\n",
       "  <thead>\n",
       "    <tr style=\"text-align: right;\">\n",
       "      <th></th>\n",
       "      <th>Age</th>\n",
       "      <th>Name</th>\n",
       "    </tr>\n",
       "  </thead>\n",
       "  <tbody>\n",
       "    <tr>\n",
       "      <th>0</th>\n",
       "      <td>32</td>\n",
       "      <td>Arnold</td>\n",
       "    </tr>\n",
       "    <tr>\n",
       "      <th>1</th>\n",
       "      <td>34</td>\n",
       "      <td>Anthony</td>\n",
       "    </tr>\n",
       "    <tr>\n",
       "      <th>2</th>\n",
       "      <td>25</td>\n",
       "      <td>Andrew</td>\n",
       "    </tr>\n",
       "    <tr>\n",
       "      <th>3</th>\n",
       "      <td>33</td>\n",
       "      <td>Alvin</td>\n",
       "    </tr>\n",
       "    <tr>\n",
       "      <th>4</th>\n",
       "      <td>29</td>\n",
       "      <td>Alex</td>\n",
       "    </tr>\n",
       "    <tr>\n",
       "      <th>0</th>\n",
       "      <td>30</td>\n",
       "      <td>Adam</td>\n",
       "    </tr>\n",
       "    <tr>\n",
       "      <th>1</th>\n",
       "      <td>36</td>\n",
       "      <td>Anchal</td>\n",
       "    </tr>\n",
       "    <tr>\n",
       "      <th>2</th>\n",
       "      <td>23</td>\n",
       "      <td>Adam</td>\n",
       "    </tr>\n",
       "    <tr>\n",
       "      <th>3</th>\n",
       "      <td>34</td>\n",
       "      <td>Alan</td>\n",
       "    </tr>\n",
       "    <tr>\n",
       "      <th>4</th>\n",
       "      <td>40</td>\n",
       "      <td>Anthony</td>\n",
       "    </tr>\n",
       "  </tbody>\n",
       "</table>\n",
       "</div>"
      ],
      "text/plain": [
       "   Age     Name\n",
       "0   32   Arnold\n",
       "1   34  Anthony\n",
       "2   25   Andrew\n",
       "3   33    Alvin\n",
       "4   29     Alex\n",
       "0   30     Adam\n",
       "1   36   Anchal\n",
       "2   23     Adam\n",
       "3   34     Alan\n",
       "4   40  Anthony"
      ]
     },
     "execution_count": 333,
     "metadata": {},
     "output_type": "execute_result"
    }
   ],
   "source": [
    "df3"
   ]
  },
  {
   "cell_type": "code",
   "execution_count": 334,
   "metadata": {
    "colab": {
     "base_uri": "https://localhost:8080/"
    },
    "executionInfo": {
     "elapsed": 2,
     "status": "ok",
     "timestamp": 1661227252202,
     "user": {
      "displayName": "김도현",
      "userId": "01074377609887751305"
     },
     "user_tz": -540
    },
    "id": "FOWp-oAWmqX9",
    "outputId": "3e047eec-6a4a-4a80-bf78-57519e09f713"
   },
   "outputs": [
    {
     "name": "stdout",
     "output_type": "stream",
     "text": [
      "   Age     Name\n",
      "0   32   Arnold\n",
      "1   34  Anthony\n",
      "2   25   Andrew\n",
      "3   33    Alvin\n",
      "4   29     Alex\n",
      "5   30     Adam\n",
      "6   36   Anchal\n",
      "7   23     Adam\n",
      "8   34     Alan\n",
      "9   40  Anthony\n"
     ]
    }
   ],
   "source": [
    "df3.reset_index(drop=True, inplace=True)  # df3를 따로 넣어주지 않았기 때문에 바뀌지 않았지만, inplace=True면 그 자체가 바뀜\n",
    "print(df3)"
   ]
  },
  {
   "cell_type": "markdown",
   "metadata": {
    "id": "E3-N99kAmqX9"
   },
   "source": [
    "append를 할때 인덱스를 리셋할수 있습니다."
   ]
  },
  {
   "cell_type": "code",
   "execution_count": 335,
   "metadata": {
    "colab": {
     "base_uri": "https://localhost:8080/",
     "height": 363
    },
    "executionInfo": {
     "elapsed": 2,
     "status": "ok",
     "timestamp": 1661227253160,
     "user": {
      "displayName": "김도현",
      "userId": "01074377609887751305"
     },
     "user_tz": -540
    },
    "id": "HsloIFq8mqX9",
    "outputId": "81616e75-a0b3-4839-d1df-6607cc699985"
   },
   "outputs": [
    {
     "name": "stderr",
     "output_type": "stream",
     "text": [
      "C:\\Users\\king5\\AppData\\Local\\Temp\\ipykernel_15136\\2516351750.py:1: FutureWarning: The frame.append method is deprecated and will be removed from pandas in a future version. Use pandas.concat instead.\n",
      "  df3 = df1.append(df2, ignore_index=True)  # 처음부터 인덱스를 무시하고 append 할 수도 있다\n"
     ]
    },
    {
     "data": {
      "text/html": [
       "<div>\n",
       "<style scoped>\n",
       "    .dataframe tbody tr th:only-of-type {\n",
       "        vertical-align: middle;\n",
       "    }\n",
       "\n",
       "    .dataframe tbody tr th {\n",
       "        vertical-align: top;\n",
       "    }\n",
       "\n",
       "    .dataframe thead th {\n",
       "        text-align: right;\n",
       "    }\n",
       "</style>\n",
       "<table border=\"1\" class=\"dataframe\">\n",
       "  <thead>\n",
       "    <tr style=\"text-align: right;\">\n",
       "      <th></th>\n",
       "      <th>Age</th>\n",
       "      <th>Name</th>\n",
       "    </tr>\n",
       "  </thead>\n",
       "  <tbody>\n",
       "    <tr>\n",
       "      <th>0</th>\n",
       "      <td>32</td>\n",
       "      <td>Arnold</td>\n",
       "    </tr>\n",
       "    <tr>\n",
       "      <th>1</th>\n",
       "      <td>34</td>\n",
       "      <td>Anthony</td>\n",
       "    </tr>\n",
       "    <tr>\n",
       "      <th>2</th>\n",
       "      <td>25</td>\n",
       "      <td>Andrew</td>\n",
       "    </tr>\n",
       "    <tr>\n",
       "      <th>3</th>\n",
       "      <td>33</td>\n",
       "      <td>Alvin</td>\n",
       "    </tr>\n",
       "    <tr>\n",
       "      <th>4</th>\n",
       "      <td>29</td>\n",
       "      <td>Alex</td>\n",
       "    </tr>\n",
       "    <tr>\n",
       "      <th>5</th>\n",
       "      <td>30</td>\n",
       "      <td>Adam</td>\n",
       "    </tr>\n",
       "    <tr>\n",
       "      <th>6</th>\n",
       "      <td>36</td>\n",
       "      <td>Anchal</td>\n",
       "    </tr>\n",
       "    <tr>\n",
       "      <th>7</th>\n",
       "      <td>23</td>\n",
       "      <td>Adam</td>\n",
       "    </tr>\n",
       "    <tr>\n",
       "      <th>8</th>\n",
       "      <td>34</td>\n",
       "      <td>Alan</td>\n",
       "    </tr>\n",
       "    <tr>\n",
       "      <th>9</th>\n",
       "      <td>40</td>\n",
       "      <td>Anthony</td>\n",
       "    </tr>\n",
       "  </tbody>\n",
       "</table>\n",
       "</div>"
      ],
      "text/plain": [
       "   Age     Name\n",
       "0   32   Arnold\n",
       "1   34  Anthony\n",
       "2   25   Andrew\n",
       "3   33    Alvin\n",
       "4   29     Alex\n",
       "5   30     Adam\n",
       "6   36   Anchal\n",
       "7   23     Adam\n",
       "8   34     Alan\n",
       "9   40  Anthony"
      ]
     },
     "execution_count": 335,
     "metadata": {},
     "output_type": "execute_result"
    }
   ],
   "source": [
    "df3 = df1.append(df2, ignore_index=True)  # 처음부터 인덱스를 무시하고 append 할 수도 있다\n",
    "df = df3\n",
    "score = ['']\n",
    "df3"
   ]
  },
  {
   "cell_type": "code",
   "execution_count": 336,
   "metadata": {
    "colab": {
     "base_uri": "https://localhost:8080/",
     "height": 363
    },
    "executionInfo": {
     "elapsed": 3,
     "status": "ok",
     "timestamp": 1661227253574,
     "user": {
      "displayName": "김도현",
      "userId": "01074377609887751305"
     },
     "user_tz": -540
    },
    "id": "Ug00eTVDYVyi",
    "outputId": "d9f3be93-ec68-4263-f2b5-5dec35532c1f"
   },
   "outputs": [
    {
     "data": {
      "text/html": [
       "<div>\n",
       "<style scoped>\n",
       "    .dataframe tbody tr th:only-of-type {\n",
       "        vertical-align: middle;\n",
       "    }\n",
       "\n",
       "    .dataframe tbody tr th {\n",
       "        vertical-align: top;\n",
       "    }\n",
       "\n",
       "    .dataframe thead th {\n",
       "        text-align: right;\n",
       "    }\n",
       "</style>\n",
       "<table border=\"1\" class=\"dataframe\">\n",
       "  <thead>\n",
       "    <tr style=\"text-align: right;\">\n",
       "      <th></th>\n",
       "      <th>Age</th>\n",
       "      <th>Name</th>\n",
       "      <th>Score</th>\n",
       "    </tr>\n",
       "  </thead>\n",
       "  <tbody>\n",
       "    <tr>\n",
       "      <th>0</th>\n",
       "      <td>32</td>\n",
       "      <td>Arnold</td>\n",
       "      <td>85</td>\n",
       "    </tr>\n",
       "    <tr>\n",
       "      <th>1</th>\n",
       "      <td>34</td>\n",
       "      <td>Anthony</td>\n",
       "      <td>86</td>\n",
       "    </tr>\n",
       "    <tr>\n",
       "      <th>2</th>\n",
       "      <td>25</td>\n",
       "      <td>Andrew</td>\n",
       "      <td>78</td>\n",
       "    </tr>\n",
       "    <tr>\n",
       "      <th>3</th>\n",
       "      <td>33</td>\n",
       "      <td>Alvin</td>\n",
       "      <td>99</td>\n",
       "    </tr>\n",
       "    <tr>\n",
       "      <th>4</th>\n",
       "      <td>29</td>\n",
       "      <td>Alex</td>\n",
       "      <td>90</td>\n",
       "    </tr>\n",
       "    <tr>\n",
       "      <th>5</th>\n",
       "      <td>30</td>\n",
       "      <td>Adam</td>\n",
       "      <td>66</td>\n",
       "    </tr>\n",
       "    <tr>\n",
       "      <th>6</th>\n",
       "      <td>36</td>\n",
       "      <td>Anchal</td>\n",
       "      <td>88</td>\n",
       "    </tr>\n",
       "    <tr>\n",
       "      <th>7</th>\n",
       "      <td>23</td>\n",
       "      <td>Adam</td>\n",
       "      <td>69</td>\n",
       "    </tr>\n",
       "    <tr>\n",
       "      <th>8</th>\n",
       "      <td>34</td>\n",
       "      <td>Alan</td>\n",
       "      <td>92</td>\n",
       "    </tr>\n",
       "    <tr>\n",
       "      <th>9</th>\n",
       "      <td>40</td>\n",
       "      <td>Anthony</td>\n",
       "      <td>78</td>\n",
       "    </tr>\n",
       "  </tbody>\n",
       "</table>\n",
       "</div>"
      ],
      "text/plain": [
       "   Age     Name  Score\n",
       "0   32   Arnold     85\n",
       "1   34  Anthony     86\n",
       "2   25   Andrew     78\n",
       "3   33    Alvin     99\n",
       "4   29     Alex     90\n",
       "5   30     Adam     66\n",
       "6   36   Anchal     88\n",
       "7   23     Adam     69\n",
       "8   34     Alan     92\n",
       "9   40  Anthony     78"
      ]
     },
     "execution_count": 336,
     "metadata": {},
     "output_type": "execute_result"
    }
   ],
   "source": [
    "df = df3\n",
    "score = [85,86,78,99,90,66,88,69,92,78]\n",
    "df['Score']=score\n",
    "df"
   ]
  },
  {
   "cell_type": "code",
   "execution_count": 337,
   "metadata": {
    "colab": {
     "base_uri": "https://localhost:8080/"
    },
    "executionInfo": {
     "elapsed": 1,
     "status": "ok",
     "timestamp": 1661227253979,
     "user": {
      "displayName": "김도현",
      "userId": "01074377609887751305"
     },
     "user_tz": -540
    },
    "id": "Qq37aH3le40o",
    "outputId": "57a3429e-ebee-4928-b5d1-7811431df21e"
   },
   "outputs": [
    {
     "name": "stdout",
     "output_type": "stream",
     "text": [
      "     Name  Quantity\n",
      "0   apple         3\n",
      "1    pear         5\n",
      "2   apple         1\n",
      "3  banana         2\n",
      "4    pear         2\n"
     ]
    }
   ],
   "source": [
    "names = ['apple','pear','apple','banana', 'pear']\n",
    "quantity = [3,5,1,2,2]\n",
    "g_df = pd.DataFrame({'Name':names, 'Quantity':quantity})\n",
    "print(g_df)"
   ]
  },
  {
   "cell_type": "code",
   "execution_count": 338,
   "metadata": {},
   "outputs": [
    {
     "data": {
      "text/plain": [
       "0    3\n",
       "1    5\n",
       "2    1\n",
       "3    2\n",
       "4    2\n",
       "Name: Quantity, dtype: int64"
      ]
     },
     "execution_count": 338,
     "metadata": {},
     "output_type": "execute_result"
    }
   ],
   "source": [
    "g_df['Quantity']"
   ]
  },
  {
   "cell_type": "code",
   "execution_count": 339,
   "metadata": {},
   "outputs": [
    {
     "data": {
      "text/plain": [
       "0    3\n",
       "1    5\n",
       "2    1\n",
       "3    2\n",
       "4    2\n",
       "Name: Quantity, dtype: int64"
      ]
     },
     "execution_count": 339,
     "metadata": {},
     "output_type": "execute_result"
    }
   ],
   "source": [
    "g_df.Quantity"
   ]
  },
  {
   "cell_type": "code",
   "execution_count": 340,
   "metadata": {
    "colab": {
     "base_uri": "https://localhost:8080/"
    },
    "executionInfo": {
     "elapsed": 2,
     "status": "ok",
     "timestamp": 1661227254392,
     "user": {
      "displayName": "김도현",
      "userId": "01074377609887751305"
     },
     "user_tz": -540
    },
    "id": "pez6jSUtYpvB",
    "outputId": "adedc8bb-243e-4e7c-feb8-bb3ba5d46c1c"
   },
   "outputs": [
    {
     "name": "stdout",
     "output_type": "stream",
     "text": [
      "13\n",
      "2.6\n",
      "2.3\n",
      "1.51657508881031\n"
     ]
    }
   ],
   "source": [
    "print(g_df.Quantity.sum())\n",
    "print(g_df.Quantity.mean())\n",
    "print(g_df.Quantity.var())\n",
    "print(g_df.Quantity.std())"
   ]
  },
  {
   "cell_type": "code",
   "execution_count": 341,
   "metadata": {
    "colab": {
     "base_uri": "https://localhost:8080/"
    },
    "executionInfo": {
     "elapsed": 2,
     "status": "ok",
     "timestamp": 1661227254808,
     "user": {
      "displayName": "김도현",
      "userId": "01074377609887751305"
     },
     "user_tz": -540
    },
    "id": "u5FYe3xacsY6",
    "outputId": "d029fa62-4daf-4d9d-8fab-71fef5d29f96"
   },
   "outputs": [
    {
     "name": "stdout",
     "output_type": "stream",
     "text": [
      "1\n",
      "5\n",
      "2\n",
      "1\n"
     ]
    }
   ],
   "source": [
    "print(g_df.Quantity.min())\n",
    "print(g_df.Quantity.max())\n",
    "print(g_df.Quantity.argmin())  # 최소값에 해당하는 인덱스 값 출력\n",
    "print(g_df.Quantity.argmax())  # 최대값에 해당하는 인덱스 값 출력"
   ]
  },
  {
   "cell_type": "code",
   "execution_count": 342,
   "metadata": {},
   "outputs": [
    {
     "data": {
      "text/html": [
       "<div>\n",
       "<style scoped>\n",
       "    .dataframe tbody tr th:only-of-type {\n",
       "        vertical-align: middle;\n",
       "    }\n",
       "\n",
       "    .dataframe tbody tr th {\n",
       "        vertical-align: top;\n",
       "    }\n",
       "\n",
       "    .dataframe thead th {\n",
       "        text-align: right;\n",
       "    }\n",
       "</style>\n",
       "<table border=\"1\" class=\"dataframe\">\n",
       "  <thead>\n",
       "    <tr style=\"text-align: right;\">\n",
       "      <th></th>\n",
       "      <th>Name</th>\n",
       "      <th>Quantity</th>\n",
       "    </tr>\n",
       "  </thead>\n",
       "  <tbody>\n",
       "    <tr>\n",
       "      <th>0</th>\n",
       "      <td>apple</td>\n",
       "      <td>3</td>\n",
       "    </tr>\n",
       "    <tr>\n",
       "      <th>1</th>\n",
       "      <td>pear</td>\n",
       "      <td>5</td>\n",
       "    </tr>\n",
       "    <tr>\n",
       "      <th>2</th>\n",
       "      <td>apple</td>\n",
       "      <td>1</td>\n",
       "    </tr>\n",
       "    <tr>\n",
       "      <th>3</th>\n",
       "      <td>banana</td>\n",
       "      <td>2</td>\n",
       "    </tr>\n",
       "    <tr>\n",
       "      <th>4</th>\n",
       "      <td>pear</td>\n",
       "      <td>2</td>\n",
       "    </tr>\n",
       "  </tbody>\n",
       "</table>\n",
       "</div>"
      ],
      "text/plain": [
       "     Name  Quantity\n",
       "0   apple         3\n",
       "1    pear         5\n",
       "2   apple         1\n",
       "3  banana         2\n",
       "4    pear         2"
      ]
     },
     "execution_count": 342,
     "metadata": {},
     "output_type": "execute_result"
    }
   ],
   "source": [
    "g_df"
   ]
  },
  {
   "cell_type": "code",
   "execution_count": 343,
   "metadata": {
    "colab": {
     "base_uri": "https://localhost:8080/"
    },
    "executionInfo": {
     "elapsed": 4,
     "status": "ok",
     "timestamp": 1661227255260,
     "user": {
      "displayName": "김도현",
      "userId": "01074377609887751305"
     },
     "user_tz": -540
    },
    "id": "jcrSgGtVXTF9",
    "outputId": "c360a4eb-dc78-4a54-ac4e-ba6024602832"
   },
   "outputs": [
    {
     "name": "stdout",
     "output_type": "stream",
     "text": [
      "     Name  Quantity\n",
      "2   apple         1\n",
      "3  banana         2\n",
      "4    pear         2\n",
      "0   apple         3\n",
      "1    pear         5\n",
      "     Name  Quantity\n",
      "1    pear         5\n",
      "4    pear         2\n",
      "3  banana         2\n",
      "0   apple         3\n",
      "2   apple         1\n"
     ]
    }
   ],
   "source": [
    "print(g_df.sort_values('Quantity'))\n",
    "print(g_df.sort_values('Name', ascending=False))  # dataframe 재배열"
   ]
  },
  {
   "cell_type": "code",
   "execution_count": 344,
   "metadata": {
    "colab": {
     "base_uri": "https://localhost:8080/"
    },
    "executionInfo": {
     "elapsed": 4,
     "status": "ok",
     "timestamp": 1661227255261,
     "user": {
      "displayName": "김도현",
      "userId": "01074377609887751305"
     },
     "user_tz": -540
    },
    "id": "_9B8cezLYrxZ",
    "outputId": "c8d9b760-5c9e-47f8-e5a5-de793afa34c5"
   },
   "outputs": [
    {
     "name": "stdout",
     "output_type": "stream",
     "text": [
      "0    4.0\n",
      "1    5.0\n",
      "2    1.0\n",
      "3    2.5\n",
      "4    2.5\n",
      "Name: Quantity, dtype: float64\n",
      "     Name  Quantity  Rank\n",
      "0   apple         3   4.0\n",
      "1    pear         5   5.0\n",
      "2   apple         1   1.0\n",
      "3  banana         2   2.5\n",
      "4    pear         2   2.5\n"
     ]
    }
   ],
   "source": [
    "print(g_df.Quantity.rank())\n",
    "g_df['Rank'] = g_df.Quantity.rank()\n",
    "print(g_df)"
   ]
  },
  {
   "cell_type": "code",
   "execution_count": 345,
   "metadata": {
    "colab": {
     "base_uri": "https://localhost:8080/"
    },
    "executionInfo": {
     "elapsed": 1,
     "status": "ok",
     "timestamp": 1661227255816,
     "user": {
      "displayName": "김도현",
      "userId": "01074377609887751305"
     },
     "user_tz": -540
    },
    "id": "Q2VSxM_kZapi",
    "outputId": "8fe3859c-c24b-4426-ad9b-29e0281e0028"
   },
   "outputs": [
    {
     "name": "stdout",
     "output_type": "stream",
     "text": [
      "2    2\n",
      "3    1\n",
      "5    1\n",
      "1    1\n",
      "Name: Quantity, dtype: int64\n"
     ]
    }
   ],
   "source": [
    "print(g_df['Quantity'].value_counts())"
   ]
  },
  {
   "cell_type": "code",
   "execution_count": 346,
   "metadata": {
    "colab": {
     "base_uri": "https://localhost:8080/"
    },
    "executionInfo": {
     "elapsed": 2,
     "status": "ok",
     "timestamp": 1661227256316,
     "user": {
      "displayName": "김도현",
      "userId": "01074377609887751305"
     },
     "user_tz": -540
    },
    "id": "FMjwU0nthfyN",
    "outputId": "efd59eb3-30b7-4e0d-f9b3-ff67ebc113b4"
   },
   "outputs": [
    {
     "name": "stdout",
     "output_type": "stream",
     "text": [
      "5\n"
     ]
    }
   ],
   "source": [
    "print(g_df['Quantity'].count())"
   ]
  },
  {
   "cell_type": "code",
   "execution_count": 347,
   "metadata": {
    "colab": {
     "base_uri": "https://localhost:8080/"
    },
    "executionInfo": {
     "elapsed": 8,
     "status": "ok",
     "timestamp": 1661227256721,
     "user": {
      "displayName": "김도현",
      "userId": "01074377609887751305"
     },
     "user_tz": -540
    },
    "id": "ftyTvHLKaAsm",
    "outputId": "4b264145-c625-4413-ef98-9fcb325dfc4f"
   },
   "outputs": [
    {
     "name": "stdout",
     "output_type": "stream",
     "text": [
      "Name        5\n",
      "Quantity    5\n",
      "Rank        5\n",
      "dtype: int64\n"
     ]
    }
   ],
   "source": [
    "print(g_df.count()) # Nan값을 제외한 데이터수 확인"
   ]
  },
  {
   "cell_type": "code",
   "execution_count": 348,
   "metadata": {
    "colab": {
     "base_uri": "https://localhost:8080/",
     "height": 206
    },
    "executionInfo": {
     "elapsed": 7,
     "status": "ok",
     "timestamp": 1661227256722,
     "user": {
      "displayName": "김도현",
      "userId": "01074377609887751305"
     },
     "user_tz": -540
    },
    "id": "HZEv2pSjapxF",
    "outputId": "b7604ff8-a20c-4756-9f62-f9f56b3cf761"
   },
   "outputs": [
    {
     "data": {
      "text/html": [
       "<div>\n",
       "<style scoped>\n",
       "    .dataframe tbody tr th:only-of-type {\n",
       "        vertical-align: middle;\n",
       "    }\n",
       "\n",
       "    .dataframe tbody tr th {\n",
       "        vertical-align: top;\n",
       "    }\n",
       "\n",
       "    .dataframe thead th {\n",
       "        text-align: right;\n",
       "    }\n",
       "</style>\n",
       "<table border=\"1\" class=\"dataframe\">\n",
       "  <thead>\n",
       "    <tr style=\"text-align: right;\">\n",
       "      <th></th>\n",
       "      <th>Name</th>\n",
       "      <th>Quantity</th>\n",
       "      <th>Rank</th>\n",
       "    </tr>\n",
       "  </thead>\n",
       "  <tbody>\n",
       "    <tr>\n",
       "      <th>0</th>\n",
       "      <td>apple</td>\n",
       "      <td>3</td>\n",
       "      <td>4.0</td>\n",
       "    </tr>\n",
       "    <tr>\n",
       "      <th>1</th>\n",
       "      <td>pear</td>\n",
       "      <td>5</td>\n",
       "      <td>5.0</td>\n",
       "    </tr>\n",
       "    <tr>\n",
       "      <th>2</th>\n",
       "      <td>apple</td>\n",
       "      <td>1</td>\n",
       "      <td>1.0</td>\n",
       "    </tr>\n",
       "    <tr>\n",
       "      <th>3</th>\n",
       "      <td>banana</td>\n",
       "      <td>2</td>\n",
       "      <td>2.5</td>\n",
       "    </tr>\n",
       "    <tr>\n",
       "      <th>4</th>\n",
       "      <td>pear</td>\n",
       "      <td>2</td>\n",
       "      <td>2.5</td>\n",
       "    </tr>\n",
       "  </tbody>\n",
       "</table>\n",
       "</div>"
      ],
      "text/plain": [
       "     Name  Quantity  Rank\n",
       "0   apple         3   4.0\n",
       "1    pear         5   5.0\n",
       "2   apple         1   1.0\n",
       "3  banana         2   2.5\n",
       "4    pear         2   2.5"
      ]
     },
     "execution_count": 348,
     "metadata": {},
     "output_type": "execute_result"
    }
   ],
   "source": [
    "g_df"
   ]
  },
  {
   "cell_type": "code",
   "execution_count": 349,
   "metadata": {},
   "outputs": [
    {
     "data": {
      "text/plain": [
       "pandas.core.series.Series"
      ]
     },
     "execution_count": 349,
     "metadata": {},
     "output_type": "execute_result"
    }
   ],
   "source": [
    "type(g_df['Name'])  # Series"
   ]
  },
  {
   "cell_type": "code",
   "execution_count": 350,
   "metadata": {
    "colab": {
     "base_uri": "https://localhost:8080/"
    },
    "executionInfo": {
     "elapsed": 6,
     "status": "ok",
     "timestamp": 1661227256722,
     "user": {
      "displayName": "김도현",
      "userId": "01074377609887751305"
     },
     "user_tz": -540
    },
    "id": "J7sr69j7aN1X",
    "outputId": "8857275d-96f1-440c-c2ba-98ff01e34a73"
   },
   "outputs": [
    {
     "name": "stdout",
     "output_type": "stream",
     "text": [
      "True\n"
     ]
    }
   ],
   "source": [
    "if 'apple' in list(g_df['Name']):\n",
    "  print(\"True\")"
   ]
  },
  {
   "cell_type": "markdown",
   "metadata": {
    "id": "3XXuQ7F1mqX9"
   },
   "source": [
    "### 2.5 concat\n",
    "- row나 column으로 데이터를 합치는 pandas 함수 입니다."
   ]
  },
  {
   "cell_type": "markdown",
   "metadata": {
    "id": "OZAsHdPemqX9"
   },
   "source": [
    "concat rows"
   ]
  },
  {
   "cell_type": "code",
   "execution_count": 351,
   "metadata": {
    "colab": {
     "base_uri": "https://localhost:8080/",
     "height": 206
    },
    "executionInfo": {
     "elapsed": 2,
     "status": "ok",
     "timestamp": 1661227257771,
     "user": {
      "displayName": "김도현",
      "userId": "01074377609887751305"
     },
     "user_tz": -540
    },
    "id": "vQ9qu_DmmqX9",
    "outputId": "6f61f523-73b2-4afc-9270-c752a902dff3"
   },
   "outputs": [
    {
     "data": {
      "text/html": [
       "<div>\n",
       "<style scoped>\n",
       "    .dataframe tbody tr th:only-of-type {\n",
       "        vertical-align: middle;\n",
       "    }\n",
       "\n",
       "    .dataframe tbody tr th {\n",
       "        vertical-align: top;\n",
       "    }\n",
       "\n",
       "    .dataframe thead th {\n",
       "        text-align: right;\n",
       "    }\n",
       "</style>\n",
       "<table border=\"1\" class=\"dataframe\">\n",
       "  <thead>\n",
       "    <tr style=\"text-align: right;\">\n",
       "      <th></th>\n",
       "      <th>Age</th>\n",
       "      <th>Name</th>\n",
       "    </tr>\n",
       "  </thead>\n",
       "  <tbody>\n",
       "    <tr>\n",
       "      <th>0</th>\n",
       "      <td>32</td>\n",
       "      <td>Arnold</td>\n",
       "    </tr>\n",
       "    <tr>\n",
       "      <th>1</th>\n",
       "      <td>34</td>\n",
       "      <td>Anthony</td>\n",
       "    </tr>\n",
       "    <tr>\n",
       "      <th>2</th>\n",
       "      <td>25</td>\n",
       "      <td>Andrew</td>\n",
       "    </tr>\n",
       "    <tr>\n",
       "      <th>3</th>\n",
       "      <td>33</td>\n",
       "      <td>Alvin</td>\n",
       "    </tr>\n",
       "    <tr>\n",
       "      <th>4</th>\n",
       "      <td>29</td>\n",
       "      <td>Alex</td>\n",
       "    </tr>\n",
       "  </tbody>\n",
       "</table>\n",
       "</div>"
      ],
      "text/plain": [
       "   Age     Name\n",
       "0   32   Arnold\n",
       "1   34  Anthony\n",
       "2   25   Andrew\n",
       "3   33    Alvin\n",
       "4   29     Alex"
      ]
     },
     "execution_count": 351,
     "metadata": {},
     "output_type": "execute_result"
    }
   ],
   "source": [
    "df1"
   ]
  },
  {
   "cell_type": "code",
   "execution_count": 352,
   "metadata": {
    "colab": {
     "base_uri": "https://localhost:8080/",
     "height": 206
    },
    "executionInfo": {
     "elapsed": 4,
     "status": "ok",
     "timestamp": 1661227258185,
     "user": {
      "displayName": "김도현",
      "userId": "01074377609887751305"
     },
     "user_tz": -540
    },
    "id": "xrsu-X5gmqX-",
    "outputId": "0046d861-632e-4eaa-c454-01930b7d6b3b"
   },
   "outputs": [
    {
     "data": {
      "text/html": [
       "<div>\n",
       "<style scoped>\n",
       "    .dataframe tbody tr th:only-of-type {\n",
       "        vertical-align: middle;\n",
       "    }\n",
       "\n",
       "    .dataframe tbody tr th {\n",
       "        vertical-align: top;\n",
       "    }\n",
       "\n",
       "    .dataframe thead th {\n",
       "        text-align: right;\n",
       "    }\n",
       "</style>\n",
       "<table border=\"1\" class=\"dataframe\">\n",
       "  <thead>\n",
       "    <tr style=\"text-align: right;\">\n",
       "      <th></th>\n",
       "      <th>Age</th>\n",
       "      <th>Name</th>\n",
       "    </tr>\n",
       "  </thead>\n",
       "  <tbody>\n",
       "    <tr>\n",
       "      <th>0</th>\n",
       "      <td>30</td>\n",
       "      <td>Adam</td>\n",
       "    </tr>\n",
       "    <tr>\n",
       "      <th>1</th>\n",
       "      <td>36</td>\n",
       "      <td>Anchal</td>\n",
       "    </tr>\n",
       "    <tr>\n",
       "      <th>2</th>\n",
       "      <td>23</td>\n",
       "      <td>Adam</td>\n",
       "    </tr>\n",
       "    <tr>\n",
       "      <th>3</th>\n",
       "      <td>34</td>\n",
       "      <td>Alan</td>\n",
       "    </tr>\n",
       "    <tr>\n",
       "      <th>4</th>\n",
       "      <td>40</td>\n",
       "      <td>Anthony</td>\n",
       "    </tr>\n",
       "  </tbody>\n",
       "</table>\n",
       "</div>"
      ],
      "text/plain": [
       "   Age     Name\n",
       "0   30     Adam\n",
       "1   36   Anchal\n",
       "2   23     Adam\n",
       "3   34     Alan\n",
       "4   40  Anthony"
      ]
     },
     "execution_count": 352,
     "metadata": {},
     "output_type": "execute_result"
    }
   ],
   "source": [
    "df2"
   ]
  },
  {
   "cell_type": "markdown",
   "metadata": {
    "id": "frhWodq9mqX-"
   },
   "source": [
    "concat함수의 파라미터로 axis=0 으로 설정하면 세로로 합쳐 집니다. (default axis=0)"
   ]
  },
  {
   "cell_type": "code",
   "execution_count": 353,
   "metadata": {
    "colab": {
     "base_uri": "https://localhost:8080/",
     "height": 206
    },
    "executionInfo": {
     "elapsed": 3,
     "status": "ok",
     "timestamp": 1661227258185,
     "user": {
      "displayName": "김도현",
      "userId": "01074377609887751305"
     },
     "user_tz": -540
    },
    "id": "Wsi2Hd-hW8l2",
    "outputId": "c62a4ae0-5f33-49af-b1ac-6a1daf33202e"
   },
   "outputs": [
    {
     "data": {
      "text/html": [
       "<div>\n",
       "<style scoped>\n",
       "    .dataframe tbody tr th:only-of-type {\n",
       "        vertical-align: middle;\n",
       "    }\n",
       "\n",
       "    .dataframe tbody tr th {\n",
       "        vertical-align: top;\n",
       "    }\n",
       "\n",
       "    .dataframe thead th {\n",
       "        text-align: right;\n",
       "    }\n",
       "</style>\n",
       "<table border=\"1\" class=\"dataframe\">\n",
       "  <thead>\n",
       "    <tr style=\"text-align: right;\">\n",
       "      <th></th>\n",
       "      <th>Age</th>\n",
       "      <th>Name</th>\n",
       "    </tr>\n",
       "  </thead>\n",
       "  <tbody>\n",
       "    <tr>\n",
       "      <th>0</th>\n",
       "      <td>30</td>\n",
       "      <td>Adam</td>\n",
       "    </tr>\n",
       "    <tr>\n",
       "      <th>1</th>\n",
       "      <td>36</td>\n",
       "      <td>Anchal</td>\n",
       "    </tr>\n",
       "    <tr>\n",
       "      <th>2</th>\n",
       "      <td>23</td>\n",
       "      <td>Adam</td>\n",
       "    </tr>\n",
       "    <tr>\n",
       "      <th>3</th>\n",
       "      <td>34</td>\n",
       "      <td>Alan</td>\n",
       "    </tr>\n",
       "    <tr>\n",
       "      <th>4</th>\n",
       "      <td>40</td>\n",
       "      <td>Anthony</td>\n",
       "    </tr>\n",
       "  </tbody>\n",
       "</table>\n",
       "</div>"
      ],
      "text/plain": [
       "   Age     Name\n",
       "0   30     Adam\n",
       "1   36   Anchal\n",
       "2   23     Adam\n",
       "3   34     Alan\n",
       "4   40  Anthony"
      ]
     },
     "execution_count": 353,
     "metadata": {},
     "output_type": "execute_result"
    }
   ],
   "source": [
    "df2"
   ]
  },
  {
   "cell_type": "code",
   "execution_count": 354,
   "metadata": {
    "colab": {
     "base_uri": "https://localhost:8080/"
    },
    "executionInfo": {
     "elapsed": 511,
     "status": "ok",
     "timestamp": 1661227276100,
     "user": {
      "displayName": "김도현",
      "userId": "01074377609887751305"
     },
     "user_tz": -540
    },
    "id": "N6lrJ7hxmqX-",
    "outputId": "7e597385-4450-4a82-f63a-749ffedc1fbf"
   },
   "outputs": [
    {
     "name": "stdout",
     "output_type": "stream",
     "text": [
      "   Age     Name\n",
      "0   32   Arnold\n",
      "1   34  Anthony\n",
      "2   25   Andrew\n",
      "3   33    Alvin\n",
      "4   29     Alex\n",
      "5   30     Adam\n",
      "6   36   Anchal\n",
      "7   23     Adam\n",
      "8   34     Alan\n",
      "9   40  Anthony\n"
     ]
    }
   ],
   "source": [
    "df3 = pd.concat([df1, df2]).reset_index(drop=True)\n",
    "print(df3)"
   ]
  },
  {
   "cell_type": "markdown",
   "metadata": {
    "id": "ymiJNaMJmqX-"
   },
   "source": [
    "concat함수의 파라미터로 axis=1 으로 설정하면 가로로 합쳐 집니다. (default axis=1)"
   ]
  },
  {
   "cell_type": "code",
   "execution_count": 355,
   "metadata": {
    "colab": {
     "base_uri": "https://localhost:8080/",
     "height": 206
    },
    "executionInfo": {
     "elapsed": 3,
     "status": "ok",
     "timestamp": 1661227276514,
     "user": {
      "displayName": "김도현",
      "userId": "01074377609887751305"
     },
     "user_tz": -540
    },
    "id": "JZZHRZIPmqX-",
    "outputId": "9dea8a17-d990-4227-f415-fbd557320f02"
   },
   "outputs": [
    {
     "data": {
      "text/html": [
       "<div>\n",
       "<style scoped>\n",
       "    .dataframe tbody tr th:only-of-type {\n",
       "        vertical-align: middle;\n",
       "    }\n",
       "\n",
       "    .dataframe tbody tr th {\n",
       "        vertical-align: top;\n",
       "    }\n",
       "\n",
       "    .dataframe thead th {\n",
       "        text-align: right;\n",
       "    }\n",
       "</style>\n",
       "<table border=\"1\" class=\"dataframe\">\n",
       "  <thead>\n",
       "    <tr style=\"text-align: right;\">\n",
       "      <th></th>\n",
       "      <th>Age</th>\n",
       "      <th>Name</th>\n",
       "      <th>Age</th>\n",
       "      <th>Name</th>\n",
       "    </tr>\n",
       "  </thead>\n",
       "  <tbody>\n",
       "    <tr>\n",
       "      <th>0</th>\n",
       "      <td>32</td>\n",
       "      <td>Arnold</td>\n",
       "      <td>30</td>\n",
       "      <td>Adam</td>\n",
       "    </tr>\n",
       "    <tr>\n",
       "      <th>1</th>\n",
       "      <td>34</td>\n",
       "      <td>Anthony</td>\n",
       "      <td>36</td>\n",
       "      <td>Anchal</td>\n",
       "    </tr>\n",
       "    <tr>\n",
       "      <th>2</th>\n",
       "      <td>25</td>\n",
       "      <td>Andrew</td>\n",
       "      <td>23</td>\n",
       "      <td>Adam</td>\n",
       "    </tr>\n",
       "    <tr>\n",
       "      <th>3</th>\n",
       "      <td>33</td>\n",
       "      <td>Alvin</td>\n",
       "      <td>34</td>\n",
       "      <td>Alan</td>\n",
       "    </tr>\n",
       "    <tr>\n",
       "      <th>4</th>\n",
       "      <td>29</td>\n",
       "      <td>Alex</td>\n",
       "      <td>40</td>\n",
       "      <td>Anthony</td>\n",
       "    </tr>\n",
       "  </tbody>\n",
       "</table>\n",
       "</div>"
      ],
      "text/plain": [
       "   Age     Name  Age     Name\n",
       "0   32   Arnold   30     Adam\n",
       "1   34  Anthony   36   Anchal\n",
       "2   25   Andrew   23     Adam\n",
       "3   33    Alvin   34     Alan\n",
       "4   29     Alex   40  Anthony"
      ]
     },
     "execution_count": 355,
     "metadata": {},
     "output_type": "execute_result"
    }
   ],
   "source": [
    "df4 = pd.concat([df1, df2], axis=1)\n",
    "df4"
   ]
  },
  {
   "cell_type": "markdown",
   "metadata": {
    "id": "4J72mY97mqX-"
   },
   "source": [
    "join의 기본은 outer이고 inner로 설정하면 NaN 데이터가 없는 공통된 부분만 합쳐집니다."
   ]
  },
  {
   "cell_type": "code",
   "execution_count": 356,
   "metadata": {
    "colab": {
     "base_uri": "https://localhost:8080/",
     "height": 206
    },
    "executionInfo": {
     "elapsed": 3,
     "status": "ok",
     "timestamp": 1661227277517,
     "user": {
      "displayName": "김도현",
      "userId": "01074377609887751305"
     },
     "user_tz": -540
    },
    "id": "ntwRSIpVmqX-",
    "outputId": "7621c6ba-f17b-4f24-91ac-6004631960ee"
   },
   "outputs": [
    {
     "data": {
      "text/html": [
       "<div>\n",
       "<style scoped>\n",
       "    .dataframe tbody tr th:only-of-type {\n",
       "        vertical-align: middle;\n",
       "    }\n",
       "\n",
       "    .dataframe tbody tr th {\n",
       "        vertical-align: top;\n",
       "    }\n",
       "\n",
       "    .dataframe thead th {\n",
       "        text-align: right;\n",
       "    }\n",
       "</style>\n",
       "<table border=\"1\" class=\"dataframe\">\n",
       "  <thead>\n",
       "    <tr style=\"text-align: right;\">\n",
       "      <th></th>\n",
       "      <th>Age</th>\n",
       "      <th>Name</th>\n",
       "      <th>Age</th>\n",
       "      <th>Name</th>\n",
       "    </tr>\n",
       "  </thead>\n",
       "  <tbody>\n",
       "    <tr>\n",
       "      <th>0</th>\n",
       "      <td>32</td>\n",
       "      <td>Arnold</td>\n",
       "      <td>32</td>\n",
       "      <td>Arnold</td>\n",
       "    </tr>\n",
       "    <tr>\n",
       "      <th>1</th>\n",
       "      <td>34</td>\n",
       "      <td>Anthony</td>\n",
       "      <td>34</td>\n",
       "      <td>Anthony</td>\n",
       "    </tr>\n",
       "    <tr>\n",
       "      <th>2</th>\n",
       "      <td>25</td>\n",
       "      <td>Andrew</td>\n",
       "      <td>25</td>\n",
       "      <td>Andrew</td>\n",
       "    </tr>\n",
       "    <tr>\n",
       "      <th>3</th>\n",
       "      <td>33</td>\n",
       "      <td>Alvin</td>\n",
       "      <td>33</td>\n",
       "      <td>Alvin</td>\n",
       "    </tr>\n",
       "    <tr>\n",
       "      <th>4</th>\n",
       "      <td>29</td>\n",
       "      <td>Alex</td>\n",
       "      <td>29</td>\n",
       "      <td>Alex</td>\n",
       "    </tr>\n",
       "  </tbody>\n",
       "</table>\n",
       "</div>"
      ],
      "text/plain": [
       "   Age     Name  Age     Name\n",
       "0   32   Arnold   32   Arnold\n",
       "1   34  Anthony   34  Anthony\n",
       "2   25   Andrew   25   Andrew\n",
       "3   33    Alvin   33    Alvin\n",
       "4   29     Alex   29     Alex"
      ]
     },
     "execution_count": 356,
     "metadata": {},
     "output_type": "execute_result"
    }
   ],
   "source": [
    "df4 = pd.concat([df1, df3], axis=1, join='inner')\n",
    "df4"
   ]
  },
  {
   "cell_type": "code",
   "execution_count": 357,
   "metadata": {},
   "outputs": [
    {
     "data": {
      "text/html": [
       "<div>\n",
       "<style scoped>\n",
       "    .dataframe tbody tr th:only-of-type {\n",
       "        vertical-align: middle;\n",
       "    }\n",
       "\n",
       "    .dataframe tbody tr th {\n",
       "        vertical-align: top;\n",
       "    }\n",
       "\n",
       "    .dataframe thead th {\n",
       "        text-align: right;\n",
       "    }\n",
       "</style>\n",
       "<table border=\"1\" class=\"dataframe\">\n",
       "  <thead>\n",
       "    <tr style=\"text-align: right;\">\n",
       "      <th></th>\n",
       "      <th>Age</th>\n",
       "      <th>Name</th>\n",
       "      <th>Age</th>\n",
       "      <th>Name</th>\n",
       "    </tr>\n",
       "  </thead>\n",
       "  <tbody>\n",
       "    <tr>\n",
       "      <th>0</th>\n",
       "      <td>32.0</td>\n",
       "      <td>Arnold</td>\n",
       "      <td>32</td>\n",
       "      <td>Arnold</td>\n",
       "    </tr>\n",
       "    <tr>\n",
       "      <th>1</th>\n",
       "      <td>34.0</td>\n",
       "      <td>Anthony</td>\n",
       "      <td>34</td>\n",
       "      <td>Anthony</td>\n",
       "    </tr>\n",
       "    <tr>\n",
       "      <th>2</th>\n",
       "      <td>25.0</td>\n",
       "      <td>Andrew</td>\n",
       "      <td>25</td>\n",
       "      <td>Andrew</td>\n",
       "    </tr>\n",
       "    <tr>\n",
       "      <th>3</th>\n",
       "      <td>33.0</td>\n",
       "      <td>Alvin</td>\n",
       "      <td>33</td>\n",
       "      <td>Alvin</td>\n",
       "    </tr>\n",
       "    <tr>\n",
       "      <th>4</th>\n",
       "      <td>29.0</td>\n",
       "      <td>Alex</td>\n",
       "      <td>29</td>\n",
       "      <td>Alex</td>\n",
       "    </tr>\n",
       "    <tr>\n",
       "      <th>5</th>\n",
       "      <td>NaN</td>\n",
       "      <td>NaN</td>\n",
       "      <td>30</td>\n",
       "      <td>Adam</td>\n",
       "    </tr>\n",
       "    <tr>\n",
       "      <th>6</th>\n",
       "      <td>NaN</td>\n",
       "      <td>NaN</td>\n",
       "      <td>36</td>\n",
       "      <td>Anchal</td>\n",
       "    </tr>\n",
       "    <tr>\n",
       "      <th>7</th>\n",
       "      <td>NaN</td>\n",
       "      <td>NaN</td>\n",
       "      <td>23</td>\n",
       "      <td>Adam</td>\n",
       "    </tr>\n",
       "    <tr>\n",
       "      <th>8</th>\n",
       "      <td>NaN</td>\n",
       "      <td>NaN</td>\n",
       "      <td>34</td>\n",
       "      <td>Alan</td>\n",
       "    </tr>\n",
       "    <tr>\n",
       "      <th>9</th>\n",
       "      <td>NaN</td>\n",
       "      <td>NaN</td>\n",
       "      <td>40</td>\n",
       "      <td>Anthony</td>\n",
       "    </tr>\n",
       "  </tbody>\n",
       "</table>\n",
       "</div>"
      ],
      "text/plain": [
       "    Age     Name  Age     Name\n",
       "0  32.0   Arnold   32   Arnold\n",
       "1  34.0  Anthony   34  Anthony\n",
       "2  25.0   Andrew   25   Andrew\n",
       "3  33.0    Alvin   33    Alvin\n",
       "4  29.0     Alex   29     Alex\n",
       "5   NaN      NaN   30     Adam\n",
       "6   NaN      NaN   36   Anchal\n",
       "7   NaN      NaN   23     Adam\n",
       "8   NaN      NaN   34     Alan\n",
       "9   NaN      NaN   40  Anthony"
      ]
     },
     "execution_count": 357,
     "metadata": {},
     "output_type": "execute_result"
    }
   ],
   "source": [
    "df4 = pd.concat([df1, df3], axis=1, join='outer')\n",
    "df4"
   ]
  },
  {
   "cell_type": "code",
   "execution_count": 358,
   "metadata": {},
   "outputs": [
    {
     "data": {
      "text/html": [
       "<div>\n",
       "<style scoped>\n",
       "    .dataframe tbody tr th:only-of-type {\n",
       "        vertical-align: middle;\n",
       "    }\n",
       "\n",
       "    .dataframe tbody tr th {\n",
       "        vertical-align: top;\n",
       "    }\n",
       "\n",
       "    .dataframe thead th {\n",
       "        text-align: right;\n",
       "    }\n",
       "</style>\n",
       "<table border=\"1\" class=\"dataframe\">\n",
       "  <thead>\n",
       "    <tr style=\"text-align: right;\">\n",
       "      <th></th>\n",
       "      <th>Name</th>\n",
       "    </tr>\n",
       "  </thead>\n",
       "  <tbody>\n",
       "    <tr>\n",
       "      <th>0</th>\n",
       "      <td>a</td>\n",
       "    </tr>\n",
       "    <tr>\n",
       "      <th>1</th>\n",
       "      <td>b</td>\n",
       "    </tr>\n",
       "    <tr>\n",
       "      <th>2</th>\n",
       "      <td>c</td>\n",
       "    </tr>\n",
       "  </tbody>\n",
       "</table>\n",
       "</div>"
      ],
      "text/plain": [
       "  Name\n",
       "0    a\n",
       "1    b\n",
       "2    c"
      ]
     },
     "execution_count": 358,
     "metadata": {},
     "output_type": "execute_result"
    }
   ],
   "source": [
    "df0 = pd.DataFrame({\"Name\":['a','b','c']})\n",
    "df0"
   ]
  },
  {
   "cell_type": "code",
   "execution_count": 359,
   "metadata": {},
   "outputs": [],
   "source": [
    "df0['Age'] = [31, 40, np.nan]"
   ]
  },
  {
   "cell_type": "code",
   "execution_count": 360,
   "metadata": {},
   "outputs": [
    {
     "data": {
      "text/html": [
       "<div>\n",
       "<style scoped>\n",
       "    .dataframe tbody tr th:only-of-type {\n",
       "        vertical-align: middle;\n",
       "    }\n",
       "\n",
       "    .dataframe tbody tr th {\n",
       "        vertical-align: top;\n",
       "    }\n",
       "\n",
       "    .dataframe thead th {\n",
       "        text-align: right;\n",
       "    }\n",
       "</style>\n",
       "<table border=\"1\" class=\"dataframe\">\n",
       "  <thead>\n",
       "    <tr style=\"text-align: right;\">\n",
       "      <th></th>\n",
       "      <th>Name</th>\n",
       "      <th>Age</th>\n",
       "    </tr>\n",
       "  </thead>\n",
       "  <tbody>\n",
       "    <tr>\n",
       "      <th>0</th>\n",
       "      <td>a</td>\n",
       "      <td>31.0</td>\n",
       "    </tr>\n",
       "    <tr>\n",
       "      <th>1</th>\n",
       "      <td>b</td>\n",
       "      <td>40.0</td>\n",
       "    </tr>\n",
       "    <tr>\n",
       "      <th>2</th>\n",
       "      <td>c</td>\n",
       "      <td>NaN</td>\n",
       "    </tr>\n",
       "  </tbody>\n",
       "</table>\n",
       "</div>"
      ],
      "text/plain": [
       "  Name   Age\n",
       "0    a  31.0\n",
       "1    b  40.0\n",
       "2    c   NaN"
      ]
     },
     "execution_count": 360,
     "metadata": {},
     "output_type": "execute_result"
    }
   ],
   "source": [
    "df0"
   ]
  },
  {
   "cell_type": "markdown",
   "metadata": {
    "id": "d88rIWYTmqX-"
   },
   "source": [
    "### 2.6 Group by\n",
    "- 특정 컬럼의 중복되는 row를 합쳐 새로운 데이터 프레임을 만드는 방법입니다.\n",
    "- 이름별 평균 나이를 나타내는 데이터 프레임을 만듭니다.\n",
    "\n",
    "\n",
    "1. size\n",
    "1. sort_values\n",
    "1. agg"
   ]
  },
  {
   "cell_type": "markdown",
   "metadata": {
    "id": "2tS4RxLemqX-"
   },
   "source": [
    "10명에 대한 이름과 나이를 나타내는 데이터 프레임을 만듭니다."
   ]
  },
  {
   "cell_type": "code",
   "execution_count": 128,
   "metadata": {
    "colab": {
     "base_uri": "https://localhost:8080/"
    },
    "executionInfo": {
     "elapsed": 1,
     "status": "ok",
     "timestamp": 1661227279195,
     "user": {
      "displayName": "김도현",
      "userId": "01074377609887751305"
     },
     "user_tz": -540
    },
    "id": "Imioe3KPmqX-",
    "outputId": "d3950b15-965a-4f6a-fddc-864e69b69726"
   },
   "outputs": [
    {
     "name": "stdout",
     "output_type": "stream",
     "text": [
      "     Name  Quantity\n",
      "0   apple         3\n",
      "1    pear         5\n",
      "2   apple         1\n",
      "3  banana         2\n",
      "4    pear         2\n"
     ]
    }
   ],
   "source": [
    "names = ['apple','pear','apple','banana', 'pear']\n",
    "quantity = [3,5,1,2,2]\n",
    "g_df = pd.DataFrame({'Name':names, 'Quantity':quantity})\n",
    "print(g_df)"
   ]
  },
  {
   "cell_type": "code",
   "execution_count": 129,
   "metadata": {
    "colab": {
     "base_uri": "https://localhost:8080/",
     "height": 206
    },
    "executionInfo": {
     "elapsed": 2,
     "status": "ok",
     "timestamp": 1661227279689,
     "user": {
      "displayName": "김도현",
      "userId": "01074377609887751305"
     },
     "user_tz": -540
    },
    "id": "wNY78SQraB7r",
    "outputId": "0bbeaf87-7ea1-4519-fa24-2ec606c8db66"
   },
   "outputs": [
    {
     "data": {
      "text/html": [
       "<div>\n",
       "<style scoped>\n",
       "    .dataframe tbody tr th:only-of-type {\n",
       "        vertical-align: middle;\n",
       "    }\n",
       "\n",
       "    .dataframe tbody tr th {\n",
       "        vertical-align: top;\n",
       "    }\n",
       "\n",
       "    .dataframe thead th {\n",
       "        text-align: right;\n",
       "    }\n",
       "</style>\n",
       "<table border=\"1\" class=\"dataframe\">\n",
       "  <thead>\n",
       "    <tr style=\"text-align: right;\">\n",
       "      <th></th>\n",
       "      <th>Name</th>\n",
       "      <th>Quantity</th>\n",
       "    </tr>\n",
       "  </thead>\n",
       "  <tbody>\n",
       "    <tr>\n",
       "      <th>0</th>\n",
       "      <td>apple</td>\n",
       "      <td>3</td>\n",
       "    </tr>\n",
       "    <tr>\n",
       "      <th>1</th>\n",
       "      <td>pear</td>\n",
       "      <td>5</td>\n",
       "    </tr>\n",
       "    <tr>\n",
       "      <th>2</th>\n",
       "      <td>apple</td>\n",
       "      <td>1</td>\n",
       "    </tr>\n",
       "    <tr>\n",
       "      <th>3</th>\n",
       "      <td>banana</td>\n",
       "      <td>2</td>\n",
       "    </tr>\n",
       "    <tr>\n",
       "      <th>4</th>\n",
       "      <td>pear</td>\n",
       "      <td>2</td>\n",
       "    </tr>\n",
       "  </tbody>\n",
       "</table>\n",
       "</div>"
      ],
      "text/plain": [
       "     Name  Quantity\n",
       "0   apple         3\n",
       "1    pear         5\n",
       "2   apple         1\n",
       "3  banana         2\n",
       "4    pear         2"
      ]
     },
     "execution_count": 129,
     "metadata": {},
     "output_type": "execute_result"
    }
   ],
   "source": [
    "g_df"
   ]
  },
  {
   "cell_type": "markdown",
   "metadata": {
    "id": "ZQC72kcxmqX_"
   },
   "source": [
    "#### groupby - size\n",
    "- groupby를 할 설정된 컬럼으로 공통된 row 데이터가 합쳐지고 합쳐진 row의 갯수를 출력합니다.\n",
    "- g_df.groupby(\"Name\").size()결과로 나온 Series 데이터가 reset_index(name=\"counts\") 함수를 수행하여 counts라는 컬럼으로 추가 됩니다."
   ]
  },
  {
   "cell_type": "code",
   "execution_count": 130,
   "metadata": {
    "colab": {
     "base_uri": "https://localhost:8080/"
    },
    "executionInfo": {
     "elapsed": 2,
     "status": "ok",
     "timestamp": 1661227281007,
     "user": {
      "displayName": "김도현",
      "userId": "01074377609887751305"
     },
     "user_tz": -540
    },
    "id": "--CyBp1omqX_",
    "outputId": "51bd1575-127f-468e-fe5b-1b514708165a"
   },
   "outputs": [
    {
     "name": "stdout",
     "output_type": "stream",
     "text": [
      "Name\n",
      "apple     2\n",
      "banana    1\n",
      "pear      2\n",
      "dtype: int64\n"
     ]
    }
   ],
   "source": [
    "print(g_df.groupby(\"Name\").size())  # group으로 묶고, 그 이후 size (몇 번 반복했나) 계산값 출력"
   ]
  },
  {
   "cell_type": "code",
   "execution_count": 132,
   "metadata": {
    "colab": {
     "base_uri": "https://localhost:8080/"
    },
    "executionInfo": {
     "elapsed": 1,
     "status": "ok",
     "timestamp": 1661227281576,
     "user": {
      "displayName": "김도현",
      "userId": "01074377609887751305"
     },
     "user_tz": -540
    },
    "id": "Hmy_OdAzmqX_",
    "outputId": "cef8e3dc-a14d-4a0e-f4fa-5d2db2ca3927"
   },
   "outputs": [
    {
     "name": "stdout",
     "output_type": "stream",
     "text": [
      "     Name  counts\n",
      "0   apple       2\n",
      "1  banana       1\n",
      "2    pear       2\n"
     ]
    }
   ],
   "source": [
    "result_df = g_df.groupby(\"Name\").size().reset_index(name=\"counts\")\n",
    "# reset_index는 drop하지 않으면 기본적으로 칼럼으로 가는데 원래 시리즈 칼럼명을 생성해준다???\n",
    "print(result_df)"
   ]
  },
  {
   "cell_type": "markdown",
   "metadata": {
    "id": "4JdKhX4hmqX_"
   },
   "source": [
    "#### sort values\n",
    "- 설정한 컬럼으로 오름차순이나 내림차순으로 정렬하는 함수 입니다."
   ]
  },
  {
   "cell_type": "code",
   "execution_count": 133,
   "metadata": {
    "colab": {
     "base_uri": "https://localhost:8080/"
    },
    "executionInfo": {
     "elapsed": 2,
     "status": "ok",
     "timestamp": 1661227282431,
     "user": {
      "displayName": "김도현",
      "userId": "01074377609887751305"
     },
     "user_tz": -540
    },
    "id": "jZkZ4P9AmqX_",
    "outputId": "63cf6342-547b-4bb9-de4e-559433149ca0"
   },
   "outputs": [
    {
     "name": "stdout",
     "output_type": "stream",
     "text": [
      "     Name  counts\n",
      "0   apple       2\n",
      "1    pear       2\n",
      "2  banana       1\n"
     ]
    }
   ],
   "source": [
    "result_df = result_df.sort_values(by=[\"counts\"], ascending=False)  # 내림차순\n",
    "result_df.reset_index(drop=True, inplace=True)\n",
    "print(result_df)"
   ]
  },
  {
   "cell_type": "markdown",
   "metadata": {
    "id": "CvitRF1UmqX_"
   },
   "source": [
    "#### agg : min"
   ]
  },
  {
   "cell_type": "markdown",
   "metadata": {
    "id": "HtZsq6Y2mqX_"
   },
   "source": [
    "Name으로 그룹핑하고 그룹핑된 데이터에서 최소값 Age를 출력"
   ]
  },
  {
   "cell_type": "code",
   "execution_count": 136,
   "metadata": {},
   "outputs": [
    {
     "name": "stdout",
     "output_type": "stream",
     "text": [
      "    Name  Quantity\n",
      "0  apple         3\n",
      "2  apple         1\n",
      "     Name  Quantity\n",
      "3  banana         2\n",
      "   Name  Quantity\n",
      "1  pear         5\n",
      "4  pear         2\n"
     ]
    },
    {
     "data": {
      "text/html": [
       "<div>\n",
       "<style scoped>\n",
       "    .dataframe tbody tr th:only-of-type {\n",
       "        vertical-align: middle;\n",
       "    }\n",
       "\n",
       "    .dataframe tbody tr th {\n",
       "        vertical-align: top;\n",
       "    }\n",
       "\n",
       "    .dataframe thead th {\n",
       "        text-align: right;\n",
       "    }\n",
       "</style>\n",
       "<table border=\"1\" class=\"dataframe\">\n",
       "  <thead>\n",
       "    <tr style=\"text-align: right;\">\n",
       "      <th></th>\n",
       "    </tr>\n",
       "  </thead>\n",
       "  <tbody>\n",
       "  </tbody>\n",
       "</table>\n",
       "</div>"
      ],
      "text/plain": [
       "Empty DataFrame\n",
       "Columns: []\n",
       "Index: []"
      ]
     },
     "execution_count": 136,
     "metadata": {},
     "output_type": "execute_result"
    }
   ],
   "source": [
    "g_df.groupby('Name').apply(lambda x: print(x))  # 묶인걸 lambda를 통해 시각적으로 확인 할 수 있다"
   ]
  },
  {
   "cell_type": "code",
   "execution_count": 137,
   "metadata": {
    "colab": {
     "base_uri": "https://localhost:8080/"
    },
    "executionInfo": {
     "elapsed": 535,
     "status": "ok",
     "timestamp": 1661227283550,
     "user": {
      "displayName": "김도현",
      "userId": "01074377609887751305"
     },
     "user_tz": -540
    },
    "id": "kuz_7TKsmqX_",
    "outputId": "8a226660-0241-4097-a1f8-4a149c39e060"
   },
   "outputs": [
    {
     "name": "stdout",
     "output_type": "stream",
     "text": [
      "     Name  Quantity\n",
      "0   apple         1\n",
      "1  banana         2\n",
      "2    pear         2\n"
     ]
    }
   ],
   "source": [
    "print(g_df.groupby(\"Name\").agg(\"min\").reset_index())  # 각각 묶인 것 중에 수량에 대한 min 값을 출력"
   ]
  },
  {
   "cell_type": "markdown",
   "metadata": {
    "id": "MNtCha4JmqX_"
   },
   "source": [
    "#### agg : max"
   ]
  },
  {
   "cell_type": "markdown",
   "metadata": {
    "id": "jTdz84YxmqX_"
   },
   "source": [
    "Name으로 그룹핑하고 그룹핑된 데이터에서 최대값 Age를 출력"
   ]
  },
  {
   "cell_type": "code",
   "execution_count": 138,
   "metadata": {
    "colab": {
     "base_uri": "https://localhost:8080/"
    },
    "executionInfo": {
     "elapsed": 2,
     "status": "ok",
     "timestamp": 1661227284041,
     "user": {
      "displayName": "김도현",
      "userId": "01074377609887751305"
     },
     "user_tz": -540
    },
    "id": "ZJROG5P2mqX_",
    "outputId": "682ecdb3-3315-422a-ebc7-14c386eae8a3",
    "scrolled": true
   },
   "outputs": [
    {
     "name": "stdout",
     "output_type": "stream",
     "text": [
      "     Name  Quantity\n",
      "0   apple         3\n",
      "1  banana         2\n",
      "2    pear         5\n"
     ]
    }
   ],
   "source": [
    "print(g_df.groupby(\"Name\").agg(\"max\").reset_index())"
   ]
  },
  {
   "cell_type": "markdown",
   "metadata": {
    "id": "6CDVvECfmqYA"
   },
   "source": [
    "#### agg : mean"
   ]
  },
  {
   "cell_type": "markdown",
   "metadata": {
    "id": "1d6IVyakmqYA"
   },
   "source": [
    "Name으로 그룹핑하고 그룹핑된 데이터에서 평균값 Age를 출력"
   ]
  },
  {
   "cell_type": "code",
   "execution_count": 139,
   "metadata": {
    "colab": {
     "base_uri": "https://localhost:8080/"
    },
    "executionInfo": {
     "elapsed": 2,
     "status": "ok",
     "timestamp": 1661227284533,
     "user": {
      "displayName": "김도현",
      "userId": "01074377609887751305"
     },
     "user_tz": -540
    },
    "id": "coofLMB8mqYA",
    "outputId": "436bc1b9-a115-40bc-b115-bbceb25a63e6"
   },
   "outputs": [
    {
     "name": "stdout",
     "output_type": "stream",
     "text": [
      "     Name  Quantity\n",
      "0   apple       2.0\n",
      "1  banana       2.0\n",
      "2    pear       3.5\n"
     ]
    }
   ],
   "source": [
    "print(g_df.groupby(\"Name\").agg(\"mean\").reset_index())"
   ]
  },
  {
   "cell_type": "markdown",
   "metadata": {
    "id": "eKidFswzmqYA"
   },
   "source": [
    "#### agg : sum"
   ]
  },
  {
   "cell_type": "code",
   "execution_count": 140,
   "metadata": {
    "colab": {
     "base_uri": "https://localhost:8080/"
    },
    "executionInfo": {
     "elapsed": 1,
     "status": "ok",
     "timestamp": 1661227284949,
     "user": {
      "displayName": "김도현",
      "userId": "01074377609887751305"
     },
     "user_tz": -540
    },
    "id": "zZm3-h0ymqYA",
    "outputId": "e7a217c9-f97e-48bf-f01d-3ab66b45bf93"
   },
   "outputs": [
    {
     "name": "stdout",
     "output_type": "stream",
     "text": [
      "     Name  Quantity\n",
      "0   apple         4\n",
      "1  banana         2\n",
      "2    pear         7\n"
     ]
    }
   ],
   "source": [
    "print(g_df.groupby(\"Name\").agg(\"sum\").reset_index())"
   ]
  },
  {
   "cell_type": "markdown",
   "metadata": {
    "id": "1QHMwsllmqYA"
   },
   "source": [
    "#### agg : median"
   ]
  },
  {
   "cell_type": "markdown",
   "metadata": {
    "id": "N21upv5XmqYA"
   },
   "source": [
    "Name으로 그룹핑하고 그룹핑된 데이터에서 중간값 Age를 출력"
   ]
  },
  {
   "cell_type": "code",
   "execution_count": 141,
   "metadata": {
    "colab": {
     "base_uri": "https://localhost:8080/",
     "height": 143
    },
    "executionInfo": {
     "elapsed": 3,
     "status": "ok",
     "timestamp": 1661227285853,
     "user": {
      "displayName": "김도현",
      "userId": "01074377609887751305"
     },
     "user_tz": -540
    },
    "id": "RT5dJMn5mqYA",
    "outputId": "91f7c9a7-1a2b-443f-924c-fe5c8b5e9c1d"
   },
   "outputs": [
    {
     "data": {
      "text/html": [
       "<div>\n",
       "<style scoped>\n",
       "    .dataframe tbody tr th:only-of-type {\n",
       "        vertical-align: middle;\n",
       "    }\n",
       "\n",
       "    .dataframe tbody tr th {\n",
       "        vertical-align: top;\n",
       "    }\n",
       "\n",
       "    .dataframe thead th {\n",
       "        text-align: right;\n",
       "    }\n",
       "</style>\n",
       "<table border=\"1\" class=\"dataframe\">\n",
       "  <thead>\n",
       "    <tr style=\"text-align: right;\">\n",
       "      <th></th>\n",
       "      <th>Name</th>\n",
       "      <th>Quantity</th>\n",
       "    </tr>\n",
       "  </thead>\n",
       "  <tbody>\n",
       "    <tr>\n",
       "      <th>0</th>\n",
       "      <td>apple</td>\n",
       "      <td>2.0</td>\n",
       "    </tr>\n",
       "    <tr>\n",
       "      <th>1</th>\n",
       "      <td>banana</td>\n",
       "      <td>2.0</td>\n",
       "    </tr>\n",
       "    <tr>\n",
       "      <th>2</th>\n",
       "      <td>pear</td>\n",
       "      <td>3.5</td>\n",
       "    </tr>\n",
       "  </tbody>\n",
       "</table>\n",
       "</div>"
      ],
      "text/plain": [
       "     Name  Quantity\n",
       "0   apple       2.0\n",
       "1  banana       2.0\n",
       "2    pear       3.5"
      ]
     },
     "execution_count": 141,
     "metadata": {},
     "output_type": "execute_result"
    }
   ],
   "source": [
    "g_df.groupby(\"Name\").agg(\"median\").reset_index()"
   ]
  },
  {
   "cell_type": "code",
   "execution_count": 142,
   "metadata": {
    "colab": {
     "base_uri": "https://localhost:8080/",
     "height": 206
    },
    "executionInfo": {
     "elapsed": 3,
     "status": "ok",
     "timestamp": 1661227286517,
     "user": {
      "displayName": "김도현",
      "userId": "01074377609887751305"
     },
     "user_tz": -540
    },
    "id": "iixBejbKpIpo",
    "outputId": "0657607f-f728-47e1-93f2-b6928fe9c836"
   },
   "outputs": [
    {
     "data": {
      "text/html": [
       "<div>\n",
       "<style scoped>\n",
       "    .dataframe tbody tr th:only-of-type {\n",
       "        vertical-align: middle;\n",
       "    }\n",
       "\n",
       "    .dataframe tbody tr th {\n",
       "        vertical-align: top;\n",
       "    }\n",
       "\n",
       "    .dataframe thead th {\n",
       "        text-align: right;\n",
       "    }\n",
       "</style>\n",
       "<table border=\"1\" class=\"dataframe\">\n",
       "  <thead>\n",
       "    <tr style=\"text-align: right;\">\n",
       "      <th></th>\n",
       "      <th>Name</th>\n",
       "      <th>Quantity</th>\n",
       "    </tr>\n",
       "  </thead>\n",
       "  <tbody>\n",
       "    <tr>\n",
       "      <th>0</th>\n",
       "      <td>apple</td>\n",
       "      <td>3</td>\n",
       "    </tr>\n",
       "    <tr>\n",
       "      <th>1</th>\n",
       "      <td>pear</td>\n",
       "      <td>5</td>\n",
       "    </tr>\n",
       "    <tr>\n",
       "      <th>2</th>\n",
       "      <td>apple</td>\n",
       "      <td>1</td>\n",
       "    </tr>\n",
       "    <tr>\n",
       "      <th>3</th>\n",
       "      <td>banana</td>\n",
       "      <td>2</td>\n",
       "    </tr>\n",
       "    <tr>\n",
       "      <th>4</th>\n",
       "      <td>pear</td>\n",
       "      <td>2</td>\n",
       "    </tr>\n",
       "  </tbody>\n",
       "</table>\n",
       "</div>"
      ],
      "text/plain": [
       "     Name  Quantity\n",
       "0   apple         3\n",
       "1    pear         5\n",
       "2   apple         1\n",
       "3  banana         2\n",
       "4    pear         2"
      ]
     },
     "execution_count": 142,
     "metadata": {},
     "output_type": "execute_result"
    }
   ],
   "source": [
    "g_df"
   ]
  },
  {
   "cell_type": "code",
   "execution_count": 146,
   "metadata": {},
   "outputs": [
    {
     "data": {
      "text/html": [
       "<div>\n",
       "<style scoped>\n",
       "    .dataframe tbody tr th:only-of-type {\n",
       "        vertical-align: middle;\n",
       "    }\n",
       "\n",
       "    .dataframe tbody tr th {\n",
       "        vertical-align: top;\n",
       "    }\n",
       "\n",
       "    .dataframe thead tr th {\n",
       "        text-align: left;\n",
       "    }\n",
       "\n",
       "    .dataframe thead tr:last-of-type th {\n",
       "        text-align: right;\n",
       "    }\n",
       "</style>\n",
       "<table border=\"1\" class=\"dataframe\">\n",
       "  <thead>\n",
       "    <tr>\n",
       "      <th></th>\n",
       "      <th colspan=\"5\" halign=\"left\">Quantity</th>\n",
       "    </tr>\n",
       "    <tr>\n",
       "      <th></th>\n",
       "      <th>min</th>\n",
       "      <th>max</th>\n",
       "      <th>mean</th>\n",
       "      <th>median</th>\n",
       "      <th>sum</th>\n",
       "    </tr>\n",
       "    <tr>\n",
       "      <th>Name</th>\n",
       "      <th></th>\n",
       "      <th></th>\n",
       "      <th></th>\n",
       "      <th></th>\n",
       "      <th></th>\n",
       "    </tr>\n",
       "  </thead>\n",
       "  <tbody>\n",
       "    <tr>\n",
       "      <th>apple</th>\n",
       "      <td>1</td>\n",
       "      <td>3</td>\n",
       "      <td>2.0</td>\n",
       "      <td>2.0</td>\n",
       "      <td>4</td>\n",
       "    </tr>\n",
       "    <tr>\n",
       "      <th>banana</th>\n",
       "      <td>2</td>\n",
       "      <td>2</td>\n",
       "      <td>2.0</td>\n",
       "      <td>2.0</td>\n",
       "      <td>2</td>\n",
       "    </tr>\n",
       "    <tr>\n",
       "      <th>pear</th>\n",
       "      <td>2</td>\n",
       "      <td>5</td>\n",
       "      <td>3.5</td>\n",
       "      <td>3.5</td>\n",
       "      <td>7</td>\n",
       "    </tr>\n",
       "  </tbody>\n",
       "</table>\n",
       "</div>"
      ],
      "text/plain": [
       "       Quantity                    \n",
       "            min max mean median sum\n",
       "Name                               \n",
       "apple         1   3  2.0    2.0   4\n",
       "banana        2   2  2.0    2.0   2\n",
       "pear          2   5  3.5    3.5   7"
      ]
     },
     "execution_count": 146,
     "metadata": {},
     "output_type": "execute_result"
    }
   ],
   "source": [
    "g_df.groupby('Name').agg([min, max, np.mean, 'median', sum])  # 내부에 있는 함수는 그냥 쓰고, 없는 건 np. 쓰거나, ''로 묶어줘"
   ]
  },
  {
   "cell_type": "code",
   "execution_count": 147,
   "metadata": {
    "colab": {
     "base_uri": "https://localhost:8080/"
    },
    "executionInfo": {
     "elapsed": 2,
     "status": "ok",
     "timestamp": 1661227286938,
     "user": {
      "displayName": "김도현",
      "userId": "01074377609887751305"
     },
     "user_tz": -540
    },
    "id": "P9qFJmVdpL4Z",
    "outputId": "9847d9ea-28e2-42ff-ffde-f7f65c3af561"
   },
   "outputs": [
    {
     "name": "stdout",
     "output_type": "stream",
     "text": [
      "        Quantity\n",
      "Name            \n",
      "apple          4\n",
      "banana         2\n",
      "pear           7\n"
     ]
    }
   ],
   "source": [
    "result_df = g_df.groupby(\"Name\").sum()\n",
    "print(result_df)"
   ]
  },
  {
   "cell_type": "markdown",
   "metadata": {
    "id": "WzpUnmqKxLvW"
   },
   "source": [
    "---"
   ]
  },
  {
   "cell_type": "markdown",
   "metadata": {
    "id": "2qRr8_t3Hz38"
   },
   "source": [
    "위의 DataFrame g_df에서 banana 개수의 합을 groupby를 이용해 출력해 보세요."
   ]
  },
  {
   "cell_type": "code",
   "execution_count": 148,
   "metadata": {},
   "outputs": [
    {
     "data": {
      "text/html": [
       "<div>\n",
       "<style scoped>\n",
       "    .dataframe tbody tr th:only-of-type {\n",
       "        vertical-align: middle;\n",
       "    }\n",
       "\n",
       "    .dataframe tbody tr th {\n",
       "        vertical-align: top;\n",
       "    }\n",
       "\n",
       "    .dataframe thead th {\n",
       "        text-align: right;\n",
       "    }\n",
       "</style>\n",
       "<table border=\"1\" class=\"dataframe\">\n",
       "  <thead>\n",
       "    <tr style=\"text-align: right;\">\n",
       "      <th></th>\n",
       "      <th>Name</th>\n",
       "      <th>Quantity</th>\n",
       "    </tr>\n",
       "  </thead>\n",
       "  <tbody>\n",
       "    <tr>\n",
       "      <th>0</th>\n",
       "      <td>apple</td>\n",
       "      <td>3</td>\n",
       "    </tr>\n",
       "    <tr>\n",
       "      <th>1</th>\n",
       "      <td>pear</td>\n",
       "      <td>5</td>\n",
       "    </tr>\n",
       "    <tr>\n",
       "      <th>2</th>\n",
       "      <td>apple</td>\n",
       "      <td>1</td>\n",
       "    </tr>\n",
       "    <tr>\n",
       "      <th>3</th>\n",
       "      <td>banana</td>\n",
       "      <td>2</td>\n",
       "    </tr>\n",
       "    <tr>\n",
       "      <th>4</th>\n",
       "      <td>pear</td>\n",
       "      <td>2</td>\n",
       "    </tr>\n",
       "  </tbody>\n",
       "</table>\n",
       "</div>"
      ],
      "text/plain": [
       "     Name  Quantity\n",
       "0   apple         3\n",
       "1    pear         5\n",
       "2   apple         1\n",
       "3  banana         2\n",
       "4    pear         2"
      ]
     },
     "execution_count": 148,
     "metadata": {},
     "output_type": "execute_result"
    }
   ],
   "source": [
    "g_df"
   ]
  },
  {
   "cell_type": "code",
   "execution_count": 163,
   "metadata": {},
   "outputs": [
    {
     "data": {
      "text/html": [
       "<div>\n",
       "<style scoped>\n",
       "    .dataframe tbody tr th:only-of-type {\n",
       "        vertical-align: middle;\n",
       "    }\n",
       "\n",
       "    .dataframe tbody tr th {\n",
       "        vertical-align: top;\n",
       "    }\n",
       "\n",
       "    .dataframe thead th {\n",
       "        text-align: right;\n",
       "    }\n",
       "</style>\n",
       "<table border=\"1\" class=\"dataframe\">\n",
       "  <thead>\n",
       "    <tr style=\"text-align: right;\">\n",
       "      <th></th>\n",
       "      <th>Quantity</th>\n",
       "    </tr>\n",
       "    <tr>\n",
       "      <th>Name</th>\n",
       "      <th></th>\n",
       "    </tr>\n",
       "  </thead>\n",
       "  <tbody>\n",
       "    <tr>\n",
       "      <th>apple</th>\n",
       "      <td>4</td>\n",
       "    </tr>\n",
       "    <tr>\n",
       "      <th>banana</th>\n",
       "      <td>2</td>\n",
       "    </tr>\n",
       "    <tr>\n",
       "      <th>pear</th>\n",
       "      <td>7</td>\n",
       "    </tr>\n",
       "  </tbody>\n",
       "</table>\n",
       "</div>"
      ],
      "text/plain": [
       "        Quantity\n",
       "Name            \n",
       "apple          4\n",
       "banana         2\n",
       "pear           7"
      ]
     },
     "execution_count": 163,
     "metadata": {},
     "output_type": "execute_result"
    }
   ],
   "source": [
    "g_df.groupby('Name').agg(sum)"
   ]
  },
  {
   "cell_type": "code",
   "execution_count": 165,
   "metadata": {
    "colab": {
     "base_uri": "https://localhost:8080/"
    },
    "executionInfo": {
     "elapsed": 378,
     "status": "ok",
     "timestamp": 1661227479515,
     "user": {
      "displayName": "김도현",
      "userId": "01074377609887751305"
     },
     "user_tz": -540
    },
    "id": "nJS_8sFGIgnA",
    "outputId": "5600a56c-2ad0-44e4-fa11-f3ee898a96c3"
   },
   "outputs": [
    {
     "data": {
      "text/plain": [
       "2"
      ]
     },
     "execution_count": 165,
     "metadata": {},
     "output_type": "execute_result"
    }
   ],
   "source": [
    "result_df = g_df.groupby('Name').agg('sum')\n",
    "# result_df = g_df.groupby('Name').sum()  # sum은 내장되어 있어서 바로 써도 된다\n",
    "result_df['Quantity']['banana']  # column으로 먼저 뽑고 네임 접근"
   ]
  },
  {
   "cell_type": "code",
   "execution_count": 167,
   "metadata": {},
   "outputs": [
    {
     "data": {
      "text/plain": [
       "Quantity    2\n",
       "Name: banana, dtype: int64"
      ]
     },
     "execution_count": 167,
     "metadata": {},
     "output_type": "execute_result"
    }
   ],
   "source": [
    "result_df.loc['banana']  # index에 대해서는 loc로 접근해야함"
   ]
  },
  {
   "cell_type": "code",
   "execution_count": 168,
   "metadata": {},
   "outputs": [
    {
     "data": {
      "text/plain": [
       "2"
      ]
     },
     "execution_count": 168,
     "metadata": {},
     "output_type": "execute_result"
    }
   ],
   "source": [
    "result_df.loc['banana']['Quantity']"
   ]
  },
  {
   "cell_type": "code",
   "execution_count": 183,
   "metadata": {},
   "outputs": [
    {
     "data": {
      "text/html": [
       "<div>\n",
       "<style scoped>\n",
       "    .dataframe tbody tr th:only-of-type {\n",
       "        vertical-align: middle;\n",
       "    }\n",
       "\n",
       "    .dataframe tbody tr th {\n",
       "        vertical-align: top;\n",
       "    }\n",
       "\n",
       "    .dataframe thead th {\n",
       "        text-align: right;\n",
       "    }\n",
       "</style>\n",
       "<table border=\"1\" class=\"dataframe\">\n",
       "  <thead>\n",
       "    <tr style=\"text-align: right;\">\n",
       "      <th></th>\n",
       "      <th>Quantity</th>\n",
       "    </tr>\n",
       "    <tr>\n",
       "      <th>Name</th>\n",
       "      <th></th>\n",
       "    </tr>\n",
       "  </thead>\n",
       "  <tbody>\n",
       "    <tr>\n",
       "      <th>apple</th>\n",
       "      <td>4</td>\n",
       "    </tr>\n",
       "    <tr>\n",
       "      <th>banana</th>\n",
       "      <td>2</td>\n",
       "    </tr>\n",
       "    <tr>\n",
       "      <th>pear</th>\n",
       "      <td>7</td>\n",
       "    </tr>\n",
       "  </tbody>\n",
       "</table>\n",
       "</div>"
      ],
      "text/plain": [
       "        Quantity\n",
       "Name            \n",
       "apple          4\n",
       "banana         2\n",
       "pear           7"
      ]
     },
     "execution_count": 183,
     "metadata": {},
     "output_type": "execute_result"
    }
   ],
   "source": [
    "result_df"
   ]
  },
  {
   "cell_type": "code",
   "execution_count": 184,
   "metadata": {},
   "outputs": [
    {
     "data": {
      "text/html": [
       "<div>\n",
       "<style scoped>\n",
       "    .dataframe tbody tr th:only-of-type {\n",
       "        vertical-align: middle;\n",
       "    }\n",
       "\n",
       "    .dataframe tbody tr th {\n",
       "        vertical-align: top;\n",
       "    }\n",
       "\n",
       "    .dataframe thead th {\n",
       "        text-align: right;\n",
       "    }\n",
       "</style>\n",
       "<table border=\"1\" class=\"dataframe\">\n",
       "  <thead>\n",
       "    <tr style=\"text-align: right;\">\n",
       "      <th></th>\n",
       "      <th>Name</th>\n",
       "      <th>Quantity</th>\n",
       "    </tr>\n",
       "  </thead>\n",
       "  <tbody>\n",
       "    <tr>\n",
       "      <th>0</th>\n",
       "      <td>apple</td>\n",
       "      <td>4</td>\n",
       "    </tr>\n",
       "    <tr>\n",
       "      <th>1</th>\n",
       "      <td>banana</td>\n",
       "      <td>2</td>\n",
       "    </tr>\n",
       "    <tr>\n",
       "      <th>2</th>\n",
       "      <td>pear</td>\n",
       "      <td>7</td>\n",
       "    </tr>\n",
       "  </tbody>\n",
       "</table>\n",
       "</div>"
      ],
      "text/plain": [
       "     Name  Quantity\n",
       "0   apple         4\n",
       "1  banana         2\n",
       "2    pear         7"
      ]
     },
     "execution_count": 184,
     "metadata": {},
     "output_type": "execute_result"
    }
   ],
   "source": [
    "result_df.reset_index()"
   ]
  },
  {
   "cell_type": "code",
   "execution_count": 185,
   "metadata": {},
   "outputs": [
    {
     "data": {
      "text/html": [
       "<div>\n",
       "<style scoped>\n",
       "    .dataframe tbody tr th:only-of-type {\n",
       "        vertical-align: middle;\n",
       "    }\n",
       "\n",
       "    .dataframe tbody tr th {\n",
       "        vertical-align: top;\n",
       "    }\n",
       "\n",
       "    .dataframe thead th {\n",
       "        text-align: right;\n",
       "    }\n",
       "</style>\n",
       "<table border=\"1\" class=\"dataframe\">\n",
       "  <thead>\n",
       "    <tr style=\"text-align: right;\">\n",
       "      <th></th>\n",
       "      <th>Name</th>\n",
       "      <th>Quantity</th>\n",
       "    </tr>\n",
       "  </thead>\n",
       "  <tbody>\n",
       "    <tr>\n",
       "      <th>0</th>\n",
       "      <td>apple</td>\n",
       "      <td>4</td>\n",
       "    </tr>\n",
       "    <tr>\n",
       "      <th>1</th>\n",
       "      <td>banana</td>\n",
       "      <td>2</td>\n",
       "    </tr>\n",
       "    <tr>\n",
       "      <th>2</th>\n",
       "      <td>pear</td>\n",
       "      <td>7</td>\n",
       "    </tr>\n",
       "  </tbody>\n",
       "</table>\n",
       "</div>"
      ],
      "text/plain": [
       "     Name  Quantity\n",
       "0   apple         4\n",
       "1  banana         2\n",
       "2    pear         7"
      ]
     },
     "execution_count": 185,
     "metadata": {},
     "output_type": "execute_result"
    }
   ],
   "source": [
    "rdf = result_df.reset_index()\n",
    "rdf"
   ]
  },
  {
   "cell_type": "code",
   "execution_count": 186,
   "metadata": {},
   "outputs": [
    {
     "data": {
      "text/html": [
       "<div>\n",
       "<style scoped>\n",
       "    .dataframe tbody tr th:only-of-type {\n",
       "        vertical-align: middle;\n",
       "    }\n",
       "\n",
       "    .dataframe tbody tr th {\n",
       "        vertical-align: top;\n",
       "    }\n",
       "\n",
       "    .dataframe thead th {\n",
       "        text-align: right;\n",
       "    }\n",
       "</style>\n",
       "<table border=\"1\" class=\"dataframe\">\n",
       "  <thead>\n",
       "    <tr style=\"text-align: right;\">\n",
       "      <th></th>\n",
       "      <th>Name</th>\n",
       "      <th>Quantity</th>\n",
       "    </tr>\n",
       "  </thead>\n",
       "  <tbody>\n",
       "    <tr>\n",
       "      <th>1</th>\n",
       "      <td>banana</td>\n",
       "      <td>2</td>\n",
       "    </tr>\n",
       "  </tbody>\n",
       "</table>\n",
       "</div>"
      ],
      "text/plain": [
       "     Name  Quantity\n",
       "1  banana         2"
      ]
     },
     "execution_count": 186,
     "metadata": {},
     "output_type": "execute_result"
    }
   ],
   "source": [
    "rdf.loc[rdf['Name']=='banana']  # boolean으로 접근"
   ]
  },
  {
   "cell_type": "code",
   "execution_count": 187,
   "metadata": {},
   "outputs": [
    {
     "data": {
      "text/plain": [
       "1    2\n",
       "Name: Quantity, dtype: int64"
      ]
     },
     "execution_count": 187,
     "metadata": {},
     "output_type": "execute_result"
    }
   ],
   "source": [
    "rdf.loc[rdf['Name']=='banana']['Quantity']"
   ]
  },
  {
   "cell_type": "code",
   "execution_count": 191,
   "metadata": {},
   "outputs": [
    {
     "data": {
      "text/plain": [
       "array([2], dtype=int64)"
      ]
     },
     "execution_count": 191,
     "metadata": {},
     "output_type": "execute_result"
    }
   ],
   "source": [
    "rdf.loc[rdf['Name']=='banana']['Quantity'].values"
   ]
  },
  {
   "cell_type": "code",
   "execution_count": 195,
   "metadata": {},
   "outputs": [
    {
     "data": {
      "text/plain": [
       "2"
      ]
     },
     "execution_count": 195,
     "metadata": {},
     "output_type": "execute_result"
    }
   ],
   "source": [
    "rdf.loc[rdf['Name']=='banana']['Quantity'].values[0]"
   ]
  },
  {
   "cell_type": "markdown",
   "metadata": {
    "id": "ZXZbtQGixMdL"
   },
   "source": [
    "---"
   ]
  },
  {
   "cell_type": "markdown",
   "metadata": {
    "id": "PtNcu6HJmqYA"
   },
   "source": [
    "agg으로 여러개 컬럼 생성\n",
    "- Name으로 그룹핑하고 그룹핑된 데이터에서 최소 최대 평균값을 Age 컬럼에 출력"
   ]
  },
  {
   "cell_type": "code",
   "execution_count": 169,
   "metadata": {
    "colab": {
     "base_uri": "https://localhost:8080/"
    },
    "executionInfo": {
     "elapsed": 375,
     "status": "ok",
     "timestamp": 1661227490979,
     "user": {
      "displayName": "김도현",
      "userId": "01074377609887751305"
     },
     "user_tz": -540
    },
    "id": "qp8ByP_OmqYA",
    "outputId": "834ad19d-7e4a-4bdc-a560-3eb7d2ee03ba"
   },
   "outputs": [
    {
     "name": "stdout",
     "output_type": "stream",
     "text": [
      "     Name Quantity         \n",
      "               min max mean\n",
      "0   apple        1   3  2.0\n",
      "1  banana        2   2  2.0\n",
      "2    pear        2   5  3.5\n"
     ]
    }
   ],
   "source": [
    "df_agg = g_df.groupby(\"Name\").agg([\"min\",\"max\",\"mean\"]).reset_index()\n",
    "print(df_agg)"
   ]
  },
  {
   "cell_type": "markdown",
   "metadata": {
    "id": "NvOjfkOSmqYB"
   },
   "source": [
    "### 2.7 select"
   ]
  },
  {
   "cell_type": "code",
   "execution_count": 170,
   "metadata": {},
   "outputs": [
    {
     "data": {
      "text/html": [
       "<div>\n",
       "<style scoped>\n",
       "    .dataframe tbody tr th:only-of-type {\n",
       "        vertical-align: middle;\n",
       "    }\n",
       "\n",
       "    .dataframe tbody tr th {\n",
       "        vertical-align: top;\n",
       "    }\n",
       "\n",
       "    .dataframe thead th {\n",
       "        text-align: right;\n",
       "    }\n",
       "</style>\n",
       "<table border=\"1\" class=\"dataframe\">\n",
       "  <thead>\n",
       "    <tr style=\"text-align: right;\">\n",
       "      <th></th>\n",
       "      <th>Name</th>\n",
       "      <th>Quantity</th>\n",
       "    </tr>\n",
       "  </thead>\n",
       "  <tbody>\n",
       "    <tr>\n",
       "      <th>0</th>\n",
       "      <td>apple</td>\n",
       "      <td>3</td>\n",
       "    </tr>\n",
       "    <tr>\n",
       "      <th>1</th>\n",
       "      <td>pear</td>\n",
       "      <td>5</td>\n",
       "    </tr>\n",
       "    <tr>\n",
       "      <th>2</th>\n",
       "      <td>apple</td>\n",
       "      <td>1</td>\n",
       "    </tr>\n",
       "    <tr>\n",
       "      <th>3</th>\n",
       "      <td>banana</td>\n",
       "      <td>2</td>\n",
       "    </tr>\n",
       "    <tr>\n",
       "      <th>4</th>\n",
       "      <td>pear</td>\n",
       "      <td>2</td>\n",
       "    </tr>\n",
       "  </tbody>\n",
       "</table>\n",
       "</div>"
      ],
      "text/plain": [
       "     Name  Quantity\n",
       "0   apple         3\n",
       "1    pear         5\n",
       "2   apple         1\n",
       "3  banana         2\n",
       "4    pear         2"
      ]
     },
     "execution_count": 170,
     "metadata": {},
     "output_type": "execute_result"
    }
   ],
   "source": [
    "g_df"
   ]
  },
  {
   "cell_type": "code",
   "execution_count": 171,
   "metadata": {
    "colab": {
     "base_uri": "https://localhost:8080/"
    },
    "executionInfo": {
     "elapsed": 6,
     "status": "ok",
     "timestamp": 1661227492851,
     "user": {
      "displayName": "김도현",
      "userId": "01074377609887751305"
     },
     "user_tz": -540
    },
    "id": "LZuHWCdycw_l",
    "outputId": "d152d8fc-cab3-4b0e-a030-97fc5e46c529"
   },
   "outputs": [
    {
     "name": "stdout",
     "output_type": "stream",
     "text": [
      "    Name  Quantity\n",
      "0  apple         3\n",
      "1   pear         5\n",
      "     Name  Quantity\n",
      "2   apple         1\n",
      "3  banana         2\n",
      "4    pear         2\n"
     ]
    }
   ],
   "source": [
    "print(g_df.head(2))\n",
    "print(g_df.tail(3))"
   ]
  },
  {
   "cell_type": "code",
   "execution_count": 172,
   "metadata": {
    "colab": {
     "base_uri": "https://localhost:8080/",
     "height": 112
    },
    "executionInfo": {
     "elapsed": 4,
     "status": "ok",
     "timestamp": 1661227492852,
     "user": {
      "displayName": "김도현",
      "userId": "01074377609887751305"
     },
     "user_tz": -540
    },
    "id": "75HDuJQ9mqYB",
    "outputId": "66e577cd-f88b-45d8-9621-2c07ae8b0b84"
   },
   "outputs": [
    {
     "data": {
      "text/html": [
       "<div>\n",
       "<style scoped>\n",
       "    .dataframe tbody tr th:only-of-type {\n",
       "        vertical-align: middle;\n",
       "    }\n",
       "\n",
       "    .dataframe tbody tr th {\n",
       "        vertical-align: top;\n",
       "    }\n",
       "\n",
       "    .dataframe thead th {\n",
       "        text-align: right;\n",
       "    }\n",
       "</style>\n",
       "<table border=\"1\" class=\"dataframe\">\n",
       "  <thead>\n",
       "    <tr style=\"text-align: right;\">\n",
       "      <th></th>\n",
       "      <th>Name</th>\n",
       "      <th>Quantity</th>\n",
       "    </tr>\n",
       "  </thead>\n",
       "  <tbody>\n",
       "    <tr>\n",
       "      <th>0</th>\n",
       "      <td>apple</td>\n",
       "      <td>3</td>\n",
       "    </tr>\n",
       "    <tr>\n",
       "      <th>1</th>\n",
       "      <td>pear</td>\n",
       "      <td>5</td>\n",
       "    </tr>\n",
       "  </tbody>\n",
       "</table>\n",
       "</div>"
      ],
      "text/plain": [
       "    Name  Quantity\n",
       "0  apple         3\n",
       "1   pear         5"
      ]
     },
     "execution_count": 172,
     "metadata": {},
     "output_type": "execute_result"
    }
   ],
   "source": [
    "g_df.head(2)"
   ]
  },
  {
   "cell_type": "code",
   "execution_count": 173,
   "metadata": {
    "colab": {
     "base_uri": "https://localhost:8080/",
     "height": 143
    },
    "executionInfo": {
     "elapsed": 3,
     "status": "ok",
     "timestamp": 1661227492852,
     "user": {
      "displayName": "김도현",
      "userId": "01074377609887751305"
     },
     "user_tz": -540
    },
    "id": "v8ycH1lMmqYB",
    "outputId": "91d85e25-6283-4395-fa15-5571fba189fa"
   },
   "outputs": [
    {
     "data": {
      "text/html": [
       "<div>\n",
       "<style scoped>\n",
       "    .dataframe tbody tr th:only-of-type {\n",
       "        vertical-align: middle;\n",
       "    }\n",
       "\n",
       "    .dataframe tbody tr th {\n",
       "        vertical-align: top;\n",
       "    }\n",
       "\n",
       "    .dataframe thead th {\n",
       "        text-align: right;\n",
       "    }\n",
       "</style>\n",
       "<table border=\"1\" class=\"dataframe\">\n",
       "  <thead>\n",
       "    <tr style=\"text-align: right;\">\n",
       "      <th></th>\n",
       "      <th>Name</th>\n",
       "      <th>Quantity</th>\n",
       "    </tr>\n",
       "  </thead>\n",
       "  <tbody>\n",
       "    <tr>\n",
       "      <th>2</th>\n",
       "      <td>apple</td>\n",
       "      <td>1</td>\n",
       "    </tr>\n",
       "    <tr>\n",
       "      <th>3</th>\n",
       "      <td>banana</td>\n",
       "      <td>2</td>\n",
       "    </tr>\n",
       "    <tr>\n",
       "      <th>4</th>\n",
       "      <td>pear</td>\n",
       "      <td>2</td>\n",
       "    </tr>\n",
       "  </tbody>\n",
       "</table>\n",
       "</div>"
      ],
      "text/plain": [
       "     Name  Quantity\n",
       "2   apple         1\n",
       "3  banana         2\n",
       "4    pear         2"
      ]
     },
     "execution_count": 173,
     "metadata": {},
     "output_type": "execute_result"
    }
   ],
   "source": [
    "g_df.tail(3)"
   ]
  },
  {
   "cell_type": "code",
   "execution_count": 174,
   "metadata": {
    "colab": {
     "base_uri": "https://localhost:8080/",
     "height": 206
    },
    "executionInfo": {
     "elapsed": 3,
     "status": "ok",
     "timestamp": 1661227493446,
     "user": {
      "displayName": "김도현",
      "userId": "01074377609887751305"
     },
     "user_tz": -540
    },
    "id": "XPbySDKAmqYB",
    "outputId": "43b77677-223f-4f4c-9dce-d3d4ac5ad81d"
   },
   "outputs": [
    {
     "data": {
      "text/html": [
       "<div>\n",
       "<style scoped>\n",
       "    .dataframe tbody tr th:only-of-type {\n",
       "        vertical-align: middle;\n",
       "    }\n",
       "\n",
       "    .dataframe tbody tr th {\n",
       "        vertical-align: top;\n",
       "    }\n",
       "\n",
       "    .dataframe thead th {\n",
       "        text-align: right;\n",
       "    }\n",
       "</style>\n",
       "<table border=\"1\" class=\"dataframe\">\n",
       "  <thead>\n",
       "    <tr style=\"text-align: right;\">\n",
       "      <th></th>\n",
       "      <th>Name</th>\n",
       "      <th>Quantity</th>\n",
       "    </tr>\n",
       "  </thead>\n",
       "  <tbody>\n",
       "    <tr>\n",
       "      <th>0</th>\n",
       "      <td>apple</td>\n",
       "      <td>3</td>\n",
       "    </tr>\n",
       "    <tr>\n",
       "      <th>1</th>\n",
       "      <td>pear</td>\n",
       "      <td>5</td>\n",
       "    </tr>\n",
       "    <tr>\n",
       "      <th>2</th>\n",
       "      <td>apple</td>\n",
       "      <td>1</td>\n",
       "    </tr>\n",
       "    <tr>\n",
       "      <th>3</th>\n",
       "      <td>banana</td>\n",
       "      <td>2</td>\n",
       "    </tr>\n",
       "    <tr>\n",
       "      <th>4</th>\n",
       "      <td>pear</td>\n",
       "      <td>2</td>\n",
       "    </tr>\n",
       "  </tbody>\n",
       "</table>\n",
       "</div>"
      ],
      "text/plain": [
       "     Name  Quantity\n",
       "0   apple         3\n",
       "1    pear         5\n",
       "2   apple         1\n",
       "3  banana         2\n",
       "4    pear         2"
      ]
     },
     "execution_count": 174,
     "metadata": {},
     "output_type": "execute_result"
    }
   ],
   "source": [
    "g_df.tail()"
   ]
  },
  {
   "cell_type": "markdown",
   "metadata": {
    "id": "bfKR0oBcmqYB"
   },
   "source": [
    "offset index를 이용하여 원하는 데이터를 선택적으로 출력이 가능"
   ]
  },
  {
   "cell_type": "code",
   "execution_count": 175,
   "metadata": {
    "colab": {
     "base_uri": "https://localhost:8080/"
    },
    "executionInfo": {
     "elapsed": 2,
     "status": "ok",
     "timestamp": 1661227493995,
     "user": {
      "displayName": "김도현",
      "userId": "01074377609887751305"
     },
     "user_tz": -540
    },
    "id": "ZKB6ZTCBmqYB",
    "outputId": "891f848c-ad85-4e6f-f47f-d3368484c1cd"
   },
   "outputs": [
    {
     "name": "stdout",
     "output_type": "stream",
     "text": [
      "    Name  Quantity\n",
      "1   pear         5\n",
      "2  apple         1\n"
     ]
    }
   ],
   "source": [
    "print(g_df[1:3])"
   ]
  },
  {
   "cell_type": "code",
   "execution_count": 176,
   "metadata": {
    "colab": {
     "base_uri": "https://localhost:8080/",
     "height": 112
    },
    "executionInfo": {
     "elapsed": 6,
     "status": "ok",
     "timestamp": 1661227504669,
     "user": {
      "displayName": "김도현",
      "userId": "01074377609887751305"
     },
     "user_tz": -540
    },
    "id": "yJinetVHmqYB",
    "outputId": "c5d820da-8a2f-4651-fa86-c31247f91308"
   },
   "outputs": [
    {
     "data": {
      "text/html": [
       "<div>\n",
       "<style scoped>\n",
       "    .dataframe tbody tr th:only-of-type {\n",
       "        vertical-align: middle;\n",
       "    }\n",
       "\n",
       "    .dataframe tbody tr th {\n",
       "        vertical-align: top;\n",
       "    }\n",
       "\n",
       "    .dataframe thead th {\n",
       "        text-align: right;\n",
       "    }\n",
       "</style>\n",
       "<table border=\"1\" class=\"dataframe\">\n",
       "  <thead>\n",
       "    <tr style=\"text-align: right;\">\n",
       "      <th></th>\n",
       "      <th>Name</th>\n",
       "      <th>Quantity</th>\n",
       "    </tr>\n",
       "  </thead>\n",
       "  <tbody>\n",
       "    <tr>\n",
       "      <th>3</th>\n",
       "      <td>banana</td>\n",
       "      <td>2</td>\n",
       "    </tr>\n",
       "    <tr>\n",
       "      <th>4</th>\n",
       "      <td>pear</td>\n",
       "      <td>2</td>\n",
       "    </tr>\n",
       "  </tbody>\n",
       "</table>\n",
       "</div>"
      ],
      "text/plain": [
       "     Name  Quantity\n",
       "3  banana         2\n",
       "4    pear         2"
      ]
     },
     "execution_count": 176,
     "metadata": {},
     "output_type": "execute_result"
    }
   ],
   "source": [
    "g_df[3:]"
   ]
  },
  {
   "cell_type": "code",
   "execution_count": 177,
   "metadata": {
    "colab": {
     "base_uri": "https://localhost:8080/"
    },
    "executionInfo": {
     "elapsed": 5,
     "status": "ok",
     "timestamp": 1661227504669,
     "user": {
      "displayName": "김도현",
      "userId": "01074377609887751305"
     },
     "user_tz": -540
    },
    "id": "WwSKs8rXmqYB",
    "outputId": "8db94a16-3a66-4f78-83d4-a46c815b4c51"
   },
   "outputs": [
    {
     "name": "stdout",
     "output_type": "stream",
     "text": [
      "     Name  Quantity\n",
      "2   apple         1\n",
      "3  banana         2\n",
      "4    pear         2\n"
     ]
    }
   ],
   "source": [
    "print(g_df.loc[2:])"
   ]
  },
  {
   "cell_type": "markdown",
   "metadata": {
    "id": "Pky17lN6mqYC"
   },
   "source": [
    "describe 함수를 이용하여 데이터를 요약해서 보여줌"
   ]
  },
  {
   "cell_type": "code",
   "execution_count": 178,
   "metadata": {
    "colab": {
     "base_uri": "https://localhost:8080/"
    },
    "executionInfo": {
     "elapsed": 2,
     "status": "ok",
     "timestamp": 1661227505098,
     "user": {
      "displayName": "김도현",
      "userId": "01074377609887751305"
     },
     "user_tz": -540
    },
    "id": "ZlpYIS1ZmqYC",
    "outputId": "02bff1d6-c9a5-4525-eb85-8131d9c8bafc"
   },
   "outputs": [
    {
     "name": "stdout",
     "output_type": "stream",
     "text": [
      "       Quantity\n",
      "count  5.000000\n",
      "mean   2.600000\n",
      "std    1.516575\n",
      "min    1.000000\n",
      "25%    2.000000\n",
      "50%    2.000000\n",
      "75%    3.000000\n",
      "max    5.000000\n"
     ]
    }
   ],
   "source": [
    "print(g_df.describe())"
   ]
  },
  {
   "cell_type": "markdown",
   "metadata": {
    "id": "KoD6EuOXmqYC"
   },
   "source": [
    "### 2.8 Merge = sql(join)\n",
    "- 두개 이상의 데이터 프레임을 합쳐서 합쳐진 데이터를 출력하는 방법\n",
    "- 아래와 같이 이름과 주소 데이터가 있는 데이터 프레임과 이름과 인구가 있는 데이터 프레임을 합쳐서 이름과 주소와 인구가 있는 데이터 프레임을 만드는 방법\n",
    "\n",
    "---\n",
    "\n",
    "<center>이름과 주소</center>\n",
    "\n",
    "|Name|Addr|\n",
    "|---|---|\n",
    "|A|Seoul|\n",
    "|B|Pusan|\n",
    "|C|Incheon|\n",
    "\n",
    "---\n",
    "\n",
    "<center>이름과 인구</center>\n",
    "\n",
    "|Name|Population|\n",
    "|---|---|\n",
    "|A|1000|\n",
    "|B|300|\n",
    "|C|200|\n",
    "\n",
    "---\n",
    "\n",
    "<center>이름과 주소와 인구</center>\n",
    "\n",
    "|Name|Addr|Population|\n",
    "|---|---|---|\n",
    "|A|Seoul|1000|\n",
    "|B|Pusan|300|\n",
    "|C|Incheon|200|"
   ]
  },
  {
   "cell_type": "markdown",
   "metadata": {
    "id": "cErE6MyZmqYC"
   },
   "source": [
    "- user_df : 아이디, 이름, 나이 데이터 프레임 생성"
   ]
  },
  {
   "cell_type": "code",
   "execution_count": 179,
   "metadata": {
    "colab": {
     "base_uri": "https://localhost:8080/",
     "height": 206
    },
    "executionInfo": {
     "elapsed": 3,
     "status": "ok",
     "timestamp": 1661227505480,
     "user": {
      "displayName": "김도현",
      "userId": "01074377609887751305"
     },
     "user_tz": -540
    },
    "id": "Z1W_wSbNmqYC",
    "outputId": "4218a54b-015a-4344-d838-299e056a224a"
   },
   "outputs": [
    {
     "data": {
      "text/html": [
       "<div>\n",
       "<style scoped>\n",
       "    .dataframe tbody tr th:only-of-type {\n",
       "        vertical-align: middle;\n",
       "    }\n",
       "\n",
       "    .dataframe tbody tr th {\n",
       "        vertical-align: top;\n",
       "    }\n",
       "\n",
       "    .dataframe thead th {\n",
       "        text-align: right;\n",
       "    }\n",
       "</style>\n",
       "<table border=\"1\" class=\"dataframe\">\n",
       "  <thead>\n",
       "    <tr style=\"text-align: right;\">\n",
       "      <th></th>\n",
       "      <th>UserID</th>\n",
       "      <th>Name</th>\n",
       "      <th>Age</th>\n",
       "    </tr>\n",
       "  </thead>\n",
       "  <tbody>\n",
       "    <tr>\n",
       "      <th>0</th>\n",
       "      <td>1</td>\n",
       "      <td>Alex</td>\n",
       "      <td>39</td>\n",
       "    </tr>\n",
       "    <tr>\n",
       "      <th>1</th>\n",
       "      <td>2</td>\n",
       "      <td>Adam</td>\n",
       "      <td>34</td>\n",
       "    </tr>\n",
       "    <tr>\n",
       "      <th>2</th>\n",
       "      <td>3</td>\n",
       "      <td>Arnold</td>\n",
       "      <td>21</td>\n",
       "    </tr>\n",
       "    <tr>\n",
       "      <th>3</th>\n",
       "      <td>4</td>\n",
       "      <td>Billy</td>\n",
       "      <td>35</td>\n",
       "    </tr>\n",
       "    <tr>\n",
       "      <th>4</th>\n",
       "      <td>5</td>\n",
       "      <td>Anthony</td>\n",
       "      <td>23</td>\n",
       "    </tr>\n",
       "    <tr>\n",
       "      <th>5</th>\n",
       "      <td>6</td>\n",
       "      <td>Alan</td>\n",
       "      <td>36</td>\n",
       "    </tr>\n",
       "    <tr>\n",
       "      <th>6</th>\n",
       "      <td>7</td>\n",
       "      <td>Andrew</td>\n",
       "      <td>40</td>\n",
       "    </tr>\n",
       "    <tr>\n",
       "      <th>7</th>\n",
       "      <td>8</td>\n",
       "      <td>Alvin</td>\n",
       "      <td>20</td>\n",
       "    </tr>\n",
       "  </tbody>\n",
       "</table>\n",
       "</div>"
      ],
      "text/plain": [
       "   UserID     Name  Age\n",
       "0       1     Alex   39\n",
       "1       2     Adam   34\n",
       "2       3   Arnold   21\n",
       "3       4    Billy   35\n",
       "4       5  Anthony   23\n",
       "5       6     Alan   36\n",
       "6       7   Andrew   40\n",
       "7       8    Alvin   20"
      ]
     },
     "execution_count": 179,
     "metadata": {},
     "output_type": "execute_result"
    }
   ],
   "source": [
    "user_df = pd.DataFrame(columns=[\"UserID\", \"Name\", \"Age\"])\n",
    "for idx in range(1,9):\n",
    "    name = get_name()\n",
    "    \n",
    "    # 중복 이름 제거\n",
    "    while name in list(user_df[\"Name\"]):\n",
    "        name = get_name()\n",
    "        \n",
    "    # 데이터 name_df insert\n",
    "    data = {\"Name\":name, \"UserID\":idx, \"Age\":get_age()}\n",
    "    user_df.loc[len(user_df)] = data\n",
    "    \n",
    "user_df"
   ]
  },
  {
   "cell_type": "markdown",
   "metadata": {
    "id": "Lzz84-ARmqYD"
   },
   "source": [
    "- money_df : 아이디, 돈 데이터 프레임 생성"
   ]
  },
  {
   "cell_type": "code",
   "execution_count": 180,
   "metadata": {
    "colab": {
     "base_uri": "https://localhost:8080/",
     "height": 206
    },
    "executionInfo": {
     "elapsed": 450,
     "status": "ok",
     "timestamp": 1661227505928,
     "user": {
      "displayName": "김도현",
      "userId": "01074377609887751305"
     },
     "user_tz": -540
    },
    "id": "fpjE9TcDmqYD",
    "outputId": "9ede3e35-e002-43a5-cb50-120823c794c2"
   },
   "outputs": [
    {
     "data": {
      "text/html": [
       "<div>\n",
       "<style scoped>\n",
       "    .dataframe tbody tr th:only-of-type {\n",
       "        vertical-align: middle;\n",
       "    }\n",
       "\n",
       "    .dataframe tbody tr th {\n",
       "        vertical-align: top;\n",
       "    }\n",
       "\n",
       "    .dataframe thead th {\n",
       "        text-align: right;\n",
       "    }\n",
       "</style>\n",
       "<table border=\"1\" class=\"dataframe\">\n",
       "  <thead>\n",
       "    <tr style=\"text-align: right;\">\n",
       "      <th></th>\n",
       "      <th>ID</th>\n",
       "      <th>Money</th>\n",
       "    </tr>\n",
       "  </thead>\n",
       "  <tbody>\n",
       "    <tr>\n",
       "      <th>0</th>\n",
       "      <td>6</td>\n",
       "      <td>15000</td>\n",
       "    </tr>\n",
       "    <tr>\n",
       "      <th>1</th>\n",
       "      <td>7</td>\n",
       "      <td>17000</td>\n",
       "    </tr>\n",
       "    <tr>\n",
       "      <th>2</th>\n",
       "      <td>7</td>\n",
       "      <td>11000</td>\n",
       "    </tr>\n",
       "    <tr>\n",
       "      <th>3</th>\n",
       "      <td>5</td>\n",
       "      <td>8000</td>\n",
       "    </tr>\n",
       "    <tr>\n",
       "      <th>4</th>\n",
       "      <td>3</td>\n",
       "      <td>19000</td>\n",
       "    </tr>\n",
       "    <tr>\n",
       "      <th>5</th>\n",
       "      <td>6</td>\n",
       "      <td>19000</td>\n",
       "    </tr>\n",
       "    <tr>\n",
       "      <th>6</th>\n",
       "      <td>1</td>\n",
       "      <td>14000</td>\n",
       "    </tr>\n",
       "    <tr>\n",
       "      <th>7</th>\n",
       "      <td>7</td>\n",
       "      <td>1000</td>\n",
       "    </tr>\n",
       "    <tr>\n",
       "      <th>8</th>\n",
       "      <td>1</td>\n",
       "      <td>3000</td>\n",
       "    </tr>\n",
       "    <tr>\n",
       "      <th>9</th>\n",
       "      <td>4</td>\n",
       "      <td>10000</td>\n",
       "    </tr>\n",
       "    <tr>\n",
       "      <th>10</th>\n",
       "      <td>8</td>\n",
       "      <td>11000</td>\n",
       "    </tr>\n",
       "    <tr>\n",
       "      <th>11</th>\n",
       "      <td>3</td>\n",
       "      <td>11000</td>\n",
       "    </tr>\n",
       "    <tr>\n",
       "      <th>12</th>\n",
       "      <td>5</td>\n",
       "      <td>7000</td>\n",
       "    </tr>\n",
       "    <tr>\n",
       "      <th>13</th>\n",
       "      <td>6</td>\n",
       "      <td>1000</td>\n",
       "    </tr>\n",
       "    <tr>\n",
       "      <th>14</th>\n",
       "      <td>5</td>\n",
       "      <td>11000</td>\n",
       "    </tr>\n",
       "  </tbody>\n",
       "</table>\n",
       "</div>"
      ],
      "text/plain": [
       "    ID  Money\n",
       "0    6  15000\n",
       "1    7  17000\n",
       "2    7  11000\n",
       "3    5   8000\n",
       "4    3  19000\n",
       "5    6  19000\n",
       "6    1  14000\n",
       "7    7   1000\n",
       "8    1   3000\n",
       "9    4  10000\n",
       "10   8  11000\n",
       "11   3  11000\n",
       "12   5   7000\n",
       "13   6   1000\n",
       "14   5  11000"
      ]
     },
     "execution_count": 180,
     "metadata": {},
     "output_type": "execute_result"
    }
   ],
   "source": [
    "money_df = pd.DataFrame(columns=[\"ID\", \"Money\"])\n",
    "\n",
    "for idx in range(15):\n",
    "    money = np.random.randint(1, 21) * 1000\n",
    "    data = {\"Money\":money, \"ID\":random.randint(1, 8)}\n",
    "    money_df.loc[len(money_df)] = data\n",
    "    \n",
    "money_df"
   ]
  },
  {
   "cell_type": "code",
   "execution_count": 181,
   "metadata": {},
   "outputs": [
    {
     "data": {
      "text/plain": [
       "array([6, 7, 5, 3, 1, 4, 8], dtype=int64)"
      ]
     },
     "execution_count": 181,
     "metadata": {},
     "output_type": "execute_result"
    }
   ],
   "source": [
    "money_df['ID'].unique()"
   ]
  },
  {
   "cell_type": "code",
   "execution_count": 182,
   "metadata": {
    "colab": {
     "base_uri": "https://localhost:8080/"
    },
    "executionInfo": {
     "elapsed": 25,
     "status": "ok",
     "timestamp": 1661227505929,
     "user": {
      "displayName": "김도현",
      "userId": "01074377609887751305"
     },
     "user_tz": -540
    },
    "id": "d2UKhN7ImqYD",
    "outputId": "8be63a2b-ea8b-4641-b8aa-14191e63f532"
   },
   "outputs": [
    {
     "data": {
      "text/plain": [
       "array([1, 3, 4, 5, 6, 7, 8], dtype=int64)"
      ]
     },
     "execution_count": 182,
     "metadata": {},
     "output_type": "execute_result"
    }
   ],
   "source": [
    "ids = money_df[\"ID\"].unique()\n",
    "ids.sort()\n",
    "ids"
   ]
  },
  {
   "cell_type": "markdown",
   "metadata": {
    "id": "Sc-UtjUmmqYD"
   },
   "source": [
    "#### merge - inner\n",
    "- user_df, money_df \n",
    "- key:ID, UserID\n",
    "- money_df 데이터 기준으로 merge"
   ]
  },
  {
   "cell_type": "code",
   "execution_count": 196,
   "metadata": {
    "colab": {
     "base_uri": "https://localhost:8080/",
     "height": 520
    },
    "executionInfo": {
     "elapsed": 21,
     "status": "ok",
     "timestamp": 1661227505929,
     "user": {
      "displayName": "김도현",
      "userId": "01074377609887751305"
     },
     "user_tz": -540
    },
    "id": "S94zsBHdmqYD",
    "outputId": "954026f2-23b9-457f-d223-ce5ce8165b31"
   },
   "outputs": [
    {
     "data": {
      "text/html": [
       "<div>\n",
       "<style scoped>\n",
       "    .dataframe tbody tr th:only-of-type {\n",
       "        vertical-align: middle;\n",
       "    }\n",
       "\n",
       "    .dataframe tbody tr th {\n",
       "        vertical-align: top;\n",
       "    }\n",
       "\n",
       "    .dataframe thead th {\n",
       "        text-align: right;\n",
       "    }\n",
       "</style>\n",
       "<table border=\"1\" class=\"dataframe\">\n",
       "  <thead>\n",
       "    <tr style=\"text-align: right;\">\n",
       "      <th></th>\n",
       "      <th>ID</th>\n",
       "      <th>Money</th>\n",
       "      <th>UserID</th>\n",
       "      <th>Name</th>\n",
       "      <th>Age</th>\n",
       "    </tr>\n",
       "  </thead>\n",
       "  <tbody>\n",
       "    <tr>\n",
       "      <th>0</th>\n",
       "      <td>6</td>\n",
       "      <td>15000</td>\n",
       "      <td>6</td>\n",
       "      <td>Alan</td>\n",
       "      <td>36</td>\n",
       "    </tr>\n",
       "    <tr>\n",
       "      <th>1</th>\n",
       "      <td>6</td>\n",
       "      <td>19000</td>\n",
       "      <td>6</td>\n",
       "      <td>Alan</td>\n",
       "      <td>36</td>\n",
       "    </tr>\n",
       "    <tr>\n",
       "      <th>2</th>\n",
       "      <td>6</td>\n",
       "      <td>1000</td>\n",
       "      <td>6</td>\n",
       "      <td>Alan</td>\n",
       "      <td>36</td>\n",
       "    </tr>\n",
       "    <tr>\n",
       "      <th>3</th>\n",
       "      <td>7</td>\n",
       "      <td>17000</td>\n",
       "      <td>7</td>\n",
       "      <td>Andrew</td>\n",
       "      <td>40</td>\n",
       "    </tr>\n",
       "    <tr>\n",
       "      <th>4</th>\n",
       "      <td>7</td>\n",
       "      <td>11000</td>\n",
       "      <td>7</td>\n",
       "      <td>Andrew</td>\n",
       "      <td>40</td>\n",
       "    </tr>\n",
       "    <tr>\n",
       "      <th>5</th>\n",
       "      <td>7</td>\n",
       "      <td>1000</td>\n",
       "      <td>7</td>\n",
       "      <td>Andrew</td>\n",
       "      <td>40</td>\n",
       "    </tr>\n",
       "    <tr>\n",
       "      <th>6</th>\n",
       "      <td>5</td>\n",
       "      <td>8000</td>\n",
       "      <td>5</td>\n",
       "      <td>Anthony</td>\n",
       "      <td>23</td>\n",
       "    </tr>\n",
       "    <tr>\n",
       "      <th>7</th>\n",
       "      <td>5</td>\n",
       "      <td>7000</td>\n",
       "      <td>5</td>\n",
       "      <td>Anthony</td>\n",
       "      <td>23</td>\n",
       "    </tr>\n",
       "    <tr>\n",
       "      <th>8</th>\n",
       "      <td>5</td>\n",
       "      <td>11000</td>\n",
       "      <td>5</td>\n",
       "      <td>Anthony</td>\n",
       "      <td>23</td>\n",
       "    </tr>\n",
       "    <tr>\n",
       "      <th>9</th>\n",
       "      <td>3</td>\n",
       "      <td>19000</td>\n",
       "      <td>3</td>\n",
       "      <td>Arnold</td>\n",
       "      <td>21</td>\n",
       "    </tr>\n",
       "    <tr>\n",
       "      <th>10</th>\n",
       "      <td>3</td>\n",
       "      <td>11000</td>\n",
       "      <td>3</td>\n",
       "      <td>Arnold</td>\n",
       "      <td>21</td>\n",
       "    </tr>\n",
       "    <tr>\n",
       "      <th>11</th>\n",
       "      <td>1</td>\n",
       "      <td>14000</td>\n",
       "      <td>1</td>\n",
       "      <td>Alex</td>\n",
       "      <td>39</td>\n",
       "    </tr>\n",
       "    <tr>\n",
       "      <th>12</th>\n",
       "      <td>1</td>\n",
       "      <td>3000</td>\n",
       "      <td>1</td>\n",
       "      <td>Alex</td>\n",
       "      <td>39</td>\n",
       "    </tr>\n",
       "    <tr>\n",
       "      <th>13</th>\n",
       "      <td>4</td>\n",
       "      <td>10000</td>\n",
       "      <td>4</td>\n",
       "      <td>Billy</td>\n",
       "      <td>35</td>\n",
       "    </tr>\n",
       "    <tr>\n",
       "      <th>14</th>\n",
       "      <td>8</td>\n",
       "      <td>11000</td>\n",
       "      <td>8</td>\n",
       "      <td>Alvin</td>\n",
       "      <td>20</td>\n",
       "    </tr>\n",
       "  </tbody>\n",
       "</table>\n",
       "</div>"
      ],
      "text/plain": [
       "    ID  Money  UserID     Name  Age\n",
       "0    6  15000       6     Alan   36\n",
       "1    6  19000       6     Alan   36\n",
       "2    6   1000       6     Alan   36\n",
       "3    7  17000       7   Andrew   40\n",
       "4    7  11000       7   Andrew   40\n",
       "5    7   1000       7   Andrew   40\n",
       "6    5   8000       5  Anthony   23\n",
       "7    5   7000       5  Anthony   23\n",
       "8    5  11000       5  Anthony   23\n",
       "9    3  19000       3   Arnold   21\n",
       "10   3  11000       3   Arnold   21\n",
       "11   1  14000       1     Alex   39\n",
       "12   1   3000       1     Alex   39\n",
       "13   4  10000       4    Billy   35\n",
       "14   8  11000       8    Alvin   20"
      ]
     },
     "execution_count": 196,
     "metadata": {},
     "output_type": "execute_result"
    }
   ],
   "source": [
    "money_df.merge(user_df, left_on=\"ID\", right_on=\"UserID\")"
   ]
  },
  {
   "cell_type": "markdown",
   "metadata": {
    "id": "HMEdBG2vmqYD"
   },
   "source": [
    "user_df 데이터 기준으로 merge"
   ]
  },
  {
   "cell_type": "code",
   "execution_count": 197,
   "metadata": {
    "colab": {
     "base_uri": "https://localhost:8080/",
     "height": 520
    },
    "executionInfo": {
     "elapsed": 21,
     "status": "ok",
     "timestamp": 1661227505929,
     "user": {
      "displayName": "김도현",
      "userId": "01074377609887751305"
     },
     "user_tz": -540
    },
    "id": "frQtePRimqYD",
    "outputId": "def2a10b-188f-4792-e5a1-4eab39e5f2cb"
   },
   "outputs": [
    {
     "data": {
      "text/html": [
       "<div>\n",
       "<style scoped>\n",
       "    .dataframe tbody tr th:only-of-type {\n",
       "        vertical-align: middle;\n",
       "    }\n",
       "\n",
       "    .dataframe tbody tr th {\n",
       "        vertical-align: top;\n",
       "    }\n",
       "\n",
       "    .dataframe thead th {\n",
       "        text-align: right;\n",
       "    }\n",
       "</style>\n",
       "<table border=\"1\" class=\"dataframe\">\n",
       "  <thead>\n",
       "    <tr style=\"text-align: right;\">\n",
       "      <th></th>\n",
       "      <th>UserID</th>\n",
       "      <th>Name</th>\n",
       "      <th>Age</th>\n",
       "      <th>ID</th>\n",
       "      <th>Money</th>\n",
       "    </tr>\n",
       "  </thead>\n",
       "  <tbody>\n",
       "    <tr>\n",
       "      <th>0</th>\n",
       "      <td>1</td>\n",
       "      <td>Alex</td>\n",
       "      <td>39</td>\n",
       "      <td>1</td>\n",
       "      <td>14000</td>\n",
       "    </tr>\n",
       "    <tr>\n",
       "      <th>1</th>\n",
       "      <td>1</td>\n",
       "      <td>Alex</td>\n",
       "      <td>39</td>\n",
       "      <td>1</td>\n",
       "      <td>3000</td>\n",
       "    </tr>\n",
       "    <tr>\n",
       "      <th>2</th>\n",
       "      <td>3</td>\n",
       "      <td>Arnold</td>\n",
       "      <td>21</td>\n",
       "      <td>3</td>\n",
       "      <td>19000</td>\n",
       "    </tr>\n",
       "    <tr>\n",
       "      <th>3</th>\n",
       "      <td>3</td>\n",
       "      <td>Arnold</td>\n",
       "      <td>21</td>\n",
       "      <td>3</td>\n",
       "      <td>11000</td>\n",
       "    </tr>\n",
       "    <tr>\n",
       "      <th>4</th>\n",
       "      <td>4</td>\n",
       "      <td>Billy</td>\n",
       "      <td>35</td>\n",
       "      <td>4</td>\n",
       "      <td>10000</td>\n",
       "    </tr>\n",
       "    <tr>\n",
       "      <th>5</th>\n",
       "      <td>5</td>\n",
       "      <td>Anthony</td>\n",
       "      <td>23</td>\n",
       "      <td>5</td>\n",
       "      <td>8000</td>\n",
       "    </tr>\n",
       "    <tr>\n",
       "      <th>6</th>\n",
       "      <td>5</td>\n",
       "      <td>Anthony</td>\n",
       "      <td>23</td>\n",
       "      <td>5</td>\n",
       "      <td>7000</td>\n",
       "    </tr>\n",
       "    <tr>\n",
       "      <th>7</th>\n",
       "      <td>5</td>\n",
       "      <td>Anthony</td>\n",
       "      <td>23</td>\n",
       "      <td>5</td>\n",
       "      <td>11000</td>\n",
       "    </tr>\n",
       "    <tr>\n",
       "      <th>8</th>\n",
       "      <td>6</td>\n",
       "      <td>Alan</td>\n",
       "      <td>36</td>\n",
       "      <td>6</td>\n",
       "      <td>15000</td>\n",
       "    </tr>\n",
       "    <tr>\n",
       "      <th>9</th>\n",
       "      <td>6</td>\n",
       "      <td>Alan</td>\n",
       "      <td>36</td>\n",
       "      <td>6</td>\n",
       "      <td>19000</td>\n",
       "    </tr>\n",
       "    <tr>\n",
       "      <th>10</th>\n",
       "      <td>6</td>\n",
       "      <td>Alan</td>\n",
       "      <td>36</td>\n",
       "      <td>6</td>\n",
       "      <td>1000</td>\n",
       "    </tr>\n",
       "    <tr>\n",
       "      <th>11</th>\n",
       "      <td>7</td>\n",
       "      <td>Andrew</td>\n",
       "      <td>40</td>\n",
       "      <td>7</td>\n",
       "      <td>17000</td>\n",
       "    </tr>\n",
       "    <tr>\n",
       "      <th>12</th>\n",
       "      <td>7</td>\n",
       "      <td>Andrew</td>\n",
       "      <td>40</td>\n",
       "      <td>7</td>\n",
       "      <td>11000</td>\n",
       "    </tr>\n",
       "    <tr>\n",
       "      <th>13</th>\n",
       "      <td>7</td>\n",
       "      <td>Andrew</td>\n",
       "      <td>40</td>\n",
       "      <td>7</td>\n",
       "      <td>1000</td>\n",
       "    </tr>\n",
       "    <tr>\n",
       "      <th>14</th>\n",
       "      <td>8</td>\n",
       "      <td>Alvin</td>\n",
       "      <td>20</td>\n",
       "      <td>8</td>\n",
       "      <td>11000</td>\n",
       "    </tr>\n",
       "  </tbody>\n",
       "</table>\n",
       "</div>"
      ],
      "text/plain": [
       "    UserID     Name  Age  ID  Money\n",
       "0        1     Alex   39   1  14000\n",
       "1        1     Alex   39   1   3000\n",
       "2        3   Arnold   21   3  19000\n",
       "3        3   Arnold   21   3  11000\n",
       "4        4    Billy   35   4  10000\n",
       "5        5  Anthony   23   5   8000\n",
       "6        5  Anthony   23   5   7000\n",
       "7        5  Anthony   23   5  11000\n",
       "8        6     Alan   36   6  15000\n",
       "9        6     Alan   36   6  19000\n",
       "10       6     Alan   36   6   1000\n",
       "11       7   Andrew   40   7  17000\n",
       "12       7   Andrew   40   7  11000\n",
       "13       7   Andrew   40   7   1000\n",
       "14       8    Alvin   20   8  11000"
      ]
     },
     "execution_count": 197,
     "metadata": {},
     "output_type": "execute_result"
    }
   ],
   "source": [
    "user_df.merge(money_df, left_on=\"UserID\", right_on=\"ID\")"
   ]
  },
  {
   "cell_type": "markdown",
   "metadata": {
    "id": "nZ-mNWszmqYD"
   },
   "source": [
    "user_df의 컬럼명 UserID를 ID로 변경"
   ]
  },
  {
   "cell_type": "code",
   "execution_count": 198,
   "metadata": {
    "colab": {
     "base_uri": "https://localhost:8080/",
     "height": 300
    },
    "executionInfo": {
     "elapsed": 20,
     "status": "ok",
     "timestamp": 1661227505929,
     "user": {
      "displayName": "김도현",
      "userId": "01074377609887751305"
     },
     "user_tz": -540
    },
    "id": "wdJkAISBmqYD",
    "outputId": "49ad6bca-0a89-4823-d670-c01cf503cdfc"
   },
   "outputs": [
    {
     "data": {
      "text/html": [
       "<div>\n",
       "<style scoped>\n",
       "    .dataframe tbody tr th:only-of-type {\n",
       "        vertical-align: middle;\n",
       "    }\n",
       "\n",
       "    .dataframe tbody tr th {\n",
       "        vertical-align: top;\n",
       "    }\n",
       "\n",
       "    .dataframe thead th {\n",
       "        text-align: right;\n",
       "    }\n",
       "</style>\n",
       "<table border=\"1\" class=\"dataframe\">\n",
       "  <thead>\n",
       "    <tr style=\"text-align: right;\">\n",
       "      <th></th>\n",
       "      <th>ID</th>\n",
       "      <th>Name</th>\n",
       "      <th>Age</th>\n",
       "    </tr>\n",
       "  </thead>\n",
       "  <tbody>\n",
       "    <tr>\n",
       "      <th>0</th>\n",
       "      <td>1</td>\n",
       "      <td>Alex</td>\n",
       "      <td>39</td>\n",
       "    </tr>\n",
       "    <tr>\n",
       "      <th>1</th>\n",
       "      <td>2</td>\n",
       "      <td>Adam</td>\n",
       "      <td>34</td>\n",
       "    </tr>\n",
       "    <tr>\n",
       "      <th>2</th>\n",
       "      <td>3</td>\n",
       "      <td>Arnold</td>\n",
       "      <td>21</td>\n",
       "    </tr>\n",
       "    <tr>\n",
       "      <th>3</th>\n",
       "      <td>4</td>\n",
       "      <td>Billy</td>\n",
       "      <td>35</td>\n",
       "    </tr>\n",
       "    <tr>\n",
       "      <th>4</th>\n",
       "      <td>5</td>\n",
       "      <td>Anthony</td>\n",
       "      <td>23</td>\n",
       "    </tr>\n",
       "    <tr>\n",
       "      <th>5</th>\n",
       "      <td>6</td>\n",
       "      <td>Alan</td>\n",
       "      <td>36</td>\n",
       "    </tr>\n",
       "    <tr>\n",
       "      <th>6</th>\n",
       "      <td>7</td>\n",
       "      <td>Andrew</td>\n",
       "      <td>40</td>\n",
       "    </tr>\n",
       "    <tr>\n",
       "      <th>7</th>\n",
       "      <td>8</td>\n",
       "      <td>Alvin</td>\n",
       "      <td>20</td>\n",
       "    </tr>\n",
       "  </tbody>\n",
       "</table>\n",
       "</div>"
      ],
      "text/plain": [
       "   ID     Name  Age\n",
       "0   1     Alex   39\n",
       "1   2     Adam   34\n",
       "2   3   Arnold   21\n",
       "3   4    Billy   35\n",
       "4   5  Anthony   23\n",
       "5   6     Alan   36\n",
       "6   7   Andrew   40\n",
       "7   8    Alvin   20"
      ]
     },
     "execution_count": 198,
     "metadata": {},
     "output_type": "execute_result"
    }
   ],
   "source": [
    "user_df.rename(columns={\"UserID\":\"ID\"}, inplace=True)  # dictionary로!\n",
    "user_df"
   ]
  },
  {
   "cell_type": "markdown",
   "metadata": {
    "id": "nkmpMIUjmqYD"
   },
   "source": [
    "키값으로 사용할 컬럼명이 같으면 left_on과 right_on을 설정할 필요가 없다."
   ]
  },
  {
   "cell_type": "code",
   "execution_count": 199,
   "metadata": {
    "colab": {
     "base_uri": "https://localhost:8080/",
     "height": 520
    },
    "executionInfo": {
     "elapsed": 20,
     "status": "ok",
     "timestamp": 1661227505929,
     "user": {
      "displayName": "김도현",
      "userId": "01074377609887751305"
     },
     "user_tz": -540
    },
    "id": "uPYvmZ40mqYD",
    "outputId": "bd4b6910-fc0e-4c13-be0f-646271a44094"
   },
   "outputs": [
    {
     "data": {
      "text/html": [
       "<div>\n",
       "<style scoped>\n",
       "    .dataframe tbody tr th:only-of-type {\n",
       "        vertical-align: middle;\n",
       "    }\n",
       "\n",
       "    .dataframe tbody tr th {\n",
       "        vertical-align: top;\n",
       "    }\n",
       "\n",
       "    .dataframe thead th {\n",
       "        text-align: right;\n",
       "    }\n",
       "</style>\n",
       "<table border=\"1\" class=\"dataframe\">\n",
       "  <thead>\n",
       "    <tr style=\"text-align: right;\">\n",
       "      <th></th>\n",
       "      <th>ID</th>\n",
       "      <th>Money</th>\n",
       "      <th>Name</th>\n",
       "      <th>Age</th>\n",
       "    </tr>\n",
       "  </thead>\n",
       "  <tbody>\n",
       "    <tr>\n",
       "      <th>0</th>\n",
       "      <td>6</td>\n",
       "      <td>15000</td>\n",
       "      <td>Alan</td>\n",
       "      <td>36</td>\n",
       "    </tr>\n",
       "    <tr>\n",
       "      <th>1</th>\n",
       "      <td>6</td>\n",
       "      <td>19000</td>\n",
       "      <td>Alan</td>\n",
       "      <td>36</td>\n",
       "    </tr>\n",
       "    <tr>\n",
       "      <th>2</th>\n",
       "      <td>6</td>\n",
       "      <td>1000</td>\n",
       "      <td>Alan</td>\n",
       "      <td>36</td>\n",
       "    </tr>\n",
       "    <tr>\n",
       "      <th>3</th>\n",
       "      <td>7</td>\n",
       "      <td>17000</td>\n",
       "      <td>Andrew</td>\n",
       "      <td>40</td>\n",
       "    </tr>\n",
       "    <tr>\n",
       "      <th>4</th>\n",
       "      <td>7</td>\n",
       "      <td>11000</td>\n",
       "      <td>Andrew</td>\n",
       "      <td>40</td>\n",
       "    </tr>\n",
       "    <tr>\n",
       "      <th>5</th>\n",
       "      <td>7</td>\n",
       "      <td>1000</td>\n",
       "      <td>Andrew</td>\n",
       "      <td>40</td>\n",
       "    </tr>\n",
       "    <tr>\n",
       "      <th>6</th>\n",
       "      <td>5</td>\n",
       "      <td>8000</td>\n",
       "      <td>Anthony</td>\n",
       "      <td>23</td>\n",
       "    </tr>\n",
       "    <tr>\n",
       "      <th>7</th>\n",
       "      <td>5</td>\n",
       "      <td>7000</td>\n",
       "      <td>Anthony</td>\n",
       "      <td>23</td>\n",
       "    </tr>\n",
       "    <tr>\n",
       "      <th>8</th>\n",
       "      <td>5</td>\n",
       "      <td>11000</td>\n",
       "      <td>Anthony</td>\n",
       "      <td>23</td>\n",
       "    </tr>\n",
       "    <tr>\n",
       "      <th>9</th>\n",
       "      <td>3</td>\n",
       "      <td>19000</td>\n",
       "      <td>Arnold</td>\n",
       "      <td>21</td>\n",
       "    </tr>\n",
       "    <tr>\n",
       "      <th>10</th>\n",
       "      <td>3</td>\n",
       "      <td>11000</td>\n",
       "      <td>Arnold</td>\n",
       "      <td>21</td>\n",
       "    </tr>\n",
       "    <tr>\n",
       "      <th>11</th>\n",
       "      <td>1</td>\n",
       "      <td>14000</td>\n",
       "      <td>Alex</td>\n",
       "      <td>39</td>\n",
       "    </tr>\n",
       "    <tr>\n",
       "      <th>12</th>\n",
       "      <td>1</td>\n",
       "      <td>3000</td>\n",
       "      <td>Alex</td>\n",
       "      <td>39</td>\n",
       "    </tr>\n",
       "    <tr>\n",
       "      <th>13</th>\n",
       "      <td>4</td>\n",
       "      <td>10000</td>\n",
       "      <td>Billy</td>\n",
       "      <td>35</td>\n",
       "    </tr>\n",
       "    <tr>\n",
       "      <th>14</th>\n",
       "      <td>8</td>\n",
       "      <td>11000</td>\n",
       "      <td>Alvin</td>\n",
       "      <td>20</td>\n",
       "    </tr>\n",
       "  </tbody>\n",
       "</table>\n",
       "</div>"
      ],
      "text/plain": [
       "    ID  Money     Name  Age\n",
       "0    6  15000     Alan   36\n",
       "1    6  19000     Alan   36\n",
       "2    6   1000     Alan   36\n",
       "3    7  17000   Andrew   40\n",
       "4    7  11000   Andrew   40\n",
       "5    7   1000   Andrew   40\n",
       "6    5   8000  Anthony   23\n",
       "7    5   7000  Anthony   23\n",
       "8    5  11000  Anthony   23\n",
       "9    3  19000   Arnold   21\n",
       "10   3  11000   Arnold   21\n",
       "11   1  14000     Alex   39\n",
       "12   1   3000     Alex   39\n",
       "13   4  10000    Billy   35\n",
       "14   8  11000    Alvin   20"
      ]
     },
     "execution_count": 199,
     "metadata": {},
     "output_type": "execute_result"
    }
   ],
   "source": [
    "result_df = pd.merge(money_df, user_df)\n",
    "result_df"
   ]
  },
  {
   "cell_type": "code",
   "execution_count": 203,
   "metadata": {},
   "outputs": [
    {
     "data": {
      "text/html": [
       "<div>\n",
       "<style scoped>\n",
       "    .dataframe tbody tr th:only-of-type {\n",
       "        vertical-align: middle;\n",
       "    }\n",
       "\n",
       "    .dataframe tbody tr th {\n",
       "        vertical-align: top;\n",
       "    }\n",
       "\n",
       "    .dataframe thead th {\n",
       "        text-align: right;\n",
       "    }\n",
       "</style>\n",
       "<table border=\"1\" class=\"dataframe\">\n",
       "  <thead>\n",
       "    <tr style=\"text-align: right;\">\n",
       "      <th></th>\n",
       "      <th>ID</th>\n",
       "      <th>Money</th>\n",
       "      <th>Age</th>\n",
       "    </tr>\n",
       "    <tr>\n",
       "      <th>Name</th>\n",
       "      <th></th>\n",
       "      <th></th>\n",
       "      <th></th>\n",
       "    </tr>\n",
       "  </thead>\n",
       "  <tbody>\n",
       "    <tr>\n",
       "      <th>Alan</th>\n",
       "      <td>18</td>\n",
       "      <td>35000</td>\n",
       "      <td>108</td>\n",
       "    </tr>\n",
       "    <tr>\n",
       "      <th>Alex</th>\n",
       "      <td>2</td>\n",
       "      <td>17000</td>\n",
       "      <td>78</td>\n",
       "    </tr>\n",
       "    <tr>\n",
       "      <th>Alvin</th>\n",
       "      <td>8</td>\n",
       "      <td>11000</td>\n",
       "      <td>20</td>\n",
       "    </tr>\n",
       "    <tr>\n",
       "      <th>Andrew</th>\n",
       "      <td>21</td>\n",
       "      <td>29000</td>\n",
       "      <td>120</td>\n",
       "    </tr>\n",
       "    <tr>\n",
       "      <th>Anthony</th>\n",
       "      <td>15</td>\n",
       "      <td>26000</td>\n",
       "      <td>69</td>\n",
       "    </tr>\n",
       "    <tr>\n",
       "      <th>Arnold</th>\n",
       "      <td>6</td>\n",
       "      <td>30000</td>\n",
       "      <td>42</td>\n",
       "    </tr>\n",
       "    <tr>\n",
       "      <th>Billy</th>\n",
       "      <td>4</td>\n",
       "      <td>10000</td>\n",
       "      <td>35</td>\n",
       "    </tr>\n",
       "  </tbody>\n",
       "</table>\n",
       "</div>"
      ],
      "text/plain": [
       "         ID  Money  Age\n",
       "Name                   \n",
       "Alan     18  35000  108\n",
       "Alex      2  17000   78\n",
       "Alvin     8  11000   20\n",
       "Andrew   21  29000  120\n",
       "Anthony  15  26000   69\n",
       "Arnold    6  30000   42\n",
       "Billy     4  10000   35"
      ]
     },
     "execution_count": 203,
     "metadata": {},
     "output_type": "execute_result"
    }
   ],
   "source": [
    "result_df.groupby('Name').sum()  # 이름별로 묶어서 다 더했다. 이 자체가 데이터프레임이다"
   ]
  },
  {
   "cell_type": "code",
   "execution_count": 204,
   "metadata": {},
   "outputs": [
    {
     "data": {
      "text/plain": [
       "Name\n",
       "Alan       35000\n",
       "Alex       17000\n",
       "Alvin      11000\n",
       "Andrew     29000\n",
       "Anthony    26000\n",
       "Arnold     30000\n",
       "Billy      10000\n",
       "Name: Money, dtype: int64"
      ]
     },
     "execution_count": 204,
     "metadata": {},
     "output_type": "execute_result"
    }
   ],
   "source": [
    "result_df.groupby('Name').sum()['Money']  # Series 형태가 된다"
   ]
  },
  {
   "cell_type": "code",
   "execution_count": 205,
   "metadata": {},
   "outputs": [
    {
     "data": {
      "text/html": [
       "<div>\n",
       "<style scoped>\n",
       "    .dataframe tbody tr th:only-of-type {\n",
       "        vertical-align: middle;\n",
       "    }\n",
       "\n",
       "    .dataframe tbody tr th {\n",
       "        vertical-align: top;\n",
       "    }\n",
       "\n",
       "    .dataframe thead th {\n",
       "        text-align: right;\n",
       "    }\n",
       "</style>\n",
       "<table border=\"1\" class=\"dataframe\">\n",
       "  <thead>\n",
       "    <tr style=\"text-align: right;\">\n",
       "      <th></th>\n",
       "      <th>Name</th>\n",
       "      <th>Money</th>\n",
       "    </tr>\n",
       "  </thead>\n",
       "  <tbody>\n",
       "    <tr>\n",
       "      <th>0</th>\n",
       "      <td>Alan</td>\n",
       "      <td>35000</td>\n",
       "    </tr>\n",
       "    <tr>\n",
       "      <th>1</th>\n",
       "      <td>Alex</td>\n",
       "      <td>17000</td>\n",
       "    </tr>\n",
       "    <tr>\n",
       "      <th>2</th>\n",
       "      <td>Alvin</td>\n",
       "      <td>11000</td>\n",
       "    </tr>\n",
       "    <tr>\n",
       "      <th>3</th>\n",
       "      <td>Andrew</td>\n",
       "      <td>29000</td>\n",
       "    </tr>\n",
       "    <tr>\n",
       "      <th>4</th>\n",
       "      <td>Anthony</td>\n",
       "      <td>26000</td>\n",
       "    </tr>\n",
       "    <tr>\n",
       "      <th>5</th>\n",
       "      <td>Arnold</td>\n",
       "      <td>30000</td>\n",
       "    </tr>\n",
       "    <tr>\n",
       "      <th>6</th>\n",
       "      <td>Billy</td>\n",
       "      <td>10000</td>\n",
       "    </tr>\n",
       "  </tbody>\n",
       "</table>\n",
       "</div>"
      ],
      "text/plain": [
       "      Name  Money\n",
       "0     Alan  35000\n",
       "1     Alex  17000\n",
       "2    Alvin  11000\n",
       "3   Andrew  29000\n",
       "4  Anthony  26000\n",
       "5   Arnold  30000\n",
       "6    Billy  10000"
      ]
     },
     "execution_count": 205,
     "metadata": {},
     "output_type": "execute_result"
    }
   ],
   "source": [
    "result_df.groupby('Name').sum()['Money'].reset_index()"
   ]
  },
  {
   "cell_type": "markdown",
   "metadata": {
    "id": "Ob_Qrgw1mqYE"
   },
   "source": [
    "Name으로 Groupby하고 Money 데이터를 합친 사람별 전체 돈을 합친 결과 데이터 프레임"
   ]
  },
  {
   "cell_type": "code",
   "execution_count": 206,
   "metadata": {
    "colab": {
     "base_uri": "https://localhost:8080/",
     "height": 238
    },
    "executionInfo": {
     "elapsed": 20,
     "status": "ok",
     "timestamp": 1661227505930,
     "user": {
      "displayName": "김도현",
      "userId": "01074377609887751305"
     },
     "user_tz": -540
    },
    "id": "t3xScJu8mqYE",
    "outputId": "298065df-1384-45ac-d4be-f5b630c1e41e"
   },
   "outputs": [
    {
     "data": {
      "text/html": [
       "<div>\n",
       "<style scoped>\n",
       "    .dataframe tbody tr th:only-of-type {\n",
       "        vertical-align: middle;\n",
       "    }\n",
       "\n",
       "    .dataframe tbody tr th {\n",
       "        vertical-align: top;\n",
       "    }\n",
       "\n",
       "    .dataframe thead th {\n",
       "        text-align: right;\n",
       "    }\n",
       "</style>\n",
       "<table border=\"1\" class=\"dataframe\">\n",
       "  <thead>\n",
       "    <tr style=\"text-align: right;\">\n",
       "      <th></th>\n",
       "      <th>Name</th>\n",
       "      <th>Money</th>\n",
       "    </tr>\n",
       "  </thead>\n",
       "  <tbody>\n",
       "    <tr>\n",
       "      <th>0</th>\n",
       "      <td>Alan</td>\n",
       "      <td>35000</td>\n",
       "    </tr>\n",
       "    <tr>\n",
       "      <th>1</th>\n",
       "      <td>Alex</td>\n",
       "      <td>17000</td>\n",
       "    </tr>\n",
       "    <tr>\n",
       "      <th>2</th>\n",
       "      <td>Alvin</td>\n",
       "      <td>11000</td>\n",
       "    </tr>\n",
       "    <tr>\n",
       "      <th>3</th>\n",
       "      <td>Andrew</td>\n",
       "      <td>29000</td>\n",
       "    </tr>\n",
       "    <tr>\n",
       "      <th>4</th>\n",
       "      <td>Anthony</td>\n",
       "      <td>26000</td>\n",
       "    </tr>\n",
       "    <tr>\n",
       "      <th>5</th>\n",
       "      <td>Arnold</td>\n",
       "      <td>30000</td>\n",
       "    </tr>\n",
       "    <tr>\n",
       "      <th>6</th>\n",
       "      <td>Billy</td>\n",
       "      <td>10000</td>\n",
       "    </tr>\n",
       "  </tbody>\n",
       "</table>\n",
       "</div>"
      ],
      "text/plain": [
       "      Name  Money\n",
       "0     Alan  35000\n",
       "1     Alex  17000\n",
       "2    Alvin  11000\n",
       "3   Andrew  29000\n",
       "4  Anthony  26000\n",
       "5   Arnold  30000\n",
       "6    Billy  10000"
      ]
     },
     "execution_count": 206,
     "metadata": {},
     "output_type": "execute_result"
    }
   ],
   "source": [
    "money_list = result_df.groupby(\"Name\").sum()[\"Money\"].reset_index()\n",
    "money_list"
   ]
  },
  {
   "cell_type": "code",
   "execution_count": 213,
   "metadata": {
    "colab": {
     "base_uri": "https://localhost:8080/",
     "height": 238
    },
    "executionInfo": {
     "elapsed": 20,
     "status": "ok",
     "timestamp": 1661227505930,
     "user": {
      "displayName": "김도현",
      "userId": "01074377609887751305"
     },
     "user_tz": -540
    },
    "id": "Ze0WKmaPmqYE",
    "outputId": "984b1aaf-bbb4-4303-a954-4b7b1a06eb5a"
   },
   "outputs": [
    {
     "data": {
      "text/html": [
       "<div>\n",
       "<style scoped>\n",
       "    .dataframe tbody tr th:only-of-type {\n",
       "        vertical-align: middle;\n",
       "    }\n",
       "\n",
       "    .dataframe tbody tr th {\n",
       "        vertical-align: top;\n",
       "    }\n",
       "\n",
       "    .dataframe thead th {\n",
       "        text-align: right;\n",
       "    }\n",
       "</style>\n",
       "<table border=\"1\" class=\"dataframe\">\n",
       "  <thead>\n",
       "    <tr style=\"text-align: right;\">\n",
       "      <th></th>\n",
       "      <th>Name</th>\n",
       "      <th>Money</th>\n",
       "    </tr>\n",
       "  </thead>\n",
       "  <tbody>\n",
       "    <tr>\n",
       "      <th>0</th>\n",
       "      <td>Alan</td>\n",
       "      <td>35000</td>\n",
       "    </tr>\n",
       "    <tr>\n",
       "      <th>1</th>\n",
       "      <td>Alex</td>\n",
       "      <td>17000</td>\n",
       "    </tr>\n",
       "    <tr>\n",
       "      <th>2</th>\n",
       "      <td>Alvin</td>\n",
       "      <td>11000</td>\n",
       "    </tr>\n",
       "    <tr>\n",
       "      <th>3</th>\n",
       "      <td>Andrew</td>\n",
       "      <td>29000</td>\n",
       "    </tr>\n",
       "    <tr>\n",
       "      <th>4</th>\n",
       "      <td>Anthony</td>\n",
       "      <td>26000</td>\n",
       "    </tr>\n",
       "    <tr>\n",
       "      <th>5</th>\n",
       "      <td>Arnold</td>\n",
       "      <td>30000</td>\n",
       "    </tr>\n",
       "    <tr>\n",
       "      <th>6</th>\n",
       "      <td>Billy</td>\n",
       "      <td>10000</td>\n",
       "    </tr>\n",
       "  </tbody>\n",
       "</table>\n",
       "</div>"
      ],
      "text/plain": [
       "      Name  Money\n",
       "0     Alan  35000\n",
       "1     Alex  17000\n",
       "2    Alvin  11000\n",
       "3   Andrew  29000\n",
       "4  Anthony  26000\n",
       "5   Arnold  30000\n",
       "6    Billy  10000"
      ]
     },
     "execution_count": 213,
     "metadata": {},
     "output_type": "execute_result"
    }
   ],
   "source": [
    "money_list = result_df.groupby(\"Name\").agg(\"sum\").reset_index()[[\"Name\", \"Money\"]]\n",
    "money_list"
   ]
  },
  {
   "cell_type": "code",
   "execution_count": 215,
   "metadata": {},
   "outputs": [],
   "source": [
    "# money_list = result_df.groupby(\"Name\").agg(\"sum\").reset_index()[[\"Money\"]]  # [] : series, [[]] : dataframe\n",
    "# money_list"
   ]
  },
  {
   "cell_type": "markdown",
   "metadata": {
    "id": "ATPjR2uwmqYE"
   },
   "source": [
    "#### merge - outer"
   ]
  },
  {
   "cell_type": "code",
   "execution_count": 216,
   "metadata": {
    "colab": {
     "base_uri": "https://localhost:8080/",
     "height": 300
    },
    "executionInfo": {
     "elapsed": 19,
     "status": "ok",
     "timestamp": 1661227505930,
     "user": {
      "displayName": "김도현",
      "userId": "01074377609887751305"
     },
     "user_tz": -540
    },
    "id": "IWNW5gvumqYE",
    "outputId": "4f82b6d3-b8a6-4df8-e1bf-d68df5273400"
   },
   "outputs": [
    {
     "data": {
      "text/html": [
       "<div>\n",
       "<style scoped>\n",
       "    .dataframe tbody tr th:only-of-type {\n",
       "        vertical-align: middle;\n",
       "    }\n",
       "\n",
       "    .dataframe tbody tr th {\n",
       "        vertical-align: top;\n",
       "    }\n",
       "\n",
       "    .dataframe thead th {\n",
       "        text-align: right;\n",
       "    }\n",
       "</style>\n",
       "<table border=\"1\" class=\"dataframe\">\n",
       "  <thead>\n",
       "    <tr style=\"text-align: right;\">\n",
       "      <th></th>\n",
       "      <th>ID</th>\n",
       "      <th>Name</th>\n",
       "      <th>Age</th>\n",
       "      <th>Money</th>\n",
       "    </tr>\n",
       "  </thead>\n",
       "  <tbody>\n",
       "    <tr>\n",
       "      <th>0</th>\n",
       "      <td>1</td>\n",
       "      <td>Alex</td>\n",
       "      <td>39</td>\n",
       "      <td>17000.0</td>\n",
       "    </tr>\n",
       "    <tr>\n",
       "      <th>1</th>\n",
       "      <td>2</td>\n",
       "      <td>Adam</td>\n",
       "      <td>34</td>\n",
       "      <td>NaN</td>\n",
       "    </tr>\n",
       "    <tr>\n",
       "      <th>2</th>\n",
       "      <td>3</td>\n",
       "      <td>Arnold</td>\n",
       "      <td>21</td>\n",
       "      <td>30000.0</td>\n",
       "    </tr>\n",
       "    <tr>\n",
       "      <th>3</th>\n",
       "      <td>4</td>\n",
       "      <td>Billy</td>\n",
       "      <td>35</td>\n",
       "      <td>10000.0</td>\n",
       "    </tr>\n",
       "    <tr>\n",
       "      <th>4</th>\n",
       "      <td>5</td>\n",
       "      <td>Anthony</td>\n",
       "      <td>23</td>\n",
       "      <td>26000.0</td>\n",
       "    </tr>\n",
       "    <tr>\n",
       "      <th>5</th>\n",
       "      <td>6</td>\n",
       "      <td>Alan</td>\n",
       "      <td>36</td>\n",
       "      <td>35000.0</td>\n",
       "    </tr>\n",
       "    <tr>\n",
       "      <th>6</th>\n",
       "      <td>7</td>\n",
       "      <td>Andrew</td>\n",
       "      <td>40</td>\n",
       "      <td>29000.0</td>\n",
       "    </tr>\n",
       "    <tr>\n",
       "      <th>7</th>\n",
       "      <td>8</td>\n",
       "      <td>Alvin</td>\n",
       "      <td>20</td>\n",
       "      <td>11000.0</td>\n",
       "    </tr>\n",
       "  </tbody>\n",
       "</table>\n",
       "</div>"
      ],
      "text/plain": [
       "   ID     Name  Age    Money\n",
       "0   1     Alex   39  17000.0\n",
       "1   2     Adam   34      NaN\n",
       "2   3   Arnold   21  30000.0\n",
       "3   4    Billy   35  10000.0\n",
       "4   5  Anthony   23  26000.0\n",
       "5   6     Alan   36  35000.0\n",
       "6   7   Andrew   40  29000.0\n",
       "7   8    Alvin   20  11000.0"
      ]
     },
     "execution_count": 216,
     "metadata": {},
     "output_type": "execute_result"
    }
   ],
   "source": [
    "result = pd.merge(user_df, money_list, how='outer')  # inner : 교집합, outer : 합집합\n",
    "result  # 따로 지정해주지 않으면 공통 Name으로 합쳐진다 (outer : 없으면 NAN, inner : 없으면 행 사라짐)"
   ]
  },
  {
   "cell_type": "markdown",
   "metadata": {
    "id": "4xPBEV42mqYE"
   },
   "source": [
    "- fillna - NaN을 특정 데이터로 채워줍니다."
   ]
  },
  {
   "cell_type": "code",
   "execution_count": 218,
   "metadata": {
    "colab": {
     "base_uri": "https://localhost:8080/",
     "height": 300
    },
    "executionInfo": {
     "elapsed": 19,
     "status": "ok",
     "timestamp": 1661227505930,
     "user": {
      "displayName": "김도현",
      "userId": "01074377609887751305"
     },
     "user_tz": -540
    },
    "id": "wqrxG8zemqYE",
    "outputId": "b9fb2556-1496-40c7-eb8b-747875bd5568"
   },
   "outputs": [
    {
     "data": {
      "text/html": [
       "<div>\n",
       "<style scoped>\n",
       "    .dataframe tbody tr th:only-of-type {\n",
       "        vertical-align: middle;\n",
       "    }\n",
       "\n",
       "    .dataframe tbody tr th {\n",
       "        vertical-align: top;\n",
       "    }\n",
       "\n",
       "    .dataframe thead th {\n",
       "        text-align: right;\n",
       "    }\n",
       "</style>\n",
       "<table border=\"1\" class=\"dataframe\">\n",
       "  <thead>\n",
       "    <tr style=\"text-align: right;\">\n",
       "      <th></th>\n",
       "      <th>ID</th>\n",
       "      <th>Name</th>\n",
       "      <th>Age</th>\n",
       "      <th>Money</th>\n",
       "    </tr>\n",
       "  </thead>\n",
       "  <tbody>\n",
       "    <tr>\n",
       "      <th>0</th>\n",
       "      <td>1</td>\n",
       "      <td>Alex</td>\n",
       "      <td>39</td>\n",
       "      <td>17000.0</td>\n",
       "    </tr>\n",
       "    <tr>\n",
       "      <th>1</th>\n",
       "      <td>2</td>\n",
       "      <td>Adam</td>\n",
       "      <td>34</td>\n",
       "      <td>0.0</td>\n",
       "    </tr>\n",
       "    <tr>\n",
       "      <th>2</th>\n",
       "      <td>3</td>\n",
       "      <td>Arnold</td>\n",
       "      <td>21</td>\n",
       "      <td>30000.0</td>\n",
       "    </tr>\n",
       "    <tr>\n",
       "      <th>3</th>\n",
       "      <td>4</td>\n",
       "      <td>Billy</td>\n",
       "      <td>35</td>\n",
       "      <td>10000.0</td>\n",
       "    </tr>\n",
       "    <tr>\n",
       "      <th>4</th>\n",
       "      <td>5</td>\n",
       "      <td>Anthony</td>\n",
       "      <td>23</td>\n",
       "      <td>26000.0</td>\n",
       "    </tr>\n",
       "    <tr>\n",
       "      <th>5</th>\n",
       "      <td>6</td>\n",
       "      <td>Alan</td>\n",
       "      <td>36</td>\n",
       "      <td>35000.0</td>\n",
       "    </tr>\n",
       "    <tr>\n",
       "      <th>6</th>\n",
       "      <td>7</td>\n",
       "      <td>Andrew</td>\n",
       "      <td>40</td>\n",
       "      <td>29000.0</td>\n",
       "    </tr>\n",
       "    <tr>\n",
       "      <th>7</th>\n",
       "      <td>8</td>\n",
       "      <td>Alvin</td>\n",
       "      <td>20</td>\n",
       "      <td>11000.0</td>\n",
       "    </tr>\n",
       "  </tbody>\n",
       "</table>\n",
       "</div>"
      ],
      "text/plain": [
       "   ID     Name  Age    Money\n",
       "0   1     Alex   39  17000.0\n",
       "1   2     Adam   34      0.0\n",
       "2   3   Arnold   21  30000.0\n",
       "3   4    Billy   35  10000.0\n",
       "4   5  Anthony   23  26000.0\n",
       "5   6     Alan   36  35000.0\n",
       "6   7   Andrew   40  29000.0\n",
       "7   8    Alvin   20  11000.0"
      ]
     },
     "execution_count": 218,
     "metadata": {},
     "output_type": "execute_result"
    }
   ],
   "source": [
    "result = pd.merge(user_df, money_list, how='outer').fillna(value=0)  # NaN을 0으로 채워주자\n",
    "result"
   ]
  },
  {
   "cell_type": "markdown",
   "metadata": {
    "id": "05neg1IsmqYE"
   },
   "source": [
    "특정 컬럼 데이터 타입 변경"
   ]
  },
  {
   "cell_type": "code",
   "execution_count": 219,
   "metadata": {
    "colab": {
     "base_uri": "https://localhost:8080/"
    },
    "executionInfo": {
     "elapsed": 18,
     "status": "ok",
     "timestamp": 1661227505930,
     "user": {
      "displayName": "김도현",
      "userId": "01074377609887751305"
     },
     "user_tz": -540
    },
    "id": "sBj9hUf4mqYE",
    "outputId": "a43fb8d9-7cb1-413e-9ac3-fb9a125a60ca"
   },
   "outputs": [
    {
     "data": {
      "text/plain": [
       "ID         int64\n",
       "Name      object\n",
       "Age        int64\n",
       "Money    float64\n",
       "dtype: object"
      ]
     },
     "execution_count": 219,
     "metadata": {},
     "output_type": "execute_result"
    }
   ],
   "source": [
    "result.dtypes"
   ]
  },
  {
   "cell_type": "markdown",
   "metadata": {
    "id": "2fmuvWtKmqYE"
   },
   "source": [
    "Money 컬럼을 float에서 int로 변경"
   ]
  },
  {
   "cell_type": "code",
   "execution_count": 221,
   "metadata": {
    "colab": {
     "base_uri": "https://localhost:8080/",
     "height": 300
    },
    "executionInfo": {
     "elapsed": 16,
     "status": "ok",
     "timestamp": 1661227505931,
     "user": {
      "displayName": "김도현",
      "userId": "01074377609887751305"
     },
     "user_tz": -540
    },
    "id": "9lfWjE0ImqYE",
    "outputId": "1ec30d6b-bb16-46eb-e9e5-cd9975b96355"
   },
   "outputs": [
    {
     "data": {
      "text/html": [
       "<div>\n",
       "<style scoped>\n",
       "    .dataframe tbody tr th:only-of-type {\n",
       "        vertical-align: middle;\n",
       "    }\n",
       "\n",
       "    .dataframe tbody tr th {\n",
       "        vertical-align: top;\n",
       "    }\n",
       "\n",
       "    .dataframe thead th {\n",
       "        text-align: right;\n",
       "    }\n",
       "</style>\n",
       "<table border=\"1\" class=\"dataframe\">\n",
       "  <thead>\n",
       "    <tr style=\"text-align: right;\">\n",
       "      <th></th>\n",
       "      <th>ID</th>\n",
       "      <th>Name</th>\n",
       "      <th>Age</th>\n",
       "      <th>Money</th>\n",
       "    </tr>\n",
       "  </thead>\n",
       "  <tbody>\n",
       "    <tr>\n",
       "      <th>0</th>\n",
       "      <td>1</td>\n",
       "      <td>Alex</td>\n",
       "      <td>39</td>\n",
       "      <td>17000</td>\n",
       "    </tr>\n",
       "    <tr>\n",
       "      <th>1</th>\n",
       "      <td>2</td>\n",
       "      <td>Adam</td>\n",
       "      <td>34</td>\n",
       "      <td>0</td>\n",
       "    </tr>\n",
       "    <tr>\n",
       "      <th>2</th>\n",
       "      <td>3</td>\n",
       "      <td>Arnold</td>\n",
       "      <td>21</td>\n",
       "      <td>30000</td>\n",
       "    </tr>\n",
       "    <tr>\n",
       "      <th>3</th>\n",
       "      <td>4</td>\n",
       "      <td>Billy</td>\n",
       "      <td>35</td>\n",
       "      <td>10000</td>\n",
       "    </tr>\n",
       "    <tr>\n",
       "      <th>4</th>\n",
       "      <td>5</td>\n",
       "      <td>Anthony</td>\n",
       "      <td>23</td>\n",
       "      <td>26000</td>\n",
       "    </tr>\n",
       "    <tr>\n",
       "      <th>5</th>\n",
       "      <td>6</td>\n",
       "      <td>Alan</td>\n",
       "      <td>36</td>\n",
       "      <td>35000</td>\n",
       "    </tr>\n",
       "    <tr>\n",
       "      <th>6</th>\n",
       "      <td>7</td>\n",
       "      <td>Andrew</td>\n",
       "      <td>40</td>\n",
       "      <td>29000</td>\n",
       "    </tr>\n",
       "    <tr>\n",
       "      <th>7</th>\n",
       "      <td>8</td>\n",
       "      <td>Alvin</td>\n",
       "      <td>20</td>\n",
       "      <td>11000</td>\n",
       "    </tr>\n",
       "  </tbody>\n",
       "</table>\n",
       "</div>"
      ],
      "text/plain": [
       "   ID     Name  Age  Money\n",
       "0   1     Alex   39  17000\n",
       "1   2     Adam   34      0\n",
       "2   3   Arnold   21  30000\n",
       "3   4    Billy   35  10000\n",
       "4   5  Anthony   23  26000\n",
       "5   6     Alan   36  35000\n",
       "6   7   Andrew   40  29000\n",
       "7   8    Alvin   20  11000"
      ]
     },
     "execution_count": 221,
     "metadata": {},
     "output_type": "execute_result"
    }
   ],
   "source": [
    "result[\"Money\"] = result[\"Money\"].astype(\"int\")  # astype 내가 원하는 데이터 타입으로 변환\n",
    "result"
   ]
  },
  {
   "cell_type": "code",
   "execution_count": 222,
   "metadata": {
    "colab": {
     "base_uri": "https://localhost:8080/"
    },
    "executionInfo": {
     "elapsed": 15,
     "status": "ok",
     "timestamp": 1661227505931,
     "user": {
      "displayName": "김도현",
      "userId": "01074377609887751305"
     },
     "user_tz": -540
    },
    "id": "zfkfqGDTmqYF",
    "outputId": "ed74fd37-650e-487e-ef55-1a82783f0191"
   },
   "outputs": [
    {
     "data": {
      "text/plain": [
       "ID        int64\n",
       "Name     object\n",
       "Age       int64\n",
       "Money     int32\n",
       "dtype: object"
      ]
     },
     "execution_count": 222,
     "metadata": {},
     "output_type": "execute_result"
    }
   ],
   "source": [
    "result.dtypes"
   ]
  },
  {
   "cell_type": "markdown",
   "metadata": {
    "id": "oDIiTR4gmqYF"
   },
   "source": [
    "### 2.9 기타 기능들"
   ]
  },
  {
   "cell_type": "markdown",
   "metadata": {
    "id": "nEKFsJ3FmqYF"
   },
   "source": [
    "전치(T)\n",
    "- 행과 열을 바꾼 전치행렬로 출력"
   ]
  },
  {
   "cell_type": "code",
   "execution_count": 280,
   "metadata": {
    "colab": {
     "base_uri": "https://localhost:8080/"
    },
    "executionInfo": {
     "elapsed": 14,
     "status": "ok",
     "timestamp": 1661227505931,
     "user": {
      "displayName": "김도현",
      "userId": "01074377609887751305"
     },
     "user_tz": -540
    },
    "id": "AgOMLSvJmqYF",
    "outputId": "928c7528-4ad8-4c75-aff5-775f302b834a"
   },
   "outputs": [
    {
     "name": "stdout",
     "output_type": "stream",
     "text": [
      "              0     1      2       3     4\n",
      "Name      apple  pear  apple  banana  pear\n",
      "Quantity      3     5      1       2     2\n"
     ]
    }
   ],
   "source": [
    "print(g_df.T)"
   ]
  },
  {
   "cell_type": "code",
   "execution_count": 281,
   "metadata": {},
   "outputs": [
    {
     "data": {
      "text/html": [
       "<div>\n",
       "<style scoped>\n",
       "    .dataframe tbody tr th:only-of-type {\n",
       "        vertical-align: middle;\n",
       "    }\n",
       "\n",
       "    .dataframe tbody tr th {\n",
       "        vertical-align: top;\n",
       "    }\n",
       "\n",
       "    .dataframe thead th {\n",
       "        text-align: right;\n",
       "    }\n",
       "</style>\n",
       "<table border=\"1\" class=\"dataframe\">\n",
       "  <thead>\n",
       "    <tr style=\"text-align: right;\">\n",
       "      <th></th>\n",
       "      <th>0</th>\n",
       "      <th>1</th>\n",
       "      <th>2</th>\n",
       "      <th>3</th>\n",
       "      <th>4</th>\n",
       "    </tr>\n",
       "  </thead>\n",
       "  <tbody>\n",
       "    <tr>\n",
       "      <th>Name</th>\n",
       "      <td>apple</td>\n",
       "      <td>pear</td>\n",
       "      <td>apple</td>\n",
       "      <td>banana</td>\n",
       "      <td>pear</td>\n",
       "    </tr>\n",
       "    <tr>\n",
       "      <th>Quantity</th>\n",
       "      <td>3</td>\n",
       "      <td>5</td>\n",
       "      <td>1</td>\n",
       "      <td>2</td>\n",
       "      <td>2</td>\n",
       "    </tr>\n",
       "  </tbody>\n",
       "</table>\n",
       "</div>"
      ],
      "text/plain": [
       "              0     1      2       3     4\n",
       "Name      apple  pear  apple  banana  pear\n",
       "Quantity      3     5      1       2     2"
      ]
     },
     "execution_count": 281,
     "metadata": {},
     "output_type": "execute_result"
    }
   ],
   "source": [
    "g_df.transpose()"
   ]
  },
  {
   "cell_type": "code",
   "execution_count": null,
   "metadata": {},
   "outputs": [],
   "source": []
  },
  {
   "cell_type": "markdown",
   "metadata": {
    "id": "7zZGbXvYmqYF"
   },
   "source": [
    "isin\n",
    "- 자신이 원하는 데이터가 있는 로우를 가져옴"
   ]
  },
  {
   "cell_type": "markdown",
   "metadata": {
    "id": "jUqBAgs7mqYF"
   },
   "source": [
    "### result"
   ]
  },
  {
   "cell_type": "code",
   "execution_count": 282,
   "metadata": {},
   "outputs": [
    {
     "data": {
      "text/html": [
       "<div>\n",
       "<style scoped>\n",
       "    .dataframe tbody tr th:only-of-type {\n",
       "        vertical-align: middle;\n",
       "    }\n",
       "\n",
       "    .dataframe tbody tr th {\n",
       "        vertical-align: top;\n",
       "    }\n",
       "\n",
       "    .dataframe thead th {\n",
       "        text-align: right;\n",
       "    }\n",
       "</style>\n",
       "<table border=\"1\" class=\"dataframe\">\n",
       "  <thead>\n",
       "    <tr style=\"text-align: right;\">\n",
       "      <th></th>\n",
       "      <th>ID</th>\n",
       "      <th>Name</th>\n",
       "      <th>Age</th>\n",
       "      <th>Money</th>\n",
       "    </tr>\n",
       "  </thead>\n",
       "  <tbody>\n",
       "    <tr>\n",
       "      <th>0</th>\n",
       "      <td>1</td>\n",
       "      <td>Alex</td>\n",
       "      <td>39</td>\n",
       "      <td>17000</td>\n",
       "    </tr>\n",
       "    <tr>\n",
       "      <th>1</th>\n",
       "      <td>2</td>\n",
       "      <td>Adam</td>\n",
       "      <td>34</td>\n",
       "      <td>0</td>\n",
       "    </tr>\n",
       "    <tr>\n",
       "      <th>2</th>\n",
       "      <td>3</td>\n",
       "      <td>Arnold</td>\n",
       "      <td>21</td>\n",
       "      <td>30000</td>\n",
       "    </tr>\n",
       "    <tr>\n",
       "      <th>3</th>\n",
       "      <td>4</td>\n",
       "      <td>Billy</td>\n",
       "      <td>35</td>\n",
       "      <td>10000</td>\n",
       "    </tr>\n",
       "    <tr>\n",
       "      <th>4</th>\n",
       "      <td>5</td>\n",
       "      <td>Anthony</td>\n",
       "      <td>23</td>\n",
       "      <td>26000</td>\n",
       "    </tr>\n",
       "    <tr>\n",
       "      <th>5</th>\n",
       "      <td>6</td>\n",
       "      <td>Alan</td>\n",
       "      <td>36</td>\n",
       "      <td>35000</td>\n",
       "    </tr>\n",
       "    <tr>\n",
       "      <th>6</th>\n",
       "      <td>7</td>\n",
       "      <td>Andrew</td>\n",
       "      <td>40</td>\n",
       "      <td>29000</td>\n",
       "    </tr>\n",
       "    <tr>\n",
       "      <th>7</th>\n",
       "      <td>8</td>\n",
       "      <td>Alvin</td>\n",
       "      <td>20</td>\n",
       "      <td>11000</td>\n",
       "    </tr>\n",
       "  </tbody>\n",
       "</table>\n",
       "</div>"
      ],
      "text/plain": [
       "   ID     Name  Age  Money\n",
       "0   1     Alex   39  17000\n",
       "1   2     Adam   34      0\n",
       "2   3   Arnold   21  30000\n",
       "3   4    Billy   35  10000\n",
       "4   5  Anthony   23  26000\n",
       "5   6     Alan   36  35000\n",
       "6   7   Andrew   40  29000\n",
       "7   8    Alvin   20  11000"
      ]
     },
     "execution_count": 282,
     "metadata": {},
     "output_type": "execute_result"
    }
   ],
   "source": [
    "result"
   ]
  },
  {
   "cell_type": "code",
   "execution_count": 283,
   "metadata": {},
   "outputs": [
    {
     "data": {
      "text/html": [
       "<div>\n",
       "<style scoped>\n",
       "    .dataframe tbody tr th:only-of-type {\n",
       "        vertical-align: middle;\n",
       "    }\n",
       "\n",
       "    .dataframe tbody tr th {\n",
       "        vertical-align: top;\n",
       "    }\n",
       "\n",
       "    .dataframe thead th {\n",
       "        text-align: right;\n",
       "    }\n",
       "</style>\n",
       "<table border=\"1\" class=\"dataframe\">\n",
       "  <thead>\n",
       "    <tr style=\"text-align: right;\">\n",
       "      <th></th>\n",
       "      <th>ID</th>\n",
       "      <th>Name</th>\n",
       "      <th>Age</th>\n",
       "      <th>Money</th>\n",
       "    </tr>\n",
       "  </thead>\n",
       "  <tbody>\n",
       "    <tr>\n",
       "      <th>0</th>\n",
       "      <td>False</td>\n",
       "      <td>False</td>\n",
       "      <td>False</td>\n",
       "      <td>False</td>\n",
       "    </tr>\n",
       "    <tr>\n",
       "      <th>1</th>\n",
       "      <td>False</td>\n",
       "      <td>True</td>\n",
       "      <td>False</td>\n",
       "      <td>False</td>\n",
       "    </tr>\n",
       "    <tr>\n",
       "      <th>2</th>\n",
       "      <td>False</td>\n",
       "      <td>False</td>\n",
       "      <td>False</td>\n",
       "      <td>False</td>\n",
       "    </tr>\n",
       "    <tr>\n",
       "      <th>3</th>\n",
       "      <td>False</td>\n",
       "      <td>False</td>\n",
       "      <td>False</td>\n",
       "      <td>False</td>\n",
       "    </tr>\n",
       "    <tr>\n",
       "      <th>4</th>\n",
       "      <td>False</td>\n",
       "      <td>False</td>\n",
       "      <td>False</td>\n",
       "      <td>False</td>\n",
       "    </tr>\n",
       "    <tr>\n",
       "      <th>5</th>\n",
       "      <td>False</td>\n",
       "      <td>True</td>\n",
       "      <td>False</td>\n",
       "      <td>False</td>\n",
       "    </tr>\n",
       "    <tr>\n",
       "      <th>6</th>\n",
       "      <td>False</td>\n",
       "      <td>False</td>\n",
       "      <td>False</td>\n",
       "      <td>False</td>\n",
       "    </tr>\n",
       "    <tr>\n",
       "      <th>7</th>\n",
       "      <td>False</td>\n",
       "      <td>False</td>\n",
       "      <td>False</td>\n",
       "      <td>False</td>\n",
       "    </tr>\n",
       "  </tbody>\n",
       "</table>\n",
       "</div>"
      ],
      "text/plain": [
       "      ID   Name    Age  Money\n",
       "0  False  False  False  False\n",
       "1  False   True  False  False\n",
       "2  False  False  False  False\n",
       "3  False  False  False  False\n",
       "4  False  False  False  False\n",
       "5  False   True  False  False\n",
       "6  False  False  False  False\n",
       "7  False  False  False  False"
      ]
     },
     "execution_count": 283,
     "metadata": {},
     "output_type": "execute_result"
    }
   ],
   "source": [
    "result.isin([\"Adam\", \"Alan\", 26])  # boolean"
   ]
  },
  {
   "cell_type": "code",
   "execution_count": 284,
   "metadata": {},
   "outputs": [
    {
     "data": {
      "text/html": [
       "<div>\n",
       "<style scoped>\n",
       "    .dataframe tbody tr th:only-of-type {\n",
       "        vertical-align: middle;\n",
       "    }\n",
       "\n",
       "    .dataframe tbody tr th {\n",
       "        vertical-align: top;\n",
       "    }\n",
       "\n",
       "    .dataframe thead th {\n",
       "        text-align: right;\n",
       "    }\n",
       "</style>\n",
       "<table border=\"1\" class=\"dataframe\">\n",
       "  <thead>\n",
       "    <tr style=\"text-align: right;\">\n",
       "      <th></th>\n",
       "      <th>ID</th>\n",
       "      <th>Name</th>\n",
       "      <th>Age</th>\n",
       "      <th>Money</th>\n",
       "    </tr>\n",
       "  </thead>\n",
       "  <tbody>\n",
       "    <tr>\n",
       "      <th>0</th>\n",
       "      <td>NaN</td>\n",
       "      <td>NaN</td>\n",
       "      <td>NaN</td>\n",
       "      <td>NaN</td>\n",
       "    </tr>\n",
       "    <tr>\n",
       "      <th>1</th>\n",
       "      <td>NaN</td>\n",
       "      <td>Adam</td>\n",
       "      <td>NaN</td>\n",
       "      <td>NaN</td>\n",
       "    </tr>\n",
       "    <tr>\n",
       "      <th>2</th>\n",
       "      <td>NaN</td>\n",
       "      <td>NaN</td>\n",
       "      <td>NaN</td>\n",
       "      <td>NaN</td>\n",
       "    </tr>\n",
       "    <tr>\n",
       "      <th>3</th>\n",
       "      <td>NaN</td>\n",
       "      <td>NaN</td>\n",
       "      <td>NaN</td>\n",
       "      <td>NaN</td>\n",
       "    </tr>\n",
       "    <tr>\n",
       "      <th>4</th>\n",
       "      <td>NaN</td>\n",
       "      <td>NaN</td>\n",
       "      <td>NaN</td>\n",
       "      <td>NaN</td>\n",
       "    </tr>\n",
       "    <tr>\n",
       "      <th>5</th>\n",
       "      <td>NaN</td>\n",
       "      <td>Alan</td>\n",
       "      <td>NaN</td>\n",
       "      <td>NaN</td>\n",
       "    </tr>\n",
       "    <tr>\n",
       "      <th>6</th>\n",
       "      <td>NaN</td>\n",
       "      <td>NaN</td>\n",
       "      <td>NaN</td>\n",
       "      <td>NaN</td>\n",
       "    </tr>\n",
       "    <tr>\n",
       "      <th>7</th>\n",
       "      <td>NaN</td>\n",
       "      <td>NaN</td>\n",
       "      <td>NaN</td>\n",
       "      <td>NaN</td>\n",
       "    </tr>\n",
       "  </tbody>\n",
       "</table>\n",
       "</div>"
      ],
      "text/plain": [
       "   ID  Name  Age  Money\n",
       "0 NaN   NaN  NaN    NaN\n",
       "1 NaN  Adam  NaN    NaN\n",
       "2 NaN   NaN  NaN    NaN\n",
       "3 NaN   NaN  NaN    NaN\n",
       "4 NaN   NaN  NaN    NaN\n",
       "5 NaN  Alan  NaN    NaN\n",
       "6 NaN   NaN  NaN    NaN\n",
       "7 NaN   NaN  NaN    NaN"
      ]
     },
     "execution_count": 284,
     "metadata": {},
     "output_type": "execute_result"
    }
   ],
   "source": [
    "result[result.isin([\"Adam\", \"Alan\", 26])]  # Value & NaN"
   ]
  },
  {
   "cell_type": "code",
   "execution_count": 285,
   "metadata": {},
   "outputs": [
    {
     "data": {
      "text/plain": [
       "0    False\n",
       "1     True\n",
       "2    False\n",
       "3    False\n",
       "4    False\n",
       "5     True\n",
       "6    False\n",
       "7    False\n",
       "dtype: bool"
      ]
     },
     "execution_count": 285,
     "metadata": {},
     "output_type": "execute_result"
    }
   ],
   "source": [
    "result[result.isin([\"Adam\", \"Alan\", 26])].any(axis=1)"
   ]
  },
  {
   "cell_type": "code",
   "execution_count": 286,
   "metadata": {},
   "outputs": [
    {
     "data": {
      "text/html": [
       "<div>\n",
       "<style scoped>\n",
       "    .dataframe tbody tr th:only-of-type {\n",
       "        vertical-align: middle;\n",
       "    }\n",
       "\n",
       "    .dataframe tbody tr th {\n",
       "        vertical-align: top;\n",
       "    }\n",
       "\n",
       "    .dataframe thead th {\n",
       "        text-align: right;\n",
       "    }\n",
       "</style>\n",
       "<table border=\"1\" class=\"dataframe\">\n",
       "  <thead>\n",
       "    <tr style=\"text-align: right;\">\n",
       "      <th></th>\n",
       "      <th>ID</th>\n",
       "      <th>Name</th>\n",
       "      <th>Age</th>\n",
       "      <th>Money</th>\n",
       "    </tr>\n",
       "  </thead>\n",
       "  <tbody>\n",
       "    <tr>\n",
       "      <th>1</th>\n",
       "      <td>2</td>\n",
       "      <td>Adam</td>\n",
       "      <td>34</td>\n",
       "      <td>0</td>\n",
       "    </tr>\n",
       "    <tr>\n",
       "      <th>5</th>\n",
       "      <td>6</td>\n",
       "      <td>Alan</td>\n",
       "      <td>36</td>\n",
       "      <td>35000</td>\n",
       "    </tr>\n",
       "  </tbody>\n",
       "</table>\n",
       "</div>"
      ],
      "text/plain": [
       "   ID  Name  Age  Money\n",
       "1   2  Adam   34      0\n",
       "5   6  Alan   36  35000"
      ]
     },
     "execution_count": 286,
     "metadata": {},
     "output_type": "execute_result"
    }
   ],
   "source": [
    "result[result[result.isin([\"Adam\", \"Alan\", 26])].any(axis=1)]"
   ]
  },
  {
   "cell_type": "markdown",
   "metadata": {
    "id": "AaKGJrZVmqYF"
   },
   "source": [
    "\"Adam\", \"Alan\", 26 데이터가 있는 로우를 출력"
   ]
  },
  {
   "cell_type": "code",
   "execution_count": 287,
   "metadata": {
    "colab": {
     "base_uri": "https://localhost:8080/",
     "height": 112
    },
    "executionInfo": {
     "elapsed": 11,
     "status": "ok",
     "timestamp": 1661227505931,
     "user": {
      "displayName": "김도현",
      "userId": "01074377609887751305"
     },
     "user_tz": -540
    },
    "id": "2yDzDUe5mqYF",
    "outputId": "af448164-3eb6-45c4-9e50-25bf0729ff85"
   },
   "outputs": [
    {
     "data": {
      "text/html": [
       "<div>\n",
       "<style scoped>\n",
       "    .dataframe tbody tr th:only-of-type {\n",
       "        vertical-align: middle;\n",
       "    }\n",
       "\n",
       "    .dataframe tbody tr th {\n",
       "        vertical-align: top;\n",
       "    }\n",
       "\n",
       "    .dataframe thead th {\n",
       "        text-align: right;\n",
       "    }\n",
       "</style>\n",
       "<table border=\"1\" class=\"dataframe\">\n",
       "  <thead>\n",
       "    <tr style=\"text-align: right;\">\n",
       "      <th></th>\n",
       "      <th>ID</th>\n",
       "      <th>Name</th>\n",
       "      <th>Age</th>\n",
       "      <th>Money</th>\n",
       "    </tr>\n",
       "  </thead>\n",
       "  <tbody>\n",
       "    <tr>\n",
       "      <th>1</th>\n",
       "      <td>2</td>\n",
       "      <td>Adam</td>\n",
       "      <td>34</td>\n",
       "      <td>0</td>\n",
       "    </tr>\n",
       "    <tr>\n",
       "      <th>5</th>\n",
       "      <td>6</td>\n",
       "      <td>Alan</td>\n",
       "      <td>36</td>\n",
       "      <td>35000</td>\n",
       "    </tr>\n",
       "  </tbody>\n",
       "</table>\n",
       "</div>"
      ],
      "text/plain": [
       "   ID  Name  Age  Money\n",
       "1   2  Adam   34      0\n",
       "5   6  Alan   36  35000"
      ]
     },
     "execution_count": 287,
     "metadata": {},
     "output_type": "execute_result"
    }
   ],
   "source": [
    "result[result[result.isin([\"Adam\", \"Alan\", 26])].any(axis=1)]"
   ]
  },
  {
   "cell_type": "markdown",
   "metadata": {
    "id": "h1MgTFfVmqYF"
   },
   "source": [
    "Name 컬럼에 \"A\"가 포함된 데이터 filtering"
   ]
  },
  {
   "cell_type": "code",
   "execution_count": 288,
   "metadata": {},
   "outputs": [
    {
     "data": {
      "text/html": [
       "<div>\n",
       "<style scoped>\n",
       "    .dataframe tbody tr th:only-of-type {\n",
       "        vertical-align: middle;\n",
       "    }\n",
       "\n",
       "    .dataframe tbody tr th {\n",
       "        vertical-align: top;\n",
       "    }\n",
       "\n",
       "    .dataframe thead th {\n",
       "        text-align: right;\n",
       "    }\n",
       "</style>\n",
       "<table border=\"1\" class=\"dataframe\">\n",
       "  <thead>\n",
       "    <tr style=\"text-align: right;\">\n",
       "      <th></th>\n",
       "      <th>Name</th>\n",
       "      <th>Quantity</th>\n",
       "    </tr>\n",
       "  </thead>\n",
       "  <tbody>\n",
       "    <tr>\n",
       "      <th>0</th>\n",
       "      <td>apple</td>\n",
       "      <td>3</td>\n",
       "    </tr>\n",
       "    <tr>\n",
       "      <th>1</th>\n",
       "      <td>pear</td>\n",
       "      <td>5</td>\n",
       "    </tr>\n",
       "    <tr>\n",
       "      <th>2</th>\n",
       "      <td>apple</td>\n",
       "      <td>1</td>\n",
       "    </tr>\n",
       "    <tr>\n",
       "      <th>3</th>\n",
       "      <td>banana</td>\n",
       "      <td>2</td>\n",
       "    </tr>\n",
       "    <tr>\n",
       "      <th>4</th>\n",
       "      <td>pear</td>\n",
       "      <td>2</td>\n",
       "    </tr>\n",
       "  </tbody>\n",
       "</table>\n",
       "</div>"
      ],
      "text/plain": [
       "     Name  Quantity\n",
       "0   apple         3\n",
       "1    pear         5\n",
       "2   apple         1\n",
       "3  banana         2\n",
       "4    pear         2"
      ]
     },
     "execution_count": 288,
     "metadata": {},
     "output_type": "execute_result"
    }
   ],
   "source": [
    "g_df"
   ]
  },
  {
   "cell_type": "code",
   "execution_count": 289,
   "metadata": {},
   "outputs": [
    {
     "data": {
      "text/plain": [
       "0     True\n",
       "1     True\n",
       "2     True\n",
       "3    False\n",
       "4     True\n",
       "Name: Name, dtype: bool"
      ]
     },
     "execution_count": 289,
     "metadata": {},
     "output_type": "execute_result"
    }
   ],
   "source": [
    "g_df[\"Name\"].str.contains(\"e\")"
   ]
  },
  {
   "cell_type": "code",
   "execution_count": 290,
   "metadata": {},
   "outputs": [
    {
     "data": {
      "text/html": [
       "<div>\n",
       "<style scoped>\n",
       "    .dataframe tbody tr th:only-of-type {\n",
       "        vertical-align: middle;\n",
       "    }\n",
       "\n",
       "    .dataframe tbody tr th {\n",
       "        vertical-align: top;\n",
       "    }\n",
       "\n",
       "    .dataframe thead th {\n",
       "        text-align: right;\n",
       "    }\n",
       "</style>\n",
       "<table border=\"1\" class=\"dataframe\">\n",
       "  <thead>\n",
       "    <tr style=\"text-align: right;\">\n",
       "      <th></th>\n",
       "      <th>Name</th>\n",
       "      <th>Quantity</th>\n",
       "    </tr>\n",
       "  </thead>\n",
       "  <tbody>\n",
       "    <tr>\n",
       "      <th>0</th>\n",
       "      <td>apple</td>\n",
       "      <td>3</td>\n",
       "    </tr>\n",
       "    <tr>\n",
       "      <th>1</th>\n",
       "      <td>pear</td>\n",
       "      <td>5</td>\n",
       "    </tr>\n",
       "    <tr>\n",
       "      <th>2</th>\n",
       "      <td>apple</td>\n",
       "      <td>1</td>\n",
       "    </tr>\n",
       "    <tr>\n",
       "      <th>4</th>\n",
       "      <td>pear</td>\n",
       "      <td>2</td>\n",
       "    </tr>\n",
       "  </tbody>\n",
       "</table>\n",
       "</div>"
      ],
      "text/plain": [
       "    Name  Quantity\n",
       "0  apple         3\n",
       "1   pear         5\n",
       "2  apple         1\n",
       "4   pear         2"
      ]
     },
     "execution_count": 290,
     "metadata": {},
     "output_type": "execute_result"
    }
   ],
   "source": [
    "g_df[g_df[\"Name\"].str.contains(\"e\")]"
   ]
  },
  {
   "cell_type": "code",
   "execution_count": 291,
   "metadata": {
    "colab": {
     "base_uri": "https://localhost:8080/"
    },
    "executionInfo": {
     "elapsed": 402,
     "status": "ok",
     "timestamp": 1661227506323,
     "user": {
      "displayName": "김도현",
      "userId": "01074377609887751305"
     },
     "user_tz": -540
    },
    "id": "_lcNaXS4fFPq",
    "outputId": "267ed5ef-c0f3-424c-8ad0-fafc1ad5fcaf"
   },
   "outputs": [
    {
     "name": "stdout",
     "output_type": "stream",
     "text": [
      "    Name  Quantity\n",
      "0  apple         3\n",
      "1   pear         5\n",
      "2  apple         1\n",
      "4   pear         2\n"
     ]
    }
   ],
   "source": [
    "print(g_df[g_df[\"Name\"].str.contains(\"e\")])"
   ]
  },
  {
   "cell_type": "code",
   "execution_count": 292,
   "metadata": {
    "colab": {
     "base_uri": "https://localhost:8080/",
     "height": 238
    },
    "executionInfo": {
     "elapsed": 13,
     "status": "ok",
     "timestamp": 1661227506323,
     "user": {
      "displayName": "김도현",
      "userId": "01074377609887751305"
     },
     "user_tz": -540
    },
    "id": "H7r2YQdmmqYF",
    "outputId": "c49eaa00-d092-4da0-8be3-72322b3ed7fd"
   },
   "outputs": [
    {
     "data": {
      "text/html": [
       "<div>\n",
       "<style scoped>\n",
       "    .dataframe tbody tr th:only-of-type {\n",
       "        vertical-align: middle;\n",
       "    }\n",
       "\n",
       "    .dataframe tbody tr th {\n",
       "        vertical-align: top;\n",
       "    }\n",
       "\n",
       "    .dataframe thead th {\n",
       "        text-align: right;\n",
       "    }\n",
       "</style>\n",
       "<table border=\"1\" class=\"dataframe\">\n",
       "  <thead>\n",
       "    <tr style=\"text-align: right;\">\n",
       "      <th></th>\n",
       "      <th>ID</th>\n",
       "      <th>Name</th>\n",
       "      <th>Age</th>\n",
       "      <th>Money</th>\n",
       "    </tr>\n",
       "  </thead>\n",
       "  <tbody>\n",
       "    <tr>\n",
       "      <th>0</th>\n",
       "      <td>1</td>\n",
       "      <td>Alex</td>\n",
       "      <td>39</td>\n",
       "      <td>17000</td>\n",
       "    </tr>\n",
       "    <tr>\n",
       "      <th>1</th>\n",
       "      <td>2</td>\n",
       "      <td>Adam</td>\n",
       "      <td>34</td>\n",
       "      <td>0</td>\n",
       "    </tr>\n",
       "    <tr>\n",
       "      <th>2</th>\n",
       "      <td>3</td>\n",
       "      <td>Arnold</td>\n",
       "      <td>21</td>\n",
       "      <td>30000</td>\n",
       "    </tr>\n",
       "    <tr>\n",
       "      <th>4</th>\n",
       "      <td>5</td>\n",
       "      <td>Anthony</td>\n",
       "      <td>23</td>\n",
       "      <td>26000</td>\n",
       "    </tr>\n",
       "    <tr>\n",
       "      <th>5</th>\n",
       "      <td>6</td>\n",
       "      <td>Alan</td>\n",
       "      <td>36</td>\n",
       "      <td>35000</td>\n",
       "    </tr>\n",
       "    <tr>\n",
       "      <th>6</th>\n",
       "      <td>7</td>\n",
       "      <td>Andrew</td>\n",
       "      <td>40</td>\n",
       "      <td>29000</td>\n",
       "    </tr>\n",
       "    <tr>\n",
       "      <th>7</th>\n",
       "      <td>8</td>\n",
       "      <td>Alvin</td>\n",
       "      <td>20</td>\n",
       "      <td>11000</td>\n",
       "    </tr>\n",
       "  </tbody>\n",
       "</table>\n",
       "</div>"
      ],
      "text/plain": [
       "   ID     Name  Age  Money\n",
       "0   1     Alex   39  17000\n",
       "1   2     Adam   34      0\n",
       "2   3   Arnold   21  30000\n",
       "4   5  Anthony   23  26000\n",
       "5   6     Alan   36  35000\n",
       "6   7   Andrew   40  29000\n",
       "7   8    Alvin   20  11000"
      ]
     },
     "execution_count": 292,
     "metadata": {},
     "output_type": "execute_result"
    }
   ],
   "source": [
    "result[result[\"Name\"].str.contains(\"A\")]"
   ]
  },
  {
   "cell_type": "code",
   "execution_count": 293,
   "metadata": {},
   "outputs": [],
   "source": [
    "# series vs dataframe (type 확인)\n",
    "# index로 찾을까?(loc) vs boolean으로 찾을까?(조건)"
   ]
  },
  {
   "cell_type": "markdown",
   "metadata": {
    "id": "Dd-gU-camqYF"
   },
   "source": [
    "date_range\n",
    "- 날짜 데이터를 만들어 주는 함수"
   ]
  },
  {
   "cell_type": "code",
   "execution_count": 297,
   "metadata": {
    "colab": {
     "base_uri": "https://localhost:8080/"
    },
    "executionInfo": {
     "elapsed": 13,
     "status": "ok",
     "timestamp": 1661227506324,
     "user": {
      "displayName": "김도현",
      "userId": "01074377609887751305"
     },
     "user_tz": -540
    },
    "id": "IBur0QCYmqYG",
    "outputId": "4b94e5fe-5aa3-46da-9012-70722311f577"
   },
   "outputs": [
    {
     "name": "stdout",
     "output_type": "stream",
     "text": [
      "DatetimeIndex(['2018-11-01', '2018-11-02', '2018-11-03', '2018-11-04',\n",
      "               '2018-11-05'],\n",
      "              dtype='datetime64[ns]', freq='D')\n",
      "DatetimeIndex(['2019-02-04', '2019-02-05', '2019-02-06', '2019-02-07',\n",
      "               '2019-02-08'],\n",
      "              dtype='datetime64[ns]', freq='D')\n"
     ]
    }
   ],
   "source": [
    "dates = pd.date_range('20181101', periods=100)\n",
    "print(dates[:5])\n",
    "print(dates[-5:])"
   ]
  },
  {
   "cell_type": "code",
   "execution_count": 303,
   "metadata": {},
   "outputs": [
    {
     "data": {
      "text/html": [
       "<div>\n",
       "<style scoped>\n",
       "    .dataframe tbody tr th:only-of-type {\n",
       "        vertical-align: middle;\n",
       "    }\n",
       "\n",
       "    .dataframe tbody tr th {\n",
       "        vertical-align: top;\n",
       "    }\n",
       "\n",
       "    .dataframe thead th {\n",
       "        text-align: right;\n",
       "    }\n",
       "</style>\n",
       "<table border=\"1\" class=\"dataframe\">\n",
       "  <thead>\n",
       "    <tr style=\"text-align: right;\">\n",
       "      <th></th>\n",
       "      <th>A</th>\n",
       "      <th>B</th>\n",
       "      <th>C</th>\n",
       "      <th>D</th>\n",
       "    </tr>\n",
       "  </thead>\n",
       "  <tbody>\n",
       "    <tr>\n",
       "      <th>2019-02-04</th>\n",
       "      <td>1</td>\n",
       "      <td>1</td>\n",
       "      <td>1</td>\n",
       "      <td>1</td>\n",
       "    </tr>\n",
       "    <tr>\n",
       "      <th>2019-02-05</th>\n",
       "      <td>1</td>\n",
       "      <td>1</td>\n",
       "      <td>1</td>\n",
       "      <td>1</td>\n",
       "    </tr>\n",
       "    <tr>\n",
       "      <th>2019-02-06</th>\n",
       "      <td>1</td>\n",
       "      <td>1</td>\n",
       "      <td>1</td>\n",
       "      <td>1</td>\n",
       "    </tr>\n",
       "    <tr>\n",
       "      <th>2019-02-07</th>\n",
       "      <td>1</td>\n",
       "      <td>1</td>\n",
       "      <td>1</td>\n",
       "      <td>1</td>\n",
       "    </tr>\n",
       "    <tr>\n",
       "      <th>2019-02-08</th>\n",
       "      <td>1</td>\n",
       "      <td>1</td>\n",
       "      <td>1</td>\n",
       "      <td>1</td>\n",
       "    </tr>\n",
       "  </tbody>\n",
       "</table>\n",
       "</div>"
      ],
      "text/plain": [
       "            A  B  C  D\n",
       "2019-02-04  1  1  1  1\n",
       "2019-02-05  1  1  1  1\n",
       "2019-02-06  1  1  1  1\n",
       "2019-02-07  1  1  1  1\n",
       "2019-02-08  1  1  1  1"
      ]
     },
     "execution_count": 303,
     "metadata": {},
     "output_type": "execute_result"
    }
   ],
   "source": [
    "df = pd.DataFrame(np.random.randint(-5, 5), index=dates, columns=list('ABCD'))  # 날짜를 인덱스에 넣고!\n",
    "df.tail()  # 이렇게 하면 랜덤 숫자 하나만 쭉 반복할 것!"
   ]
  },
  {
   "cell_type": "code",
   "execution_count": 305,
   "metadata": {
    "colab": {
     "base_uri": "https://localhost:8080/",
     "height": 206
    },
    "executionInfo": {
     "elapsed": 10,
     "status": "ok",
     "timestamp": 1661227506324,
     "user": {
      "displayName": "김도현",
      "userId": "01074377609887751305"
     },
     "user_tz": -540
    },
    "id": "2_RHeQqgmqYG",
    "outputId": "868155b4-8552-4b2c-8cf2-c7598fed2429"
   },
   "outputs": [
    {
     "data": {
      "text/html": [
       "<div>\n",
       "<style scoped>\n",
       "    .dataframe tbody tr th:only-of-type {\n",
       "        vertical-align: middle;\n",
       "    }\n",
       "\n",
       "    .dataframe tbody tr th {\n",
       "        vertical-align: top;\n",
       "    }\n",
       "\n",
       "    .dataframe thead th {\n",
       "        text-align: right;\n",
       "    }\n",
       "</style>\n",
       "<table border=\"1\" class=\"dataframe\">\n",
       "  <thead>\n",
       "    <tr style=\"text-align: right;\">\n",
       "      <th></th>\n",
       "      <th>A</th>\n",
       "      <th>B</th>\n",
       "      <th>C</th>\n",
       "      <th>D</th>\n",
       "    </tr>\n",
       "  </thead>\n",
       "  <tbody>\n",
       "    <tr>\n",
       "      <th>2019-02-04</th>\n",
       "      <td>2</td>\n",
       "      <td>4</td>\n",
       "      <td>3</td>\n",
       "      <td>3</td>\n",
       "    </tr>\n",
       "    <tr>\n",
       "      <th>2019-02-05</th>\n",
       "      <td>-2</td>\n",
       "      <td>-1</td>\n",
       "      <td>-5</td>\n",
       "      <td>-4</td>\n",
       "    </tr>\n",
       "    <tr>\n",
       "      <th>2019-02-06</th>\n",
       "      <td>-5</td>\n",
       "      <td>-1</td>\n",
       "      <td>1</td>\n",
       "      <td>3</td>\n",
       "    </tr>\n",
       "    <tr>\n",
       "      <th>2019-02-07</th>\n",
       "      <td>-4</td>\n",
       "      <td>1</td>\n",
       "      <td>-4</td>\n",
       "      <td>-4</td>\n",
       "    </tr>\n",
       "    <tr>\n",
       "      <th>2019-02-08</th>\n",
       "      <td>3</td>\n",
       "      <td>4</td>\n",
       "      <td>-1</td>\n",
       "      <td>-4</td>\n",
       "    </tr>\n",
       "  </tbody>\n",
       "</table>\n",
       "</div>"
      ],
      "text/plain": [
       "            A  B  C  D\n",
       "2019-02-04  2  4  3  3\n",
       "2019-02-05 -2 -1 -5 -4\n",
       "2019-02-06 -5 -1  1  3\n",
       "2019-02-07 -4  1 -4 -4\n",
       "2019-02-08  3  4 -1 -4"
      ]
     },
     "execution_count": 305,
     "metadata": {},
     "output_type": "execute_result"
    }
   ],
   "source": [
    "df = pd.DataFrame(np.random.randint(-5, 5, size=(100,4)), index=dates, columns=list('ABCD'))  # 날짜를 인덱스에 넣고!\n",
    "df.tail()"
   ]
  },
  {
   "cell_type": "markdown",
   "metadata": {
    "id": "VZqTKqdymqYG"
   },
   "source": [
    "2018년 11월 4일 이후의 데이터를 선택"
   ]
  },
  {
   "cell_type": "code",
   "execution_count": 306,
   "metadata": {
    "colab": {
     "base_uri": "https://localhost:8080/",
     "height": 175
    },
    "executionInfo": {
     "elapsed": 9,
     "status": "ok",
     "timestamp": 1661227506324,
     "user": {
      "displayName": "김도현",
      "userId": "01074377609887751305"
     },
     "user_tz": -540
    },
    "id": "xe3fqWOVmqYG",
    "outputId": "7e318bf4-b566-4c4d-e4f0-9a99409ce942"
   },
   "outputs": [
    {
     "data": {
      "text/html": [
       "<div>\n",
       "<style scoped>\n",
       "    .dataframe tbody tr th:only-of-type {\n",
       "        vertical-align: middle;\n",
       "    }\n",
       "\n",
       "    .dataframe tbody tr th {\n",
       "        vertical-align: top;\n",
       "    }\n",
       "\n",
       "    .dataframe thead th {\n",
       "        text-align: right;\n",
       "    }\n",
       "</style>\n",
       "<table border=\"1\" class=\"dataframe\">\n",
       "  <thead>\n",
       "    <tr style=\"text-align: right;\">\n",
       "      <th></th>\n",
       "      <th>A</th>\n",
       "      <th>B</th>\n",
       "      <th>C</th>\n",
       "      <th>D</th>\n",
       "    </tr>\n",
       "  </thead>\n",
       "  <tbody>\n",
       "    <tr>\n",
       "      <th>2019-02-05</th>\n",
       "      <td>-2</td>\n",
       "      <td>-1</td>\n",
       "      <td>-5</td>\n",
       "      <td>-4</td>\n",
       "    </tr>\n",
       "    <tr>\n",
       "      <th>2019-02-06</th>\n",
       "      <td>-5</td>\n",
       "      <td>-1</td>\n",
       "      <td>1</td>\n",
       "      <td>3</td>\n",
       "    </tr>\n",
       "    <tr>\n",
       "      <th>2019-02-07</th>\n",
       "      <td>-4</td>\n",
       "      <td>1</td>\n",
       "      <td>-4</td>\n",
       "      <td>-4</td>\n",
       "    </tr>\n",
       "    <tr>\n",
       "      <th>2019-02-08</th>\n",
       "      <td>3</td>\n",
       "      <td>4</td>\n",
       "      <td>-1</td>\n",
       "      <td>-4</td>\n",
       "    </tr>\n",
       "  </tbody>\n",
       "</table>\n",
       "</div>"
      ],
      "text/plain": [
       "            A  B  C  D\n",
       "2019-02-05 -2 -1 -5 -4\n",
       "2019-02-06 -5 -1  1  3\n",
       "2019-02-07 -4  1 -4 -4\n",
       "2019-02-08  3  4 -1 -4"
      ]
     },
     "execution_count": 306,
     "metadata": {},
     "output_type": "execute_result"
    }
   ],
   "source": [
    "df[df.index > \"20190204\"]"
   ]
  },
  {
   "cell_type": "code",
   "execution_count": 307,
   "metadata": {
    "scrolled": true
   },
   "outputs": [
    {
     "data": {
      "text/plain": [
       "DatetimeIndex(['2018-11-01', '2018-11-02', '2018-11-03', '2018-11-04',\n",
       "               '2018-11-05', '2018-11-06', '2018-11-07', '2018-11-08',\n",
       "               '2018-11-09', '2018-11-10', '2018-11-11', '2018-11-12',\n",
       "               '2018-11-13', '2018-11-14', '2018-11-15', '2018-11-16',\n",
       "               '2018-11-17', '2018-11-18', '2018-11-19', '2018-11-20',\n",
       "               '2018-11-21', '2018-11-22', '2018-11-23', '2018-11-24',\n",
       "               '2018-11-25', '2018-11-26', '2018-11-27', '2018-11-28',\n",
       "               '2018-11-29', '2018-11-30', '2018-12-01', '2018-12-02',\n",
       "               '2018-12-03', '2018-12-04', '2018-12-05', '2018-12-06',\n",
       "               '2018-12-07', '2018-12-08', '2018-12-09', '2018-12-10',\n",
       "               '2018-12-11', '2018-12-12', '2018-12-13', '2018-12-14',\n",
       "               '2018-12-15', '2018-12-16', '2018-12-17', '2018-12-18',\n",
       "               '2018-12-19', '2018-12-20', '2018-12-21', '2018-12-22',\n",
       "               '2018-12-23', '2018-12-24', '2018-12-25', '2018-12-26',\n",
       "               '2018-12-27', '2018-12-28', '2018-12-29', '2018-12-30',\n",
       "               '2018-12-31', '2019-01-01', '2019-01-02', '2019-01-03',\n",
       "               '2019-01-04', '2019-01-05', '2019-01-06', '2019-01-07',\n",
       "               '2019-01-08', '2019-01-09', '2019-01-10', '2019-01-11',\n",
       "               '2019-01-12', '2019-01-13', '2019-01-14', '2019-01-15',\n",
       "               '2019-01-16', '2019-01-17', '2019-01-18', '2019-01-19',\n",
       "               '2019-01-20', '2019-01-21', '2019-01-22', '2019-01-23',\n",
       "               '2019-01-24', '2019-01-25', '2019-01-26', '2019-01-27',\n",
       "               '2019-01-28', '2019-01-29', '2019-01-30', '2019-01-31',\n",
       "               '2019-02-01', '2019-02-02', '2019-02-03', '2019-02-04',\n",
       "               '2019-02-05', '2019-02-06', '2019-02-07', '2019-02-08'],\n",
       "              dtype='datetime64[ns]', freq='D')"
      ]
     },
     "execution_count": 307,
     "metadata": {},
     "output_type": "execute_result"
    }
   ],
   "source": [
    "dates"
   ]
  },
  {
   "cell_type": "code",
   "execution_count": 308,
   "metadata": {},
   "outputs": [
    {
     "data": {
      "text/plain": [
       "Int64Index([2018, 2018, 2018, 2018, 2018, 2018, 2018, 2018, 2018, 2018, 2018,\n",
       "            2018, 2018, 2018, 2018, 2018, 2018, 2018, 2018, 2018, 2018, 2018,\n",
       "            2018, 2018, 2018, 2018, 2018, 2018, 2018, 2018, 2018, 2018, 2018,\n",
       "            2018, 2018, 2018, 2018, 2018, 2018, 2018, 2018, 2018, 2018, 2018,\n",
       "            2018, 2018, 2018, 2018, 2018, 2018, 2018, 2018, 2018, 2018, 2018,\n",
       "            2018, 2018, 2018, 2018, 2018, 2018, 2019, 2019, 2019, 2019, 2019,\n",
       "            2019, 2019, 2019, 2019, 2019, 2019, 2019, 2019, 2019, 2019, 2019,\n",
       "            2019, 2019, 2019, 2019, 2019, 2019, 2019, 2019, 2019, 2019, 2019,\n",
       "            2019, 2019, 2019, 2019, 2019, 2019, 2019, 2019, 2019, 2019, 2019,\n",
       "            2019],\n",
       "           dtype='int64')"
      ]
     },
     "execution_count": 308,
     "metadata": {},
     "output_type": "execute_result"
    }
   ],
   "source": [
    "dates.year"
   ]
  },
  {
   "cell_type": "code",
   "execution_count": 309,
   "metadata": {},
   "outputs": [
    {
     "data": {
      "text/plain": [
       "Int64Index([11, 11, 11, 11, 11, 11, 11, 11, 11, 11, 11, 11, 11, 11, 11, 11, 11,\n",
       "            11, 11, 11, 11, 11, 11, 11, 11, 11, 11, 11, 11, 11, 12, 12, 12, 12,\n",
       "            12, 12, 12, 12, 12, 12, 12, 12, 12, 12, 12, 12, 12, 12, 12, 12, 12,\n",
       "            12, 12, 12, 12, 12, 12, 12, 12, 12, 12,  1,  1,  1,  1,  1,  1,  1,\n",
       "             1,  1,  1,  1,  1,  1,  1,  1,  1,  1,  1,  1,  1,  1,  1,  1,  1,\n",
       "             1,  1,  1,  1,  1,  1,  1,  2,  2,  2,  2,  2,  2,  2,  2],\n",
       "           dtype='int64')"
      ]
     },
     "execution_count": 309,
     "metadata": {},
     "output_type": "execute_result"
    }
   ],
   "source": [
    "dates.month"
   ]
  },
  {
   "cell_type": "code",
   "execution_count": 310,
   "metadata": {},
   "outputs": [
    {
     "data": {
      "text/plain": [
       "Int64Index([ 1,  2,  3,  4,  5,  6,  7,  8,  9, 10, 11, 12, 13, 14, 15, 16, 17,\n",
       "            18, 19, 20, 21, 22, 23, 24, 25, 26, 27, 28, 29, 30,  1,  2,  3,  4,\n",
       "             5,  6,  7,  8,  9, 10, 11, 12, 13, 14, 15, 16, 17, 18, 19, 20, 21,\n",
       "            22, 23, 24, 25, 26, 27, 28, 29, 30, 31,  1,  2,  3,  4,  5,  6,  7,\n",
       "             8,  9, 10, 11, 12, 13, 14, 15, 16, 17, 18, 19, 20, 21, 22, 23, 24,\n",
       "            25, 26, 27, 28, 29, 30, 31,  1,  2,  3,  4,  5,  6,  7,  8],\n",
       "           dtype='int64')"
      ]
     },
     "execution_count": 310,
     "metadata": {},
     "output_type": "execute_result"
    }
   ],
   "source": [
    "dates.day"
   ]
  },
  {
   "cell_type": "code",
   "execution_count": 315,
   "metadata": {},
   "outputs": [
    {
     "data": {
      "text/plain": [
       "PeriodIndex(['2018', '2018', '2018', '2018', '2018', '2018', '2018', '2018',\n",
       "             '2018', '2018', '2018', '2018', '2018', '2018', '2018', '2018',\n",
       "             '2018', '2018', '2018', '2018', '2018', '2018', '2018', '2018',\n",
       "             '2018', '2018', '2018', '2018', '2018', '2018', '2018', '2018',\n",
       "             '2018', '2018', '2018', '2018', '2018', '2018', '2018', '2018',\n",
       "             '2018', '2018', '2018', '2018', '2018', '2018', '2018', '2018',\n",
       "             '2018', '2018', '2018', '2018', '2018', '2018', '2018', '2018',\n",
       "             '2018', '2018', '2018', '2018', '2018', '2019', '2019', '2019',\n",
       "             '2019', '2019', '2019', '2019', '2019', '2019', '2019', '2019',\n",
       "             '2019', '2019', '2019', '2019', '2019', '2019', '2019', '2019',\n",
       "             '2019', '2019', '2019', '2019', '2019', '2019', '2019', '2019',\n",
       "             '2019', '2019', '2019', '2019', '2019', '2019', '2019', '2019',\n",
       "             '2019', '2019', '2019', '2019'],\n",
       "            dtype='period[A-DEC]')"
      ]
     },
     "execution_count": 315,
     "metadata": {},
     "output_type": "execute_result"
    }
   ],
   "source": [
    "dates.to_period(\"Y\")"
   ]
  },
  {
   "cell_type": "code",
   "execution_count": 314,
   "metadata": {},
   "outputs": [
    {
     "data": {
      "text/plain": [
       "PeriodIndex(['2018-11', '2018-11', '2018-11', '2018-11', '2018-11', '2018-11',\n",
       "             '2018-11', '2018-11', '2018-11', '2018-11', '2018-11', '2018-11',\n",
       "             '2018-11', '2018-11', '2018-11', '2018-11', '2018-11', '2018-11',\n",
       "             '2018-11', '2018-11', '2018-11', '2018-11', '2018-11', '2018-11',\n",
       "             '2018-11', '2018-11', '2018-11', '2018-11', '2018-11', '2018-11',\n",
       "             '2018-12', '2018-12', '2018-12', '2018-12', '2018-12', '2018-12',\n",
       "             '2018-12', '2018-12', '2018-12', '2018-12', '2018-12', '2018-12',\n",
       "             '2018-12', '2018-12', '2018-12', '2018-12', '2018-12', '2018-12',\n",
       "             '2018-12', '2018-12', '2018-12', '2018-12', '2018-12', '2018-12',\n",
       "             '2018-12', '2018-12', '2018-12', '2018-12', '2018-12', '2018-12',\n",
       "             '2018-12', '2019-01', '2019-01', '2019-01', '2019-01', '2019-01',\n",
       "             '2019-01', '2019-01', '2019-01', '2019-01', '2019-01', '2019-01',\n",
       "             '2019-01', '2019-01', '2019-01', '2019-01', '2019-01', '2019-01',\n",
       "             '2019-01', '2019-01', '2019-01', '2019-01', '2019-01', '2019-01',\n",
       "             '2019-01', '2019-01', '2019-01', '2019-01', '2019-01', '2019-01',\n",
       "             '2019-01', '2019-01', '2019-02', '2019-02', '2019-02', '2019-02',\n",
       "             '2019-02', '2019-02', '2019-02', '2019-02'],\n",
       "            dtype='period[M]')"
      ]
     },
     "execution_count": 314,
     "metadata": {},
     "output_type": "execute_result"
    }
   ],
   "source": [
    "dates.to_period(\"M\")"
   ]
  },
  {
   "cell_type": "code",
   "execution_count": 316,
   "metadata": {},
   "outputs": [
    {
     "data": {
      "text/plain": [
       "PeriodIndex(['2018-11-01', '2018-11-02', '2018-11-03', '2018-11-04',\n",
       "             '2018-11-05', '2018-11-06', '2018-11-07', '2018-11-08',\n",
       "             '2018-11-09', '2018-11-10', '2018-11-11', '2018-11-12',\n",
       "             '2018-11-13', '2018-11-14', '2018-11-15', '2018-11-16',\n",
       "             '2018-11-17', '2018-11-18', '2018-11-19', '2018-11-20',\n",
       "             '2018-11-21', '2018-11-22', '2018-11-23', '2018-11-24',\n",
       "             '2018-11-25', '2018-11-26', '2018-11-27', '2018-11-28',\n",
       "             '2018-11-29', '2018-11-30', '2018-12-01', '2018-12-02',\n",
       "             '2018-12-03', '2018-12-04', '2018-12-05', '2018-12-06',\n",
       "             '2018-12-07', '2018-12-08', '2018-12-09', '2018-12-10',\n",
       "             '2018-12-11', '2018-12-12', '2018-12-13', '2018-12-14',\n",
       "             '2018-12-15', '2018-12-16', '2018-12-17', '2018-12-18',\n",
       "             '2018-12-19', '2018-12-20', '2018-12-21', '2018-12-22',\n",
       "             '2018-12-23', '2018-12-24', '2018-12-25', '2018-12-26',\n",
       "             '2018-12-27', '2018-12-28', '2018-12-29', '2018-12-30',\n",
       "             '2018-12-31', '2019-01-01', '2019-01-02', '2019-01-03',\n",
       "             '2019-01-04', '2019-01-05', '2019-01-06', '2019-01-07',\n",
       "             '2019-01-08', '2019-01-09', '2019-01-10', '2019-01-11',\n",
       "             '2019-01-12', '2019-01-13', '2019-01-14', '2019-01-15',\n",
       "             '2019-01-16', '2019-01-17', '2019-01-18', '2019-01-19',\n",
       "             '2019-01-20', '2019-01-21', '2019-01-22', '2019-01-23',\n",
       "             '2019-01-24', '2019-01-25', '2019-01-26', '2019-01-27',\n",
       "             '2019-01-28', '2019-01-29', '2019-01-30', '2019-01-31',\n",
       "             '2019-02-01', '2019-02-02', '2019-02-03', '2019-02-04',\n",
       "             '2019-02-05', '2019-02-06', '2019-02-07', '2019-02-08'],\n",
       "            dtype='period[D]')"
      ]
     },
     "execution_count": 316,
     "metadata": {},
     "output_type": "execute_result"
    }
   ],
   "source": [
    "dates.to_period(\"D\")"
   ]
  },
  {
   "cell_type": "code",
   "execution_count": 323,
   "metadata": {},
   "outputs": [
    {
     "data": {
      "text/plain": [
       "PeriodIndex(['2018-11-01 00:00', '2018-11-02 00:00', '2018-11-03 00:00',\n",
       "             '2018-11-04 00:00', '2018-11-05 00:00', '2018-11-06 00:00',\n",
       "             '2018-11-07 00:00', '2018-11-08 00:00', '2018-11-09 00:00',\n",
       "             '2018-11-10 00:00', '2018-11-11 00:00', '2018-11-12 00:00',\n",
       "             '2018-11-13 00:00', '2018-11-14 00:00', '2018-11-15 00:00',\n",
       "             '2018-11-16 00:00', '2018-11-17 00:00', '2018-11-18 00:00',\n",
       "             '2018-11-19 00:00', '2018-11-20 00:00', '2018-11-21 00:00',\n",
       "             '2018-11-22 00:00', '2018-11-23 00:00', '2018-11-24 00:00',\n",
       "             '2018-11-25 00:00', '2018-11-26 00:00', '2018-11-27 00:00',\n",
       "             '2018-11-28 00:00', '2018-11-29 00:00', '2018-11-30 00:00',\n",
       "             '2018-12-01 00:00', '2018-12-02 00:00', '2018-12-03 00:00',\n",
       "             '2018-12-04 00:00', '2018-12-05 00:00', '2018-12-06 00:00',\n",
       "             '2018-12-07 00:00', '2018-12-08 00:00', '2018-12-09 00:00',\n",
       "             '2018-12-10 00:00', '2018-12-11 00:00', '2018-12-12 00:00',\n",
       "             '2018-12-13 00:00', '2018-12-14 00:00', '2018-12-15 00:00',\n",
       "             '2018-12-16 00:00', '2018-12-17 00:00', '2018-12-18 00:00',\n",
       "             '2018-12-19 00:00', '2018-12-20 00:00', '2018-12-21 00:00',\n",
       "             '2018-12-22 00:00', '2018-12-23 00:00', '2018-12-24 00:00',\n",
       "             '2018-12-25 00:00', '2018-12-26 00:00', '2018-12-27 00:00',\n",
       "             '2018-12-28 00:00', '2018-12-29 00:00', '2018-12-30 00:00',\n",
       "             '2018-12-31 00:00', '2019-01-01 00:00', '2019-01-02 00:00',\n",
       "             '2019-01-03 00:00', '2019-01-04 00:00', '2019-01-05 00:00',\n",
       "             '2019-01-06 00:00', '2019-01-07 00:00', '2019-01-08 00:00',\n",
       "             '2019-01-09 00:00', '2019-01-10 00:00', '2019-01-11 00:00',\n",
       "             '2019-01-12 00:00', '2019-01-13 00:00', '2019-01-14 00:00',\n",
       "             '2019-01-15 00:00', '2019-01-16 00:00', '2019-01-17 00:00',\n",
       "             '2019-01-18 00:00', '2019-01-19 00:00', '2019-01-20 00:00',\n",
       "             '2019-01-21 00:00', '2019-01-22 00:00', '2019-01-23 00:00',\n",
       "             '2019-01-24 00:00', '2019-01-25 00:00', '2019-01-26 00:00',\n",
       "             '2019-01-27 00:00', '2019-01-28 00:00', '2019-01-29 00:00',\n",
       "             '2019-01-30 00:00', '2019-01-31 00:00', '2019-02-01 00:00',\n",
       "             '2019-02-02 00:00', '2019-02-03 00:00', '2019-02-04 00:00',\n",
       "             '2019-02-05 00:00', '2019-02-06 00:00', '2019-02-07 00:00',\n",
       "             '2019-02-08 00:00'],\n",
       "            dtype='period[H]')"
      ]
     },
     "execution_count": 323,
     "metadata": {},
     "output_type": "execute_result"
    }
   ],
   "source": [
    "dates.to_period(\"h\")"
   ]
  },
  {
   "cell_type": "markdown",
   "metadata": {
    "id": "rjDk1r5qmqYG"
   },
   "source": [
    "년도별 group by"
   ]
  },
  {
   "cell_type": "code",
   "execution_count": 324,
   "metadata": {
    "colab": {
     "base_uri": "https://localhost:8080/",
     "height": 112
    },
    "executionInfo": {
     "elapsed": 9,
     "status": "ok",
     "timestamp": 1661227506324,
     "user": {
      "displayName": "김도현",
      "userId": "01074377609887751305"
     },
     "user_tz": -540
    },
    "id": "XkGvqT8XmqYG",
    "outputId": "efe0df32-8473-4423-f728-c84d63563f21"
   },
   "outputs": [
    {
     "data": {
      "text/html": [
       "<div>\n",
       "<style scoped>\n",
       "    .dataframe tbody tr th:only-of-type {\n",
       "        vertical-align: middle;\n",
       "    }\n",
       "\n",
       "    .dataframe tbody tr th {\n",
       "        vertical-align: top;\n",
       "    }\n",
       "\n",
       "    .dataframe thead th {\n",
       "        text-align: right;\n",
       "    }\n",
       "</style>\n",
       "<table border=\"1\" class=\"dataframe\">\n",
       "  <thead>\n",
       "    <tr style=\"text-align: right;\">\n",
       "      <th></th>\n",
       "      <th>A</th>\n",
       "      <th>B</th>\n",
       "      <th>C</th>\n",
       "      <th>D</th>\n",
       "    </tr>\n",
       "  </thead>\n",
       "  <tbody>\n",
       "    <tr>\n",
       "      <th>2018</th>\n",
       "      <td>-0.508197</td>\n",
       "      <td>-0.639344</td>\n",
       "      <td>0.147541</td>\n",
       "      <td>-0.114754</td>\n",
       "    </tr>\n",
       "    <tr>\n",
       "      <th>2019</th>\n",
       "      <td>-0.923077</td>\n",
       "      <td>-0.333333</td>\n",
       "      <td>-0.820513</td>\n",
       "      <td>0.025641</td>\n",
       "    </tr>\n",
       "  </tbody>\n",
       "</table>\n",
       "</div>"
      ],
      "text/plain": [
       "             A         B         C         D\n",
       "2018 -0.508197 -0.639344  0.147541 -0.114754\n",
       "2019 -0.923077 -0.333333 -0.820513  0.025641"
      ]
     },
     "execution_count": 324,
     "metadata": {},
     "output_type": "execute_result"
    }
   ],
   "source": [
    "df.groupby(dates.year).agg('mean')"
   ]
  },
  {
   "cell_type": "markdown",
   "metadata": {
    "id": "D3vW-IhomqYG"
   },
   "source": [
    "월별 group by"
   ]
  },
  {
   "cell_type": "code",
   "execution_count": 325,
   "metadata": {
    "colab": {
     "base_uri": "https://localhost:8080/",
     "height": 175
    },
    "executionInfo": {
     "elapsed": 8,
     "status": "ok",
     "timestamp": 1661227506324,
     "user": {
      "displayName": "김도현",
      "userId": "01074377609887751305"
     },
     "user_tz": -540
    },
    "id": "QBxVpqjjmqYG",
    "outputId": "d5089955-bedb-485d-c12a-67074411b4d9"
   },
   "outputs": [
    {
     "data": {
      "text/html": [
       "<div>\n",
       "<style scoped>\n",
       "    .dataframe tbody tr th:only-of-type {\n",
       "        vertical-align: middle;\n",
       "    }\n",
       "\n",
       "    .dataframe tbody tr th {\n",
       "        vertical-align: top;\n",
       "    }\n",
       "\n",
       "    .dataframe thead th {\n",
       "        text-align: right;\n",
       "    }\n",
       "</style>\n",
       "<table border=\"1\" class=\"dataframe\">\n",
       "  <thead>\n",
       "    <tr style=\"text-align: right;\">\n",
       "      <th></th>\n",
       "      <th>A</th>\n",
       "      <th>B</th>\n",
       "      <th>C</th>\n",
       "      <th>D</th>\n",
       "    </tr>\n",
       "  </thead>\n",
       "  <tbody>\n",
       "    <tr>\n",
       "      <th>2018-11</th>\n",
       "      <td>-0.833333</td>\n",
       "      <td>-0.766667</td>\n",
       "      <td>0.433333</td>\n",
       "      <td>-0.433333</td>\n",
       "    </tr>\n",
       "    <tr>\n",
       "      <th>2018-12</th>\n",
       "      <td>-0.193548</td>\n",
       "      <td>-0.516129</td>\n",
       "      <td>-0.129032</td>\n",
       "      <td>0.193548</td>\n",
       "    </tr>\n",
       "    <tr>\n",
       "      <th>2019-01</th>\n",
       "      <td>-0.967742</td>\n",
       "      <td>-0.548387</td>\n",
       "      <td>-0.870968</td>\n",
       "      <td>0.129032</td>\n",
       "    </tr>\n",
       "    <tr>\n",
       "      <th>2019-02</th>\n",
       "      <td>-0.750000</td>\n",
       "      <td>0.500000</td>\n",
       "      <td>-0.625000</td>\n",
       "      <td>-0.375000</td>\n",
       "    </tr>\n",
       "  </tbody>\n",
       "</table>\n",
       "</div>"
      ],
      "text/plain": [
       "                A         B         C         D\n",
       "2018-11 -0.833333 -0.766667  0.433333 -0.433333\n",
       "2018-12 -0.193548 -0.516129 -0.129032  0.193548\n",
       "2019-01 -0.967742 -0.548387 -0.870968  0.129032\n",
       "2019-02 -0.750000  0.500000 -0.625000 -0.375000"
      ]
     },
     "execution_count": 325,
     "metadata": {},
     "output_type": "execute_result"
    }
   ],
   "source": [
    "per = dates.to_period(\"M\")\n",
    "df.groupby(per).mean()"
   ]
  },
  {
   "cell_type": "code",
   "execution_count": null,
   "metadata": {},
   "outputs": [],
   "source": []
  }
 ],
 "metadata": {
  "kernelspec": {
   "display_name": "Python 3 (ipykernel)",
   "language": "python",
   "name": "python3"
  },
  "language_info": {
   "codemirror_mode": {
    "name": "ipython",
    "version": 3
   },
   "file_extension": ".py",
   "mimetype": "text/x-python",
   "name": "python",
   "nbconvert_exporter": "python",
   "pygments_lexer": "ipython3",
   "version": "3.10.9"
  },
  "vscode": {
   "interpreter": {
    "hash": "c6e4e9f98eb68ad3b7c296f83d20e6de614cb42e90992a65aa266555a3137d0d"
   }
  }
 },
 "nbformat": 4,
 "nbformat_minor": 2
}
