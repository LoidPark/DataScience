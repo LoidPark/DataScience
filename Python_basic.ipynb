{
 "cells": [
  {
   "cell_type": "markdown",
   "id": "0e11785e",
   "metadata": {},
   "source": [
    "# Python\n",
    "---\n",
    "### Python 기본 문법 - with coding test"
   ]
  },
  {
   "cell_type": "markdown",
   "id": "eecec770",
   "metadata": {},
   "source": [
    "#### 지수 표현 방식"
   ]
  },
  {
   "cell_type": "code",
   "execution_count": 1,
   "id": "fb394aa6",
   "metadata": {},
   "outputs": [
    {
     "data": {
      "text/plain": [
       "10000000000.0"
      ]
     },
     "execution_count": 1,
     "metadata": {},
     "output_type": "execute_result"
    }
   ],
   "source": [
    "10e9"
   ]
  },
  {
   "cell_type": "markdown",
   "id": "d12c0d43",
   "metadata": {},
   "source": [
    "#### 실수형"
   ]
  },
  {
   "cell_type": "code",
   "execution_count": 2,
   "id": "26a096b2",
   "metadata": {},
   "outputs": [
    {
     "data": {
      "text/plain": [
       "123.46"
      ]
     },
     "execution_count": 2,
     "metadata": {},
     "output_type": "execute_result"
    }
   ],
   "source": [
    "round(123.456, 2)"
   ]
  },
  {
   "cell_type": "markdown",
   "id": "6dfd1dff",
   "metadata": {},
   "source": [
    "#### 수 자료형의 연산"
   ]
  },
  {
   "cell_type": "markdown",
   "id": "e74afebb",
   "metadata": {},
   "source": [
    "- / : 나누기\n",
    "- % : 나머지\n",
    "- // : 몫\n",
    "- ** : 거듭제곱"
   ]
  },
  {
   "cell_type": "markdown",
   "id": "e6dae00a",
   "metadata": {},
   "source": [
    "#### 리스트 초기화"
   ]
  },
  {
   "cell_type": "code",
   "execution_count": 4,
   "id": "f312924d",
   "metadata": {},
   "outputs": [
    {
     "name": "stdout",
     "output_type": "stream",
     "text": [
      "[1, 2, 3, 4, 5, 6, 7, 8, 9]\n"
     ]
    }
   ],
   "source": [
    "a = [1,2,3,4,5,6,7,8,9]\n",
    "print(a)"
   ]
  },
  {
   "cell_type": "code",
   "execution_count": 5,
   "id": "b709b7b9",
   "metadata": {},
   "outputs": [
    {
     "name": "stdout",
     "output_type": "stream",
     "text": [
      "4\n"
     ]
    }
   ],
   "source": [
    "print(a[3])"
   ]
  },
  {
   "cell_type": "code",
   "execution_count": 6,
   "id": "aec35a2d",
   "metadata": {},
   "outputs": [
    {
     "name": "stdout",
     "output_type": "stream",
     "text": [
      "[0, 0, 0, 0, 0, 0, 0, 0, 0, 0]\n"
     ]
    }
   ],
   "source": [
    "n=10\n",
    "a=[0]*n\n",
    "print(a)"
   ]
  },
  {
   "cell_type": "markdown",
   "id": "d6e8c3f3",
   "metadata": {},
   "source": [
    "#### 리스트 인덱싱과 슬라이싱"
   ]
  },
  {
   "cell_type": "code",
   "execution_count": 7,
   "id": "026babad",
   "metadata": {},
   "outputs": [
    {
     "name": "stdout",
     "output_type": "stream",
     "text": [
      "[1, 2, 3, 4, 5]\n"
     ]
    }
   ],
   "source": [
    "a = [1,2,3,4,5]\n",
    "print(a)"
   ]
  },
  {
   "cell_type": "code",
   "execution_count": 8,
   "id": "4420c287",
   "metadata": {},
   "outputs": [
    {
     "name": "stdout",
     "output_type": "stream",
     "text": [
      "[1, 2, 3, 4, 1]\n"
     ]
    }
   ],
   "source": [
    "a[4]=1  # 인덱스로 접근해서 값을 바꿀 수 있다\n",
    "print(a)"
   ]
  },
  {
   "cell_type": "markdown",
   "id": "1ad2567d",
   "metadata": {},
   "source": [
    "#### 리스트 컴프리헨션\n",
    "- 리스트 초기화 방법 중 하나\n",
    "- 대괄호 안에 조건문과 반복문을 적용"
   ]
  },
  {
   "cell_type": "code",
   "execution_count": 9,
   "id": "2507c1b9",
   "metadata": {},
   "outputs": [
    {
     "name": "stdout",
     "output_type": "stream",
     "text": [
      "[0, 1, 2, 3, 4, 5, 6, 7, 8, 9]\n"
     ]
    }
   ],
   "source": [
    "array = [i for i in range(10)]\n",
    "print(array)"
   ]
  },
  {
   "cell_type": "code",
   "execution_count": 10,
   "id": "d8296d7d",
   "metadata": {},
   "outputs": [
    {
     "name": "stdout",
     "output_type": "stream",
     "text": [
      "[1, 3, 5, 7, 9, 11, 13, 15, 17, 19]\n"
     ]
    }
   ],
   "source": [
    "# 리스트 컴프리헨션\n",
    "array = [i for i in range(20) if i % 2 == 1]\n",
    "print(array)"
   ]
  },
  {
   "cell_type": "code",
   "execution_count": 12,
   "id": "6c566895",
   "metadata": {},
   "outputs": [
    {
     "name": "stdout",
     "output_type": "stream",
     "text": [
      "[1, 3, 5, 7, 9, 11, 13, 15, 17, 19]\n"
     ]
    }
   ],
   "source": [
    "# 일반 코드 - 더 길고 복잡하다\n",
    "array = []\n",
    "for i in range(20):\n",
    "    if i % 2 == 1:\n",
    "        array.append(i)\n",
    "print(array)"
   ]
  },
  {
   "cell_type": "code",
   "execution_count": 11,
   "id": "b21da33c",
   "metadata": {},
   "outputs": [
    {
     "name": "stdout",
     "output_type": "stream",
     "text": [
      "[1, 4, 9, 16, 25, 36, 49, 64, 81]\n"
     ]
    }
   ],
   "source": [
    "array = [i * i for i in range(1, 10)]\n",
    "print(array)"
   ]
  },
  {
   "cell_type": "markdown",
   "id": "dfb5d3c8",
   "metadata": {},
   "source": [
    "N * M 크기 2차원 리스트를 한 번에 초기화 할 때 유용하다"
   ]
  },
  {
   "cell_type": "code",
   "execution_count": 16,
   "id": "537a316c",
   "metadata": {},
   "outputs": [
    {
     "name": "stdout",
     "output_type": "stream",
     "text": [
      "[[0, 0, 0, 0], [0, 0, 0, 0], [0, 0, 0, 0]]\n"
     ]
    }
   ],
   "source": [
    "n = 3\n",
    "m = 4\n",
    "array1 = [[0] * m for _ in range(n)]\n",
    "print(array1)"
   ]
  },
  {
   "cell_type": "code",
   "execution_count": 17,
   "id": "4172a44c",
   "metadata": {},
   "outputs": [
    {
     "name": "stdout",
     "output_type": "stream",
     "text": [
      "[[0, 0, 0, 0], [0, 0, 0, 0], [0, 0, 0, 0]]\n"
     ]
    }
   ],
   "source": [
    "array2 = [[0] * m] * n\n",
    "print(array2)"
   ]
  },
  {
   "cell_type": "markdown",
   "id": "2575d22f",
   "metadata": {},
   "source": [
    "둘의 차이점은?"
   ]
  },
  {
   "cell_type": "code",
   "execution_count": 18,
   "id": "9b2e08e9",
   "metadata": {},
   "outputs": [
    {
     "name": "stdout",
     "output_type": "stream",
     "text": [
      "[[1, 0, 0, 0], [0, 0, 0, 0], [0, 0, 0, 0]]\n"
     ]
    }
   ],
   "source": [
    "array1[0][0]=1\n",
    "print(array1)"
   ]
  },
  {
   "cell_type": "code",
   "execution_count": 19,
   "id": "9e7a518f",
   "metadata": {},
   "outputs": [
    {
     "name": "stdout",
     "output_type": "stream",
     "text": [
      "[[5, 0, 0, 0], [5, 0, 0, 0], [5, 0, 0, 0]]\n"
     ]
    }
   ],
   "source": [
    "array2[0][0]=5  # 전체 리스트 안에 포함된 각 리스트가 모두 같은 객체로 인식되어버림\n",
    "print(array2)"
   ]
  },
  {
   "cell_type": "markdown",
   "id": "8d4c7718",
   "metadata": {},
   "source": [
    "#### 언더바 사용"
   ]
  },
  {
   "cell_type": "code",
   "execution_count": 22,
   "id": "2e153576",
   "metadata": {},
   "outputs": [
    {
     "name": "stdout",
     "output_type": "stream",
     "text": [
      "45\n"
     ]
    }
   ],
   "source": [
    "# i 가 의미를 가지면 변수 사용\n",
    "summary = 0\n",
    "for i in range(1, 10):\n",
    "    summary += i\n",
    "print(summary)"
   ]
  },
  {
   "cell_type": "code",
   "execution_count": 21,
   "id": "5c7ab86f",
   "metadata": {},
   "outputs": [
    {
     "name": "stdout",
     "output_type": "stream",
     "text": [
      "Hello World\n",
      "Hello World\n",
      "Hello World\n",
      "Hello World\n",
      "Hello World\n"
     ]
    }
   ],
   "source": [
    "# 단순 반복일 때 _ 언더바 사용\n",
    "for _ in range(5):\n",
    "    print(\"Hello World\")"
   ]
  },
  {
   "cell_type": "markdown",
   "id": "226d62c7",
   "metadata": {},
   "source": [
    "#### 리스트 관련 메소드\n",
    "- 변수명.append()\n",
    "- 변수명.sort(), sort(reverse=True)\n",
    "- 변수명.reverse()\n",
    "- insert(인덱스, 삽입값)\n",
    "- 변수명.count(특정값)\n",
    "- 변수명.remove(특정값)"
   ]
  },
  {
   "cell_type": "code",
   "execution_count": 24,
   "id": "628052f8",
   "metadata": {},
   "outputs": [
    {
     "name": "stdout",
     "output_type": "stream",
     "text": [
      "[1, 2, 4]\n"
     ]
    }
   ],
   "source": [
    "array = [1,2,3,4,5,5,5]\n",
    "remove_set = {3,5}\n",
    "result = [i for i in array if i not in remove_set]\n",
    "print(result)"
   ]
  },
  {
   "cell_type": "markdown",
   "id": "20fca37b",
   "metadata": {},
   "source": [
    "#### 튜플\n",
    "- 서로 다른 성질의 데이터를 묶어서 관리\n",
    "- 해싱(Hashing)의 key 값으로 사용\n",
    "- 리스트보다 메모리를 효율적으로 사용\n",
    "- 변경이 불가능"
   ]
  },
  {
   "cell_type": "markdown",
   "id": "158a6206",
   "metadata": {},
   "source": [
    "#### 사전 자료형\n",
    "- keys()\n",
    "- values()"
   ]
  },
  {
   "cell_type": "code",
   "execution_count": 25,
   "id": "99df458d",
   "metadata": {},
   "outputs": [
    {
     "name": "stdout",
     "output_type": "stream",
     "text": [
      "dict_keys(['사과', '바나나', '코코넛'])\n",
      "dict_values(['Apple', 'Banana', 'Coconut'])\n",
      "Apple\n",
      "Banana\n",
      "Coconut\n"
     ]
    }
   ],
   "source": [
    "data = dict()\n",
    "data['사과'] = 'Apple'\n",
    "data['바나나'] = 'Banana'\n",
    "data['코코넛'] = 'Coconut'\n",
    "\n",
    "key_list = data.keys()\n",
    "value_list = data.values()\n",
    "print(key_list)\n",
    "print(value_list)\n",
    "\n",
    "for key in key_list:\n",
    "    print(data[key])"
   ]
  },
  {
   "cell_type": "markdown",
   "id": "786fbe62",
   "metadata": {},
   "source": [
    "#### 집합 자료형\n",
    "- 중복 불허\n",
    "- 순서가 없음\n",
    "- set()\n",
    "- ({}) 안 각 원소를 콤마(,) 기준으로 구분하여 삽입\n",
    "- 데이터 조회 및 수정에서 O(1)의 시간 처리 가능"
   ]
  },
  {
   "cell_type": "markdown",
   "id": "c34df37f",
   "metadata": {},
   "source": [
    "#### 입력 방법\n",
    "- input()\n",
    "- map()"
   ]
  },
  {
   "cell_type": "code",
   "execution_count": 26,
   "id": "96bb7211",
   "metadata": {},
   "outputs": [
    {
     "name": "stdout",
     "output_type": "stream",
     "text": [
      "1\n"
     ]
    },
    {
     "data": {
      "text/plain": [
       "[1]"
      ]
     },
     "execution_count": 26,
     "metadata": {},
     "output_type": "execute_result"
    }
   ],
   "source": [
    "list(map(int, input().split()))"
   ]
  },
  {
   "cell_type": "code",
   "execution_count": 29,
   "id": "edf16d85",
   "metadata": {},
   "outputs": [
    {
     "name": "stdout",
     "output_type": "stream",
     "text": [
      "1 3 4 \n"
     ]
    }
   ],
   "source": [
    "a, b, c = map(int, input().split())"
   ]
  },
  {
   "cell_type": "code",
   "execution_count": 32,
   "id": "d8bde809",
   "metadata": {},
   "outputs": [
    {
     "name": "stdout",
     "output_type": "stream",
     "text": [
      "4\n",
      "3 4 5 1\n",
      "[5, 4, 3, 1]\n"
     ]
    }
   ],
   "source": [
    "n = int(input())\n",
    "data = list(map(int, input().split()))\n",
    "data.sort(reverse=True)\n",
    "print(data)"
   ]
  },
  {
   "cell_type": "markdown",
   "id": "82f3894d",
   "metadata": {},
   "source": [
    "#### 빠르게 입력 받기\n",
    "- sys.stdin.readline() 메서드 사용"
   ]
  },
  {
   "cell_type": "code",
   "execution_count": 34,
   "id": "c035bc56",
   "metadata": {},
   "outputs": [
    {
     "name": "stdout",
     "output_type": "stream",
     "text": [
      "\n"
     ]
    }
   ],
   "source": [
    "import sys\n",
    "\n",
    "data = sys.stdin.readline().rstrip()  # 입력 후 enter가 줄바꿈으로 인식되지 않게 rstrip()\n",
    "print(data)"
   ]
  },
  {
   "cell_type": "markdown",
   "id": "f4ae30f8",
   "metadata": {},
   "source": [
    "#### f-string"
   ]
  },
  {
   "cell_type": "code",
   "execution_count": 35,
   "id": "1ce7cfaf",
   "metadata": {},
   "outputs": [
    {
     "name": "stdout",
     "output_type": "stream",
     "text": [
      "정답은 7입니다.\n"
     ]
    }
   ],
   "source": [
    "answer = 7\n",
    "print(f'정답은 {answer}입니다.')"
   ]
  },
  {
   "cell_type": "markdown",
   "id": "262338b9",
   "metadata": {},
   "source": [
    "#### 기타 연산자\n",
    "- in, not in\n",
    "- list, tuple, string, dict 모두 사용 가능"
   ]
  },
  {
   "cell_type": "code",
   "execution_count": 36,
   "id": "cfb43b71",
   "metadata": {},
   "outputs": [
    {
     "name": "stdout",
     "output_type": "stream",
     "text": [
      "45\n"
     ]
    }
   ],
   "source": [
    "i = 1\n",
    "result = 0\n",
    "while i <= 9:\n",
    "    result += i\n",
    "    i += 1\n",
    "print(result)"
   ]
  },
  {
   "cell_type": "code",
   "execution_count": 37,
   "id": "dd3ef90d",
   "metadata": {},
   "outputs": [
    {
     "name": "stdout",
     "output_type": "stream",
     "text": [
      "25\n"
     ]
    }
   ],
   "source": [
    "result = 0\n",
    "for i in range(1, 10):\n",
    "    if i % 2 == 0:\n",
    "        continue\n",
    "    result += i\n",
    "print(result)"
   ]
  },
  {
   "cell_type": "code",
   "execution_count": 38,
   "id": "1c8f2543",
   "metadata": {},
   "outputs": [
    {
     "name": "stdout",
     "output_type": "stream",
     "text": [
      "현재 i의 값: 1\n",
      "현재 i의 값: 2\n",
      "현재 i의 값: 3\n",
      "현재 i의 값: 4\n",
      "현재 i의 값: 5\n"
     ]
    }
   ],
   "source": [
    "i = 1\n",
    "while True:\n",
    "    print(\"현재 i의 값:\", i)\n",
    "    if i == 5:\n",
    "        break\n",
    "    i += 1"
   ]
  },
  {
   "cell_type": "markdown",
   "id": "466d5e9b",
   "metadata": {},
   "source": [
    "#### 람다 표현식"
   ]
  },
  {
   "cell_type": "code",
   "execution_count": 39,
   "id": "e8e56938",
   "metadata": {},
   "outputs": [
    {
     "name": "stdout",
     "output_type": "stream",
     "text": [
      "10\n"
     ]
    }
   ],
   "source": [
    "def add(a, b):\n",
    "    return a+b\n",
    "print(add(3, 7))"
   ]
  },
  {
   "cell_type": "code",
   "execution_count": 40,
   "id": "dc452000",
   "metadata": {},
   "outputs": [
    {
     "name": "stdout",
     "output_type": "stream",
     "text": [
      "10\n"
     ]
    }
   ],
   "source": [
    "print((lambda a, b: a+b)(3, 7))"
   ]
  },
  {
   "cell_type": "code",
   "execution_count": 41,
   "id": "f45fb881",
   "metadata": {},
   "outputs": [
    {
     "name": "stdout",
     "output_type": "stream",
     "text": [
      "[('b', 5), ('a', 10), ('c', 50)]\n"
     ]
    }
   ],
   "source": [
    "array = [('a', 10), ('b', 5), ('c', 50)]\n",
    "def my_key(x):\n",
    "    return x[1]\n",
    "print(sorted(array, key=my_key))"
   ]
  },
  {
   "cell_type": "code",
   "execution_count": 42,
   "id": "ef6b79d5",
   "metadata": {},
   "outputs": [
    {
     "name": "stdout",
     "output_type": "stream",
     "text": [
      "[('b', 5), ('a', 10), ('c', 50)]\n"
     ]
    }
   ],
   "source": [
    "print(sorted(array, key=lambda x: x[1]))"
   ]
  },
  {
   "cell_type": "markdown",
   "id": "a82eeeef",
   "metadata": {},
   "source": [
    "#### 자주 사용하는 표준 라이브러리\n",
    "- 내장 함수\n",
    "- itertools : 순열, 조합\n",
    "- heapq : 힙(Heap) 자료구조, 우선순위 큐 기능\n",
    "- bisect : 이진 탐색(Binary Search)\n",
    "- collections : 덱(deque), 카운터(Counter)\n",
    "- math : 팩토리얼, 제곱근, 최대공약수(GCD), 삼각함수, 파이(pi)"
   ]
  },
  {
   "cell_type": "code",
   "execution_count": 43,
   "id": "907eab0e",
   "metadata": {},
   "outputs": [
    {
     "name": "stdout",
     "output_type": "stream",
     "text": [
      "15\n"
     ]
    }
   ],
   "source": [
    "result = sum([1,2,3,4,5])\n",
    "print(result)"
   ]
  },
  {
   "cell_type": "code",
   "execution_count": 1,
   "id": "09bfcd7d",
   "metadata": {},
   "outputs": [
    {
     "name": "stdout",
     "output_type": "stream",
     "text": [
      "2 7\n"
     ]
    }
   ],
   "source": [
    "min_result = min(7,3,5,2)\n",
    "max_result = max(7,3,5,2)\n",
    "print(min_result, max_result)"
   ]
  },
  {
   "cell_type": "code",
   "execution_count": 2,
   "id": "3059d1a2",
   "metadata": {},
   "outputs": [
    {
     "name": "stdout",
     "output_type": "stream",
     "text": [
      "56\n"
     ]
    }
   ],
   "source": [
    "result = eval(\"(3+5)*7\")\n",
    "print(result)"
   ]
  },
  {
   "cell_type": "code",
   "execution_count": 3,
   "id": "460dec98",
   "metadata": {},
   "outputs": [
    {
     "name": "stdout",
     "output_type": "stream",
     "text": [
      "[1, 4, 5, 8, 9]\n",
      "[9, 8, 5, 4, 1]\n"
     ]
    }
   ],
   "source": [
    "result = sorted([9,1,8,5,4])\n",
    "reverse_result = sorted([9,1,8,5,4], reverse=True)\n",
    "print(result)\n",
    "print(reverse_result)"
   ]
  },
  {
   "cell_type": "code",
   "execution_count": 4,
   "id": "38ba2c20",
   "metadata": {},
   "outputs": [
    {
     "name": "stdout",
     "output_type": "stream",
     "text": [
      "[('c', 50), ('a', 10), ('b', 5)]\n"
     ]
    }
   ],
   "source": [
    "array = [('a', 10), ('b', 5), ('c', 50)]\n",
    "result = sorted(array, key=lambda x: x[1], reverse=True)\n",
    "print(result)"
   ]
  },
  {
   "cell_type": "code",
   "execution_count": 5,
   "id": "b2afe9dc",
   "metadata": {},
   "outputs": [
    {
     "name": "stdout",
     "output_type": "stream",
     "text": [
      "[('A', 'B', 'C'), ('A', 'C', 'B'), ('B', 'A', 'C'), ('B', 'C', 'A'), ('C', 'A', 'B'), ('C', 'B', 'A')]\n"
     ]
    }
   ],
   "source": [
    "# 순열\n",
    "from itertools import permutations\n",
    "\n",
    "data = ['A', 'B', 'C']\n",
    "\n",
    "result = list(permutations(data, 3))\n",
    "print(result)"
   ]
  },
  {
   "cell_type": "code",
   "execution_count": 7,
   "id": "aa623476",
   "metadata": {},
   "outputs": [
    {
     "name": "stdout",
     "output_type": "stream",
     "text": [
      "[('A', 'B'), ('A', 'C'), ('B', 'C')]\n"
     ]
    }
   ],
   "source": [
    "# 조합\n",
    "from itertools import combinations\n",
    "\n",
    "data = ['A', 'B', 'C']\n",
    "\n",
    "result = list(combinations(data, 2))\n",
    "print(result)"
   ]
  },
  {
   "cell_type": "code",
   "execution_count": 8,
   "id": "92c9f568",
   "metadata": {},
   "outputs": [
    {
     "name": "stdout",
     "output_type": "stream",
     "text": [
      "[('A', 'A'), ('A', 'B'), ('A', 'C'), ('B', 'A'), ('B', 'B'), ('B', 'C'), ('C', 'A'), ('C', 'B'), ('C', 'C')]\n"
     ]
    }
   ],
   "source": [
    "# 중복 순열\n",
    "from itertools import product\n",
    "\n",
    "data = ['A', 'B', 'C']\n",
    "\n",
    "result = list(product(data, repeat=2))\n",
    "print(result)"
   ]
  },
  {
   "cell_type": "code",
   "execution_count": 9,
   "id": "c20537bc",
   "metadata": {},
   "outputs": [
    {
     "name": "stdout",
     "output_type": "stream",
     "text": [
      "[('A', 'A'), ('A', 'B'), ('A', 'C'), ('B', 'B'), ('B', 'C'), ('C', 'C')]\n"
     ]
    }
   ],
   "source": [
    "# 중복 조합\n",
    "from itertools import combinations_with_replacement\n",
    "\n",
    "data = ['A', 'B', 'C']\n",
    "\n",
    "result = list(combinations_with_replacement(data, 2))\n",
    "print(result)"
   ]
  },
  {
   "cell_type": "code",
   "execution_count": 10,
   "id": "b3d4cbcc",
   "metadata": {},
   "outputs": [
    {
     "name": "stdout",
     "output_type": "stream",
     "text": [
      "3\n",
      "1\n",
      "{'red': 2, 'blue': 3, 'green': 1}\n"
     ]
    }
   ],
   "source": [
    "# Counter\n",
    "from collections import Counter\n",
    "\n",
    "counter = Counter(['red', 'blue', 'red', 'green', 'blue', 'blue'])\n",
    "\n",
    "print(counter['blue'])\n",
    "print(counter['green'])\n",
    "print(dict(counter))"
   ]
  },
  {
   "cell_type": "code",
   "execution_count": 11,
   "id": "1d5ec930",
   "metadata": {},
   "outputs": [
    {
     "name": "stdout",
     "output_type": "stream",
     "text": [
      "7\n",
      "42\n"
     ]
    }
   ],
   "source": [
    "# 최대공약수, 최소공배수\n",
    "import math\n",
    "\n",
    "def lcm(a, b):\n",
    "    return a*b // math.gcd(a, b)\n",
    "\n",
    "a=21\n",
    "b=14\n",
    "\n",
    "print(math.gcd(21, 14))\n",
    "print(lcm(21, 14))"
   ]
  },
  {
   "cell_type": "code",
   "execution_count": null,
   "id": "c5c20c14",
   "metadata": {},
   "outputs": [],
   "source": []
  }
 ],
 "metadata": {
  "kernelspec": {
   "display_name": "Python 3 (ipykernel)",
   "language": "python",
   "name": "python3"
  },
  "language_info": {
   "codemirror_mode": {
    "name": "ipython",
    "version": 3
   },
   "file_extension": ".py",
   "mimetype": "text/x-python",
   "name": "python",
   "nbconvert_exporter": "python",
   "pygments_lexer": "ipython3",
   "version": "3.10.9"
  }
 },
 "nbformat": 4,
 "nbformat_minor": 5
}
